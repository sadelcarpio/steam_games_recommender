{
 "cells": [
  {
   "metadata": {},
   "cell_type": "markdown",
   "source": "# EDA for Game Reviews data",
   "id": "94c902ba1c78e3dd"
  },
  {
   "metadata": {
    "collapsed": true,
    "ExecuteTime": {
     "end_time": "2025-08-27T03:29:33.019211Z",
     "start_time": "2025-08-27T03:29:32.975961Z"
    }
   },
   "cell_type": "code",
   "source": [
    "import duckdb\n",
    "import polars as pl\n",
    "import seaborn as sns\n",
    "import matplotlib.pyplot as plt\n",
    "import numpy as np"
   ],
   "id": "initial_id",
   "outputs": [],
   "execution_count": 4
  },
  {
   "metadata": {
    "ExecuteTime": {
     "end_time": "2025-08-27T03:39:18.454188Z",
     "start_time": "2025-08-27T03:39:03.454966Z"
    }
   },
   "cell_type": "code",
   "source": [
    "db_conn = duckdb.connect(\"../data/steam.duckdb\")\n",
    "games_df = db_conn.sql(\"\"\"\n",
    "SELECT * FROM game_features QUALIFY ROW_NUMBER() OVER (\n",
    "    PARTITION BY game_id ORDER BY game_review_day DESC, game_scrape_date DESC\n",
    ") = 1\n",
    "\"\"\").pl()\n",
    "games_df"
   ],
   "id": "13289ea72cec4294",
   "outputs": [
    {
     "data": {
      "text/plain": [
       "FloatProgress(value=0.0, layout=Layout(width='auto'), style=ProgressStyle(bar_color='black'))"
      ],
      "application/vnd.jupyter.widget-view+json": {
       "version_major": 2,
       "version_minor": 0,
       "model_id": "a7b7fdcfb3c34fe49ebe37b0ccd3d33b"
      }
     },
     "metadata": {},
     "output_type": "display_data"
    },
    {
     "data": {
      "text/plain": [
       "shape: (83_194, 21)\n",
       "┌────────────┬─────────┬───────────┬───────────┬───┬───────────┬───────────┬───────────┬───────────┐\n",
       "│ game_index ┆ game_id ┆ game_name ┆ game_is_f ┆ … ┆ game_num_ ┆ game_num_ ┆ game_num_ ┆ game_weig │\n",
       "│ ---        ┆ ---     ┆ ---       ┆ ree       ┆   ┆ reviews   ┆ positive_ ┆ negative_ ┆ hted_scor │\n",
       "│ i64        ┆ i64     ┆ str       ┆ ---       ┆   ┆ ---       ┆ reviews   ┆ reviews   ┆ e         │\n",
       "│            ┆         ┆           ┆ bool      ┆   ┆ i64       ┆ ---       ┆ ---       ┆ ---       │\n",
       "│            ┆         ┆           ┆           ┆   ┆           ┆ decimal[3 ┆ decimal[3 ┆ f64       │\n",
       "│            ┆         ┆           ┆           ┆   ┆           ┆ 8,0]      ┆ 8,0]      ┆           │\n",
       "╞════════════╪═════════╪═══════════╪═══════════╪═══╪═══════════╪═══════════╪═══════════╪═══════════╡\n",
       "│ 7750       ┆ 472680  ┆ Elisa:    ┆ true      ┆ … ┆ 176       ┆ 110       ┆ 66        ┆ 0.616516  │\n",
       "│            ┆         ┆ The       ┆           ┆   ┆           ┆           ┆           ┆           │\n",
       "│            ┆         ┆ Innkeeper ┆           ┆   ┆           ┆           ┆           ┆           │\n",
       "│            ┆         ┆ - Prequel ┆           ┆   ┆           ┆           ┆           ┆           │\n",
       "│ 7783       ┆ 487220  ┆ Freebie   ┆ false     ┆ … ┆ 256       ┆ 162       ┆ 94        ┆ 0.62968   │\n",
       "│ 9689       ┆ 491530  ┆ Notruf    ┆ false     ┆ … ┆ 5         ┆ 2         ┆ 3         ┆ 0.402935  │\n",
       "│            ┆         ┆ 112 |     ┆           ┆   ┆           ┆           ┆           ┆           │\n",
       "│            ┆         ┆ Emergency ┆           ┆   ┆           ┆           ┆           ┆           │\n",
       "│            ┆         ┆ Call 11…  ┆           ┆   ┆           ┆           ┆           ┆           │\n",
       "│ 8334       ┆ 497180  ┆ Street    ┆ false     ┆ … ┆ 1         ┆ 0         ┆ 1         ┆ 0.0       │\n",
       "│            ┆         ┆ Legal     ┆           ┆   ┆           ┆           ┆           ┆           │\n",
       "│            ┆         ┆ Racing:   ┆           ┆   ┆           ┆           ┆           ┆           │\n",
       "│            ┆         ┆ Redline   ┆           ┆   ┆           ┆           ┆           ┆           │\n",
       "│            ┆         ┆ v…        ┆           ┆   ┆           ┆           ┆           ┆           │\n",
       "│ 12156      ┆ 505080  ┆ Gakuen    ┆ false     ┆ … ┆ 8         ┆ 6         ┆ 2         ┆ 0.74686   │\n",
       "│            ┆         ┆ Club      ┆           ┆   ┆           ┆           ┆           ┆           │\n",
       "│ …          ┆ …       ┆ …         ┆ …         ┆ … ┆ …         ┆ …         ┆ …         ┆ …         │\n",
       "│ 12192      ┆ 551050  ┆ Die With  ┆ false     ┆ … ┆ 28        ┆ 22        ┆ 6         ┆ 0.802541  │\n",
       "│            ┆         ┆ Glory —   ┆           ┆   ┆           ┆           ┆           ┆           │\n",
       "│            ┆         ┆ Point and ┆           ┆   ┆           ┆           ┆           ┆           │\n",
       "│            ┆         ┆ Cli…      ┆           ┆   ┆           ┆           ┆           ┆           │\n",
       "│ 10260      ┆ 553110  ┆ Alpine    ┆ false     ┆ … ┆ 237       ┆ 128       ┆ 109       ┆ 0.538628  │\n",
       "│            ┆         ┆ Ski VR    ┆           ┆   ┆           ┆           ┆           ┆           │\n",
       "│ 9903       ┆ 553910  ┆ Mystic    ┆ false     ┆ … ┆ 31        ┆ 28        ┆ 3         ┆ 0.901628  │\n",
       "│            ┆         ┆ Defense   ┆           ┆   ┆           ┆           ┆           ┆           │\n",
       "│ 10124      ┆ 557770  ┆ Pawn      ┆ false     ┆ … ┆ 38        ┆ 24        ┆ 14        ┆ 0.635176  │\n",
       "│ 12432      ┆ 559650  ┆ Witch It  ┆ false     ┆ … ┆ 14144     ┆ 12716     ┆ 1428      ┆ 0.902678  │\n",
       "└────────────┴─────────┴───────────┴───────────┴───┴───────────┴───────────┴───────────┴───────────┘"
      ],
      "text/html": [
       "<div><style>\n",
       ".dataframe > thead > tr,\n",
       ".dataframe > tbody > tr {\n",
       "  text-align: right;\n",
       "  white-space: pre-wrap;\n",
       "}\n",
       "</style>\n",
       "<small>shape: (83_194, 21)</small><table border=\"1\" class=\"dataframe\"><thead><tr><th>game_index</th><th>game_id</th><th>game_name</th><th>game_is_free</th><th>game_developers</th><th>game_publishers</th><th>game_categories</th><th>game_genres</th><th>game_steam_release_date</th><th>game_release_date</th><th>game_prerelease_date</th><th>game_short_description</th><th>game_scrape_date</th><th>game_review_score</th><th>game_review_score_description</th><th>game_index_1</th><th>game_review_day</th><th>game_num_reviews</th><th>game_num_positive_reviews</th><th>game_num_negative_reviews</th><th>game_weighted_score</th></tr><tr><td>i64</td><td>i64</td><td>str</td><td>bool</td><td>list[str]</td><td>list[str]</td><td>list[str]</td><td>list[str]</td><td>datetime[μs]</td><td>datetime[μs, America/Lima]</td><td>datetime[μs, America/Lima]</td><td>str</td><td>date</td><td>i64</td><td>str</td><td>i64</td><td>date</td><td>i64</td><td>decimal[38,0]</td><td>decimal[38,0]</td><td>f64</td></tr></thead><tbody><tr><td>7750</td><td>472680</td><td>&quot;Elisa: The Innkeeper - Prequel&quot;</td><td>true</td><td>[&quot;Neoclassic Games&quot;]</td><td>[&quot;Neoclassic Games&quot;]</td><td>[&quot;Single-player&quot;, &quot;Steam Achievements&quot;]</td><td>[&quot;Adventure&quot;, &quot;Casual&quot;, … &quot;Free To Play&quot;]</td><td>2016-06-14 00:00:00</td><td>2016-06-14 00:00:00 -05</td><td>2016-06-14 00:00:00 -05</td><td>&quot;This short Visual novel can be…</td><td>2025-08-12</td><td>5</td><td>&quot;Mixed&quot;</td><td>7750</td><td>2025-08-16</td><td>176</td><td>110</td><td>66</td><td>0.616516</td></tr><tr><td>7783</td><td>487220</td><td>&quot;Freebie&quot;</td><td>false</td><td>[&quot;Free Games Info&quot;, &quot;hyperboreanGames&quot;]</td><td>[&quot;Back To Basics Gaming&quot;]</td><td>[&quot;Single-player&quot;, &quot;Steam Achievements&quot;, … &quot;Family Sharing&quot;]</td><td>[&quot;Casual&quot;, &quot;Indie&quot;]</td><td>2016-06-16 00:00:00</td><td>2016-06-16 00:00:00 -05</td><td>2016-06-16 00:00:00 -05</td><td>&quot;Freebie is a casual game where…</td><td>2025-08-12</td><td>6</td><td>&quot;Mostly Positive&quot;</td><td>7783</td><td>2025-07-18</td><td>256</td><td>162</td><td>94</td><td>0.62968</td></tr><tr><td>9689</td><td>491530</td><td>&quot;Notruf 112 | Emergency Call 11…</td><td>false</td><td>[&quot;Crenetic GmbH Studios&quot;]</td><td>[&quot;Aerosoft GmbH&quot;]</td><td>[&quot;Single-player&quot;, &quot;Steam Workshop&quot;, … &quot;Family Sharing&quot;]</td><td>[&quot;Action&quot;, &quot;Casual&quot;, &quot;Simulation&quot;]</td><td>2016-11-09 00:00:00</td><td>2016-11-09 00:00:00 -05</td><td>2016-11-09 00:00:00 -05</td><td>&quot;Emergency Call 112 – The Fire …</td><td>2025-08-12</td><td>6</td><td>&quot;Mostly Positive&quot;</td><td>9689</td><td>2017-02-17</td><td>5</td><td>2</td><td>3</td><td>0.402935</td></tr><tr><td>8334</td><td>497180</td><td>&quot;Street Legal Racing: Redline v…</td><td>false</td><td>[&quot;Invictus Games Ltd.&quot;, &quot;ImageCode&quot;]</td><td>[&quot;Activision Value Publishing Inc.&quot;, &quot;ImageCode&quot;]</td><td>[&quot;Single-player&quot;, &quot;Steam Achievements&quot;, … &quot;Family Sharing&quot;]</td><td>[&quot;Racing&quot;, &quot;Simulation&quot;]</td><td>2016-08-05 00:00:00</td><td>2016-08-05 00:00:00 -05</td><td>2016-08-05 00:00:00 -05</td><td>&quot;The most popular vehicle mecha…</td><td>2025-08-12</td><td>8</td><td>&quot;Very Positive&quot;</td><td>8334</td><td>2016-08-07</td><td>1</td><td>0</td><td>1</td><td>0.0</td></tr><tr><td>12156</td><td>505080</td><td>&quot;Gakuen Club&quot;</td><td>false</td><td>[&quot;OperaHouse Corporation&quot;]</td><td>[&quot;Dogenzaka Lab&quot;]</td><td>[&quot;Single-player&quot;, &quot;Steam Achievements&quot;, … &quot;Family Sharing&quot;]</td><td>[&quot;Adventure&quot;]</td><td>2017-05-09 00:00:00</td><td>2017-05-09 00:00:00 -05</td><td>2017-05-09 00:00:00 -05</td><td>&quot;Gakuen Club is a school life l…</td><td>2025-08-12</td><td>5</td><td>&quot;Mixed&quot;</td><td>12156</td><td>2019-12-26</td><td>8</td><td>6</td><td>2</td><td>0.74686</td></tr><tr><td>&hellip;</td><td>&hellip;</td><td>&hellip;</td><td>&hellip;</td><td>&hellip;</td><td>&hellip;</td><td>&hellip;</td><td>&hellip;</td><td>&hellip;</td><td>&hellip;</td><td>&hellip;</td><td>&hellip;</td><td>&hellip;</td><td>&hellip;</td><td>&hellip;</td><td>&hellip;</td><td>&hellip;</td><td>&hellip;</td><td>&hellip;</td><td>&hellip;</td><td>&hellip;</td></tr><tr><td>12192</td><td>551050</td><td>&quot;Die With Glory — Point and Cli…</td><td>false</td><td>[&quot;Castle&quot;]</td><td>[&quot;Veslo Games&quot;]</td><td>[&quot;Single-player&quot;, &quot;Steam Achievements&quot;, … &quot;Family Sharing&quot;]</td><td>[&quot;Action&quot;, &quot;Adventure&quot;, &quot;Indie&quot;]</td><td>2017-05-11 00:00:00</td><td>2017-05-11 00:00:00 -05</td><td>2017-05-11 00:00:00 -05</td><td>&quot;Die With Glory is a humor-pack…</td><td>2025-08-12</td><td>4</td><td>&quot;Mostly Negative&quot;</td><td>12192</td><td>2024-12-10</td><td>28</td><td>22</td><td>6</td><td>0.802541</td></tr><tr><td>10260</td><td>553110</td><td>&quot;Alpine Ski VR&quot;</td><td>false</td><td>[&quot;Suchworks Ltd&quot;]</td><td>[&quot;Suchworks Ltd&quot;]</td><td>[&quot;Single-player&quot;, &quot;Full controller support&quot;, … &quot;Family Sharing&quot;]</td><td>[&quot;Casual&quot;, &quot;Racing&quot;, &quot;Sports&quot;]</td><td>2016-12-16 00:00:00</td><td>2016-12-16 00:00:00 -05</td><td>2016-12-16 00:00:00 -05</td><td>&quot;Alpine Ski VR by Suchworks Stu…</td><td>2025-08-12</td><td>5</td><td>&quot;Mixed&quot;</td><td>10260</td><td>2025-06-11</td><td>237</td><td>128</td><td>109</td><td>0.538628</td></tr><tr><td>9903</td><td>553910</td><td>&quot;Mystic Defense&quot;</td><td>false</td><td>[&quot;Mystified Games&quot;]</td><td>[&quot;Mystified Games&quot;]</td><td>[&quot;Single-player&quot;, &quot;Steam Achievements&quot;, … &quot;Family Sharing&quot;]</td><td>[&quot;Action&quot;, &quot;Casual&quot;, &quot;Indie&quot;]</td><td>2016-11-23 00:00:00</td><td>2016-11-23 00:00:00 -05</td><td>2016-11-23 00:00:00 -05</td><td>&quot;Take control as a mage and unl…</td><td>2025-08-12</td><td>0</td><td>&quot;2 user reviews&quot;</td><td>9903</td><td>2025-07-07</td><td>31</td><td>28</td><td>3</td><td>0.901628</td></tr><tr><td>10124</td><td>557770</td><td>&quot;Pawn&quot;</td><td>false</td><td>[&quot;ODBear Studios&quot;]</td><td>[&quot;ODBear Studios&quot;]</td><td>[&quot;Single-player&quot;, &quot;Steam Achievements&quot;, … &quot;Family Sharing&quot;]</td><td>[&quot;Nudity&quot;, &quot;Violent&quot;, … &quot;Simulation&quot;]</td><td>2016-12-09 00:00:00</td><td>2016-12-09 00:00:00 -05</td><td>2016-12-09 00:00:00 -05</td><td>&quot;A story rich visual novel wher…</td><td>2025-08-12</td><td>0</td><td>&quot;5 user reviews&quot;</td><td>10124</td><td>2025-04-03</td><td>38</td><td>24</td><td>14</td><td>0.635176</td></tr><tr><td>12432</td><td>559650</td><td>&quot;Witch It&quot;</td><td>false</td><td>[&quot;Barrel Roll Games&quot;]</td><td>[&quot;Barrel Roll Games&quot;]</td><td>[&quot;Multi-player&quot;, &quot;PvP&quot;, … &quot;Family Sharing&quot;]</td><td>[&quot;Action&quot;, &quot;Casual&quot;, &quot;Indie&quot;]</td><td>2020-10-22 00:00:00</td><td>2020-10-22 00:00:00 -05</td><td>2017-05-31 13:18:10 -05</td><td>&quot;Witch It is a multiplayer hide…</td><td>2025-08-12</td><td>8</td><td>&quot;Very Positive&quot;</td><td>12432</td><td>2025-08-21</td><td>14144</td><td>12716</td><td>1428</td><td>0.902678</td></tr></tbody></table></div>"
      ]
     },
     "execution_count": 8,
     "metadata": {},
     "output_type": "execute_result"
    }
   ],
   "execution_count": 8
  },
  {
   "metadata": {
    "ExecuteTime": {
     "end_time": "2025-08-27T03:40:00.419407Z",
     "start_time": "2025-08-27T03:40:00.391248Z"
    }
   },
   "cell_type": "code",
   "source": "games_df.sort(\"game_num_reviews\", descending=True)",
   "id": "fcaf26de7ebec598",
   "outputs": [
    {
     "data": {
      "text/plain": [
       "shape: (83_194, 21)\n",
       "┌────────────┬─────────┬───────────┬───────────┬───┬───────────┬───────────┬───────────┬───────────┐\n",
       "│ game_index ┆ game_id ┆ game_name ┆ game_is_f ┆ … ┆ game_num_ ┆ game_num_ ┆ game_num_ ┆ game_weig │\n",
       "│ ---        ┆ ---     ┆ ---       ┆ ree       ┆   ┆ reviews   ┆ positive_ ┆ negative_ ┆ hted_scor │\n",
       "│ i64        ┆ i64     ┆ str       ┆ ---       ┆   ┆ ---       ┆ reviews   ┆ reviews   ┆ e         │\n",
       "│            ┆         ┆           ┆ bool      ┆   ┆ i64       ┆ ---       ┆ ---       ┆ ---       │\n",
       "│            ┆         ┆           ┆           ┆   ┆           ┆ decimal[3 ┆ decimal[3 ┆ f64       │\n",
       "│            ┆         ┆           ┆           ┆   ┆           ┆ 8,0]      ┆ 8,0]      ┆           │\n",
       "╞════════════╪═════════╪═══════════╪═══════════╪═══╪═══════════╪═══════════╪═══════════╪═══════════╡\n",
       "│ 11545      ┆ 578080  ┆ PUBG: BAT ┆ true      ┆ … ┆ 1746069   ┆ 970793    ┆ 775276    ┆ 0.55522   │\n",
       "│            ┆         ┆ TLEGROUND ┆           ┆   ┆           ┆           ┆           ┆           │\n",
       "│            ┆         ┆ S         ┆           ┆   ┆           ┆           ┆           ┆           │\n",
       "│ 950        ┆ 92100   ┆ DETOUR    ┆ false     ┆ … ┆ 1141224   ┆ 1114096   ┆ 27128     ┆ 0.978078  │\n",
       "│ 1959       ┆ 252490  ┆ Rust      ┆ false     ┆ … ┆ 1040475   ┆ 910907    ┆ 129568    ┆ 0.876089  │\n",
       "│ 84634      ┆ 2934620 ┆ Dance     ┆ false     ┆ … ┆ 852419    ┆ 822781    ┆ 29638     ┆ 0.96651   │\n",
       "│            ┆         ┆ Eden      ┆           ┆   ┆           ┆           ┆           ┆           │\n",
       "│ 9202       ┆ 431960  ┆ Wallpaper ┆ false     ┆ … ┆ 849357    ┆ 832798    ┆ 16559     ┆ 0.980876  │\n",
       "│            ┆         ┆ Engine    ┆           ┆   ┆           ┆           ┆           ┆           │\n",
       "│ …          ┆ …       ┆ …         ┆ …         ┆ … ┆ …         ┆ …         ┆ …         ┆ …         │\n",
       "│ 48113      ┆ 1783700 ┆ Gachi     ┆ false     ┆ … ┆ 1         ┆ 1         ┆ 0         ┆ 1.0       │\n",
       "│            ┆         ┆ Bird      ┆           ┆   ┆           ┆           ┆           ┆           │\n",
       "│ 50542      ┆ 1837440 ┆ Pyramid   ┆ false     ┆ … ┆ 1         ┆ 1         ┆ 0         ┆ 1.0       │\n",
       "│            ┆         ┆ Quest     ┆           ┆   ┆           ┆           ┆           ┆           │\n",
       "│ 8208       ┆ 489810  ┆ BlockAid  ┆ false     ┆ … ┆ 1         ┆ 1         ┆ 0         ┆ 1.0       │\n",
       "│ 14759      ┆ 508200  ┆ Bacon     ┆ false     ┆ … ┆ 1         ┆ 0         ┆ 1         ┆ 0.0       │\n",
       "│            ┆         ┆ Tales -   ┆           ┆   ┆           ┆           ┆           ┆           │\n",
       "│            ┆         ┆ Between   ┆           ┆   ┆           ┆           ┆           ┆           │\n",
       "│            ┆         ┆ Pigs and… ┆           ┆   ┆           ┆           ┆           ┆           │\n",
       "│ 26467      ┆ 530110  ┆ Tales of  ┆ false     ┆ … ┆ 1         ┆ 0         ┆ 1         ┆ 0.0       │\n",
       "│            ┆         ┆ a         ┆           ┆   ┆           ┆           ┆           ┆           │\n",
       "│            ┆         ┆ Spymaster ┆           ┆   ┆           ┆           ┆           ┆           │\n",
       "└────────────┴─────────┴───────────┴───────────┴───┴───────────┴───────────┴───────────┴───────────┘"
      ],
      "text/html": [
       "<div><style>\n",
       ".dataframe > thead > tr,\n",
       ".dataframe > tbody > tr {\n",
       "  text-align: right;\n",
       "  white-space: pre-wrap;\n",
       "}\n",
       "</style>\n",
       "<small>shape: (83_194, 21)</small><table border=\"1\" class=\"dataframe\"><thead><tr><th>game_index</th><th>game_id</th><th>game_name</th><th>game_is_free</th><th>game_developers</th><th>game_publishers</th><th>game_categories</th><th>game_genres</th><th>game_steam_release_date</th><th>game_release_date</th><th>game_prerelease_date</th><th>game_short_description</th><th>game_scrape_date</th><th>game_review_score</th><th>game_review_score_description</th><th>game_index_1</th><th>game_review_day</th><th>game_num_reviews</th><th>game_num_positive_reviews</th><th>game_num_negative_reviews</th><th>game_weighted_score</th></tr><tr><td>i64</td><td>i64</td><td>str</td><td>bool</td><td>list[str]</td><td>list[str]</td><td>list[str]</td><td>list[str]</td><td>datetime[μs]</td><td>datetime[μs, America/Lima]</td><td>datetime[μs, America/Lima]</td><td>str</td><td>date</td><td>i64</td><td>str</td><td>i64</td><td>date</td><td>i64</td><td>decimal[38,0]</td><td>decimal[38,0]</td><td>f64</td></tr></thead><tbody><tr><td>11545</td><td>578080</td><td>&quot;PUBG: BATTLEGROUNDS&quot;</td><td>true</td><td>[&quot;PUBG Corporation&quot;]</td><td>[&quot;KRAFTON, Inc.&quot;]</td><td>[&quot;Multi-player&quot;, &quot;PvP&quot;, … &quot;Remote Play on Tablet&quot;]</td><td>[&quot;Action&quot;, &quot;Adventure&quot;, … &quot;Free To Play&quot;]</td><td>2017-12-21 00:00:00</td><td>2017-12-21 00:00:00 -05</td><td>2017-03-23 10:25:15 -05</td><td>&quot;PUBG: BATTLEGROUNDS, the high-…</td><td>2025-08-12</td><td>5</td><td>&quot;Mixed&quot;</td><td>11545</td><td>2025-08-25</td><td>1746069</td><td>970793</td><td>775276</td><td>0.55522</td></tr><tr><td>950</td><td>92100</td><td>&quot;DETOUR&quot;</td><td>false</td><td>[&quot;Geoff &#x27;Zag&#x27; Keene&quot;, &quot;Richard Keene&quot;]</td><td>[&quot;Geoff &#x27;Zag&#x27; Keene&quot;]</td><td>[&quot;Single-player&quot;, &quot;Multi-player&quot;, … &quot;Family Sharing&quot;]</td><td>[&quot;Indie&quot;, &quot;Strategy&quot;]</td><td>2011-05-16 00:00:00</td><td>2011-05-16 00:00:00 -05</td><td>2011-05-16 00:00:00 -05</td><td>&quot;A true test your wits and spat…</td><td>2025-08-12</td><td>5</td><td>&quot;Mixed&quot;</td><td>950</td><td>2025-08-23</td><td>1141224</td><td>1114096</td><td>27128</td><td>0.978078</td></tr><tr><td>1959</td><td>252490</td><td>&quot;Rust&quot;</td><td>false</td><td>[&quot;Facepunch Studios&quot;]</td><td>[&quot;Facepunch Studios&quot;]</td><td>[&quot;Multi-player&quot;, &quot;MMO&quot;, … &quot;Remote Play on Tablet&quot;]</td><td>[&quot;Action&quot;, &quot;Adventure&quot;, … &quot;RPG&quot;]</td><td>2018-02-08 00:00:00</td><td>2018-02-08 00:00:00 -05</td><td>2013-12-11 13:42:09 -05</td><td>&quot;The only aim in Rust is to sur…</td><td>2025-08-12</td><td>8</td><td>&quot;Very Positive&quot;</td><td>1959</td><td>2025-08-21</td><td>1040475</td><td>910907</td><td>129568</td><td>0.876089</td></tr><tr><td>84634</td><td>2934620</td><td>&quot;Dance Eden&quot;</td><td>false</td><td>[&quot;DigiEden&quot;]</td><td>[&quot;DigiEden&quot;]</td><td>[&quot;Single-player&quot;, &quot;Multi-player&quot;, … &quot;Family Sharing&quot;]</td><td>[&quot;Action&quot;, &quot;Casual&quot;, … &quot;Early Access&quot;]</td><td>2024-08-19 00:00:00</td><td>2024-08-19 00:00:00 -05</td><td>2024-08-19 00:00:00 -05</td><td>&quot;Dance Eden is a VR/MR dance ga…</td><td>2025-08-12</td><td>7</td><td>&quot;Positive&quot;</td><td>84634</td><td>2025-08-20</td><td>852419</td><td>822781</td><td>29638</td><td>0.96651</td></tr><tr><td>9202</td><td>431960</td><td>&quot;Wallpaper Engine&quot;</td><td>false</td><td>[&quot;Wallpaper Engine Team&quot;]</td><td>[&quot;Wallpaper Engine Team&quot;]</td><td>[&quot;Steam Achievements&quot;, &quot;Steam Trading Cards&quot;, … &quot;Includes level editor&quot;]</td><td>[&quot;Casual&quot;, &quot;Indie&quot;, … &quot;Utilities&quot;]</td><td>2018-11-16 00:00:00</td><td>2018-11-16 00:00:00 -05</td><td>2016-10-10 14:39:08 -05</td><td>&quot;Use stunning live wallpapers o…</td><td>2025-08-12</td><td>9</td><td>&quot;Overwhelmingly Positive&quot;</td><td>9202</td><td>2025-08-21</td><td>849357</td><td>832798</td><td>16559</td><td>0.980876</td></tr><tr><td>&hellip;</td><td>&hellip;</td><td>&hellip;</td><td>&hellip;</td><td>&hellip;</td><td>&hellip;</td><td>&hellip;</td><td>&hellip;</td><td>&hellip;</td><td>&hellip;</td><td>&hellip;</td><td>&hellip;</td><td>&hellip;</td><td>&hellip;</td><td>&hellip;</td><td>&hellip;</td><td>&hellip;</td><td>&hellip;</td><td>&hellip;</td><td>&hellip;</td><td>&hellip;</td></tr><tr><td>48113</td><td>1783700</td><td>&quot;Gachi Bird&quot;</td><td>false</td><td>[&quot;Gachi Master&quot;]</td><td>[&quot;Gachi Master Games&quot;]</td><td>[&quot;Single-player&quot;, &quot;Steam Achievements&quot;, &quot;Family Sharing&quot;]</td><td>[&quot;Action&quot;, &quot;Adventure&quot;, … &quot;Indie&quot;]</td><td>2021-10-28 00:00:00</td><td>2021-10-28 00:00:00 -05</td><td>2021-10-28 00:00:00 -05</td><td>&quot;♂️Gachi Bird♂️ - play the mast…</td><td>2025-08-12</td><td>0</td><td>&quot;8 user reviews&quot;</td><td>48113</td><td>2022-08-05</td><td>1</td><td>1</td><td>0</td><td>1.0</td></tr><tr><td>50542</td><td>1837440</td><td>&quot;Pyramid Quest&quot;</td><td>false</td><td>[&quot;EntwicklerX&quot;]</td><td>[&quot;EntwicklerX&quot;]</td><td>[&quot;Single-player&quot;, &quot;Steam Achievements&quot;, … &quot;Family Sharing&quot;]</td><td>[&quot;Adventure&quot;, &quot;Indie&quot;]</td><td>2022-01-20 00:00:00</td><td>2022-01-20 00:00:00 -05</td><td>2022-01-20 00:00:00 -05</td><td>&quot;Pyramid Quest is an exploratio…</td><td>2025-08-12</td><td>0</td><td>&quot;7 user reviews&quot;</td><td>50542</td><td>2022-01-27</td><td>1</td><td>1</td><td>0</td><td>1.0</td></tr><tr><td>8208</td><td>489810</td><td>&quot;BlockAid&quot;</td><td>false</td><td>[&quot;SEGA Hardlight™&quot;]</td><td>[&quot;War Child Gaming&quot;]</td><td>[&quot;Single-player&quot;, &quot;Family Sharing&quot;]</td><td>[&quot;Casual&quot;, &quot;Indie&quot;, &quot;Strategy&quot;]</td><td>2016-07-26 00:00:00</td><td>2016-07-26 00:00:00 -05</td><td>2016-07-26 00:00:00 -05</td><td>&quot;Provide safe passage to a neve…</td><td>2025-08-12</td><td>0</td><td>&quot;6 user reviews&quot;</td><td>8208</td><td>2020-05-09</td><td>1</td><td>1</td><td>0</td><td>1.0</td></tr><tr><td>14759</td><td>508200</td><td>&quot;Bacon Tales - Between Pigs and…</td><td>false</td><td>[&quot;Uruca Game Studio&quot;]</td><td>[&quot;Uruca Game Studio&quot;]</td><td>[&quot;Single-player&quot;, &quot;Steam Trading Cards&quot;, &quot;Family Sharing&quot;]</td><td>[&quot;Casual&quot;, &quot;Indie&quot;, &quot;Strategy&quot;]</td><td>2017-10-12 00:00:00</td><td>2017-10-12 00:00:00 -05</td><td>2017-10-12 00:00:00 -05</td><td>&quot;Bacon Tales é um jogo de defes…</td><td>2025-08-12</td><td>5</td><td>&quot;Mixed&quot;</td><td>14759</td><td>2018-05-13</td><td>1</td><td>0</td><td>1</td><td>0.0</td></tr><tr><td>26467</td><td>530110</td><td>&quot;Tales of a Spymaster&quot;</td><td>false</td><td>[&quot;Gerard Morris&quot;]</td><td>[&quot;Gerard Morris&quot;]</td><td>[&quot;Single-player&quot;, &quot;Steam Achievements&quot;, … &quot;Family Sharing&quot;]</td><td>[&quot;Action&quot;, &quot;Casual&quot;, … &quot;Early Access&quot;]</td><td>2019-05-17 00:00:00</td><td>2019-05-17 00:00:00 -05</td><td>2019-05-17 00:00:00 -05</td><td>&quot;Break from the traditional rol…</td><td>2025-08-12</td><td>5</td><td>&quot;Mixed&quot;</td><td>26467</td><td>2020-11-24</td><td>1</td><td>0</td><td>1</td><td>0.0</td></tr></tbody></table></div>"
      ]
     },
     "execution_count": 10,
     "metadata": {},
     "output_type": "execute_result"
    }
   ],
   "execution_count": 10
  },
  {
   "metadata": {
    "ExecuteTime": {
     "end_time": "2025-08-27T04:23:26.723706Z",
     "start_time": "2025-08-27T04:23:26.632242Z"
    }
   },
   "cell_type": "code",
   "source": "db_conn.close()",
   "id": "9487450125ffc357",
   "outputs": [],
   "execution_count": 11
  },
  {
   "metadata": {},
   "cell_type": "markdown",
   "source": [
    "## TODO: EDA\n",
    "* Number of reviews per game\n",
    "* Correlation between months since release and number of reviews (positive / negative)\n",
    "*\n",
    "* Correlation between is_free and number of reviews (see Welch t-test, Mann-Whitney U, permutation test)\n",
    "* Game developers and publishers for similar games\n",
    "* Way to find similarity between games\n",
    "* Analysis of game description"
   ],
   "id": "a323634b9f2d21ed"
  }
 ],
 "metadata": {
  "kernelspec": {
   "display_name": "Python 3",
   "language": "python",
   "name": "python3"
  },
  "language_info": {
   "codemirror_mode": {
    "name": "ipython",
    "version": 2
   },
   "file_extension": ".py",
   "mimetype": "text/x-python",
   "name": "python",
   "nbconvert_exporter": "python",
   "pygments_lexer": "ipython2",
   "version": "2.7.6"
  }
 },
 "nbformat": 4,
 "nbformat_minor": 5
}
