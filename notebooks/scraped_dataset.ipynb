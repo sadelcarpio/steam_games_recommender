{
 "cells": [
  {
   "cell_type": "code",
   "id": "initial_id",
   "metadata": {
    "collapsed": true,
    "ExecuteTime": {
     "end_time": "2025-06-13T01:55:31.070028Z",
     "start_time": "2025-06-13T01:55:30.999670Z"
    }
   },
   "source": "import polars as pl",
   "outputs": [],
   "execution_count": 1
  },
  {
   "metadata": {
    "ExecuteTime": {
     "end_time": "2025-06-13T01:55:32.751016Z",
     "start_time": "2025-06-13T01:55:31.892776Z"
    }
   },
   "cell_type": "code",
   "source": [
    "steam_games = pl.read_parquet(\"../data/steam_games.parquet\")\n",
    "steam_games"
   ],
   "id": "538957c0e31041ff",
   "outputs": [
    {
     "data": {
      "text/plain": [
       "shape: (142_112, 25)\n",
       "┌─────────┬────────────┬──────┬────────────┬───┬────────────┬────────────┬────────────┬────────────┐\n",
       "│ appid   ┆ name       ┆ type ┆ required_a ┆ … ┆ release_da ┆ coming_soo ┆ recommenda ┆ dlc        │\n",
       "│ ---     ┆ ---        ┆ ---  ┆ ge         ┆   ┆ te         ┆ n          ┆ tions      ┆ ---        │\n",
       "│ i64     ┆ str        ┆ str  ┆ ---        ┆   ┆ ---        ┆ ---        ┆ ---        ┆ list[i64]  │\n",
       "│         ┆            ┆      ┆ i64        ┆   ┆ str        ┆ bool       ┆ i64        ┆            │\n",
       "╞═════════╪════════════╪══════╪════════════╪═══╪════════════╪════════════╪════════════╪════════════╡\n",
       "│ 2852260 ┆ Pandaruniu ┆ game ┆ 0          ┆ … ┆ 20 Jun,    ┆ false      ┆ null       ┆ []         │\n",
       "│         ┆ m          ┆      ┆            ┆   ┆ 2024       ┆            ┆            ┆            │\n",
       "│ 1226222 ┆ Killer Gin ┆ dlc  ┆ 0          ┆ … ┆ 12 Mar,    ┆ false      ┆ null       ┆ []         │\n",
       "│         ┆ Cats and   ┆      ┆            ┆   ┆ 2020       ┆            ┆            ┆            │\n",
       "│         ┆ Dogs DLC   ┆      ┆            ┆   ┆            ┆            ┆            ┆            │\n",
       "│ 291550  ┆ Brawlhalla ┆ game ┆ 0          ┆ … ┆ 17 Oct,    ┆ false      ┆ 2890       ┆ [298641,   │\n",
       "│         ┆            ┆      ┆            ┆   ┆ 2017       ┆            ┆            ┆ 2974360, … │\n",
       "│         ┆            ┆      ┆            ┆   ┆            ┆            ┆            ┆ 3392630]   │\n",
       "│ 2116250 ┆ Draft Day  ┆ game ┆ 0          ┆ … ┆ 31 Aug,    ┆ false      ┆ null       ┆ []         │\n",
       "│         ┆ Sports:    ┆      ┆            ┆   ┆ 2022       ┆            ┆            ┆            │\n",
       "│         ┆ College    ┆      ┆            ┆   ┆            ┆            ┆            ┆            │\n",
       "│         ┆ Foot…      ┆      ┆            ┆   ┆            ┆            ┆            ┆            │\n",
       "│ 946610  ┆ Pocket     ┆ game ┆ 0          ┆ … ┆ 25 Oct,    ┆ false      ┆ 453        ┆ []         │\n",
       "│         ┆ Rogues     ┆      ┆            ┆   ┆ 2018       ┆            ┆            ┆            │\n",
       "│ …       ┆ …          ┆ …    ┆ …          ┆ … ┆ …          ┆ …          ┆ …          ┆ …          │\n",
       "│ 2894880 ┆ Misfits    ┆ game ┆ 0          ┆ … ┆ To be      ┆ true       ┆ null       ┆ []         │\n",
       "│         ┆            ┆      ┆            ┆   ┆ announced  ┆            ┆            ┆            │\n",
       "│ 2429930 ┆ Power      ┆ game ┆ 0          ┆ … ┆ 12 Feb,    ┆ false      ┆ null       ┆ []         │\n",
       "│         ┆ Network    ┆      ┆            ┆   ┆ 2024       ┆            ┆            ┆            │\n",
       "│         ┆ Tycoon     ┆      ┆            ┆   ┆            ┆            ┆            ┆            │\n",
       "│ 418670  ┆ Pankapu    ┆ game ┆ 0          ┆ … ┆ 21 Sep,    ┆ false      ┆ 240        ┆ [529470,   │\n",
       "│         ┆            ┆      ┆            ┆   ┆ 2016       ┆            ┆            ┆ 522750]    │\n",
       "│ 3274880 ┆ Rollick N' ┆ game ┆ 0          ┆ … ┆ To be      ┆ true       ┆ null       ┆ []         │\n",
       "│         ┆ Roll       ┆      ┆            ┆   ┆ announced  ┆            ┆            ┆            │\n",
       "│ 2687250 ┆ RIFA       ┆ game ┆ 0          ┆ … ┆ 16 Jan,    ┆ false      ┆ null       ┆ []         │\n",
       "│         ┆            ┆      ┆            ┆   ┆ 2025       ┆            ┆            ┆            │\n",
       "└─────────┴────────────┴──────┴────────────┴───┴────────────┴────────────┴────────────┴────────────┘"
      ],
      "text/html": [
       "<div><style>\n",
       ".dataframe > thead > tr,\n",
       ".dataframe > tbody > tr {\n",
       "  text-align: right;\n",
       "  white-space: pre-wrap;\n",
       "}\n",
       "</style>\n",
       "<small>shape: (142_112, 25)</small><table border=\"1\" class=\"dataframe\"><thead><tr><th>appid</th><th>name</th><th>type</th><th>required_age</th><th>is_free</th><th>minimum_pc_requirements</th><th>recommended_pc_requirements</th><th>controller_support</th><th>detailed_description</th><th>about_the_game</th><th>short_description</th><th>supported_languages</th><th>header_image</th><th>developers</th><th>publishers</th><th>price</th><th>category_ids</th><th>genres_list</th><th>windows_support</th><th>mac_support</th><th>linux_support</th><th>release_date</th><th>coming_soon</th><th>recommendations</th><th>dlc</th></tr><tr><td>i64</td><td>str</td><td>str</td><td>i64</td><td>bool</td><td>str</td><td>str</td><td>str</td><td>str</td><td>str</td><td>str</td><td>list[str]</td><td>str</td><td>list[str]</td><td>list[str]</td><td>f64</td><td>list[i64]</td><td>list[str]</td><td>bool</td><td>bool</td><td>bool</td><td>str</td><td>bool</td><td>i64</td><td>list[i64]</td></tr></thead><tbody><tr><td>2852260</td><td>&quot;Pandarunium&quot;</td><td>&quot;game&quot;</td><td>0</td><td>false</td><td>&quot;Minimum:Requires a 64-bit proc…</td><td>&quot;Recommended:Requires a 64-bit …</td><td>null</td><td>&quot;&lt;strong&gt;Pandarunium&lt;/strong&gt; i…</td><td>&quot;&lt;strong&gt;Pandarunium&lt;/strong&gt; i…</td><td>&quot;Team up with friends in this t…</td><td>[&quot;English&quot;]</td><td>&quot;https://shared.akamai.steamsta…</td><td>[&quot;Tenax Studios&quot;]</td><td>[&quot;Tenax Studios&quot;]</td><td>3.99</td><td>[2, 1, … 62]</td><td>[&quot;Casual&quot;, &quot;Indie&quot;]</td><td>true</td><td>false</td><td>false</td><td>&quot;20 Jun, 2024&quot;</td><td>false</td><td>null</td><td>[]</td></tr><tr><td>1226222</td><td>&quot;Killer Gin Cats and Dogs DLC&quot;</td><td>&quot;dlc&quot;</td><td>0</td><td>true</td><td>&quot;Minimum:OS *: Windows 7/8/8.1/…</td><td>null</td><td>&quot;full&quot;</td><td>&quot;This DLC package allows you to…</td><td>&quot;This DLC package allows you to…</td><td>&quot;This DLC package allows you to…</td><td>[&quot;English&quot;]</td><td>&quot;https://shared.akamai.steamsta…</td><td>[&quot;The Killer Gin&quot;]</td><td>[]</td><td>null</td><td>[2, 21, … 62]</td><td>[&quot;RPG&quot;]</td><td>true</td><td>true</td><td>true</td><td>&quot;12 Mar, 2020&quot;</td><td>false</td><td>null</td><td>[]</td></tr><tr><td>291550</td><td>&quot;Brawlhalla&quot;</td><td>&quot;game&quot;</td><td>0</td><td>true</td><td>&quot;Minimum:Memory: 2 GB RAMStorag…</td><td>&quot;Recommended:Memory: 4 GB RAMNe…</td><td>null</td><td>&quot;&lt;img class=&quot;bb_img&quot; src=&quot;https…</td><td>&quot;&lt;img class=&quot;bb_img&quot; src=&quot;https…</td><td>&quot;An epic platform fighter for u…</td><td>[&quot;English&quot;, &quot;French&quot;, … &quot;Turkish&quot;]</td><td>&quot;https://shared.akamai.steamsta…</td><td>[&quot;Blue Mammoth Games&quot;]</td><td>[&quot;Ubisoft&quot;]</td><td>null</td><td>[2, 1, … 44]</td><td>[&quot;Action&quot;, &quot;Indie&quot;, &quot;Free To Play&quot;]</td><td>true</td><td>true</td><td>false</td><td>&quot;17 Oct, 2017&quot;</td><td>false</td><td>2890</td><td>[298641, 2974360, … 3392630]</td></tr><tr><td>2116250</td><td>&quot;Draft Day Sports: College Foot…</td><td>&quot;game&quot;</td><td>0</td><td>false</td><td>&quot;Minimum:Requires a 64-bit proc…</td><td>&quot;Recommended:Requires a 64-bit …</td><td>null</td><td>&quot;Prepare to lead your favorite …</td><td>&quot;Prepare to lead your favorite …</td><td>&quot;Draft Day Sports: College Foot…</td><td>[&quot;English&quot;]</td><td>&quot;https://shared.akamai.steamsta…</td><td>[&quot;Wolverine Studios&quot;]</td><td>[&quot;Wolverine Studios&quot;]</td><td>53.0</td><td>[2, 62]</td><td>[&quot;Indie&quot;, &quot;Simulation&quot;, … &quot;Strategy&quot;]</td><td>true</td><td>false</td><td>false</td><td>&quot;31 Aug, 2022&quot;</td><td>false</td><td>null</td><td>[]</td></tr><tr><td>946610</td><td>&quot;Pocket Rogues&quot;</td><td>&quot;game&quot;</td><td>0</td><td>false</td><td>&quot;Minimum:Requires a 64-bit proc…</td><td>&quot;Recommended:Requires a 64-bit …</td><td>&quot;full&quot;</td><td>&quot;&lt;p class=&quot;bb_paragraph&quot;&gt;&lt;stron…</td><td>&quot;&lt;p class=&quot;bb_paragraph&quot;&gt;&lt;stron…</td><td>&quot;Pocket Rogues is a dynamic 2D-…</td><td>[&quot;English&quot;, &quot;Russian&quot;, … &quot;Portuguese - Brazil&quot;]</td><td>&quot;https://shared.akamai.steamsta…</td><td>[&quot;EtherGaming&quot;]</td><td>[&quot;EtherGaming&quot;]</td><td>23.0</td><td>[2, 1, … 62]</td><td>[&quot;Action&quot;, &quot;Adventure&quot;, … &quot;Early Access&quot;]</td><td>true</td><td>false</td><td>false</td><td>&quot;25 Oct, 2018&quot;</td><td>false</td><td>453</td><td>[]</td></tr><tr><td>&hellip;</td><td>&hellip;</td><td>&hellip;</td><td>&hellip;</td><td>&hellip;</td><td>&hellip;</td><td>&hellip;</td><td>&hellip;</td><td>&hellip;</td><td>&hellip;</td><td>&hellip;</td><td>&hellip;</td><td>&hellip;</td><td>&hellip;</td><td>&hellip;</td><td>&hellip;</td><td>&hellip;</td><td>&hellip;</td><td>&hellip;</td><td>&hellip;</td><td>&hellip;</td><td>&hellip;</td><td>&hellip;</td><td>&hellip;</td><td>&hellip;</td></tr><tr><td>2894880</td><td>&quot;Misfits&quot;</td><td>&quot;game&quot;</td><td>0</td><td>false</td><td>&quot;Minimum:Requires a 64-bit proc…</td><td>&quot;Recommended:Requires a 64-bit …</td><td>&quot;full&quot;</td><td>&quot;Misfits is a cooperative puzzl…</td><td>&quot;Misfits is a cooperative puzzl…</td><td>&quot;Misfits is a cooperative puzzl…</td><td>[&quot;English&quot;]</td><td>&quot;https://shared.akamai.steamsta…</td><td>[&quot;Tiny Ox&quot;]</td><td>[&quot;Tiny Ox&quot;]</td><td>null</td><td>[2, 1, … 62]</td><td>[&quot;Casual&quot;]</td><td>true</td><td>true</td><td>false</td><td>&quot;To be announced&quot;</td><td>true</td><td>null</td><td>[]</td></tr><tr><td>2429930</td><td>&quot;Power Network Tycoon&quot;</td><td>&quot;game&quot;</td><td>0</td><td>false</td><td>&quot;Minimum:Requires a 64-bit proc…</td><td>&quot;Recommended:Requires a 64-bit …</td><td>null</td><td>&quot;&lt;p class=&quot;bb_paragraph&quot;&gt;Power …</td><td>&quot;&lt;p class=&quot;bb_paragraph&quot;&gt;Power …</td><td>&quot;Power Network Tycoon is a powe…</td><td>[&quot;English&quot;, &quot;French&quot;, … &quot;Simplified Chinese&quot;]</td><td>&quot;https://shared.akamai.steamsta…</td><td>[&quot;David Made This&quot;]</td><td>[&quot;David Made This&quot;]</td><td>33.5</td><td>[2, 22, … 62]</td><td>[&quot;Indie&quot;, &quot;Simulation&quot;, … &quot;Early Access&quot;]</td><td>true</td><td>true</td><td>true</td><td>&quot;12 Feb, 2024&quot;</td><td>false</td><td>null</td><td>[]</td></tr><tr><td>418670</td><td>&quot;Pankapu&quot;</td><td>&quot;game&quot;</td><td>0</td><td>false</td><td>&quot;Minimum:OS: Vista or higherPro…</td><td>null</td><td>&quot;full&quot;</td><td>&quot;&lt;h1&gt;More from us&lt;/h1&gt;&lt;p&gt;&lt;img c…</td><td>&quot;Jump into a neo-retro adventur…</td><td>&quot;Pankapu is a narrative action-…</td><td>[&quot;English&quot;, &quot;French&quot;, … &quot;Japanese&quot;]</td><td>&quot;https://shared.akamai.steamsta…</td><td>[&quot;Too Kind Studio&quot;]</td><td>[&quot;Dear Villagers&quot;]</td><td>32.95</td><td>[2, 22, … 62]</td><td>[&quot;Action&quot;, &quot;Adventure&quot;, &quot;Indie&quot;]</td><td>true</td><td>true</td><td>true</td><td>&quot;21 Sep, 2016&quot;</td><td>false</td><td>240</td><td>[529470, 522750]</td></tr><tr><td>3274880</td><td>&quot;Rollick N&#x27; Roll&quot;</td><td>&quot;game&quot;</td><td>0</td><td>false</td><td>&quot;Minimum:Requires a 64-bit proc…</td><td>&quot;Recommended:Requires a 64-bit …</td><td>&quot;full&quot;</td><td>&quot;&lt;h2 class=&quot;bb_tag&quot;&gt;&lt;strong&gt;A B…</td><td>&quot;&lt;h2 class=&quot;bb_tag&quot;&gt;&lt;strong&gt;A B…</td><td>&quot;Rollick N&#x27; Roll combines fun p…</td><td>[&quot;English&quot;, &quot;French&quot;, … &quot;Polish&quot;]</td><td>&quot;https://shared.akamai.steamsta…</td><td>[&quot;Crayonix Games&quot;]</td><td>[&quot;Crayonix Games&quot;]</td><td>null</td><td>[2, 28, 62]</td><td>[&quot;Action&quot;, &quot;Casual&quot;, … &quot;Strategy&quot;]</td><td>true</td><td>false</td><td>false</td><td>&quot;To be announced&quot;</td><td>true</td><td>null</td><td>[]</td></tr><tr><td>2687250</td><td>&quot;RIFA&quot;</td><td>&quot;game&quot;</td><td>0</td><td>false</td><td>&quot;Minimum:Requires a 64-bit proc…</td><td>&quot;Recommended:Requires a 64-bit …</td><td>null</td><td>&quot;&amp;quot;RIFA&amp;quot; is a 3D third…</td><td>&quot;&amp;quot;RIFA&amp;quot; is a 3D third…</td><td>&quot;On Earth in the distant future…</td><td>[&quot;Korean&quot;, &quot;English&quot;]</td><td>&quot;https://shared.akamai.steamsta…</td><td>[&quot;BDW&quot;]</td><td>[&quot;BDW&quot;]</td><td>2.5</td><td>[2, 62]</td><td>[&quot;Adventure&quot;]</td><td>true</td><td>false</td><td>false</td><td>&quot;16 Jan, 2025&quot;</td><td>false</td><td>null</td><td>[]</td></tr></tbody></table></div>"
      ]
     },
     "execution_count": 2,
     "metadata": {},
     "output_type": "execute_result"
    }
   ],
   "execution_count": 2
  },
  {
   "metadata": {
    "ExecuteTime": {
     "end_time": "2025-06-13T02:01:15.019892Z",
     "start_time": "2025-06-13T02:01:15.013453Z"
    }
   },
   "cell_type": "code",
   "source": [
    "steam_game_features = pl.read_parquet(\"../data/steam_games_extra_features.parquet\")\n",
    "steam_game_features"
   ],
   "id": "7a4042650af26f42",
   "outputs": [
    {
     "data": {
      "text/plain": [
       "shape: (73_192, 6)\n",
       "┌─────────┬──────────────┬───────────────────┬──────────────────┬──────────────────┬───────────────┐\n",
       "│ appid   ┆ review_score ┆ review_score_desc ┆ total_positive_r ┆ total_negative_r ┆ total_reviews │\n",
       "│ ---     ┆ ---          ┆ ---               ┆ eviews           ┆ eviews           ┆ ---           │\n",
       "│ i64     ┆ i64          ┆ str               ┆ ---              ┆ ---              ┆ i64           │\n",
       "│         ┆              ┆                   ┆ i64              ┆ i64              ┆               │\n",
       "╞═════════╪══════════════╪═══════════════════╪══════════════════╪══════════════════╪═══════════════╡\n",
       "│ 2852260 ┆ 0            ┆ 2 user reviews    ┆ 2                ┆ 0                ┆ 2             │\n",
       "│ 291550  ┆ 8            ┆ Very Positive     ┆ 1306             ┆ 266              ┆ 1572          │\n",
       "│ 2116250 ┆ 5            ┆ Mixed             ┆ 9                ┆ 6                ┆ 15            │\n",
       "│ 946610  ┆ 8            ┆ Very Positive     ┆ 95               ┆ 21               ┆ 116           │\n",
       "│ 390730  ┆ 8            ┆ Very Positive     ┆ 144              ┆ 15               ┆ 159           │\n",
       "│ …       ┆ …            ┆ …                 ┆ …                ┆ …                ┆ …             │\n",
       "│ 2576250 ┆ 6            ┆ Mostly Positive   ┆ 10               ┆ 3                ┆ 13            │\n",
       "│ 3535330 ┆ 0            ┆ 1 user reviews    ┆ 0                ┆ 1                ┆ 1             │\n",
       "│ 210896  ┆ 5            ┆ Mixed             ┆ 7                ┆ 6                ┆ 13            │\n",
       "│ 2429930 ┆ 7            ┆ Positive          ┆ 11               ┆ 1                ┆ 12            │\n",
       "│ 418670  ┆ 6            ┆ Mostly Positive   ┆ 51               ┆ 19               ┆ 70            │\n",
       "└─────────┴──────────────┴───────────────────┴──────────────────┴──────────────────┴───────────────┘"
      ],
      "text/html": [
       "<div><style>\n",
       ".dataframe > thead > tr,\n",
       ".dataframe > tbody > tr {\n",
       "  text-align: right;\n",
       "  white-space: pre-wrap;\n",
       "}\n",
       "</style>\n",
       "<small>shape: (73_192, 6)</small><table border=\"1\" class=\"dataframe\"><thead><tr><th>appid</th><th>review_score</th><th>review_score_desc</th><th>total_positive_reviews</th><th>total_negative_reviews</th><th>total_reviews</th></tr><tr><td>i64</td><td>i64</td><td>str</td><td>i64</td><td>i64</td><td>i64</td></tr></thead><tbody><tr><td>2852260</td><td>0</td><td>&quot;2 user reviews&quot;</td><td>2</td><td>0</td><td>2</td></tr><tr><td>291550</td><td>8</td><td>&quot;Very Positive&quot;</td><td>1306</td><td>266</td><td>1572</td></tr><tr><td>2116250</td><td>5</td><td>&quot;Mixed&quot;</td><td>9</td><td>6</td><td>15</td></tr><tr><td>946610</td><td>8</td><td>&quot;Very Positive&quot;</td><td>95</td><td>21</td><td>116</td></tr><tr><td>390730</td><td>8</td><td>&quot;Very Positive&quot;</td><td>144</td><td>15</td><td>159</td></tr><tr><td>&hellip;</td><td>&hellip;</td><td>&hellip;</td><td>&hellip;</td><td>&hellip;</td><td>&hellip;</td></tr><tr><td>2576250</td><td>6</td><td>&quot;Mostly Positive&quot;</td><td>10</td><td>3</td><td>13</td></tr><tr><td>3535330</td><td>0</td><td>&quot;1 user reviews&quot;</td><td>0</td><td>1</td><td>1</td></tr><tr><td>210896</td><td>5</td><td>&quot;Mixed&quot;</td><td>7</td><td>6</td><td>13</td></tr><tr><td>2429930</td><td>7</td><td>&quot;Positive&quot;</td><td>11</td><td>1</td><td>12</td></tr><tr><td>418670</td><td>6</td><td>&quot;Mostly Positive&quot;</td><td>51</td><td>19</td><td>70</td></tr></tbody></table></div>"
      ]
     },
     "execution_count": 11,
     "metadata": {},
     "output_type": "execute_result"
    }
   ],
   "execution_count": 11
  },
  {
   "metadata": {
    "ExecuteTime": {
     "end_time": "2025-06-13T02:01:18.882745Z",
     "start_time": "2025-06-13T02:01:18.824215Z"
    }
   },
   "cell_type": "code",
   "source": [
    "steam_games_agg = steam_games.join(steam_game_features, on=\"appid\", how=\"left\")\n",
    "steam_games_agg = steam_games_agg.with_columns(\n",
    "    pl.col(\"review_score\").fill_null(0),\n",
    "    pl.col(\"review_score_desc\").fill_null(\"No reviews\"),\n",
    "    pl.col(\"total_positive_reviews\").fill_null(0),\n",
    "    pl.col(\"total_negative_reviews\").fill_null(0),\n",
    "    pl.col(\"total_reviews\").fill_null(0)\n",
    ")\n",
    "steam_games_agg"
   ],
   "id": "ddad8524f1b16a90",
   "outputs": [
    {
     "data": {
      "text/plain": [
       "shape: (142_113, 30)\n",
       "┌─────────┬────────────┬──────┬────────────┬───┬────────────┬────────────┬────────────┬────────────┐\n",
       "│ appid   ┆ name       ┆ type ┆ required_a ┆ … ┆ review_sco ┆ total_posi ┆ total_nega ┆ total_revi │\n",
       "│ ---     ┆ ---        ┆ ---  ┆ ge         ┆   ┆ re_desc    ┆ tive_revie ┆ tive_revie ┆ ews        │\n",
       "│ i64     ┆ str        ┆ str  ┆ ---        ┆   ┆ ---        ┆ ws         ┆ ws         ┆ ---        │\n",
       "│         ┆            ┆      ┆ i64        ┆   ┆ str        ┆ ---        ┆ ---        ┆ i64        │\n",
       "│         ┆            ┆      ┆            ┆   ┆            ┆ i64        ┆ i64        ┆            │\n",
       "╞═════════╪════════════╪══════╪════════════╪═══╪════════════╪════════════╪════════════╪════════════╡\n",
       "│ 2852260 ┆ Pandaruniu ┆ game ┆ 0          ┆ … ┆ 2 user     ┆ 2          ┆ 0          ┆ 2          │\n",
       "│         ┆ m          ┆      ┆            ┆   ┆ reviews    ┆            ┆            ┆            │\n",
       "│ 1226222 ┆ Killer Gin ┆ dlc  ┆ 0          ┆ … ┆ No reviews ┆ 0          ┆ 0          ┆ 0          │\n",
       "│         ┆ Cats and   ┆      ┆            ┆   ┆            ┆            ┆            ┆            │\n",
       "│         ┆ Dogs DLC   ┆      ┆            ┆   ┆            ┆            ┆            ┆            │\n",
       "│ 291550  ┆ Brawlhalla ┆ game ┆ 0          ┆ … ┆ Very       ┆ 1306       ┆ 266        ┆ 1572       │\n",
       "│         ┆            ┆      ┆            ┆   ┆ Positive   ┆            ┆            ┆            │\n",
       "│ 2116250 ┆ Draft Day  ┆ game ┆ 0          ┆ … ┆ Mixed      ┆ 9          ┆ 6          ┆ 15         │\n",
       "│         ┆ Sports:    ┆      ┆            ┆   ┆            ┆            ┆            ┆            │\n",
       "│         ┆ College    ┆      ┆            ┆   ┆            ┆            ┆            ┆            │\n",
       "│         ┆ Foot…      ┆      ┆            ┆   ┆            ┆            ┆            ┆            │\n",
       "│ 946610  ┆ Pocket     ┆ game ┆ 0          ┆ … ┆ Very       ┆ 95         ┆ 21         ┆ 116        │\n",
       "│         ┆ Rogues     ┆      ┆            ┆   ┆ Positive   ┆            ┆            ┆            │\n",
       "│ …       ┆ …          ┆ …    ┆ …          ┆ … ┆ …          ┆ …          ┆ …          ┆ …          │\n",
       "│ 2894880 ┆ Misfits    ┆ game ┆ 0          ┆ … ┆ No reviews ┆ 0          ┆ 0          ┆ 0          │\n",
       "│ 2429930 ┆ Power      ┆ game ┆ 0          ┆ … ┆ Positive   ┆ 11         ┆ 1          ┆ 12         │\n",
       "│         ┆ Network    ┆      ┆            ┆   ┆            ┆            ┆            ┆            │\n",
       "│         ┆ Tycoon     ┆      ┆            ┆   ┆            ┆            ┆            ┆            │\n",
       "│ 418670  ┆ Pankapu    ┆ game ┆ 0          ┆ … ┆ Mostly     ┆ 51         ┆ 19         ┆ 70         │\n",
       "│         ┆            ┆      ┆            ┆   ┆ Positive   ┆            ┆            ┆            │\n",
       "│ 3274880 ┆ Rollick N' ┆ game ┆ 0          ┆ … ┆ No reviews ┆ 0          ┆ 0          ┆ 0          │\n",
       "│         ┆ Roll       ┆      ┆            ┆   ┆            ┆            ┆            ┆            │\n",
       "│ 2687250 ┆ RIFA       ┆ game ┆ 0          ┆ … ┆ No reviews ┆ 0          ┆ 0          ┆ 0          │\n",
       "└─────────┴────────────┴──────┴────────────┴───┴────────────┴────────────┴────────────┴────────────┘"
      ],
      "text/html": [
       "<div><style>\n",
       ".dataframe > thead > tr,\n",
       ".dataframe > tbody > tr {\n",
       "  text-align: right;\n",
       "  white-space: pre-wrap;\n",
       "}\n",
       "</style>\n",
       "<small>shape: (142_113, 30)</small><table border=\"1\" class=\"dataframe\"><thead><tr><th>appid</th><th>name</th><th>type</th><th>required_age</th><th>is_free</th><th>minimum_pc_requirements</th><th>recommended_pc_requirements</th><th>controller_support</th><th>detailed_description</th><th>about_the_game</th><th>short_description</th><th>supported_languages</th><th>header_image</th><th>developers</th><th>publishers</th><th>price</th><th>category_ids</th><th>genres_list</th><th>windows_support</th><th>mac_support</th><th>linux_support</th><th>release_date</th><th>coming_soon</th><th>recommendations</th><th>dlc</th><th>review_score</th><th>review_score_desc</th><th>total_positive_reviews</th><th>total_negative_reviews</th><th>total_reviews</th></tr><tr><td>i64</td><td>str</td><td>str</td><td>i64</td><td>bool</td><td>str</td><td>str</td><td>str</td><td>str</td><td>str</td><td>str</td><td>list[str]</td><td>str</td><td>list[str]</td><td>list[str]</td><td>f64</td><td>list[i64]</td><td>list[str]</td><td>bool</td><td>bool</td><td>bool</td><td>str</td><td>bool</td><td>i64</td><td>list[i64]</td><td>i64</td><td>str</td><td>i64</td><td>i64</td><td>i64</td></tr></thead><tbody><tr><td>2852260</td><td>&quot;Pandarunium&quot;</td><td>&quot;game&quot;</td><td>0</td><td>false</td><td>&quot;Minimum:Requires a 64-bit proc…</td><td>&quot;Recommended:Requires a 64-bit …</td><td>null</td><td>&quot;&lt;strong&gt;Pandarunium&lt;/strong&gt; i…</td><td>&quot;&lt;strong&gt;Pandarunium&lt;/strong&gt; i…</td><td>&quot;Team up with friends in this t…</td><td>[&quot;English&quot;]</td><td>&quot;https://shared.akamai.steamsta…</td><td>[&quot;Tenax Studios&quot;]</td><td>[&quot;Tenax Studios&quot;]</td><td>3.99</td><td>[2, 1, … 62]</td><td>[&quot;Casual&quot;, &quot;Indie&quot;]</td><td>true</td><td>false</td><td>false</td><td>&quot;20 Jun, 2024&quot;</td><td>false</td><td>null</td><td>[]</td><td>0</td><td>&quot;2 user reviews&quot;</td><td>2</td><td>0</td><td>2</td></tr><tr><td>1226222</td><td>&quot;Killer Gin Cats and Dogs DLC&quot;</td><td>&quot;dlc&quot;</td><td>0</td><td>true</td><td>&quot;Minimum:OS *: Windows 7/8/8.1/…</td><td>null</td><td>&quot;full&quot;</td><td>&quot;This DLC package allows you to…</td><td>&quot;This DLC package allows you to…</td><td>&quot;This DLC package allows you to…</td><td>[&quot;English&quot;]</td><td>&quot;https://shared.akamai.steamsta…</td><td>[&quot;The Killer Gin&quot;]</td><td>[]</td><td>null</td><td>[2, 21, … 62]</td><td>[&quot;RPG&quot;]</td><td>true</td><td>true</td><td>true</td><td>&quot;12 Mar, 2020&quot;</td><td>false</td><td>null</td><td>[]</td><td>0</td><td>&quot;No reviews&quot;</td><td>0</td><td>0</td><td>0</td></tr><tr><td>291550</td><td>&quot;Brawlhalla&quot;</td><td>&quot;game&quot;</td><td>0</td><td>true</td><td>&quot;Minimum:Memory: 2 GB RAMStorag…</td><td>&quot;Recommended:Memory: 4 GB RAMNe…</td><td>null</td><td>&quot;&lt;img class=&quot;bb_img&quot; src=&quot;https…</td><td>&quot;&lt;img class=&quot;bb_img&quot; src=&quot;https…</td><td>&quot;An epic platform fighter for u…</td><td>[&quot;English&quot;, &quot;French&quot;, … &quot;Turkish&quot;]</td><td>&quot;https://shared.akamai.steamsta…</td><td>[&quot;Blue Mammoth Games&quot;]</td><td>[&quot;Ubisoft&quot;]</td><td>null</td><td>[2, 1, … 44]</td><td>[&quot;Action&quot;, &quot;Indie&quot;, &quot;Free To Play&quot;]</td><td>true</td><td>true</td><td>false</td><td>&quot;17 Oct, 2017&quot;</td><td>false</td><td>2890</td><td>[298641, 2974360, … 3392630]</td><td>8</td><td>&quot;Very Positive&quot;</td><td>1306</td><td>266</td><td>1572</td></tr><tr><td>2116250</td><td>&quot;Draft Day Sports: College Foot…</td><td>&quot;game&quot;</td><td>0</td><td>false</td><td>&quot;Minimum:Requires a 64-bit proc…</td><td>&quot;Recommended:Requires a 64-bit …</td><td>null</td><td>&quot;Prepare to lead your favorite …</td><td>&quot;Prepare to lead your favorite …</td><td>&quot;Draft Day Sports: College Foot…</td><td>[&quot;English&quot;]</td><td>&quot;https://shared.akamai.steamsta…</td><td>[&quot;Wolverine Studios&quot;]</td><td>[&quot;Wolverine Studios&quot;]</td><td>53.0</td><td>[2, 62]</td><td>[&quot;Indie&quot;, &quot;Simulation&quot;, … &quot;Strategy&quot;]</td><td>true</td><td>false</td><td>false</td><td>&quot;31 Aug, 2022&quot;</td><td>false</td><td>null</td><td>[]</td><td>5</td><td>&quot;Mixed&quot;</td><td>9</td><td>6</td><td>15</td></tr><tr><td>946610</td><td>&quot;Pocket Rogues&quot;</td><td>&quot;game&quot;</td><td>0</td><td>false</td><td>&quot;Minimum:Requires a 64-bit proc…</td><td>&quot;Recommended:Requires a 64-bit …</td><td>&quot;full&quot;</td><td>&quot;&lt;p class=&quot;bb_paragraph&quot;&gt;&lt;stron…</td><td>&quot;&lt;p class=&quot;bb_paragraph&quot;&gt;&lt;stron…</td><td>&quot;Pocket Rogues is a dynamic 2D-…</td><td>[&quot;English&quot;, &quot;Russian&quot;, … &quot;Portuguese - Brazil&quot;]</td><td>&quot;https://shared.akamai.steamsta…</td><td>[&quot;EtherGaming&quot;]</td><td>[&quot;EtherGaming&quot;]</td><td>23.0</td><td>[2, 1, … 62]</td><td>[&quot;Action&quot;, &quot;Adventure&quot;, … &quot;Early Access&quot;]</td><td>true</td><td>false</td><td>false</td><td>&quot;25 Oct, 2018&quot;</td><td>false</td><td>453</td><td>[]</td><td>8</td><td>&quot;Very Positive&quot;</td><td>95</td><td>21</td><td>116</td></tr><tr><td>&hellip;</td><td>&hellip;</td><td>&hellip;</td><td>&hellip;</td><td>&hellip;</td><td>&hellip;</td><td>&hellip;</td><td>&hellip;</td><td>&hellip;</td><td>&hellip;</td><td>&hellip;</td><td>&hellip;</td><td>&hellip;</td><td>&hellip;</td><td>&hellip;</td><td>&hellip;</td><td>&hellip;</td><td>&hellip;</td><td>&hellip;</td><td>&hellip;</td><td>&hellip;</td><td>&hellip;</td><td>&hellip;</td><td>&hellip;</td><td>&hellip;</td><td>&hellip;</td><td>&hellip;</td><td>&hellip;</td><td>&hellip;</td><td>&hellip;</td></tr><tr><td>2894880</td><td>&quot;Misfits&quot;</td><td>&quot;game&quot;</td><td>0</td><td>false</td><td>&quot;Minimum:Requires a 64-bit proc…</td><td>&quot;Recommended:Requires a 64-bit …</td><td>&quot;full&quot;</td><td>&quot;Misfits is a cooperative puzzl…</td><td>&quot;Misfits is a cooperative puzzl…</td><td>&quot;Misfits is a cooperative puzzl…</td><td>[&quot;English&quot;]</td><td>&quot;https://shared.akamai.steamsta…</td><td>[&quot;Tiny Ox&quot;]</td><td>[&quot;Tiny Ox&quot;]</td><td>null</td><td>[2, 1, … 62]</td><td>[&quot;Casual&quot;]</td><td>true</td><td>true</td><td>false</td><td>&quot;To be announced&quot;</td><td>true</td><td>null</td><td>[]</td><td>0</td><td>&quot;No reviews&quot;</td><td>0</td><td>0</td><td>0</td></tr><tr><td>2429930</td><td>&quot;Power Network Tycoon&quot;</td><td>&quot;game&quot;</td><td>0</td><td>false</td><td>&quot;Minimum:Requires a 64-bit proc…</td><td>&quot;Recommended:Requires a 64-bit …</td><td>null</td><td>&quot;&lt;p class=&quot;bb_paragraph&quot;&gt;Power …</td><td>&quot;&lt;p class=&quot;bb_paragraph&quot;&gt;Power …</td><td>&quot;Power Network Tycoon is a powe…</td><td>[&quot;English&quot;, &quot;French&quot;, … &quot;Simplified Chinese&quot;]</td><td>&quot;https://shared.akamai.steamsta…</td><td>[&quot;David Made This&quot;]</td><td>[&quot;David Made This&quot;]</td><td>33.5</td><td>[2, 22, … 62]</td><td>[&quot;Indie&quot;, &quot;Simulation&quot;, … &quot;Early Access&quot;]</td><td>true</td><td>true</td><td>true</td><td>&quot;12 Feb, 2024&quot;</td><td>false</td><td>null</td><td>[]</td><td>7</td><td>&quot;Positive&quot;</td><td>11</td><td>1</td><td>12</td></tr><tr><td>418670</td><td>&quot;Pankapu&quot;</td><td>&quot;game&quot;</td><td>0</td><td>false</td><td>&quot;Minimum:OS: Vista or higherPro…</td><td>null</td><td>&quot;full&quot;</td><td>&quot;&lt;h1&gt;More from us&lt;/h1&gt;&lt;p&gt;&lt;img c…</td><td>&quot;Jump into a neo-retro adventur…</td><td>&quot;Pankapu is a narrative action-…</td><td>[&quot;English&quot;, &quot;French&quot;, … &quot;Japanese&quot;]</td><td>&quot;https://shared.akamai.steamsta…</td><td>[&quot;Too Kind Studio&quot;]</td><td>[&quot;Dear Villagers&quot;]</td><td>32.95</td><td>[2, 22, … 62]</td><td>[&quot;Action&quot;, &quot;Adventure&quot;, &quot;Indie&quot;]</td><td>true</td><td>true</td><td>true</td><td>&quot;21 Sep, 2016&quot;</td><td>false</td><td>240</td><td>[529470, 522750]</td><td>6</td><td>&quot;Mostly Positive&quot;</td><td>51</td><td>19</td><td>70</td></tr><tr><td>3274880</td><td>&quot;Rollick N&#x27; Roll&quot;</td><td>&quot;game&quot;</td><td>0</td><td>false</td><td>&quot;Minimum:Requires a 64-bit proc…</td><td>&quot;Recommended:Requires a 64-bit …</td><td>&quot;full&quot;</td><td>&quot;&lt;h2 class=&quot;bb_tag&quot;&gt;&lt;strong&gt;A B…</td><td>&quot;&lt;h2 class=&quot;bb_tag&quot;&gt;&lt;strong&gt;A B…</td><td>&quot;Rollick N&#x27; Roll combines fun p…</td><td>[&quot;English&quot;, &quot;French&quot;, … &quot;Polish&quot;]</td><td>&quot;https://shared.akamai.steamsta…</td><td>[&quot;Crayonix Games&quot;]</td><td>[&quot;Crayonix Games&quot;]</td><td>null</td><td>[2, 28, 62]</td><td>[&quot;Action&quot;, &quot;Casual&quot;, … &quot;Strategy&quot;]</td><td>true</td><td>false</td><td>false</td><td>&quot;To be announced&quot;</td><td>true</td><td>null</td><td>[]</td><td>0</td><td>&quot;No reviews&quot;</td><td>0</td><td>0</td><td>0</td></tr><tr><td>2687250</td><td>&quot;RIFA&quot;</td><td>&quot;game&quot;</td><td>0</td><td>false</td><td>&quot;Minimum:Requires a 64-bit proc…</td><td>&quot;Recommended:Requires a 64-bit …</td><td>null</td><td>&quot;&amp;quot;RIFA&amp;quot; is a 3D third…</td><td>&quot;&amp;quot;RIFA&amp;quot; is a 3D third…</td><td>&quot;On Earth in the distant future…</td><td>[&quot;Korean&quot;, &quot;English&quot;]</td><td>&quot;https://shared.akamai.steamsta…</td><td>[&quot;BDW&quot;]</td><td>[&quot;BDW&quot;]</td><td>2.5</td><td>[2, 62]</td><td>[&quot;Adventure&quot;]</td><td>true</td><td>false</td><td>false</td><td>&quot;16 Jan, 2025&quot;</td><td>false</td><td>null</td><td>[]</td><td>0</td><td>&quot;No reviews&quot;</td><td>0</td><td>0</td><td>0</td></tr></tbody></table></div>"
      ]
     },
     "execution_count": 12,
     "metadata": {},
     "output_type": "execute_result"
    }
   ],
   "execution_count": 12
  },
  {
   "metadata": {
    "ExecuteTime": {
     "end_time": "2025-06-13T02:01:38.394980Z",
     "start_time": "2025-06-13T02:01:31.567712Z"
    }
   },
   "cell_type": "code",
   "source": [
    "steam_reviews = pl.read_parquet(\"../data/steam_reviews_*.parquet\")\n",
    "steam_reviews"
   ],
   "id": "47ec083524be3407",
   "outputs": [
    {
     "data": {
      "text/plain": [
       "shape: (36_353_032, 22)\n",
       "┌───────────┬────────────┬─────────┬───────────┬───┬───────────┬───────────┬───────────┬───────────┐\n",
       "│ rec_id    ┆ author_id  ┆ appid   ┆ playtime_ ┆ … ┆ steam_pur ┆ received_ ┆ written_d ┆ primarily │\n",
       "│ ---       ┆ ---        ┆ ---     ┆ forever   ┆   ┆ chase     ┆ for_free  ┆ uring_ear ┆ _steam_de │\n",
       "│ i64       ┆ i64        ┆ i64     ┆ ---       ┆   ┆ ---       ┆ ---       ┆ ly_access ┆ ck        │\n",
       "│           ┆            ┆         ┆ i64       ┆   ┆ bool      ┆ bool      ┆ ---       ┆ ---       │\n",
       "│           ┆            ┆         ┆           ┆   ┆           ┆           ┆ bool      ┆ bool      │\n",
       "╞═══════════╪════════════╪═════════╪═══════════╪═══╪═══════════╪═══════════╪═══════════╪═══════════╡\n",
       "│ 190502887 ┆ 7656119879 ┆ 2852260 ┆ 5         ┆ … ┆ true      ┆ false     ┆ false     ┆ false     │\n",
       "│           ┆ 8149868    ┆         ┆           ┆   ┆           ┆           ┆           ┆           │\n",
       "│ 168888656 ┆ 7656119814 ┆ 2852260 ┆ 121       ┆ … ┆ true      ┆ false     ┆ false     ┆ false     │\n",
       "│           ┆ 0769382    ┆         ┆           ┆   ┆           ┆           ┆           ┆           │\n",
       "│ 196678928 ┆ 7656119908 ┆ 291550  ┆ 2202      ┆ … ┆ true      ┆ false     ┆ false     ┆ false     │\n",
       "│           ┆ 6310241    ┆         ┆           ┆   ┆           ┆           ┆           ┆           │\n",
       "│ 192763979 ┆ 7656119836 ┆ 291550  ┆ 75846     ┆ … ┆ true      ┆ false     ┆ false     ┆ false     │\n",
       "│           ┆ 6424828    ┆         ┆           ┆   ┆           ┆           ┆           ┆           │\n",
       "│ 189643572 ┆ 7656119973 ┆ 291550  ┆ 699       ┆ … ┆ true      ┆ false     ┆ false     ┆ false     │\n",
       "│           ┆ 1966768    ┆         ┆           ┆   ┆           ┆           ┆           ┆           │\n",
       "│ …         ┆ …          ┆ …       ┆ …         ┆ … ┆ …         ┆ …         ┆ …         ┆ …         │\n",
       "│ 6418339   ┆ 7656119806 ┆ 222880  ┆ 1554      ┆ … ┆ true      ┆ false     ┆ false     ┆ false     │\n",
       "│           ┆ 5871127    ┆         ┆           ┆   ┆           ┆           ┆           ┆           │\n",
       "│ 6544900   ┆ 7656119806 ┆ 222880  ┆ 569       ┆ … ┆ true      ┆ false     ┆ false     ┆ false     │\n",
       "│           ┆ 8660723    ┆         ┆           ┆   ┆           ┆           ┆           ┆           │\n",
       "│ 2732737   ┆ 7656119801 ┆ 222880  ┆ 5574      ┆ … ┆ true      ┆ false     ┆ false     ┆ false     │\n",
       "│           ┆ 1795478    ┆         ┆           ┆   ┆           ┆           ┆           ┆           │\n",
       "│ 3791442   ┆ 7656119802 ┆ 222880  ┆ 4428      ┆ … ┆ true      ┆ false     ┆ false     ┆ false     │\n",
       "│           ┆ 7412704    ┆         ┆           ┆   ┆           ┆           ┆           ┆           │\n",
       "│ 1390668   ┆ 7656119799 ┆ 222880  ┆ 385       ┆ … ┆ true      ┆ false     ┆ false     ┆ false     │\n",
       "│           ┆ 2637139    ┆         ┆           ┆   ┆           ┆           ┆           ┆           │\n",
       "└───────────┴────────────┴─────────┴───────────┴───┴───────────┴───────────┴───────────┴───────────┘"
      ],
      "text/html": [
       "<div><style>\n",
       ".dataframe > thead > tr,\n",
       ".dataframe > tbody > tr {\n",
       "  text-align: right;\n",
       "  white-space: pre-wrap;\n",
       "}\n",
       "</style>\n",
       "<small>shape: (36_353_032, 22)</small><table border=\"1\" class=\"dataframe\"><thead><tr><th>rec_id</th><th>author_id</th><th>appid</th><th>playtime_forever</th><th>playtime_last_two_weeks</th><th>playtime_at_review</th><th>num_games_owned</th><th>num_reviews</th><th>last_played</th><th>language</th><th>review</th><th>timestamp_created</th><th>timestamp_updated</th><th>voted_up</th><th>votes_up</th><th>votes_funny</th><th>weighted_vote_score</th><th>comment_count</th><th>steam_purchase</th><th>received_for_free</th><th>written_during_early_access</th><th>primarily_steam_deck</th></tr><tr><td>i64</td><td>i64</td><td>i64</td><td>i64</td><td>i64</td><td>i64</td><td>i64</td><td>i64</td><td>i64</td><td>str</td><td>str</td><td>i64</td><td>i64</td><td>bool</td><td>i64</td><td>i64</td><td>f64</td><td>i64</td><td>bool</td><td>bool</td><td>bool</td><td>bool</td></tr></thead><tbody><tr><td>190502887</td><td>76561198798149868</td><td>2852260</td><td>5</td><td>null</td><td>5</td><td>78</td><td>1</td><td>1742257396</td><td>&quot;english&quot;</td><td>&quot;I like the part with the panda&quot;</td><td>1742257432</td><td>1742257432</td><td>true</td><td>0</td><td>0</td><td>0.5</td><td>0</td><td>true</td><td>false</td><td>false</td><td>false</td></tr><tr><td>168888656</td><td>76561198140769382</td><td>2852260</td><td>121</td><td>null</td><td>121</td><td>null</td><td>1</td><td>1719510337</td><td>&quot;english&quot;</td><td>&quot;Solo play works, but friendly …</td><td>1720019968</td><td>1720019968</td><td>true</td><td>3</td><td>0</td><td>0.565217</td><td>0</td><td>true</td><td>false</td><td>false</td><td>false</td></tr><tr><td>196678928</td><td>76561199086310241</td><td>291550</td><td>2202</td><td>null</td><td>2202</td><td>1</td><td>2</td><td>1607922050</td><td>&quot;english&quot;</td><td>&quot;Worst teammate matchmaking I&#x27;v…</td><td>1749353719</td><td>1749353719</td><td>true</td><td>0</td><td>0</td><td>0.5</td><td>0</td><td>true</td><td>false</td><td>false</td><td>false</td></tr><tr><td>192763979</td><td>76561198366424828</td><td>291550</td><td>75846</td><td>4123</td><td>62093</td><td>null</td><td>1</td><td>1749375912</td><td>&quot;english&quot;</td><td>&quot;good way to spend time if you …</td><td>1744671161</td><td>1744671161</td><td>true</td><td>0</td><td>0</td><td>0.5</td><td>0</td><td>true</td><td>false</td><td>false</td><td>false</td></tr><tr><td>189643572</td><td>76561199731966768</td><td>291550</td><td>699</td><td>null</td><td>232</td><td>null</td><td>1</td><td>1745115147</td><td>&quot;english&quot;</td><td>&quot;This is an overall good game. …</td><td>1741398352</td><td>1741398352</td><td>true</td><td>0</td><td>0</td><td>0.5</td><td>0</td><td>true</td><td>false</td><td>false</td><td>false</td></tr><tr><td>&hellip;</td><td>&hellip;</td><td>&hellip;</td><td>&hellip;</td><td>&hellip;</td><td>&hellip;</td><td>&hellip;</td><td>&hellip;</td><td>&hellip;</td><td>&hellip;</td><td>&hellip;</td><td>&hellip;</td><td>&hellip;</td><td>&hellip;</td><td>&hellip;</td><td>&hellip;</td><td>&hellip;</td><td>&hellip;</td><td>&hellip;</td><td>&hellip;</td><td>&hellip;</td><td>&hellip;</td></tr><tr><td>6418339</td><td>76561198065871127</td><td>222880</td><td>1554</td><td>null</td><td>418</td><td>227</td><td>8</td><td>1535835751</td><td>&quot;english&quot;</td><td>&quot;good&quot;</td><td>1367079935</td><td>1367079935</td><td>true</td><td>0</td><td>0</td><td>0.5</td><td>0</td><td>true</td><td>false</td><td>false</td><td>false</td></tr><tr><td>6544900</td><td>76561198068660723</td><td>222880</td><td>569</td><td>null</td><td>58</td><td>null</td><td>7</td><td>1555809438</td><td>&quot;english&quot;</td><td>&quot;If you like counter strike you…</td><td>1367040549</td><td>1367040549</td><td>true</td><td>0</td><td>0</td><td>0.5</td><td>0</td><td>true</td><td>false</td><td>false</td><td>false</td></tr><tr><td>2732737</td><td>76561198011795478</td><td>222880</td><td>5574</td><td>null</td><td>778</td><td>null</td><td>45</td><td>1652131712</td><td>&quot;english&quot;</td><td>&quot;It is a good game. i dont know…</td><td>1367024720</td><td>1367024720</td><td>true</td><td>1</td><td>0</td><td>0.5029</td><td>0</td><td>true</td><td>false</td><td>false</td><td>false</td></tr><tr><td>3791442</td><td>76561198027412704</td><td>222880</td><td>4428</td><td>null</td><td>765</td><td>null</td><td>9</td><td>1507844405</td><td>&quot;english&quot;</td><td>&quot;great game and its still in al…</td><td>1366978517</td><td>1366978517</td><td>true</td><td>0</td><td>0</td><td>0.5</td><td>2</td><td>true</td><td>false</td><td>false</td><td>false</td></tr><tr><td>1390668</td><td>76561197992637139</td><td>222880</td><td>385</td><td>null</td><td>247</td><td>null</td><td>104</td><td>1545514747</td><td>&quot;english&quot;</td><td>&quot;It&#x27;s counterstrike without tig…</td><td>1366938453</td><td>1390448630</td><td>false</td><td>26</td><td>0</td><td>0.429108</td><td>0</td><td>true</td><td>false</td><td>false</td><td>false</td></tr></tbody></table></div>"
      ]
     },
     "execution_count": 13,
     "metadata": {},
     "output_type": "execute_result"
    }
   ],
   "execution_count": 13
  },
  {
   "metadata": {
    "ExecuteTime": {
     "end_time": "2025-06-13T01:58:58.252335Z",
     "start_time": "2025-06-13T01:58:57.389336Z"
    }
   },
   "cell_type": "code",
   "source": "steam_reviews.group_by(\"appid\").agg(pl.len().alias(\"reviews\")).sort(\"reviews\", descending=True)",
   "id": "c85d915eaabeb84e",
   "outputs": [
    {
     "data": {
      "text/plain": [
       "shape: (73_191, 2)\n",
       "┌─────────┬─────────┐\n",
       "│ appid   ┆ reviews │\n",
       "│ ---     ┆ ---     │\n",
       "│ i64     ┆ u32     │\n",
       "╞═════════╪═════════╡\n",
       "│ 730     ┆ 675283  │\n",
       "│ 359550  ┆ 601633  │\n",
       "│ 553850  ┆ 565868  │\n",
       "│ 271590  ┆ 564527  │\n",
       "│ 4000    ┆ 497838  │\n",
       "│ …       ┆ …       │\n",
       "│ 1959760 ┆ 1       │\n",
       "│ 1088484 ┆ 1       │\n",
       "│ 1103540 ┆ 1       │\n",
       "│ 744390  ┆ 1       │\n",
       "│ 426520  ┆ 1       │\n",
       "└─────────┴─────────┘"
      ],
      "text/html": [
       "<div><style>\n",
       ".dataframe > thead > tr,\n",
       ".dataframe > tbody > tr {\n",
       "  text-align: right;\n",
       "  white-space: pre-wrap;\n",
       "}\n",
       "</style>\n",
       "<small>shape: (73_191, 2)</small><table border=\"1\" class=\"dataframe\"><thead><tr><th>appid</th><th>reviews</th></tr><tr><td>i64</td><td>u32</td></tr></thead><tbody><tr><td>730</td><td>675283</td></tr><tr><td>359550</td><td>601633</td></tr><tr><td>553850</td><td>565868</td></tr><tr><td>271590</td><td>564527</td></tr><tr><td>4000</td><td>497838</td></tr><tr><td>&hellip;</td><td>&hellip;</td></tr><tr><td>1959760</td><td>1</td></tr><tr><td>1088484</td><td>1</td></tr><tr><td>1103540</td><td>1</td></tr><tr><td>744390</td><td>1</td></tr><tr><td>426520</td><td>1</td></tr></tbody></table></div>"
      ]
     },
     "execution_count": 8,
     "metadata": {},
     "output_type": "execute_result"
    }
   ],
   "execution_count": 8
  }
 ],
 "metadata": {
  "kernelspec": {
   "display_name": "Python 3",
   "language": "python",
   "name": "python3"
  },
  "language_info": {
   "codemirror_mode": {
    "name": "ipython",
    "version": 2
   },
   "file_extension": ".py",
   "mimetype": "text/x-python",
   "name": "python",
   "nbconvert_exporter": "python",
   "pygments_lexer": "ipython2",
   "version": "2.7.6"
  }
 },
 "nbformat": 4,
 "nbformat_minor": 5
}
