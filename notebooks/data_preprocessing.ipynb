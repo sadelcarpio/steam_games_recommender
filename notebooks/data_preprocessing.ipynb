{
 "cells": [
  {
   "cell_type": "code",
   "id": "initial_id",
   "metadata": {
    "collapsed": true,
    "ExecuteTime": {
     "end_time": "2025-06-16T19:41:27.090031Z",
     "start_time": "2025-06-16T19:41:27.011087Z"
    }
   },
   "source": [
    "import json\n",
    "\n",
    "import polars as pl\n",
    "from polars import col"
   ],
   "outputs": [],
   "execution_count": 1
  },
  {
   "metadata": {
    "ExecuteTime": {
     "end_time": "2025-06-16T16:34:54.727879Z",
     "start_time": "2025-06-16T16:34:54.725903Z"
    }
   },
   "cell_type": "code",
   "source": [
    "# Initial data cleaning (with steam_games.parquet and steam_games_extra_features.parquet)\n",
    "# steam_games_agg = steam_games.join(steam_game_features, on=\"appid\", how=\"left\")\n",
    "# steam_games_agg = steam_games_agg.with_columns(\n",
    "#     pl.col(\"review_score\").fill_null(0),\n",
    "#     pl.col(\"review_score_desc\").fill_null(\"No reviews\"),\n",
    "#     pl.col(\"total_positive_reviews\").fill_null(0),\n",
    "#     pl.col(\"total_negative_reviews\").fill_null(0),\n",
    "#     pl.col(\"total_reviews\").fill_null(0)\n",
    "# )\n",
    "# steam_games_agg"
   ],
   "id": "2434af00daf086f5",
   "outputs": [],
   "execution_count": 2
  },
  {
   "metadata": {
    "ExecuteTime": {
     "end_time": "2025-06-16T19:41:30.389569Z",
     "start_time": "2025-06-16T19:41:30.359062Z"
    }
   },
   "cell_type": "code",
   "source": [
    "# read categories json into a table\n",
    "with open(\"../data/categories.json\") as f:\n",
    "    categories = json.load(f)\n",
    "cat_df = pl.DataFrame(categories).select([\"categoryid\", \"name\"]).rename({\"name\": \"category\"})\n",
    "cat_df"
   ],
   "id": "c0d43a7998cc91a",
   "outputs": [
    {
     "data": {
      "text/plain": [
       "shape: (48, 2)\n",
       "┌────────────┬──────────────────────┐\n",
       "│ categoryid ┆ category             │\n",
       "│ ---        ┆ ---                  │\n",
       "│ i64        ┆ str                  │\n",
       "╞════════════╪══════════════════════╡\n",
       "│ 2          ┆ Single-player        │\n",
       "│ 1          ┆ Multi-player         │\n",
       "│ 20         ┆ MMO                  │\n",
       "│ 50         ┆ High-Quality Audio   │\n",
       "│ 49         ┆ PvP                  │\n",
       "│ …          ┆ …                    │\n",
       "│ 44         ┆ Remote Play Together │\n",
       "│ 61         ┆ HDR                  │\n",
       "│ 62         ┆ Family Sharing       │\n",
       "│ 63         ┆ Steam Timeline       │\n",
       "│ 990        ┆ Soundtracks          │\n",
       "└────────────┴──────────────────────┘"
      ],
      "text/html": [
       "<div><style>\n",
       ".dataframe > thead > tr,\n",
       ".dataframe > tbody > tr {\n",
       "  text-align: right;\n",
       "  white-space: pre-wrap;\n",
       "}\n",
       "</style>\n",
       "<small>shape: (48, 2)</small><table border=\"1\" class=\"dataframe\"><thead><tr><th>categoryid</th><th>category</th></tr><tr><td>i64</td><td>str</td></tr></thead><tbody><tr><td>2</td><td>&quot;Single-player&quot;</td></tr><tr><td>1</td><td>&quot;Multi-player&quot;</td></tr><tr><td>20</td><td>&quot;MMO&quot;</td></tr><tr><td>50</td><td>&quot;High-Quality Audio&quot;</td></tr><tr><td>49</td><td>&quot;PvP&quot;</td></tr><tr><td>&hellip;</td><td>&hellip;</td></tr><tr><td>44</td><td>&quot;Remote Play Together&quot;</td></tr><tr><td>61</td><td>&quot;HDR&quot;</td></tr><tr><td>62</td><td>&quot;Family Sharing&quot;</td></tr><tr><td>63</td><td>&quot;Steam Timeline&quot;</td></tr><tr><td>990</td><td>&quot;Soundtracks&quot;</td></tr></tbody></table></div>"
      ]
     },
     "execution_count": 2,
     "metadata": {},
     "output_type": "execute_result"
    }
   ],
   "execution_count": 2
  },
  {
   "metadata": {
    "ExecuteTime": {
     "end_time": "2025-06-16T19:41:43.658770Z",
     "start_time": "2025-06-16T19:41:43.646139Z"
    }
   },
   "cell_type": "code",
   "source": "cat_df.write_parquet(\"../data/preprocessed/categories.parquet\")",
   "id": "7e47fe824438d740",
   "outputs": [],
   "execution_count": 3
  },
  {
   "metadata": {
    "ExecuteTime": {
     "end_time": "2025-06-16T16:08:34.677044Z",
     "start_time": "2025-06-16T16:08:33.962308Z"
    }
   },
   "cell_type": "code",
   "source": [
    "steam_apps = pl.read_parquet(\"../data/raw/games/steam_games_full.parquet\").lazy()\n",
    "steam_apps.limit(5).collect()"
   ],
   "id": "538957c0e31041ff",
   "outputs": [
    {
     "data": {
      "text/plain": [
       "shape: (5, 30)\n",
       "┌─────────┬────────────┬──────┬────────────┬───┬────────────┬────────────┬────────────┬────────────┐\n",
       "│ appid   ┆ name       ┆ type ┆ required_a ┆ … ┆ review_sco ┆ total_posi ┆ total_nega ┆ total_revi │\n",
       "│ ---     ┆ ---        ┆ ---  ┆ ge         ┆   ┆ re_desc    ┆ tive_revie ┆ tive_revie ┆ ews        │\n",
       "│ i64     ┆ str        ┆ str  ┆ ---        ┆   ┆ ---        ┆ ws         ┆ ws         ┆ ---        │\n",
       "│         ┆            ┆      ┆ i64        ┆   ┆ str        ┆ ---        ┆ ---        ┆ i64        │\n",
       "│         ┆            ┆      ┆            ┆   ┆            ┆ i64        ┆ i64        ┆            │\n",
       "╞═════════╪════════════╪══════╪════════════╪═══╪════════════╪════════════╪════════════╪════════════╡\n",
       "│ 2852260 ┆ Pandaruniu ┆ game ┆ 0          ┆ … ┆ 2 user     ┆ 2          ┆ 0          ┆ 2          │\n",
       "│         ┆ m          ┆      ┆            ┆   ┆ reviews    ┆            ┆            ┆            │\n",
       "│ 1226222 ┆ Killer Gin ┆ dlc  ┆ 0          ┆ … ┆ No reviews ┆ 0          ┆ 0          ┆ 0          │\n",
       "│         ┆ Cats and   ┆      ┆            ┆   ┆            ┆            ┆            ┆            │\n",
       "│         ┆ Dogs DLC   ┆      ┆            ┆   ┆            ┆            ┆            ┆            │\n",
       "│ 291550  ┆ Brawlhalla ┆ game ┆ 0          ┆ … ┆ Very       ┆ 1306       ┆ 266        ┆ 1572       │\n",
       "│         ┆            ┆      ┆            ┆   ┆ Positive   ┆            ┆            ┆            │\n",
       "│ 2116250 ┆ Draft Day  ┆ game ┆ 0          ┆ … ┆ Mixed      ┆ 9          ┆ 6          ┆ 15         │\n",
       "│         ┆ Sports:    ┆      ┆            ┆   ┆            ┆            ┆            ┆            │\n",
       "│         ┆ College    ┆      ┆            ┆   ┆            ┆            ┆            ┆            │\n",
       "│         ┆ Foot…      ┆      ┆            ┆   ┆            ┆            ┆            ┆            │\n",
       "│ 946610  ┆ Pocket     ┆ game ┆ 0          ┆ … ┆ Very       ┆ 95         ┆ 21         ┆ 116        │\n",
       "│         ┆ Rogues     ┆      ┆            ┆   ┆ Positive   ┆            ┆            ┆            │\n",
       "└─────────┴────────────┴──────┴────────────┴───┴────────────┴────────────┴────────────┴────────────┘"
      ],
      "text/html": [
       "<div><style>\n",
       ".dataframe > thead > tr,\n",
       ".dataframe > tbody > tr {\n",
       "  text-align: right;\n",
       "  white-space: pre-wrap;\n",
       "}\n",
       "</style>\n",
       "<small>shape: (5, 30)</small><table border=\"1\" class=\"dataframe\"><thead><tr><th>appid</th><th>name</th><th>type</th><th>required_age</th><th>is_free</th><th>minimum_pc_requirements</th><th>recommended_pc_requirements</th><th>controller_support</th><th>detailed_description</th><th>about_the_game</th><th>short_description</th><th>supported_languages</th><th>header_image</th><th>developers</th><th>publishers</th><th>price</th><th>category_ids</th><th>genres_list</th><th>windows_support</th><th>mac_support</th><th>linux_support</th><th>release_date</th><th>coming_soon</th><th>recommendations</th><th>dlc</th><th>review_score</th><th>review_score_desc</th><th>total_positive_reviews</th><th>total_negative_reviews</th><th>total_reviews</th></tr><tr><td>i64</td><td>str</td><td>str</td><td>i64</td><td>bool</td><td>str</td><td>str</td><td>str</td><td>str</td><td>str</td><td>str</td><td>list[str]</td><td>str</td><td>list[str]</td><td>list[str]</td><td>f64</td><td>list[i64]</td><td>list[str]</td><td>bool</td><td>bool</td><td>bool</td><td>str</td><td>bool</td><td>i64</td><td>list[i64]</td><td>i64</td><td>str</td><td>i64</td><td>i64</td><td>i64</td></tr></thead><tbody><tr><td>2852260</td><td>&quot;Pandarunium&quot;</td><td>&quot;game&quot;</td><td>0</td><td>false</td><td>&quot;Minimum:Requires a 64-bit proc…</td><td>&quot;Recommended:Requires a 64-bit …</td><td>null</td><td>&quot;&lt;strong&gt;Pandarunium&lt;/strong&gt; i…</td><td>&quot;&lt;strong&gt;Pandarunium&lt;/strong&gt; i…</td><td>&quot;Team up with friends in this t…</td><td>[&quot;English&quot;]</td><td>&quot;https://shared.akamai.steamsta…</td><td>[&quot;Tenax Studios&quot;]</td><td>[&quot;Tenax Studios&quot;]</td><td>3.99</td><td>[2, 1, … 62]</td><td>[&quot;Casual&quot;, &quot;Indie&quot;]</td><td>true</td><td>false</td><td>false</td><td>&quot;20 Jun, 2024&quot;</td><td>false</td><td>null</td><td>[]</td><td>0</td><td>&quot;2 user reviews&quot;</td><td>2</td><td>0</td><td>2</td></tr><tr><td>1226222</td><td>&quot;Killer Gin Cats and Dogs DLC&quot;</td><td>&quot;dlc&quot;</td><td>0</td><td>true</td><td>&quot;Minimum:OS *: Windows 7/8/8.1/…</td><td>null</td><td>&quot;full&quot;</td><td>&quot;This DLC package allows you to…</td><td>&quot;This DLC package allows you to…</td><td>&quot;This DLC package allows you to…</td><td>[&quot;English&quot;]</td><td>&quot;https://shared.akamai.steamsta…</td><td>[&quot;The Killer Gin&quot;]</td><td>[]</td><td>null</td><td>[2, 21, … 62]</td><td>[&quot;RPG&quot;]</td><td>true</td><td>true</td><td>true</td><td>&quot;12 Mar, 2020&quot;</td><td>false</td><td>null</td><td>[]</td><td>0</td><td>&quot;No reviews&quot;</td><td>0</td><td>0</td><td>0</td></tr><tr><td>291550</td><td>&quot;Brawlhalla&quot;</td><td>&quot;game&quot;</td><td>0</td><td>true</td><td>&quot;Minimum:Memory: 2 GB RAMStorag…</td><td>&quot;Recommended:Memory: 4 GB RAMNe…</td><td>null</td><td>&quot;&lt;img class=&quot;bb_img&quot; src=&quot;https…</td><td>&quot;&lt;img class=&quot;bb_img&quot; src=&quot;https…</td><td>&quot;An epic platform fighter for u…</td><td>[&quot;English&quot;, &quot;French&quot;, … &quot;Turkish&quot;]</td><td>&quot;https://shared.akamai.steamsta…</td><td>[&quot;Blue Mammoth Games&quot;]</td><td>[&quot;Ubisoft&quot;]</td><td>null</td><td>[2, 1, … 44]</td><td>[&quot;Action&quot;, &quot;Indie&quot;, &quot;Free To Play&quot;]</td><td>true</td><td>true</td><td>false</td><td>&quot;17 Oct, 2017&quot;</td><td>false</td><td>2890</td><td>[298641, 2974360, … 3392630]</td><td>8</td><td>&quot;Very Positive&quot;</td><td>1306</td><td>266</td><td>1572</td></tr><tr><td>2116250</td><td>&quot;Draft Day Sports: College Foot…</td><td>&quot;game&quot;</td><td>0</td><td>false</td><td>&quot;Minimum:Requires a 64-bit proc…</td><td>&quot;Recommended:Requires a 64-bit …</td><td>null</td><td>&quot;Prepare to lead your favorite …</td><td>&quot;Prepare to lead your favorite …</td><td>&quot;Draft Day Sports: College Foot…</td><td>[&quot;English&quot;]</td><td>&quot;https://shared.akamai.steamsta…</td><td>[&quot;Wolverine Studios&quot;]</td><td>[&quot;Wolverine Studios&quot;]</td><td>53.0</td><td>[2, 62]</td><td>[&quot;Indie&quot;, &quot;Simulation&quot;, … &quot;Strategy&quot;]</td><td>true</td><td>false</td><td>false</td><td>&quot;31 Aug, 2022&quot;</td><td>false</td><td>null</td><td>[]</td><td>5</td><td>&quot;Mixed&quot;</td><td>9</td><td>6</td><td>15</td></tr><tr><td>946610</td><td>&quot;Pocket Rogues&quot;</td><td>&quot;game&quot;</td><td>0</td><td>false</td><td>&quot;Minimum:Requires a 64-bit proc…</td><td>&quot;Recommended:Requires a 64-bit …</td><td>&quot;full&quot;</td><td>&quot;&lt;p class=&quot;bb_paragraph&quot;&gt;&lt;stron…</td><td>&quot;&lt;p class=&quot;bb_paragraph&quot;&gt;&lt;stron…</td><td>&quot;Pocket Rogues is a dynamic 2D-…</td><td>[&quot;English&quot;, &quot;Russian&quot;, … &quot;Portuguese - Brazil&quot;]</td><td>&quot;https://shared.akamai.steamsta…</td><td>[&quot;EtherGaming&quot;]</td><td>[&quot;EtherGaming&quot;]</td><td>23.0</td><td>[2, 1, … 62]</td><td>[&quot;Action&quot;, &quot;Adventure&quot;, … &quot;Early Access&quot;]</td><td>true</td><td>false</td><td>false</td><td>&quot;25 Oct, 2018&quot;</td><td>false</td><td>453</td><td>[]</td><td>8</td><td>&quot;Very Positive&quot;</td><td>95</td><td>21</td><td>116</td></tr></tbody></table></div>"
      ]
     },
     "execution_count": 6,
     "metadata": {},
     "output_type": "execute_result"
    }
   ],
   "execution_count": 6
  },
  {
   "metadata": {
    "ExecuteTime": {
     "end_time": "2025-06-16T16:08:36.470655Z",
     "start_time": "2025-06-16T16:08:36.459572Z"
    }
   },
   "cell_type": "code",
   "source": "steam_apps.group_by(col(\"type\")).len().collect()",
   "id": "91c27f37e385ca92",
   "outputs": [
    {
     "data": {
      "text/plain": [
       "shape: (8, 2)\n",
       "┌─────────────┬────────┐\n",
       "│ type        ┆ len    │\n",
       "│ ---         ┆ ---    │\n",
       "│ str         ┆ u32    │\n",
       "╞═════════════╪════════╡\n",
       "│ mod         ┆ 89     │\n",
       "│ game        ┆ 101291 │\n",
       "│ advertising ┆ 138    │\n",
       "│ dlc         ┆ 33735  │\n",
       "│ music       ┆ 544    │\n",
       "│ demo        ┆ 5793   │\n",
       "│ video       ┆ 473    │\n",
       "│ series      ┆ 50     │\n",
       "└─────────────┴────────┘"
      ],
      "text/html": [
       "<div><style>\n",
       ".dataframe > thead > tr,\n",
       ".dataframe > tbody > tr {\n",
       "  text-align: right;\n",
       "  white-space: pre-wrap;\n",
       "}\n",
       "</style>\n",
       "<small>shape: (8, 2)</small><table border=\"1\" class=\"dataframe\"><thead><tr><th>type</th><th>len</th></tr><tr><td>str</td><td>u32</td></tr></thead><tbody><tr><td>&quot;mod&quot;</td><td>89</td></tr><tr><td>&quot;game&quot;</td><td>101291</td></tr><tr><td>&quot;advertising&quot;</td><td>138</td></tr><tr><td>&quot;dlc&quot;</td><td>33735</td></tr><tr><td>&quot;music&quot;</td><td>544</td></tr><tr><td>&quot;demo&quot;</td><td>5793</td></tr><tr><td>&quot;video&quot;</td><td>473</td></tr><tr><td>&quot;series&quot;</td><td>50</td></tr></tbody></table></div>"
      ]
     },
     "execution_count": 7,
     "metadata": {},
     "output_type": "execute_result"
    }
   ],
   "execution_count": 7
  },
  {
   "metadata": {
    "ExecuteTime": {
     "end_time": "2025-06-16T16:08:37.674739Z",
     "start_time": "2025-06-16T16:08:37.668845Z"
    }
   },
   "cell_type": "code",
   "source": [
    "# Reduce the scope to only games\n",
    "steam_games = steam_apps.filter(col(\"type\") == \"game\")"
   ],
   "id": "7968dc31fbdc81b6",
   "outputs": [],
   "execution_count": 8
  },
  {
   "metadata": {
    "ExecuteTime": {
     "end_time": "2025-06-16T16:08:38.446685Z",
     "start_time": "2025-06-16T16:08:38.429463Z"
    }
   },
   "cell_type": "code",
   "source": [
    "# Found duplicates\n",
    "steam_games.group_by(\"name\").len().filter(col(\"len\") > 1).sort(by=\"len\", descending=True).collect()"
   ],
   "id": "7aa1da4d28f88030",
   "outputs": [
    {
     "data": {
      "text/plain": [
       "shape: (811, 2)\n",
       "┌─────────────────────────────────┬─────┐\n",
       "│ name                            ┆ len │\n",
       "│ ---                             ┆ --- │\n",
       "│ str                             ┆ u32 │\n",
       "╞═════════════════════════════════╪═════╡\n",
       "│ Shadow of the Tomb Raider: Def… ┆ 20  │\n",
       "│ No Way Out                      ┆ 6   │\n",
       "│ Aurora                          ┆ 6   │\n",
       "│ Escape                          ┆ 5   │\n",
       "│ Tom Clancy's Rainbow Six® Sieg… ┆ 5   │\n",
       "│ …                               ┆ …   │\n",
       "│ RAGE                            ┆ 2   │\n",
       "│ Science Girls                   ┆ 2   │\n",
       "│ The Cleaner                     ┆ 2   │\n",
       "│ Hotel Simulator                 ┆ 2   │\n",
       "│ Nine Lives                      ┆ 2   │\n",
       "└─────────────────────────────────┴─────┘"
      ],
      "text/html": [
       "<div><style>\n",
       ".dataframe > thead > tr,\n",
       ".dataframe > tbody > tr {\n",
       "  text-align: right;\n",
       "  white-space: pre-wrap;\n",
       "}\n",
       "</style>\n",
       "<small>shape: (811, 2)</small><table border=\"1\" class=\"dataframe\"><thead><tr><th>name</th><th>len</th></tr><tr><td>str</td><td>u32</td></tr></thead><tbody><tr><td>&quot;Shadow of the Tomb Raider: Def…</td><td>20</td></tr><tr><td>&quot;No Way Out&quot;</td><td>6</td></tr><tr><td>&quot;Aurora&quot;</td><td>6</td></tr><tr><td>&quot;Escape&quot;</td><td>5</td></tr><tr><td>&quot;Tom Clancy&#x27;s Rainbow Six® Sieg…</td><td>5</td></tr><tr><td>&hellip;</td><td>&hellip;</td></tr><tr><td>&quot;RAGE&quot;</td><td>2</td></tr><tr><td>&quot;Science Girls&quot;</td><td>2</td></tr><tr><td>&quot;The Cleaner&quot;</td><td>2</td></tr><tr><td>&quot;Hotel Simulator&quot;</td><td>2</td></tr><tr><td>&quot;Nine Lives&quot;</td><td>2</td></tr></tbody></table></div>"
      ]
     },
     "execution_count": 9,
     "metadata": {},
     "output_type": "execute_result"
    }
   ],
   "execution_count": 9
  },
  {
   "metadata": {
    "ExecuteTime": {
     "end_time": "2025-06-16T16:08:42.080669Z",
     "start_time": "2025-06-16T16:08:41.993037Z"
    }
   },
   "cell_type": "code",
   "source": "games_table = steam_games.sort([\"name\", \"total_reviews\"], descending=True).unique(subset=[\"name\"], keep=\"first\").collect()",
   "id": "4dacac9855a1729",
   "outputs": [],
   "execution_count": 10
  },
  {
   "metadata": {
    "ExecuteTime": {
     "end_time": "2025-06-16T16:08:42.681558Z",
     "start_time": "2025-06-16T16:08:42.488622Z"
    }
   },
   "cell_type": "code",
   "source": [
    "games_with_cat = games_table.explode(\"category_ids\").rename({\"category_ids\": \"categoryid\"}).join(cat_df, on=\"categoryid\", how=\"left\") \\\n",
    "    .group_by(\"appid\").agg(col(\"category\").explode().alias(\"categories\"))\n",
    "games_table = games_with_cat.join(games_table, on=\"appid\", how=\"inner\").drop(\"category_ids\")"
   ],
   "id": "708acb9a59333666",
   "outputs": [],
   "execution_count": 11
  },
  {
   "metadata": {
    "ExecuteTime": {
     "end_time": "2025-06-16T16:11:23.938712Z",
     "start_time": "2025-06-16T16:11:23.934116Z"
    }
   },
   "cell_type": "code",
   "source": [
    "games_table = games_table.rename({\n",
    "    'appid': 'game_id',\n",
    "    'name': 'game_name',\n",
    "    'required_age': 'game_required_age',\n",
    "    'is_free': 'game_is_free',\n",
    "    'supported_languages': 'game_supported_languages',\n",
    "    'categories': 'game_categories',\n",
    "    'genres_list': 'game_genres',\n",
    "    'total_positive_reviews': 'game_total_positive_reviews',\n",
    "    'total_negative_reviews': 'game_total_negative_reviews',\n",
    "    'total_reviews': 'game_total_reviews',\n",
    "    'review_score': 'game_review_score',\n",
    "    'short_description': 'game_short_description'\n",
    "})\n",
    "games_table.head()"
   ],
   "id": "7c1f3d4e4a9c8ce4",
   "outputs": [
    {
     "data": {
      "text/plain": [
       "shape: (5, 30)\n",
       "┌─────────┬────────────┬────────────┬──────┬───┬────────────┬────────────┬────────────┬────────────┐\n",
       "│ game_id ┆ game_categ ┆ game_name  ┆ type ┆ … ┆ review_sco ┆ game_total ┆ game_total ┆ game_total │\n",
       "│ ---     ┆ ories      ┆ ---        ┆ ---  ┆   ┆ re_desc    ┆ _positive_ ┆ _negative_ ┆ _reviews   │\n",
       "│ i64     ┆ ---        ┆ str        ┆ str  ┆   ┆ ---        ┆ reviews    ┆ reviews    ┆ ---        │\n",
       "│         ┆ list[str]  ┆            ┆      ┆   ┆ str        ┆ ---        ┆ ---        ┆ i64        │\n",
       "│         ┆            ┆            ┆      ┆   ┆            ┆ i64        ┆ i64        ┆            │\n",
       "╞═════════╪════════════╪════════════╪══════╪═══╪════════════╪════════════╪════════════╪════════════╡\n",
       "│ 2639280 ┆ [\"Single-p ┆ 𣸩         ┆ game ┆ … ┆ No reviews ┆ 0          ┆ 0          ┆ 0          │\n",
       "│         ┆ layer\",    ┆            ┆      ┆   ┆            ┆            ┆            ┆            │\n",
       "│         ┆ \"Family    ┆            ┆      ┆   ┆            ┆            ┆            ┆            │\n",
       "│         ┆ Shar…      ┆            ┆      ┆   ┆            ┆            ┆            ┆            │\n",
       "│ 576960  ┆ [\"Single-p ┆ 🧠 OUT OF  ┆ game ┆ … ┆ Mostly     ┆ 41         ┆ 11         ┆ 52         │\n",
       "│         ┆ layer\",    ┆ THE BOX    ┆      ┆   ┆ Positive   ┆            ┆            ┆            │\n",
       "│         ┆ \"Steam     ┆            ┆      ┆   ┆            ┆            ┆            ┆            │\n",
       "│         ┆ Achie…     ┆            ┆      ┆   ┆            ┆            ┆            ┆            │\n",
       "│ 965340  ┆ [\"Single-p ┆ 🚀 Human   ┆ game ┆ … ┆ Positive   ┆ 12         ┆ 1          ┆ 13         │\n",
       "│         ┆ layer\",    ┆ Rocket     ┆      ┆   ┆            ┆            ┆            ┆            │\n",
       "│         ┆ \"Steam     ┆ Person     ┆      ┆   ┆            ┆            ┆            ┆            │\n",
       "│         ┆ Achie…     ┆            ┆      ┆   ┆            ┆            ┆            ┆            │\n",
       "│ 460250  ┆ [\"Single-p ┆ 🔴 Circles ┆ game ┆ … ┆ Positive   ┆ 24         ┆ 2          ┆ 26         │\n",
       "│         ┆ layer\",    ┆            ┆      ┆   ┆            ┆            ┆            ┆            │\n",
       "│         ┆ \"Steam     ┆            ┆      ┆   ┆            ┆            ┆            ┆            │\n",
       "│         ┆ Achie…     ┆            ┆      ┆   ┆            ┆            ┆            ┆            │\n",
       "│ 2919560 ┆ [\"Single-p ┆ 👑Idle Cal ┆ game ┆ … ┆ 9 user     ┆ 5          ┆ 4          ┆ 9          │\n",
       "│         ┆ layer\",    ┆ ibur：Zero ┆      ┆   ┆ reviews    ┆            ┆            ┆            │\n",
       "│         ┆ \"Steam     ┆ 💕（选王之 ┆      ┆   ┆            ┆            ┆            ┆            │\n",
       "│         ┆ Achie…     ┆ 剑：零）   ┆      ┆   ┆            ┆            ┆            ┆            │\n",
       "└─────────┴────────────┴────────────┴──────┴───┴────────────┴────────────┴────────────┴────────────┘"
      ],
      "text/html": [
       "<div><style>\n",
       ".dataframe > thead > tr,\n",
       ".dataframe > tbody > tr {\n",
       "  text-align: right;\n",
       "  white-space: pre-wrap;\n",
       "}\n",
       "</style>\n",
       "<small>shape: (5, 30)</small><table border=\"1\" class=\"dataframe\"><thead><tr><th>game_id</th><th>game_categories</th><th>game_name</th><th>type</th><th>game_required_age</th><th>game_is_free</th><th>minimum_pc_requirements</th><th>recommended_pc_requirements</th><th>controller_support</th><th>detailed_description</th><th>about_the_game</th><th>short_description</th><th>game_supported_languages</th><th>header_image</th><th>developers</th><th>publishers</th><th>price</th><th>game_genres</th><th>windows_support</th><th>mac_support</th><th>linux_support</th><th>release_date</th><th>coming_soon</th><th>recommendations</th><th>dlc</th><th>game_review_score</th><th>review_score_desc</th><th>game_total_positive_reviews</th><th>game_total_negative_reviews</th><th>game_total_reviews</th></tr><tr><td>i64</td><td>list[str]</td><td>str</td><td>str</td><td>i64</td><td>bool</td><td>str</td><td>str</td><td>str</td><td>str</td><td>str</td><td>str</td><td>list[str]</td><td>str</td><td>list[str]</td><td>list[str]</td><td>f64</td><td>list[str]</td><td>bool</td><td>bool</td><td>bool</td><td>str</td><td>bool</td><td>i64</td><td>list[i64]</td><td>i64</td><td>str</td><td>i64</td><td>i64</td><td>i64</td></tr></thead><tbody><tr><td>2639280</td><td>[&quot;Single-player&quot;, &quot;Family Sharing&quot;]</td><td>&quot;𣸩&quot;</td><td>&quot;game&quot;</td><td>0</td><td>false</td><td>&quot;Minimum:Storage: 1 GB availabl…</td><td>null</td><td>null</td><td>&quot;&lt;img class=&quot;bb_img&quot; src=&quot;https…</td><td>&quot;&lt;img class=&quot;bb_img&quot; src=&quot;https…</td><td>&quot;《袖珍小说游戏》系列的首部作品，讲述失去了想象能力的作家，和…</td><td>[&quot;Simplified Chinese&quot;, &quot;Traditional Chinese&quot;]</td><td>&quot;https://shared.akamai.steamsta…</td><td>[&quot;箱崎奈绪(Hakozaki Nao)&quot;]</td><td>[&quot; 箱崎奈绪(Hakozaki Nao)&quot;]</td><td>5.03</td><td>[&quot;Adventure&quot;, &quot;Casual&quot;, &quot;Indie&quot;]</td><td>true</td><td>false</td><td>false</td><td>&quot;29 Dec, 2023&quot;</td><td>false</td><td>null</td><td>[]</td><td>0</td><td>&quot;No reviews&quot;</td><td>0</td><td>0</td><td>0</td></tr><tr><td>576960</td><td>[&quot;Single-player&quot;, &quot;Steam Achievements&quot;, … &quot;Family Sharing&quot;]</td><td>&quot;🧠 OUT OF THE BOX&quot;</td><td>&quot;game&quot;</td><td>17</td><td>false</td><td>&quot;Minimum:Requires a 64-bit proc…</td><td>&quot;Recommended:Requires a 64-bit …</td><td>null</td><td>&quot;&lt;img class=&quot;bb_img&quot; src=&quot;https…</td><td>&quot;&lt;img class=&quot;bb_img&quot; src=&quot;https…</td><td>&quot;Dive into a wild story of gang…</td><td>[&quot;English&quot;, &quot;Spanish - Spain&quot;, … &quot;German&quot;]</td><td>&quot;https://shared.akamai.steamsta…</td><td>[&quot;Nuclear Tales&quot;]</td><td>[&quot;🚀 Raiser Games&quot;]</td><td>39.5</td><td>[&quot;Adventure&quot;, &quot;Casual&quot;, … &quot;Strategy&quot;]</td><td>true</td><td>true</td><td>true</td><td>&quot;19 Jul, 2018&quot;</td><td>false</td><td>202</td><td>[]</td><td>6</td><td>&quot;Mostly Positive&quot;</td><td>41</td><td>11</td><td>52</td></tr><tr><td>965340</td><td>[&quot;Single-player&quot;, &quot;Steam Achievements&quot;, … &quot;Family Sharing&quot;]</td><td>&quot;🚀 Human Rocket Person&quot;</td><td>&quot;game&quot;</td><td>0</td><td>false</td><td>&quot;Minimum:OS *: Windows 7, Windo…</td><td>null</td><td>&quot;full&quot;</td><td>&quot;&lt;img class=&quot;bb_img&quot; src=&quot;https…</td><td>&quot;&lt;img class=&quot;bb_img&quot; src=&quot;https…</td><td>&quot;Human Rocket Person is an absu…</td><td>[&quot;English&quot;, &quot;German&quot;, … &quot;Simplified Chinese&quot;]</td><td>&quot;https://shared.akamai.steamsta…</td><td>[&quot;2nd Studio&quot;]</td><td>[&quot;2nd Studio&quot;]</td><td>5.0</td><td>[&quot;Action&quot;, &quot;Indie&quot;, &quot;Simulation&quot;]</td><td>true</td><td>false</td><td>false</td><td>&quot;14 Nov, 2018&quot;</td><td>false</td><td>null</td><td>[]</td><td>7</td><td>&quot;Positive&quot;</td><td>12</td><td>1</td><td>13</td></tr><tr><td>460250</td><td>[&quot;Single-player&quot;, &quot;Steam Achievements&quot;, &quot;Steam Cloud&quot;]</td><td>&quot;🔴 Circles&quot;</td><td>&quot;game&quot;</td><td>0</td><td>true</td><td>&quot;Minimum:OS *: Windows XP, Vist…</td><td>null</td><td>null</td><td>&quot;Circles is a unique, intuitive…</td><td>&quot;Circles is a unique, intuitive…</td><td>&quot;Circles is an abstract puzzle …</td><td>[&quot;English&quot;, &quot;French&quot;, … &quot;Swedish&quot;]</td><td>&quot;https://shared.akamai.steamsta…</td><td>[&quot;Jeroen Wimmers&quot;]</td><td>[&quot;Jeroen Wimmers&quot;]</td><td>null</td><td>[&quot;Casual&quot;, &quot;Indie&quot;]</td><td>true</td><td>true</td><td>false</td><td>&quot;17 Feb, 2017&quot;</td><td>false</td><td>null</td><td>[]</td><td>7</td><td>&quot;Positive&quot;</td><td>24</td><td>2</td><td>26</td></tr><tr><td>2919560</td><td>[&quot;Single-player&quot;, &quot;Steam Achievements&quot;, … &quot;Family Sharing&quot;]</td><td>&quot;👑Idle Calibur：Zero💕（选王之剑：零）&quot;</td><td>&quot;game&quot;</td><td>0</td><td>false</td><td>&quot;Minimum:Requires a 64-bit proc…</td><td>&quot;Recommended:Requires a 64-bit …</td><td>null</td><td>&quot;&lt;h1&gt;If you encounter performan…</td><td>&quot;&lt;p class=&quot;bb_paragraph&quot;&gt;&lt;img c…</td><td>&quot;A game that seamlessly integra…</td><td>[&quot;Simplified Chinese&quot;, &quot;English&quot;, &quot;Japanese&quot;]</td><td>&quot;https://shared.akamai.steamsta…</td><td>[&quot;绝汪&quot;]</td><td>[&quot;绝汪&quot;, &quot;NPC Entertainment&quot;]</td><td>24.0</td><td>[&quot;Indie&quot;, &quot;RPG&quot;, … &quot;Strategy&quot;]</td><td>true</td><td>false</td><td>false</td><td>&quot;31 Oct, 2024&quot;</td><td>false</td><td>405</td><td>[3114710]</td><td>0</td><td>&quot;9 user reviews&quot;</td><td>5</td><td>4</td><td>9</td></tr></tbody></table></div>"
      ]
     },
     "execution_count": 15,
     "metadata": {},
     "output_type": "execute_result"
    }
   ],
   "execution_count": 15
  },
  {
   "metadata": {
    "ExecuteTime": {
     "end_time": "2025-06-16T16:11:47.426629Z",
     "start_time": "2025-06-16T16:11:45.469506Z"
    }
   },
   "cell_type": "code",
   "source": "games_table.write_parquet(\"../data/preprocessed/games.parquet\")",
   "id": "eda96705ac980cbd",
   "outputs": [],
   "execution_count": 16
  },
  {
   "metadata": {
    "ExecuteTime": {
     "end_time": "2025-06-15T03:08:59.459688Z",
     "start_time": "2025-06-15T03:08:59.457820Z"
    }
   },
   "cell_type": "code",
   "source": "del games_table",
   "id": "52ab4fdfc1b4a2e0",
   "outputs": [],
   "execution_count": 61
  },
  {
   "metadata": {
    "ExecuteTime": {
     "end_time": "2025-06-16T16:12:02.773505Z",
     "start_time": "2025-06-16T16:11:59.059667Z"
    }
   },
   "cell_type": "code",
   "source": [
    "steam_reviews = pl.read_parquet(\"../data/raw/reviews/steam_reviews_*.parquet\")\n",
    "steam_reviews"
   ],
   "id": "7a4042650af26f42",
   "outputs": [
    {
     "data": {
      "text/plain": [
       "shape: (36_353_032, 22)\n",
       "┌───────────┬────────────┬─────────┬───────────┬───┬───────────┬───────────┬───────────┬───────────┐\n",
       "│ rec_id    ┆ author_id  ┆ appid   ┆ playtime_ ┆ … ┆ steam_pur ┆ received_ ┆ written_d ┆ primarily │\n",
       "│ ---       ┆ ---        ┆ ---     ┆ forever   ┆   ┆ chase     ┆ for_free  ┆ uring_ear ┆ _steam_de │\n",
       "│ i64       ┆ i64        ┆ i64     ┆ ---       ┆   ┆ ---       ┆ ---       ┆ ly_access ┆ ck        │\n",
       "│           ┆            ┆         ┆ i64       ┆   ┆ bool      ┆ bool      ┆ ---       ┆ ---       │\n",
       "│           ┆            ┆         ┆           ┆   ┆           ┆           ┆ bool      ┆ bool      │\n",
       "╞═══════════╪════════════╪═════════╪═══════════╪═══╪═══════════╪═══════════╪═══════════╪═══════════╡\n",
       "│ 190502887 ┆ 7656119879 ┆ 2852260 ┆ 5         ┆ … ┆ true      ┆ false     ┆ false     ┆ false     │\n",
       "│           ┆ 8149868    ┆         ┆           ┆   ┆           ┆           ┆           ┆           │\n",
       "│ 168888656 ┆ 7656119814 ┆ 2852260 ┆ 121       ┆ … ┆ true      ┆ false     ┆ false     ┆ false     │\n",
       "│           ┆ 0769382    ┆         ┆           ┆   ┆           ┆           ┆           ┆           │\n",
       "│ 196678928 ┆ 7656119908 ┆ 291550  ┆ 2202      ┆ … ┆ true      ┆ false     ┆ false     ┆ false     │\n",
       "│           ┆ 6310241    ┆         ┆           ┆   ┆           ┆           ┆           ┆           │\n",
       "│ 192763979 ┆ 7656119836 ┆ 291550  ┆ 75846     ┆ … ┆ true      ┆ false     ┆ false     ┆ false     │\n",
       "│           ┆ 6424828    ┆         ┆           ┆   ┆           ┆           ┆           ┆           │\n",
       "│ 189643572 ┆ 7656119973 ┆ 291550  ┆ 699       ┆ … ┆ true      ┆ false     ┆ false     ┆ false     │\n",
       "│           ┆ 1966768    ┆         ┆           ┆   ┆           ┆           ┆           ┆           │\n",
       "│ …         ┆ …          ┆ …       ┆ …         ┆ … ┆ …         ┆ …         ┆ …         ┆ …         │\n",
       "│ 6418339   ┆ 7656119806 ┆ 222880  ┆ 1554      ┆ … ┆ true      ┆ false     ┆ false     ┆ false     │\n",
       "│           ┆ 5871127    ┆         ┆           ┆   ┆           ┆           ┆           ┆           │\n",
       "│ 6544900   ┆ 7656119806 ┆ 222880  ┆ 569       ┆ … ┆ true      ┆ false     ┆ false     ┆ false     │\n",
       "│           ┆ 8660723    ┆         ┆           ┆   ┆           ┆           ┆           ┆           │\n",
       "│ 2732737   ┆ 7656119801 ┆ 222880  ┆ 5574      ┆ … ┆ true      ┆ false     ┆ false     ┆ false     │\n",
       "│           ┆ 1795478    ┆         ┆           ┆   ┆           ┆           ┆           ┆           │\n",
       "│ 3791442   ┆ 7656119802 ┆ 222880  ┆ 4428      ┆ … ┆ true      ┆ false     ┆ false     ┆ false     │\n",
       "│           ┆ 7412704    ┆         ┆           ┆   ┆           ┆           ┆           ┆           │\n",
       "│ 1390668   ┆ 7656119799 ┆ 222880  ┆ 385       ┆ … ┆ true      ┆ false     ┆ false     ┆ false     │\n",
       "│           ┆ 2637139    ┆         ┆           ┆   ┆           ┆           ┆           ┆           │\n",
       "└───────────┴────────────┴─────────┴───────────┴───┴───────────┴───────────┴───────────┴───────────┘"
      ],
      "text/html": [
       "<div><style>\n",
       ".dataframe > thead > tr,\n",
       ".dataframe > tbody > tr {\n",
       "  text-align: right;\n",
       "  white-space: pre-wrap;\n",
       "}\n",
       "</style>\n",
       "<small>shape: (36_353_032, 22)</small><table border=\"1\" class=\"dataframe\"><thead><tr><th>rec_id</th><th>author_id</th><th>appid</th><th>playtime_forever</th><th>playtime_last_two_weeks</th><th>playtime_at_review</th><th>num_games_owned</th><th>num_reviews</th><th>last_played</th><th>language</th><th>review</th><th>timestamp_created</th><th>timestamp_updated</th><th>voted_up</th><th>votes_up</th><th>votes_funny</th><th>weighted_vote_score</th><th>comment_count</th><th>steam_purchase</th><th>received_for_free</th><th>written_during_early_access</th><th>primarily_steam_deck</th></tr><tr><td>i64</td><td>i64</td><td>i64</td><td>i64</td><td>i64</td><td>i64</td><td>i64</td><td>i64</td><td>i64</td><td>str</td><td>str</td><td>i64</td><td>i64</td><td>bool</td><td>i64</td><td>i64</td><td>f64</td><td>i64</td><td>bool</td><td>bool</td><td>bool</td><td>bool</td></tr></thead><tbody><tr><td>190502887</td><td>76561198798149868</td><td>2852260</td><td>5</td><td>null</td><td>5</td><td>78</td><td>1</td><td>1742257396</td><td>&quot;english&quot;</td><td>&quot;I like the part with the panda&quot;</td><td>1742257432</td><td>1742257432</td><td>true</td><td>0</td><td>0</td><td>0.5</td><td>0</td><td>true</td><td>false</td><td>false</td><td>false</td></tr><tr><td>168888656</td><td>76561198140769382</td><td>2852260</td><td>121</td><td>null</td><td>121</td><td>null</td><td>1</td><td>1719510337</td><td>&quot;english&quot;</td><td>&quot;Solo play works, but friendly …</td><td>1720019968</td><td>1720019968</td><td>true</td><td>3</td><td>0</td><td>0.565217</td><td>0</td><td>true</td><td>false</td><td>false</td><td>false</td></tr><tr><td>196678928</td><td>76561199086310241</td><td>291550</td><td>2202</td><td>null</td><td>2202</td><td>1</td><td>2</td><td>1607922050</td><td>&quot;english&quot;</td><td>&quot;Worst teammate matchmaking I&#x27;v…</td><td>1749353719</td><td>1749353719</td><td>true</td><td>0</td><td>0</td><td>0.5</td><td>0</td><td>true</td><td>false</td><td>false</td><td>false</td></tr><tr><td>192763979</td><td>76561198366424828</td><td>291550</td><td>75846</td><td>4123</td><td>62093</td><td>null</td><td>1</td><td>1749375912</td><td>&quot;english&quot;</td><td>&quot;good way to spend time if you …</td><td>1744671161</td><td>1744671161</td><td>true</td><td>0</td><td>0</td><td>0.5</td><td>0</td><td>true</td><td>false</td><td>false</td><td>false</td></tr><tr><td>189643572</td><td>76561199731966768</td><td>291550</td><td>699</td><td>null</td><td>232</td><td>null</td><td>1</td><td>1745115147</td><td>&quot;english&quot;</td><td>&quot;This is an overall good game. …</td><td>1741398352</td><td>1741398352</td><td>true</td><td>0</td><td>0</td><td>0.5</td><td>0</td><td>true</td><td>false</td><td>false</td><td>false</td></tr><tr><td>&hellip;</td><td>&hellip;</td><td>&hellip;</td><td>&hellip;</td><td>&hellip;</td><td>&hellip;</td><td>&hellip;</td><td>&hellip;</td><td>&hellip;</td><td>&hellip;</td><td>&hellip;</td><td>&hellip;</td><td>&hellip;</td><td>&hellip;</td><td>&hellip;</td><td>&hellip;</td><td>&hellip;</td><td>&hellip;</td><td>&hellip;</td><td>&hellip;</td><td>&hellip;</td><td>&hellip;</td></tr><tr><td>6418339</td><td>76561198065871127</td><td>222880</td><td>1554</td><td>null</td><td>418</td><td>227</td><td>8</td><td>1535835751</td><td>&quot;english&quot;</td><td>&quot;good&quot;</td><td>1367079935</td><td>1367079935</td><td>true</td><td>0</td><td>0</td><td>0.5</td><td>0</td><td>true</td><td>false</td><td>false</td><td>false</td></tr><tr><td>6544900</td><td>76561198068660723</td><td>222880</td><td>569</td><td>null</td><td>58</td><td>null</td><td>7</td><td>1555809438</td><td>&quot;english&quot;</td><td>&quot;If you like counter strike you…</td><td>1367040549</td><td>1367040549</td><td>true</td><td>0</td><td>0</td><td>0.5</td><td>0</td><td>true</td><td>false</td><td>false</td><td>false</td></tr><tr><td>2732737</td><td>76561198011795478</td><td>222880</td><td>5574</td><td>null</td><td>778</td><td>null</td><td>45</td><td>1652131712</td><td>&quot;english&quot;</td><td>&quot;It is a good game. i dont know…</td><td>1367024720</td><td>1367024720</td><td>true</td><td>1</td><td>0</td><td>0.5029</td><td>0</td><td>true</td><td>false</td><td>false</td><td>false</td></tr><tr><td>3791442</td><td>76561198027412704</td><td>222880</td><td>4428</td><td>null</td><td>765</td><td>null</td><td>9</td><td>1507844405</td><td>&quot;english&quot;</td><td>&quot;great game and its still in al…</td><td>1366978517</td><td>1366978517</td><td>true</td><td>0</td><td>0</td><td>0.5</td><td>2</td><td>true</td><td>false</td><td>false</td><td>false</td></tr><tr><td>1390668</td><td>76561197992637139</td><td>222880</td><td>385</td><td>null</td><td>247</td><td>null</td><td>104</td><td>1545514747</td><td>&quot;english&quot;</td><td>&quot;It&#x27;s counterstrike without tig…</td><td>1366938453</td><td>1390448630</td><td>false</td><td>26</td><td>0</td><td>0.429108</td><td>0</td><td>true</td><td>false</td><td>false</td><td>false</td></tr></tbody></table></div>"
      ]
     },
     "execution_count": 17,
     "metadata": {},
     "output_type": "execute_result"
    }
   ],
   "execution_count": 17
  },
  {
   "metadata": {
    "ExecuteTime": {
     "end_time": "2025-06-16T16:12:11.788576Z",
     "start_time": "2025-06-16T16:12:03.735382Z"
    }
   },
   "cell_type": "code",
   "source": "deduplicated = steam_reviews.unique(subset=[\"author_id\", \"appid\"], maintain_order=False)",
   "id": "aac8c2dbb85e1bb2",
   "outputs": [],
   "execution_count": 18
  },
  {
   "metadata": {
    "ExecuteTime": {
     "end_time": "2025-06-16T16:12:22.122662Z",
     "start_time": "2025-06-16T16:12:22.117370Z"
    }
   },
   "cell_type": "code",
   "source": "deduplicated",
   "id": "17f5d277b1d93cc5",
   "outputs": [
    {
     "data": {
      "text/plain": [
       "shape: (36_351_231, 22)\n",
       "┌───────────┬────────────┬─────────┬───────────┬───┬───────────┬───────────┬───────────┬───────────┐\n",
       "│ rec_id    ┆ author_id  ┆ appid   ┆ playtime_ ┆ … ┆ steam_pur ┆ received_ ┆ written_d ┆ primarily │\n",
       "│ ---       ┆ ---        ┆ ---     ┆ forever   ┆   ┆ chase     ┆ for_free  ┆ uring_ear ┆ _steam_de │\n",
       "│ i64       ┆ i64        ┆ i64     ┆ ---       ┆   ┆ ---       ┆ ---       ┆ ly_access ┆ ck        │\n",
       "│           ┆            ┆         ┆ i64       ┆   ┆ bool      ┆ bool      ┆ ---       ┆ ---       │\n",
       "│           ┆            ┆         ┆           ┆   ┆           ┆           ┆ bool      ┆ bool      │\n",
       "╞═══════════╪════════════╪═════════╪═══════════╪═══╪═══════════╪═══════════╪═══════════╪═══════════╡\n",
       "│ 175171803 ┆ 7656119895 ┆ 334230  ┆ 3979      ┆ … ┆ true      ┆ false     ┆ false     ┆ false     │\n",
       "│           ┆ 2310075    ┆         ┆           ┆   ┆           ┆           ┆           ┆           │\n",
       "│ 139803844 ┆ 7656119938 ┆ 252490  ┆ 15925     ┆ … ┆ true      ┆ false     ┆ false     ┆ false     │\n",
       "│           ┆ 4275433    ┆         ┆           ┆   ┆           ┆           ┆           ┆           │\n",
       "│ 137963264 ┆ 7656119924 ┆ 1811260 ┆ 25884     ┆ … ┆ true      ┆ false     ┆ false     ┆ false     │\n",
       "│           ┆ 8692522    ┆         ┆           ┆   ┆           ┆           ┆           ┆           │\n",
       "│ 67758342  ┆ 7656119844 ┆ 334230  ┆ 1540      ┆ … ┆ true      ┆ false     ┆ false     ┆ false     │\n",
       "│           ┆ 3803455    ┆         ┆           ┆   ┆           ┆           ┆           ┆           │\n",
       "│ 18068501  ┆ 7656119798 ┆ 238370  ┆ 918       ┆ … ┆ true      ┆ false     ┆ false     ┆ false     │\n",
       "│           ┆ 8603129    ┆         ┆           ┆   ┆           ┆           ┆           ┆           │\n",
       "│ …         ┆ …          ┆ …       ┆ …         ┆ … ┆ …         ┆ …         ┆ …         ┆ …         │\n",
       "│ 67280303  ┆ 7656119901 ┆ 261550  ┆ 22329     ┆ … ┆ true      ┆ false     ┆ true      ┆ false     │\n",
       "│           ┆ 6463599    ┆         ┆           ┆   ┆           ┆           ┆           ┆           │\n",
       "│ 182132835 ┆ 7656119966 ┆ 264710  ┆ 6548      ┆ … ┆ true      ┆ false     ┆ false     ┆ false     │\n",
       "│           ┆ 6725529    ┆         ┆           ┆   ┆           ┆           ┆           ┆           │\n",
       "│ 56467931  ┆ 7656119806 ┆ 323190  ┆ 3602      ┆ … ┆ true      ┆ false     ┆ false     ┆ false     │\n",
       "│           ┆ 6936563    ┆         ┆           ┆   ┆           ┆           ┆           ┆           │\n",
       "│ 77744514  ┆ 7656119909 ┆ 1097150 ┆ 403       ┆ … ┆ true      ┆ false     ┆ false     ┆ false     │\n",
       "│           ┆ 9625239    ┆         ┆           ┆   ┆           ┆           ┆           ┆           │\n",
       "│ 101598861 ┆ 7656119797 ┆ 605740  ┆ 73        ┆ … ┆ true      ┆ false     ┆ true      ┆ false     │\n",
       "│           ┆ 2749831    ┆         ┆           ┆   ┆           ┆           ┆           ┆           │\n",
       "└───────────┴────────────┴─────────┴───────────┴───┴───────────┴───────────┴───────────┴───────────┘"
      ],
      "text/html": [
       "<div><style>\n",
       ".dataframe > thead > tr,\n",
       ".dataframe > tbody > tr {\n",
       "  text-align: right;\n",
       "  white-space: pre-wrap;\n",
       "}\n",
       "</style>\n",
       "<small>shape: (36_351_231, 22)</small><table border=\"1\" class=\"dataframe\"><thead><tr><th>rec_id</th><th>author_id</th><th>appid</th><th>playtime_forever</th><th>playtime_last_two_weeks</th><th>playtime_at_review</th><th>num_games_owned</th><th>num_reviews</th><th>last_played</th><th>language</th><th>review</th><th>timestamp_created</th><th>timestamp_updated</th><th>voted_up</th><th>votes_up</th><th>votes_funny</th><th>weighted_vote_score</th><th>comment_count</th><th>steam_purchase</th><th>received_for_free</th><th>written_during_early_access</th><th>primarily_steam_deck</th></tr><tr><td>i64</td><td>i64</td><td>i64</td><td>i64</td><td>i64</td><td>i64</td><td>i64</td><td>i64</td><td>i64</td><td>str</td><td>str</td><td>i64</td><td>i64</td><td>bool</td><td>i64</td><td>i64</td><td>f64</td><td>i64</td><td>bool</td><td>bool</td><td>bool</td><td>bool</td></tr></thead><tbody><tr><td>175171803</td><td>76561198952310075</td><td>334230</td><td>3979</td><td>null</td><td>3979</td><td>206</td><td>16</td><td>1566678507</td><td>&quot;english&quot;</td><td>&quot;Years down the line and the de…</td><td>1726577490</td><td>1726577632</td><td>false</td><td>0</td><td>0</td><td>0.489766</td><td>0</td><td>true</td><td>false</td><td>false</td><td>false</td></tr><tr><td>139803844</td><td>76561199384275433</td><td>252490</td><td>15925</td><td>null</td><td>4160</td><td>null</td><td>1</td><td>1719537983</td><td>&quot;english&quot;</td><td>&quot;if you were in the bo2 lobbies…</td><td>1686347106</td><td>1686347106</td><td>true</td><td>0</td><td>0</td><td>0.5</td><td>0</td><td>true</td><td>false</td><td>false</td><td>false</td></tr><tr><td>137963264</td><td>76561199248692522</td><td>1811260</td><td>25884</td><td>null</td><td>13356</td><td>null</td><td>1</td><td>1742485782</td><td>&quot;english&quot;</td><td>&quot;shit as fuck&quot;</td><td>1683486383</td><td>1683486383</td><td>false</td><td>0</td><td>0</td><td>0.5</td><td>0</td><td>true</td><td>false</td><td>false</td><td>false</td></tr><tr><td>67758342</td><td>76561198443803455</td><td>334230</td><td>1540</td><td>null</td><td>1148</td><td>135</td><td>5</td><td>1628188157</td><td>&quot;english&quot;</td><td>&quot;fun&quot;</td><td>1587478249</td><td>1587478249</td><td>true</td><td>0</td><td>0</td><td>0.5</td><td>0</td><td>true</td><td>false</td><td>false</td><td>false</td></tr><tr><td>18068501</td><td>76561197988603129</td><td>238370</td><td>918</td><td>null</td><td>838</td><td>null</td><td>5</td><td>1448141119</td><td>&quot;english&quot;</td><td>&quot;Well...\n",
       "\n",
       "Ill start with a simp…</td><td>1442483518</td><td>1442483554</td><td>true</td><td>51</td><td>4</td><td>0.724219</td><td>0</td><td>true</td><td>false</td><td>false</td><td>false</td></tr><tr><td>&hellip;</td><td>&hellip;</td><td>&hellip;</td><td>&hellip;</td><td>&hellip;</td><td>&hellip;</td><td>&hellip;</td><td>&hellip;</td><td>&hellip;</td><td>&hellip;</td><td>&hellip;</td><td>&hellip;</td><td>&hellip;</td><td>&hellip;</td><td>&hellip;</td><td>&hellip;</td><td>&hellip;</td><td>&hellip;</td><td>&hellip;</td><td>&hellip;</td><td>&hellip;</td><td>&hellip;</td></tr><tr><td>67280303</td><td>76561199016463599</td><td>261550</td><td>22329</td><td>null</td><td>1265</td><td>null</td><td>2</td><td>1707362466</td><td>&quot;english&quot;</td><td>&quot;Good Game&quot;</td><td>1586852857</td><td>1586852857</td><td>true</td><td>0</td><td>0</td><td>0.5</td><td>0</td><td>true</td><td>false</td><td>true</td><td>false</td></tr><tr><td>182132835</td><td>76561199666725529</td><td>264710</td><td>6548</td><td>null</td><td>3487</td><td>29</td><td>3</td><td>1740233804</td><td>&quot;english&quot;</td><td>&quot;good game&quot;</td><td>1733569706</td><td>1733569706</td><td>true</td><td>0</td><td>0</td><td>0.5</td><td>0</td><td>true</td><td>false</td><td>false</td><td>false</td></tr><tr><td>56467931</td><td>76561198066936563</td><td>323190</td><td>3602</td><td>null</td><td>1016</td><td>null</td><td>36</td><td>1713581013</td><td>&quot;english&quot;</td><td>&quot;This game is the best if you l…</td><td>1572854691</td><td>1572854691</td><td>true</td><td>0</td><td>0</td><td>0.5</td><td>0</td><td>true</td><td>false</td><td>false</td><td>false</td></tr><tr><td>77744514</td><td>76561199099625239</td><td>1097150</td><td>403</td><td>null</td><td>180</td><td>null</td><td>1</td><td>1603362265</td><td>&quot;english&quot;</td><td>&quot;VERY GOOD&quot;</td><td>1603002117</td><td>1603002117</td><td>true</td><td>0</td><td>0</td><td>0.5</td><td>0</td><td>true</td><td>false</td><td>false</td><td>false</td></tr><tr><td>101598861</td><td>76561197972749831</td><td>605740</td><td>73</td><td>null</td><td>73</td><td>null</td><td>12</td><td>1635158913</td><td>&quot;english&quot;</td><td>&quot;It has potential but even as a…</td><td>1635159655</td><td>1635159655</td><td>false</td><td>0</td><td>0</td><td>0.5</td><td>0</td><td>true</td><td>false</td><td>true</td><td>false</td></tr></tbody></table></div>"
      ]
     },
     "execution_count": 19,
     "metadata": {},
     "output_type": "execute_result"
    }
   ],
   "execution_count": 19
  },
  {
   "metadata": {
    "ExecuteTime": {
     "end_time": "2025-06-16T16:12:26.415825Z",
     "start_time": "2025-06-16T16:12:24.854137Z"
    }
   },
   "cell_type": "code",
   "source": [
    "user_counts = deduplicated.group_by(\"author_id\").agg(pl.len().alias(\"num_reviews\")).filter(col(\"num_reviews\") >= 10).select(\"author_id\")\n",
    "game_counts = deduplicated.group_by(\"appid\").agg(pl.len().alias(\"num_reviews\")).filter(col(\"num_reviews\") >= 10).select(\"appid\")"
   ],
   "id": "4926b8612073a672",
   "outputs": [],
   "execution_count": 20
  },
  {
   "metadata": {
    "ExecuteTime": {
     "end_time": "2025-06-16T16:12:27.274653Z",
     "start_time": "2025-06-16T16:12:26.443108Z"
    }
   },
   "cell_type": "code",
   "source": "reviews_table = deduplicated.join(user_counts, on=\"author_id\", how=\"inner\").join(game_counts, on=\"appid\", how=\"inner\")",
   "id": "e14ee518abaecc1a",
   "outputs": [],
   "execution_count": 21
  },
  {
   "metadata": {
    "ExecuteTime": {
     "end_time": "2025-06-16T16:32:44.201370Z",
     "start_time": "2025-06-16T16:32:44.199079Z"
    }
   },
   "cell_type": "code",
   "source": "reviews_table = reviews_table.rename({'author_id': 'user_id', 'appid': 'game_id'}).drop([\"num_games_owned\", \"num_reviews\"])",
   "id": "65167ecb16de38d3",
   "outputs": [],
   "execution_count": 29
  },
  {
   "metadata": {
    "ExecuteTime": {
     "end_time": "2025-06-16T16:13:31.018131Z",
     "start_time": "2025-06-16T16:12:27.365979Z"
    }
   },
   "cell_type": "code",
   "source": "reviews_table.write_parquet(\"../data/preprocessed/reviews.parquet\")",
   "id": "a94f874047748df9",
   "outputs": [],
   "execution_count": 22
  },
  {
   "metadata": {
    "ExecuteTime": {
     "end_time": "2025-06-16T16:14:32.874503Z",
     "start_time": "2025-06-16T16:14:32.297359Z"
    }
   },
   "cell_type": "code",
   "source": [
    "# users table. About half of num_games_owned is null, num_reviews has no nulls\n",
    "users_table = reviews_table.select([\"author_id\", \"num_games_owned\", \"num_reviews\"]).rename({'author_id': 'user_id', 'num_games_owned': 'user_num_games_owned', 'num_reviews': 'user_num_reviews'}).sort([\"user_id\", \"user_num_games_owned\", \"user_num_reviews\"], descending=True).unique(subset=[\"user_id\"], keep=\"first\")"
   ],
   "id": "3d757d9e69db1197",
   "outputs": [],
   "execution_count": 23
  },
  {
   "metadata": {
    "ExecuteTime": {
     "end_time": "2025-06-16T16:14:35.372240Z",
     "start_time": "2025-06-16T16:14:35.342652Z"
    }
   },
   "cell_type": "code",
   "source": "users_table.write_parquet(\"../data/preprocessed/users.parquet\")",
   "id": "fb8545c3fc4dad81",
   "outputs": [],
   "execution_count": 24
  },
  {
   "metadata": {
    "ExecuteTime": {
     "end_time": "2025-06-16T16:23:25.374967Z",
     "start_time": "2025-06-16T16:23:25.370542Z"
    }
   },
   "cell_type": "code",
   "source": "reviews_table",
   "id": "54a7ca3f8501ce42",
   "outputs": [
    {
     "data": {
      "text/plain": [
       "shape: (10_903_756, 22)\n",
       "┌───────────┬────────────┬─────────┬───────────┬───┬───────────┬───────────┬───────────┬───────────┐\n",
       "│ rec_id    ┆ author_id  ┆ appid   ┆ playtime_ ┆ … ┆ steam_pur ┆ received_ ┆ written_d ┆ primarily │\n",
       "│ ---       ┆ ---        ┆ ---     ┆ forever   ┆   ┆ chase     ┆ for_free  ┆ uring_ear ┆ _steam_de │\n",
       "│ i64       ┆ i64        ┆ i64     ┆ ---       ┆   ┆ ---       ┆ ---       ┆ ly_access ┆ ck        │\n",
       "│           ┆            ┆         ┆ i64       ┆   ┆ bool      ┆ bool      ┆ ---       ┆ ---       │\n",
       "│           ┆            ┆         ┆           ┆   ┆           ┆           ┆ bool      ┆ bool      │\n",
       "╞═══════════╪════════════╪═════════╪═══════════╪═══╪═══════════╪═══════════╪═══════════╪═══════════╡\n",
       "│ 175171803 ┆ 7656119895 ┆ 334230  ┆ 3979      ┆ … ┆ true      ┆ false     ┆ false     ┆ false     │\n",
       "│           ┆ 2310075    ┆         ┆           ┆   ┆           ┆           ┆           ┆           │\n",
       "│ 125238571 ┆ 7656119912 ┆ 1283410 ┆ 1139      ┆ … ┆ true      ┆ false     ┆ false     ┆ false     │\n",
       "│           ┆ 5339110    ┆         ┆           ┆   ┆           ┆           ┆           ┆           │\n",
       "│ 188899567 ┆ 7656119813 ┆ 404730  ┆ 2521      ┆ … ┆ true      ┆ false     ┆ false     ┆ false     │\n",
       "│           ┆ 4316405    ┆         ┆           ┆   ┆           ┆           ┆           ┆           │\n",
       "│ 59259475  ┆ 7656119807 ┆ 976730  ┆ 5676      ┆ … ┆ true      ┆ false     ┆ false     ┆ false     │\n",
       "│           ┆ 4815715    ┆         ┆           ┆   ┆           ┆           ┆           ┆           │\n",
       "│ 179612982 ┆ 7656119814 ┆ 1643320 ┆ 361       ┆ … ┆ true      ┆ false     ┆ false     ┆ false     │\n",
       "│           ┆ 7768440    ┆         ┆           ┆   ┆           ┆           ┆           ┆           │\n",
       "│ …         ┆ …          ┆ …       ┆ …         ┆ … ┆ …         ┆ …         ┆ …         ┆ …         │\n",
       "│ 15761629  ┆ 7656119810 ┆ 258220  ┆ 295       ┆ … ┆ true      ┆ false     ┆ false     ┆ false     │\n",
       "│           ┆ 7779127    ┆         ┆           ┆   ┆           ┆           ┆           ┆           │\n",
       "│ 29411147  ┆ 7656119796 ┆ 383080  ┆ 12        ┆ … ┆ true      ┆ false     ┆ false     ┆ false     │\n",
       "│           ┆ 5280169    ┆         ┆           ┆   ┆           ┆           ┆           ┆           │\n",
       "│ 60640463  ┆ 7656119817 ┆ 70      ┆ 1675      ┆ … ┆ true      ┆ false     ┆ false     ┆ false     │\n",
       "│           ┆ 0227470    ┆         ┆           ┆   ┆           ┆           ┆           ┆           │\n",
       "│ 154521253 ┆ 7656119909 ┆ 1144200 ┆ 1101      ┆ … ┆ true      ┆ false     ┆ false     ┆ false     │\n",
       "│           ┆ 8351797    ┆         ┆           ┆   ┆           ┆           ┆           ┆           │\n",
       "│ 56467931  ┆ 7656119806 ┆ 323190  ┆ 3602      ┆ … ┆ true      ┆ false     ┆ false     ┆ false     │\n",
       "│           ┆ 6936563    ┆         ┆           ┆   ┆           ┆           ┆           ┆           │\n",
       "└───────────┴────────────┴─────────┴───────────┴───┴───────────┴───────────┴───────────┴───────────┘"
      ],
      "text/html": [
       "<div><style>\n",
       ".dataframe > thead > tr,\n",
       ".dataframe > tbody > tr {\n",
       "  text-align: right;\n",
       "  white-space: pre-wrap;\n",
       "}\n",
       "</style>\n",
       "<small>shape: (10_903_756, 22)</small><table border=\"1\" class=\"dataframe\"><thead><tr><th>rec_id</th><th>author_id</th><th>appid</th><th>playtime_forever</th><th>playtime_last_two_weeks</th><th>playtime_at_review</th><th>num_games_owned</th><th>num_reviews</th><th>last_played</th><th>language</th><th>review</th><th>timestamp_created</th><th>timestamp_updated</th><th>voted_up</th><th>votes_up</th><th>votes_funny</th><th>weighted_vote_score</th><th>comment_count</th><th>steam_purchase</th><th>received_for_free</th><th>written_during_early_access</th><th>primarily_steam_deck</th></tr><tr><td>i64</td><td>i64</td><td>i64</td><td>i64</td><td>i64</td><td>i64</td><td>i64</td><td>i64</td><td>i64</td><td>str</td><td>str</td><td>i64</td><td>i64</td><td>bool</td><td>i64</td><td>i64</td><td>f64</td><td>i64</td><td>bool</td><td>bool</td><td>bool</td><td>bool</td></tr></thead><tbody><tr><td>175171803</td><td>76561198952310075</td><td>334230</td><td>3979</td><td>null</td><td>3979</td><td>206</td><td>16</td><td>1566678507</td><td>&quot;english&quot;</td><td>&quot;Years down the line and the de…</td><td>1726577490</td><td>1726577632</td><td>false</td><td>0</td><td>0</td><td>0.489766</td><td>0</td><td>true</td><td>false</td><td>false</td><td>false</td></tr><tr><td>125238571</td><td>76561199125339110</td><td>1283410</td><td>1139</td><td>null</td><td>637</td><td>689</td><td>258</td><td>1739074207</td><td>&quot;english&quot;</td><td>&quot;I could tell you about how muc…</td><td>1668069390</td><td>1668069390</td><td>true</td><td>0</td><td>0</td><td>0.472813</td><td>0</td><td>true</td><td>false</td><td>false</td><td>false</td></tr><tr><td>188899567</td><td>76561198134316405</td><td>404730</td><td>2521</td><td>null</td><td>2143</td><td>null</td><td>17</td><td>1740790177</td><td>&quot;english&quot;</td><td>&quot;Old School CRPG. Before Bethes…</td><td>1740701210</td><td>1740701210</td><td>true</td><td>0</td><td>0</td><td>0.5</td><td>0</td><td>true</td><td>false</td><td>false</td><td>false</td></tr><tr><td>59259475</td><td>76561198074815715</td><td>976730</td><td>5676</td><td>null</td><td>405</td><td>null</td><td>36</td><td>1709460892</td><td>&quot;english&quot;</td><td>&quot;ITS HALO&quot;</td><td>1575519399</td><td>1575519399</td><td>true</td><td>0</td><td>0</td><td>0.5</td><td>0</td><td>true</td><td>false</td><td>false</td><td>false</td></tr><tr><td>179612982</td><td>76561198147768440</td><td>1643320</td><td>361</td><td>null</td><td>361</td><td>null</td><td>26</td><td>1732229544</td><td>&quot;english&quot;</td><td>&quot;Hop to it, modders.&quot;</td><td>1732329095</td><td>1732329095</td><td>true</td><td>1</td><td>0</td><td>0.47619</td><td>0</td><td>true</td><td>false</td><td>false</td><td>false</td></tr><tr><td>&hellip;</td><td>&hellip;</td><td>&hellip;</td><td>&hellip;</td><td>&hellip;</td><td>&hellip;</td><td>&hellip;</td><td>&hellip;</td><td>&hellip;</td><td>&hellip;</td><td>&hellip;</td><td>&hellip;</td><td>&hellip;</td><td>&hellip;</td><td>&hellip;</td><td>&hellip;</td><td>&hellip;</td><td>&hellip;</td><td>&hellip;</td><td>&hellip;</td><td>&hellip;</td><td>&hellip;</td></tr><tr><td>15761629</td><td>76561198107779127</td><td>258220</td><td>295</td><td>null</td><td>295</td><td>509</td><td>439</td><td>1431080211</td><td>&quot;english&quot;</td><td>&quot;good game&quot;</td><td>1431201208</td><td>1431201208</td><td>true</td><td>0</td><td>0</td><td>0.435369</td><td>0</td><td>true</td><td>false</td><td>false</td><td>false</td></tr><tr><td>29411147</td><td>76561197965280169</td><td>383080</td><td>12</td><td>null</td><td>12</td><td>1044</td><td>27</td><td>1484494110</td><td>&quot;english&quot;</td><td>&quot;Click girls, hear some weird m…</td><td>1485047336</td><td>1485047336</td><td>false</td><td>0</td><td>1</td><td>0.5</td><td>0</td><td>true</td><td>false</td><td>false</td><td>false</td></tr><tr><td>60640463</td><td>76561198170227470</td><td>70</td><td>1675</td><td>null</td><td>589</td><td>162</td><td>89</td><td>1735416267</td><td>&quot;english&quot;</td><td>&quot;Just\n",
       "Yes.&quot;</td><td>1577413918</td><td>1577413918</td><td>true</td><td>0</td><td>0</td><td>0.5</td><td>0</td><td>true</td><td>false</td><td>false</td><td>false</td></tr><tr><td>154521253</td><td>76561199098351797</td><td>1144200</td><td>1101</td><td>null</td><td>175</td><td>88</td><td>34</td><td>1721204947</td><td>&quot;english&quot;</td><td>&quot;i am extremely inadequate inca…</td><td>1703663706</td><td>1703663706</td><td>true</td><td>3</td><td>0</td><td>0.562044</td><td>0</td><td>true</td><td>false</td><td>false</td><td>false</td></tr><tr><td>56467931</td><td>76561198066936563</td><td>323190</td><td>3602</td><td>null</td><td>1016</td><td>null</td><td>36</td><td>1713581013</td><td>&quot;english&quot;</td><td>&quot;This game is the best if you l…</td><td>1572854691</td><td>1572854691</td><td>true</td><td>0</td><td>0</td><td>0.5</td><td>0</td><td>true</td><td>false</td><td>false</td><td>false</td></tr></tbody></table></div>"
      ]
     },
     "execution_count": 28,
     "metadata": {},
     "output_type": "execute_result"
    }
   ],
   "execution_count": 28
  },
  {
   "metadata": {
    "ExecuteTime": {
     "end_time": "2025-06-16T16:36:57.759586Z",
     "start_time": "2025-06-16T16:36:53.906907Z"
    }
   },
   "cell_type": "code",
   "source": [
    "training_ds = pl.read_parquet(\"../data/preprocessed/training_dataset.parquet\")\n",
    "training_ds"
   ],
   "id": "d2246ef6097b5329",
   "outputs": [
    {
     "data": {
      "text/plain": [
       "shape: (10_587_915, 32)\n",
       "┌───────────┬────────────┬─────────┬───────────┬───┬───────────┬───────────┬───────────┬───────────┐\n",
       "│ rec_id    ┆ user_id    ┆ game_id ┆ playtime_ ┆ … ┆ game_tota ┆ game_tota ┆ game_tota ┆ game_revi │\n",
       "│ ---       ┆ ---        ┆ ---     ┆ forever   ┆   ┆ l_positiv ┆ l_negativ ┆ l_reviews ┆ ew_score  │\n",
       "│ i64       ┆ i64        ┆ i64     ┆ ---       ┆   ┆ e_reviews ┆ e_reviews ┆ ---       ┆ ---       │\n",
       "│           ┆            ┆         ┆ i64       ┆   ┆ ---       ┆ ---       ┆ i64       ┆ i64       │\n",
       "│           ┆            ┆         ┆           ┆   ┆ i64       ┆ i64       ┆           ┆           │\n",
       "╞═══════════╪════════════╪═════════╪═══════════╪═══╪═══════════╪═══════════╪═══════════╪═══════════╡\n",
       "│ 59241263  ┆ 7656119839 ┆ 271590  ┆ 23370     ┆ … ┆ 472621    ┆ 91976     ┆ 564597    ┆ 8         │\n",
       "│           ┆ 8321971    ┆         ┆           ┆   ┆           ┆           ┆           ┆           │\n",
       "│ 114693825 ┆ 7656119820 ┆ 1794680 ┆ 1202      ┆ … ┆ 119189    ┆ 1696      ┆ 120885    ┆ 9         │\n",
       "│           ┆ 8763852    ┆         ┆           ┆   ┆           ┆           ┆           ┆           │\n",
       "│ 34851185  ┆ 7656119831 ┆ 359550  ┆ 275703    ┆ … ┆ 508146    ┆ 93393     ┆ 601539    ┆ 8         │\n",
       "│           ┆ 4284388    ┆         ┆           ┆   ┆           ┆           ┆           ┆           │\n",
       "│ 32971936  ┆ 7656119804 ┆ 379720  ┆ 3720      ┆ … ┆ 75964     ┆ 3449      ┆ 79413     ┆ 9         │\n",
       "│           ┆ 6212755    ┆         ┆           ┆   ┆           ┆           ┆           ┆           │\n",
       "│ 90719330  ┆ 7656119804 ┆ 1404850 ┆ 1056      ┆ … ┆ 4736      ┆ 254       ┆ 4990      ┆ 8         │\n",
       "│           ┆ 4112962    ┆         ┆           ┆   ┆           ┆           ┆           ┆           │\n",
       "│ …         ┆ …          ┆ …       ┆ …         ┆ … ┆ …         ┆ …         ┆ …         ┆ …         │\n",
       "│ 137125092 ┆ 7656119839 ┆ 2050650 ┆ 1859      ┆ … ┆ 46797     ┆ 1426      ┆ 48223     ┆ 9         │\n",
       "│           ┆ 8064619    ┆         ┆           ┆   ┆           ┆           ┆           ┆           │\n",
       "│ 12797231  ┆ 7656119799 ┆ 238210  ┆ 116       ┆ … ┆ 4518      ┆ 232       ┆ 4750      ┆ 9         │\n",
       "│           ┆ 1988567    ┆         ┆           ┆   ┆           ┆           ┆           ┆           │\n",
       "│ 129666288 ┆ 7656119813 ┆ 359550  ┆ 545       ┆ … ┆ 508146    ┆ 93393     ┆ 601539    ┆ 8         │\n",
       "│           ┆ 3077786    ┆         ┆           ┆   ┆           ┆           ┆           ┆           │\n",
       "│ 186476457 ┆ 7656119881 ┆ 489830  ┆ 12012     ┆ … ┆ 109104    ┆ 6158      ┆ 115262    ┆ 8         │\n",
       "│           ┆ 1578149    ┆         ┆           ┆   ┆           ┆           ┆           ┆           │\n",
       "│ 195604139 ┆ 7656119804 ┆ 602960  ┆ 11956     ┆ … ┆ 23775     ┆ 1187      ┆ 24962     ┆ 9         │\n",
       "│           ┆ 4824797    ┆         ┆           ┆   ┆           ┆           ┆           ┆           │\n",
       "└───────────┴────────────┴─────────┴───────────┴───┴───────────┴───────────┴───────────┴───────────┘"
      ],
      "text/html": [
       "<div><style>\n",
       ".dataframe > thead > tr,\n",
       ".dataframe > tbody > tr {\n",
       "  text-align: right;\n",
       "  white-space: pre-wrap;\n",
       "}\n",
       "</style>\n",
       "<small>shape: (10_587_915, 32)</small><table border=\"1\" class=\"dataframe\"><thead><tr><th>rec_id</th><th>user_id</th><th>game_id</th><th>playtime_forever</th><th>playtime_last_two_weeks</th><th>playtime_at_review</th><th>last_played</th><th>review</th><th>timestamp_created</th><th>voted_up</th><th>votes_funny</th><th>weighted_vote_score</th><th>comment_count</th><th>steam_purchase</th><th>received_for_free</th><th>written_during_early_access</th><th>primarily_steam_deck</th><th>user_id_1</th><th>user_num_games_owned</th><th>user_num_reviews</th><th>game_id_1</th><th>game_name</th><th>game_required_age</th><th>game_is_free</th><th>game_short_description</th><th>game_supported_languages</th><th>game_categories</th><th>game_genres</th><th>game_total_positive_reviews</th><th>game_total_negative_reviews</th><th>game_total_reviews</th><th>game_review_score</th></tr><tr><td>i64</td><td>i64</td><td>i64</td><td>i64</td><td>i64</td><td>i64</td><td>i64</td><td>str</td><td>i64</td><td>bool</td><td>i64</td><td>f64</td><td>i64</td><td>bool</td><td>bool</td><td>bool</td><td>bool</td><td>i64</td><td>i64</td><td>i64</td><td>i64</td><td>str</td><td>i64</td><td>bool</td><td>str</td><td>list[str]</td><td>list[str]</td><td>list[str]</td><td>i64</td><td>i64</td><td>i64</td><td>i64</td></tr></thead><tbody><tr><td>59241263</td><td>76561198398321971</td><td>271590</td><td>23370</td><td>null</td><td>1422</td><td>1685837176</td><td>&quot;Old but gold - Now that I&#x27;m up…</td><td>1575493573</td><td>false</td><td>0</td><td>0.502075</td><td>0</td><td>true</td><td>false</td><td>false</td><td>false</td><td>76561198398321971</td><td>95</td><td>53</td><td>271590</td><td>&quot;Grand Theft Auto V Legacy&quot;</td><td>17</td><td>false</td><td>&quot;Grand Theft Auto V for PC offe…</td><td>[&quot;English&quot;, &quot;French&quot;, … &quot;Spanish - Latin America&quot;]</td><td>[&quot;Single-player&quot;, &quot;Multi-player&quot;, … &quot;Remote Play on TV&quot;]</td><td>[&quot;Action&quot;, &quot;Adventure&quot;]</td><td>472621</td><td>91976</td><td>564597</td><td>8</td></tr><tr><td>114693825</td><td>76561198208763852</td><td>1794680</td><td>1202</td><td>null</td><td>288</td><td>1693173236</td><td>&quot;this game is just insanely fun…</td><td>1651283112</td><td>true</td><td>0</td><td>0.5</td><td>0</td><td>true</td><td>false</td><td>true</td><td>false</td><td>76561198208763852</td><td>null</td><td>27</td><td>1794680</td><td>&quot;Vampire Survivors&quot;</td><td>0</td><td>false</td><td>&quot;Mow down thousands of night cr…</td><td>[&quot;English&quot;, &quot;French&quot;, … &quot;Ukrainian&quot;]</td><td>[&quot;Single-player&quot;, &quot;Steam Achievements&quot;, … &quot;Family Sharing&quot;]</td><td>[&quot;Action&quot;, &quot;Casual&quot;, … &quot;RPG&quot;]</td><td>119189</td><td>1696</td><td>120885</td><td>9</td></tr><tr><td>34851185</td><td>76561198314284388</td><td>359550</td><td>275703</td><td>417</td><td>43546</td><td>1748767572</td><td>&quot;Worth every penny, with long t…</td><td>1505009408</td><td>true</td><td>2</td><td>0.5</td><td>0</td><td>true</td><td>false</td><td>false</td><td>false</td><td>76561198314284388</td><td>327</td><td>37</td><td>359550</td><td>&quot;Tom Clancy&#x27;s Rainbow Six® Sieg…</td><td>17</td><td>false</td><td>&quot;Tom Clancy&#x27;s Rainbow Six® Sieg…</td><td>[&quot;English&quot;, &quot;French&quot;, … &quot;Thai&quot;]</td><td>[&quot;Single-player&quot;, &quot;Multi-player&quot;, … &quot;Remote Play on Tablet&quot;]</td><td>[&quot;Action&quot;]</td><td>508146</td><td>93393</td><td>601539</td><td>8</td></tr><tr><td>32971936</td><td>76561198046212755</td><td>379720</td><td>3720</td><td>null</td><td>2460</td><td>1742375683</td><td>&quot;A mater class in first person …</td><td>1498709061</td><td>true</td><td>0</td><td>0.5</td><td>0</td><td>true</td><td>false</td><td>false</td><td>false</td><td>76561198046212755</td><td>null</td><td>35</td><td>379720</td><td>&quot;DOOM&quot;</td><td>17</td><td>false</td><td>&quot;Now includes all three premium…</td><td>[&quot;English&quot;, &quot;French&quot;, … &quot;Traditional Chinese&quot;]</td><td>[&quot;Single-player&quot;, &quot;Multi-player&quot;, … &quot;Family Sharing&quot;]</td><td>[&quot;Action&quot;]</td><td>75964</td><td>3449</td><td>79413</td><td>9</td></tr><tr><td>90719330</td><td>76561198044112962</td><td>1404850</td><td>1056</td><td>null</td><td>772</td><td>1675061776</td><td>&quot;Activate Mao&quot;</td><td>1619081132</td><td>true</td><td>3</td><td>0.5</td><td>0</td><td>true</td><td>false</td><td>true</td><td>false</td><td>76561198044112962</td><td>null</td><td>21</td><td>1404850</td><td>&quot;Luck be a Landlord&quot;</td><td>0</td><td>false</td><td>&quot;Luck be a Landlord is a roguel…</td><td>[&quot;English&quot;, &quot;French&quot;, … &quot;Arabic&quot;]</td><td>[&quot;Single-player&quot;, &quot;Steam Achievements&quot;, … &quot;Family Sharing&quot;]</td><td>[&quot;Indie&quot;, &quot;Simulation&quot;, &quot;Strategy&quot;]</td><td>4736</td><td>254</td><td>4990</td><td>8</td></tr><tr><td>&hellip;</td><td>&hellip;</td><td>&hellip;</td><td>&hellip;</td><td>&hellip;</td><td>&hellip;</td><td>&hellip;</td><td>&hellip;</td><td>&hellip;</td><td>&hellip;</td><td>&hellip;</td><td>&hellip;</td><td>&hellip;</td><td>&hellip;</td><td>&hellip;</td><td>&hellip;</td><td>&hellip;</td><td>&hellip;</td><td>&hellip;</td><td>&hellip;</td><td>&hellip;</td><td>&hellip;</td><td>&hellip;</td><td>&hellip;</td><td>&hellip;</td><td>&hellip;</td><td>&hellip;</td><td>&hellip;</td><td>&hellip;</td><td>&hellip;</td><td>&hellip;</td><td>&hellip;</td></tr><tr><td>137125092</td><td>76561198398064619</td><td>2050650</td><td>1859</td><td>null</td><td>1756</td><td>1682190714</td><td>&quot;shoot the lake 6 times and you…</td><td>1682185640</td><td>true</td><td>0</td><td>0.5</td><td>0</td><td>true</td><td>false</td><td>false</td><td>false</td><td>76561198398064619</td><td>null</td><td>19</td><td>2050650</td><td>&quot;Resident Evil 4&quot;</td><td>0</td><td>false</td><td>&quot;Survival is just the beginning…</td><td>[&quot;English&quot;, &quot;French&quot;, … &quot;Spanish - Latin America&quot;]</td><td>[&quot;Single-player&quot;, &quot;Steam Achievements&quot;, … &quot;Family Sharing&quot;]</td><td>[&quot;Action&quot;, &quot;Adventure&quot;]</td><td>46797</td><td>1426</td><td>48223</td><td>9</td></tr><tr><td>12797231</td><td>76561197991988567</td><td>238210</td><td>116</td><td>null</td><td>116</td><td>1596062483</td><td>&quot;Do you like Bioshock? well thi…</td><td>1415158478</td><td>true</td><td>0</td><td>0.521745</td><td>0</td><td>true</td><td>false</td><td>false</td><td>false</td><td>76561197991988567</td><td>141</td><td>34</td><td>238210</td><td>&quot;System Shock® 2 (Classic)&quot;</td><td>17</td><td>false</td><td>&quot;&amp;quot;Remember, it is my will …</td><td>[&quot;English&quot;, &quot;German&quot;]</td><td>[&quot;Single-player&quot;, &quot;Multi-player&quot;, … &quot;Family Sharing&quot;]</td><td>[&quot;Action&quot;, &quot;RPG&quot;]</td><td>4518</td><td>232</td><td>4750</td><td>9</td></tr><tr><td>129666288</td><td>76561198133077786</td><td>359550</td><td>545</td><td>null</td><td>264</td><td>1673592128</td><td>&quot;Tom Clancy is crying in his gr…</td><td>1672380275</td><td>false</td><td>0</td><td>0.511628</td><td>0</td><td>true</td><td>false</td><td>false</td><td>false</td><td>76561198133077786</td><td>326</td><td>87</td><td>359550</td><td>&quot;Tom Clancy&#x27;s Rainbow Six® Sieg…</td><td>17</td><td>false</td><td>&quot;Tom Clancy&#x27;s Rainbow Six® Sieg…</td><td>[&quot;English&quot;, &quot;French&quot;, … &quot;Thai&quot;]</td><td>[&quot;Single-player&quot;, &quot;Multi-player&quot;, … &quot;Remote Play on Tablet&quot;]</td><td>[&quot;Action&quot;]</td><td>508146</td><td>93393</td><td>601539</td><td>8</td></tr><tr><td>186476457</td><td>76561198811578149</td><td>489830</td><td>12012</td><td>null</td><td>11126</td><td>1742848409</td><td>&quot;GoAT&quot;</td><td>1737915314</td><td>true</td><td>0</td><td>0.52381</td><td>0</td><td>true</td><td>false</td><td>false</td><td>false</td><td>76561198811578149</td><td>null</td><td>13</td><td>489830</td><td>&quot;The Elder Scrolls V: Skyrim Sp…</td><td>17</td><td>false</td><td>&quot;Winner of more than 200 Game o…</td><td>[&quot;English&quot;, &quot;French&quot;, … &quot;Japanese&quot;]</td><td>[&quot;Single-player&quot;, &quot;Steam Achievements&quot;, … &quot;Family Sharing&quot;]</td><td>[&quot;RPG&quot;]</td><td>109104</td><td>6158</td><td>115262</td><td>8</td></tr><tr><td>195604139</td><td>76561198044824797</td><td>602960</td><td>11956</td><td>330</td><td>11615</td><td>1749432224</td><td>&quot;this game fucking sucks&quot;</td><td>1748157292</td><td>true</td><td>0</td><td>0.5</td><td>0</td><td>true</td><td>false</td><td>false</td><td>false</td><td>76561198044824797</td><td>347</td><td>22</td><td>602960</td><td>&quot;Barotrauma&quot;</td><td>0</td><td>false</td><td>&quot;Barotrauma is a 2D co-op subma…</td><td>[&quot;English&quot;, &quot;French&quot;, … &quot;Korean&quot;]</td><td>[&quot;Single-player&quot;, &quot;Multi-player&quot;, … &quot;Family Sharing&quot;]</td><td>[&quot;Action&quot;, &quot;Indie&quot;, … &quot;Strategy&quot;]</td><td>23775</td><td>1187</td><td>24962</td><td>9</td></tr></tbody></table></div>"
      ]
     },
     "execution_count": 3,
     "metadata": {},
     "output_type": "execute_result"
    }
   ],
   "execution_count": 3
  }
 ],
 "metadata": {
  "kernelspec": {
   "display_name": "Python 3",
   "language": "python",
   "name": "python3"
  },
  "language_info": {
   "codemirror_mode": {
    "name": "ipython",
    "version": 2
   },
   "file_extension": ".py",
   "mimetype": "text/x-python",
   "name": "python",
   "nbconvert_exporter": "python",
   "pygments_lexer": "ipython2",
   "version": "2.7.6"
  }
 },
 "nbformat": 4,
 "nbformat_minor": 5
}
