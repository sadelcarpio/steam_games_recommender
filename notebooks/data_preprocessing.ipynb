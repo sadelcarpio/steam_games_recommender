{
 "cells": [
  {
   "cell_type": "code",
   "id": "initial_id",
   "metadata": {
    "collapsed": true,
    "ExecuteTime": {
     "end_time": "2025-06-15T04:31:24.438722Z",
     "start_time": "2025-06-15T04:31:24.371681Z"
    }
   },
   "source": [
    "import json\n",
    "\n",
    "import polars as pl\n",
    "from polars import col"
   ],
   "outputs": [],
   "execution_count": 1
  },
  {
   "metadata": {
    "ExecuteTime": {
     "end_time": "2025-06-15T04:31:24.545633Z",
     "start_time": "2025-06-15T04:31:24.543830Z"
    }
   },
   "cell_type": "code",
   "source": [
    "# Initial data cleaning (with steam_games.parquet and steam_games_extra_features.parquet)\n",
    "# steam_games_agg = steam_games.join(steam_game_features, on=\"appid\", how=\"left\")\n",
    "# steam_games_agg = steam_games_agg.with_columns(\n",
    "#     pl.col(\"review_score\").fill_null(0),\n",
    "#     pl.col(\"review_score_desc\").fill_null(\"No reviews\"),\n",
    "#     pl.col(\"total_positive_reviews\").fill_null(0),\n",
    "#     pl.col(\"total_negative_reviews\").fill_null(0),\n",
    "#     pl.col(\"total_reviews\").fill_null(0)\n",
    "# )\n",
    "# steam_games_agg"
   ],
   "id": "2434af00daf086f5",
   "outputs": [],
   "execution_count": 2
  },
  {
   "metadata": {
    "ExecuteTime": {
     "end_time": "2025-06-15T03:07:26.180168Z",
     "start_time": "2025-06-15T03:07:26.176265Z"
    }
   },
   "cell_type": "code",
   "source": [
    "# read categories json into a table\n",
    "with open(\"../data/categories.json\") as f:\n",
    "    categories = json.load(f)\n",
    "cat_df = pl.DataFrame(categories).select([\"categoryid\", \"name\"]).rename({\"name\": \"category\"})\n",
    "cat_df"
   ],
   "id": "c0d43a7998cc91a",
   "outputs": [
    {
     "data": {
      "text/plain": [
       "shape: (48, 2)\n",
       "┌────────────┬──────────────────────┐\n",
       "│ categoryid ┆ category             │\n",
       "│ ---        ┆ ---                  │\n",
       "│ i64        ┆ str                  │\n",
       "╞════════════╪══════════════════════╡\n",
       "│ 2          ┆ Single-player        │\n",
       "│ 1          ┆ Multi-player         │\n",
       "│ 20         ┆ MMO                  │\n",
       "│ 50         ┆ High-Quality Audio   │\n",
       "│ 49         ┆ PvP                  │\n",
       "│ …          ┆ …                    │\n",
       "│ 44         ┆ Remote Play Together │\n",
       "│ 61         ┆ HDR                  │\n",
       "│ 62         ┆ Family Sharing       │\n",
       "│ 63         ┆ Steam Timeline       │\n",
       "│ 990        ┆ Soundtracks          │\n",
       "└────────────┴──────────────────────┘"
      ],
      "text/html": [
       "<div><style>\n",
       ".dataframe > thead > tr,\n",
       ".dataframe > tbody > tr {\n",
       "  text-align: right;\n",
       "  white-space: pre-wrap;\n",
       "}\n",
       "</style>\n",
       "<small>shape: (48, 2)</small><table border=\"1\" class=\"dataframe\"><thead><tr><th>categoryid</th><th>category</th></tr><tr><td>i64</td><td>str</td></tr></thead><tbody><tr><td>2</td><td>&quot;Single-player&quot;</td></tr><tr><td>1</td><td>&quot;Multi-player&quot;</td></tr><tr><td>20</td><td>&quot;MMO&quot;</td></tr><tr><td>50</td><td>&quot;High-Quality Audio&quot;</td></tr><tr><td>49</td><td>&quot;PvP&quot;</td></tr><tr><td>&hellip;</td><td>&hellip;</td></tr><tr><td>44</td><td>&quot;Remote Play Together&quot;</td></tr><tr><td>61</td><td>&quot;HDR&quot;</td></tr><tr><td>62</td><td>&quot;Family Sharing&quot;</td></tr><tr><td>63</td><td>&quot;Steam Timeline&quot;</td></tr><tr><td>990</td><td>&quot;Soundtracks&quot;</td></tr></tbody></table></div>"
      ]
     },
     "execution_count": 48,
     "metadata": {},
     "output_type": "execute_result"
    }
   ],
   "execution_count": 48
  },
  {
   "metadata": {
    "ExecuteTime": {
     "end_time": "2025-06-15T03:00:38.252041Z",
     "start_time": "2025-06-15T03:00:37.439648Z"
    }
   },
   "cell_type": "code",
   "source": [
    "steam_apps = pl.read_parquet(\"../data/raw/games/steam_games_full.parquet\").lazy()\n",
    "steam_apps.limit(5).collect()"
   ],
   "id": "538957c0e31041ff",
   "outputs": [
    {
     "data": {
      "text/plain": [
       "shape: (5, 30)\n",
       "┌─────────┬────────────┬──────┬────────────┬───┬────────────┬────────────┬────────────┬────────────┐\n",
       "│ appid   ┆ name       ┆ type ┆ required_a ┆ … ┆ review_sco ┆ total_posi ┆ total_nega ┆ total_revi │\n",
       "│ ---     ┆ ---        ┆ ---  ┆ ge         ┆   ┆ re_desc    ┆ tive_revie ┆ tive_revie ┆ ews        │\n",
       "│ i64     ┆ str        ┆ str  ┆ ---        ┆   ┆ ---        ┆ ws         ┆ ws         ┆ ---        │\n",
       "│         ┆            ┆      ┆ i64        ┆   ┆ str        ┆ ---        ┆ ---        ┆ i64        │\n",
       "│         ┆            ┆      ┆            ┆   ┆            ┆ i64        ┆ i64        ┆            │\n",
       "╞═════════╪════════════╪══════╪════════════╪═══╪════════════╪════════════╪════════════╪════════════╡\n",
       "│ 2852260 ┆ Pandaruniu ┆ game ┆ 0          ┆ … ┆ 2 user     ┆ 2          ┆ 0          ┆ 2          │\n",
       "│         ┆ m          ┆      ┆            ┆   ┆ reviews    ┆            ┆            ┆            │\n",
       "│ 1226222 ┆ Killer Gin ┆ dlc  ┆ 0          ┆ … ┆ No reviews ┆ 0          ┆ 0          ┆ 0          │\n",
       "│         ┆ Cats and   ┆      ┆            ┆   ┆            ┆            ┆            ┆            │\n",
       "│         ┆ Dogs DLC   ┆      ┆            ┆   ┆            ┆            ┆            ┆            │\n",
       "│ 291550  ┆ Brawlhalla ┆ game ┆ 0          ┆ … ┆ Very       ┆ 1306       ┆ 266        ┆ 1572       │\n",
       "│         ┆            ┆      ┆            ┆   ┆ Positive   ┆            ┆            ┆            │\n",
       "│ 2116250 ┆ Draft Day  ┆ game ┆ 0          ┆ … ┆ Mixed      ┆ 9          ┆ 6          ┆ 15         │\n",
       "│         ┆ Sports:    ┆      ┆            ┆   ┆            ┆            ┆            ┆            │\n",
       "│         ┆ College    ┆      ┆            ┆   ┆            ┆            ┆            ┆            │\n",
       "│         ┆ Foot…      ┆      ┆            ┆   ┆            ┆            ┆            ┆            │\n",
       "│ 946610  ┆ Pocket     ┆ game ┆ 0          ┆ … ┆ Very       ┆ 95         ┆ 21         ┆ 116        │\n",
       "│         ┆ Rogues     ┆      ┆            ┆   ┆ Positive   ┆            ┆            ┆            │\n",
       "└─────────┴────────────┴──────┴────────────┴───┴────────────┴────────────┴────────────┴────────────┘"
      ],
      "text/html": [
       "<div><style>\n",
       ".dataframe > thead > tr,\n",
       ".dataframe > tbody > tr {\n",
       "  text-align: right;\n",
       "  white-space: pre-wrap;\n",
       "}\n",
       "</style>\n",
       "<small>shape: (5, 30)</small><table border=\"1\" class=\"dataframe\"><thead><tr><th>appid</th><th>name</th><th>type</th><th>required_age</th><th>is_free</th><th>minimum_pc_requirements</th><th>recommended_pc_requirements</th><th>controller_support</th><th>detailed_description</th><th>about_the_game</th><th>short_description</th><th>supported_languages</th><th>header_image</th><th>developers</th><th>publishers</th><th>price</th><th>category_ids</th><th>genres_list</th><th>windows_support</th><th>mac_support</th><th>linux_support</th><th>release_date</th><th>coming_soon</th><th>recommendations</th><th>dlc</th><th>review_score</th><th>review_score_desc</th><th>total_positive_reviews</th><th>total_negative_reviews</th><th>total_reviews</th></tr><tr><td>i64</td><td>str</td><td>str</td><td>i64</td><td>bool</td><td>str</td><td>str</td><td>str</td><td>str</td><td>str</td><td>str</td><td>list[str]</td><td>str</td><td>list[str]</td><td>list[str]</td><td>f64</td><td>list[i64]</td><td>list[str]</td><td>bool</td><td>bool</td><td>bool</td><td>str</td><td>bool</td><td>i64</td><td>list[i64]</td><td>i64</td><td>str</td><td>i64</td><td>i64</td><td>i64</td></tr></thead><tbody><tr><td>2852260</td><td>&quot;Pandarunium&quot;</td><td>&quot;game&quot;</td><td>0</td><td>false</td><td>&quot;Minimum:Requires a 64-bit proc…</td><td>&quot;Recommended:Requires a 64-bit …</td><td>null</td><td>&quot;&lt;strong&gt;Pandarunium&lt;/strong&gt; i…</td><td>&quot;&lt;strong&gt;Pandarunium&lt;/strong&gt; i…</td><td>&quot;Team up with friends in this t…</td><td>[&quot;English&quot;]</td><td>&quot;https://shared.akamai.steamsta…</td><td>[&quot;Tenax Studios&quot;]</td><td>[&quot;Tenax Studios&quot;]</td><td>3.99</td><td>[2, 1, … 62]</td><td>[&quot;Casual&quot;, &quot;Indie&quot;]</td><td>true</td><td>false</td><td>false</td><td>&quot;20 Jun, 2024&quot;</td><td>false</td><td>null</td><td>[]</td><td>0</td><td>&quot;2 user reviews&quot;</td><td>2</td><td>0</td><td>2</td></tr><tr><td>1226222</td><td>&quot;Killer Gin Cats and Dogs DLC&quot;</td><td>&quot;dlc&quot;</td><td>0</td><td>true</td><td>&quot;Minimum:OS *: Windows 7/8/8.1/…</td><td>null</td><td>&quot;full&quot;</td><td>&quot;This DLC package allows you to…</td><td>&quot;This DLC package allows you to…</td><td>&quot;This DLC package allows you to…</td><td>[&quot;English&quot;]</td><td>&quot;https://shared.akamai.steamsta…</td><td>[&quot;The Killer Gin&quot;]</td><td>[]</td><td>null</td><td>[2, 21, … 62]</td><td>[&quot;RPG&quot;]</td><td>true</td><td>true</td><td>true</td><td>&quot;12 Mar, 2020&quot;</td><td>false</td><td>null</td><td>[]</td><td>0</td><td>&quot;No reviews&quot;</td><td>0</td><td>0</td><td>0</td></tr><tr><td>291550</td><td>&quot;Brawlhalla&quot;</td><td>&quot;game&quot;</td><td>0</td><td>true</td><td>&quot;Minimum:Memory: 2 GB RAMStorag…</td><td>&quot;Recommended:Memory: 4 GB RAMNe…</td><td>null</td><td>&quot;&lt;img class=&quot;bb_img&quot; src=&quot;https…</td><td>&quot;&lt;img class=&quot;bb_img&quot; src=&quot;https…</td><td>&quot;An epic platform fighter for u…</td><td>[&quot;English&quot;, &quot;French&quot;, … &quot;Turkish&quot;]</td><td>&quot;https://shared.akamai.steamsta…</td><td>[&quot;Blue Mammoth Games&quot;]</td><td>[&quot;Ubisoft&quot;]</td><td>null</td><td>[2, 1, … 44]</td><td>[&quot;Action&quot;, &quot;Indie&quot;, &quot;Free To Play&quot;]</td><td>true</td><td>true</td><td>false</td><td>&quot;17 Oct, 2017&quot;</td><td>false</td><td>2890</td><td>[298641, 2974360, … 3392630]</td><td>8</td><td>&quot;Very Positive&quot;</td><td>1306</td><td>266</td><td>1572</td></tr><tr><td>2116250</td><td>&quot;Draft Day Sports: College Foot…</td><td>&quot;game&quot;</td><td>0</td><td>false</td><td>&quot;Minimum:Requires a 64-bit proc…</td><td>&quot;Recommended:Requires a 64-bit …</td><td>null</td><td>&quot;Prepare to lead your favorite …</td><td>&quot;Prepare to lead your favorite …</td><td>&quot;Draft Day Sports: College Foot…</td><td>[&quot;English&quot;]</td><td>&quot;https://shared.akamai.steamsta…</td><td>[&quot;Wolverine Studios&quot;]</td><td>[&quot;Wolverine Studios&quot;]</td><td>53.0</td><td>[2, 62]</td><td>[&quot;Indie&quot;, &quot;Simulation&quot;, … &quot;Strategy&quot;]</td><td>true</td><td>false</td><td>false</td><td>&quot;31 Aug, 2022&quot;</td><td>false</td><td>null</td><td>[]</td><td>5</td><td>&quot;Mixed&quot;</td><td>9</td><td>6</td><td>15</td></tr><tr><td>946610</td><td>&quot;Pocket Rogues&quot;</td><td>&quot;game&quot;</td><td>0</td><td>false</td><td>&quot;Minimum:Requires a 64-bit proc…</td><td>&quot;Recommended:Requires a 64-bit …</td><td>&quot;full&quot;</td><td>&quot;&lt;p class=&quot;bb_paragraph&quot;&gt;&lt;stron…</td><td>&quot;&lt;p class=&quot;bb_paragraph&quot;&gt;&lt;stron…</td><td>&quot;Pocket Rogues is a dynamic 2D-…</td><td>[&quot;English&quot;, &quot;Russian&quot;, … &quot;Portuguese - Brazil&quot;]</td><td>&quot;https://shared.akamai.steamsta…</td><td>[&quot;EtherGaming&quot;]</td><td>[&quot;EtherGaming&quot;]</td><td>23.0</td><td>[2, 1, … 62]</td><td>[&quot;Action&quot;, &quot;Adventure&quot;, … &quot;Early Access&quot;]</td><td>true</td><td>false</td><td>false</td><td>&quot;25 Oct, 2018&quot;</td><td>false</td><td>453</td><td>[]</td><td>8</td><td>&quot;Very Positive&quot;</td><td>95</td><td>21</td><td>116</td></tr></tbody></table></div>"
      ]
     },
     "execution_count": 33,
     "metadata": {},
     "output_type": "execute_result"
    }
   ],
   "execution_count": 33
  },
  {
   "metadata": {
    "ExecuteTime": {
     "end_time": "2025-06-15T03:00:38.885201Z",
     "start_time": "2025-06-15T03:00:38.875994Z"
    }
   },
   "cell_type": "code",
   "source": "steam_apps.group_by(col(\"type\")).len().collect()",
   "id": "91c27f37e385ca92",
   "outputs": [
    {
     "data": {
      "text/plain": [
       "shape: (8, 2)\n",
       "┌─────────────┬────────┐\n",
       "│ type        ┆ len    │\n",
       "│ ---         ┆ ---    │\n",
       "│ str         ┆ u32    │\n",
       "╞═════════════╪════════╡\n",
       "│ music       ┆ 544    │\n",
       "│ dlc         ┆ 33735  │\n",
       "│ video       ┆ 473    │\n",
       "│ advertising ┆ 138    │\n",
       "│ mod         ┆ 89     │\n",
       "│ game        ┆ 101291 │\n",
       "│ series      ┆ 50     │\n",
       "│ demo        ┆ 5793   │\n",
       "└─────────────┴────────┘"
      ],
      "text/html": [
       "<div><style>\n",
       ".dataframe > thead > tr,\n",
       ".dataframe > tbody > tr {\n",
       "  text-align: right;\n",
       "  white-space: pre-wrap;\n",
       "}\n",
       "</style>\n",
       "<small>shape: (8, 2)</small><table border=\"1\" class=\"dataframe\"><thead><tr><th>type</th><th>len</th></tr><tr><td>str</td><td>u32</td></tr></thead><tbody><tr><td>&quot;music&quot;</td><td>544</td></tr><tr><td>&quot;dlc&quot;</td><td>33735</td></tr><tr><td>&quot;video&quot;</td><td>473</td></tr><tr><td>&quot;advertising&quot;</td><td>138</td></tr><tr><td>&quot;mod&quot;</td><td>89</td></tr><tr><td>&quot;game&quot;</td><td>101291</td></tr><tr><td>&quot;series&quot;</td><td>50</td></tr><tr><td>&quot;demo&quot;</td><td>5793</td></tr></tbody></table></div>"
      ]
     },
     "execution_count": 34,
     "metadata": {},
     "output_type": "execute_result"
    }
   ],
   "execution_count": 34
  },
  {
   "metadata": {
    "ExecuteTime": {
     "end_time": "2025-06-15T03:00:40.464975Z",
     "start_time": "2025-06-15T03:00:40.462564Z"
    }
   },
   "cell_type": "code",
   "source": [
    "# Reduce the scope to only games\n",
    "steam_games = steam_apps.filter(col(\"type\") == \"game\")"
   ],
   "id": "7968dc31fbdc81b6",
   "outputs": [],
   "execution_count": 35
  },
  {
   "metadata": {
    "ExecuteTime": {
     "end_time": "2025-06-15T03:00:41.795632Z",
     "start_time": "2025-06-15T03:00:41.781732Z"
    }
   },
   "cell_type": "code",
   "source": [
    "# Found duplicates\n",
    "steam_games.group_by(\"name\").len().filter(col(\"len\") > 1).sort(by=\"len\", descending=True).collect()"
   ],
   "id": "7aa1da4d28f88030",
   "outputs": [
    {
     "data": {
      "text/plain": [
       "shape: (811, 2)\n",
       "┌─────────────────────────────────┬─────┐\n",
       "│ name                            ┆ len │\n",
       "│ ---                             ┆ --- │\n",
       "│ str                             ┆ u32 │\n",
       "╞═════════════════════════════════╪═════╡\n",
       "│ Shadow of the Tomb Raider: Def… ┆ 20  │\n",
       "│ No Way Out                      ┆ 6   │\n",
       "│ Aurora                          ┆ 6   │\n",
       "│ Escape                          ┆ 5   │\n",
       "│ Tom Clancy's Rainbow Six® Sieg… ┆ 5   │\n",
       "│ …                               ┆ …   │\n",
       "│ Dystopia                        ┆ 2   │\n",
       "│ The Contact                     ┆ 2   │\n",
       "│ Lines                           ┆ 2   │\n",
       "│ Raging Ball                     ┆ 2   │\n",
       "│ Star Boss                       ┆ 2   │\n",
       "└─────────────────────────────────┴─────┘"
      ],
      "text/html": [
       "<div><style>\n",
       ".dataframe > thead > tr,\n",
       ".dataframe > tbody > tr {\n",
       "  text-align: right;\n",
       "  white-space: pre-wrap;\n",
       "}\n",
       "</style>\n",
       "<small>shape: (811, 2)</small><table border=\"1\" class=\"dataframe\"><thead><tr><th>name</th><th>len</th></tr><tr><td>str</td><td>u32</td></tr></thead><tbody><tr><td>&quot;Shadow of the Tomb Raider: Def…</td><td>20</td></tr><tr><td>&quot;No Way Out&quot;</td><td>6</td></tr><tr><td>&quot;Aurora&quot;</td><td>6</td></tr><tr><td>&quot;Escape&quot;</td><td>5</td></tr><tr><td>&quot;Tom Clancy&#x27;s Rainbow Six® Sieg…</td><td>5</td></tr><tr><td>&hellip;</td><td>&hellip;</td></tr><tr><td>&quot;Dystopia&quot;</td><td>2</td></tr><tr><td>&quot;The Contact&quot;</td><td>2</td></tr><tr><td>&quot;Lines&quot;</td><td>2</td></tr><tr><td>&quot;Raging Ball&quot;</td><td>2</td></tr><tr><td>&quot;Star Boss&quot;</td><td>2</td></tr></tbody></table></div>"
      ]
     },
     "execution_count": 36,
     "metadata": {},
     "output_type": "execute_result"
    }
   ],
   "execution_count": 36
  },
  {
   "metadata": {
    "ExecuteTime": {
     "end_time": "2025-06-15T03:08:14.748343Z",
     "start_time": "2025-06-15T03:08:14.646379Z"
    }
   },
   "cell_type": "code",
   "source": "games_table = steam_games.sort([\"name\", \"total_reviews\"], descending=True).unique(subset=[\"name\"], keep=\"first\").collect()",
   "id": "4dacac9855a1729",
   "outputs": [],
   "execution_count": 56
  },
  {
   "metadata": {
    "ExecuteTime": {
     "end_time": "2025-06-15T03:08:31.973872Z",
     "start_time": "2025-06-15T03:08:31.798385Z"
    }
   },
   "cell_type": "code",
   "source": [
    "games_with_cat = games_table.explode(\"category_ids\").rename({\"category_ids\": \"categoryid\"}).join(cat_df, on=\"categoryid\", how=\"left\") \\\n",
    "    .group_by(\"appid\").agg(col(\"category\").explode().alias(\"categories\"))\n",
    "games_table = games_with_cat.join(games_table, on=\"appid\", how=\"inner\").drop(\"category_ids\")"
   ],
   "id": "708acb9a59333666",
   "outputs": [],
   "execution_count": 58
  },
  {
   "metadata": {
    "ExecuteTime": {
     "end_time": "2025-06-15T03:08:47.613061Z",
     "start_time": "2025-06-15T03:08:45.661725Z"
    }
   },
   "cell_type": "code",
   "source": "games_table.write_parquet(\"../data/preprocessed/games.parquet\")",
   "id": "eda96705ac980cbd",
   "outputs": [],
   "execution_count": 60
  },
  {
   "metadata": {
    "ExecuteTime": {
     "end_time": "2025-06-15T03:08:34.700773Z",
     "start_time": "2025-06-15T03:08:34.696138Z"
    }
   },
   "cell_type": "code",
   "source": "games_table",
   "id": "b1fa39347cb1a8b3",
   "outputs": [
    {
     "data": {
      "text/plain": [
       "shape: (100_330, 30)\n",
       "┌─────────┬────────────┬────────────┬──────┬───┬────────────┬────────────┬────────────┬────────────┐\n",
       "│ appid   ┆ categories ┆ name       ┆ type ┆ … ┆ review_sco ┆ total_posi ┆ total_nega ┆ total_revi │\n",
       "│ ---     ┆ ---        ┆ ---        ┆ ---  ┆   ┆ re_desc    ┆ tive_revie ┆ tive_revie ┆ ews        │\n",
       "│ i64     ┆ list[str]  ┆ str        ┆ str  ┆   ┆ ---        ┆ ws         ┆ ws         ┆ ---        │\n",
       "│         ┆            ┆            ┆      ┆   ┆ str        ┆ ---        ┆ ---        ┆ i64        │\n",
       "│         ┆            ┆            ┆      ┆   ┆            ┆ i64        ┆ i64        ┆            │\n",
       "╞═════════╪════════════╪════════════╪══════╪═══╪════════════╪════════════╪════════════╪════════════╡\n",
       "│ 2639280 ┆ [\"Single-p ┆ 𣸩         ┆ game ┆ … ┆ No reviews ┆ 0          ┆ 0          ┆ 0          │\n",
       "│         ┆ layer\",    ┆            ┆      ┆   ┆            ┆            ┆            ┆            │\n",
       "│         ┆ \"Family    ┆            ┆      ┆   ┆            ┆            ┆            ┆            │\n",
       "│         ┆ Shar…      ┆            ┆      ┆   ┆            ┆            ┆            ┆            │\n",
       "│ 576960  ┆ [\"Single-p ┆ 🧠 OUT OF  ┆ game ┆ … ┆ Mostly     ┆ 41         ┆ 11         ┆ 52         │\n",
       "│         ┆ layer\",    ┆ THE BOX    ┆      ┆   ┆ Positive   ┆            ┆            ┆            │\n",
       "│         ┆ \"Steam     ┆            ┆      ┆   ┆            ┆            ┆            ┆            │\n",
       "│         ┆ Achie…     ┆            ┆      ┆   ┆            ┆            ┆            ┆            │\n",
       "│ 965340  ┆ [\"Single-p ┆ 🚀 Human   ┆ game ┆ … ┆ Positive   ┆ 12         ┆ 1          ┆ 13         │\n",
       "│         ┆ layer\",    ┆ Rocket     ┆      ┆   ┆            ┆            ┆            ┆            │\n",
       "│         ┆ \"Steam     ┆ Person     ┆      ┆   ┆            ┆            ┆            ┆            │\n",
       "│         ┆ Achie…     ┆            ┆      ┆   ┆            ┆            ┆            ┆            │\n",
       "│ 460250  ┆ [\"Single-p ┆ 🔴 Circles ┆ game ┆ … ┆ Positive   ┆ 24         ┆ 2          ┆ 26         │\n",
       "│         ┆ layer\",    ┆            ┆      ┆   ┆            ┆            ┆            ┆            │\n",
       "│         ┆ \"Steam     ┆            ┆      ┆   ┆            ┆            ┆            ┆            │\n",
       "│         ┆ Achie…     ┆            ┆      ┆   ┆            ┆            ┆            ┆            │\n",
       "│ 2919560 ┆ [\"Single-p ┆ 👑Idle Cal ┆ game ┆ … ┆ 9 user     ┆ 5          ┆ 4          ┆ 9          │\n",
       "│         ┆ layer\",    ┆ ibur：Zero ┆      ┆   ┆ reviews    ┆            ┆            ┆            │\n",
       "│         ┆ \"Steam     ┆ 💕（选王之 ┆      ┆   ┆            ┆            ┆            ┆            │\n",
       "│         ┆ Achie…     ┆ 剑：零）   ┆      ┆   ┆            ┆            ┆            ┆            │\n",
       "│ …       ┆ …          ┆ …          ┆ …    ┆ … ┆ …          ┆ …          ┆ …          ┆ …          │\n",
       "│ 3491960 ┆ [\"Single-p ┆ Lost       ┆ game ┆ … ┆ No reviews ┆ 0          ┆ 0          ┆ 0          │\n",
       "│         ┆ layer\",    ┆ Liminal    ┆      ┆   ┆            ┆            ┆            ┆            │\n",
       "│         ┆ \"Steam     ┆            ┆      ┆   ┆            ┆            ┆            ┆            │\n",
       "│         ┆ Achie…     ┆            ┆      ┆   ┆            ┆            ┆            ┆            │\n",
       "│ 3440120 ┆ [\"Single-p ┆ Knights of ┆ game ┆ … ┆ Positive   ┆ 26         ┆ 3          ┆ 29         │\n",
       "│         ┆ layer\",    ┆ the        ┆      ┆   ┆            ┆            ┆            ┆            │\n",
       "│         ┆ \"Steam     ┆ Crusades   ┆      ┆   ┆            ┆            ┆            ┆            │\n",
       "│         ┆ Achie…     ┆            ┆      ┆   ┆            ┆            ┆            ┆            │\n",
       "│ 215710  ┆ [\"Single-p ┆ Fieldrunne ┆ game ┆ … ┆ Very       ┆ 162        ┆ 23         ┆ 185        │\n",
       "│         ┆ layer\",    ┆ rs 2       ┆      ┆   ┆ Positive   ┆            ┆            ┆            │\n",
       "│         ┆ \"Family    ┆            ┆      ┆   ┆            ┆            ┆            ┆            │\n",
       "│         ┆ Shar…      ┆            ┆      ┆   ┆            ┆            ┆            ┆            │\n",
       "│ 3740070 ┆ [\"Single-p ┆ Fear Night ┆ game ┆ … ┆ 2 user     ┆ 2          ┆ 0          ┆ 2          │\n",
       "│         ┆ layer\",    ┆ Tales -    ┆      ┆   ┆ reviews    ┆            ┆            ┆            │\n",
       "│         ┆ \"Family    ┆ Brothers   ┆      ┆   ┆            ┆            ┆            ┆            │\n",
       "│         ┆ Shar…      ┆ K…         ┆      ┆   ┆            ┆            ┆            ┆            │\n",
       "│ 2942140 ┆ [\"Single-p ┆            ┆ game ┆ … ┆ No reviews ┆ 0          ┆ 0          ┆ 0          │\n",
       "│         ┆ layer\",    ┆            ┆      ┆   ┆            ┆            ┆            ┆            │\n",
       "│         ┆ \"Family    ┆            ┆      ┆   ┆            ┆            ┆            ┆            │\n",
       "│         ┆ Shar…      ┆            ┆      ┆   ┆            ┆            ┆            ┆            │\n",
       "└─────────┴────────────┴────────────┴──────┴───┴────────────┴────────────┴────────────┴────────────┘"
      ],
      "text/html": [
       "<div><style>\n",
       ".dataframe > thead > tr,\n",
       ".dataframe > tbody > tr {\n",
       "  text-align: right;\n",
       "  white-space: pre-wrap;\n",
       "}\n",
       "</style>\n",
       "<small>shape: (100_330, 30)</small><table border=\"1\" class=\"dataframe\"><thead><tr><th>appid</th><th>categories</th><th>name</th><th>type</th><th>required_age</th><th>is_free</th><th>minimum_pc_requirements</th><th>recommended_pc_requirements</th><th>controller_support</th><th>detailed_description</th><th>about_the_game</th><th>short_description</th><th>supported_languages</th><th>header_image</th><th>developers</th><th>publishers</th><th>price</th><th>genres_list</th><th>windows_support</th><th>mac_support</th><th>linux_support</th><th>release_date</th><th>coming_soon</th><th>recommendations</th><th>dlc</th><th>review_score</th><th>review_score_desc</th><th>total_positive_reviews</th><th>total_negative_reviews</th><th>total_reviews</th></tr><tr><td>i64</td><td>list[str]</td><td>str</td><td>str</td><td>i64</td><td>bool</td><td>str</td><td>str</td><td>str</td><td>str</td><td>str</td><td>str</td><td>list[str]</td><td>str</td><td>list[str]</td><td>list[str]</td><td>f64</td><td>list[str]</td><td>bool</td><td>bool</td><td>bool</td><td>str</td><td>bool</td><td>i64</td><td>list[i64]</td><td>i64</td><td>str</td><td>i64</td><td>i64</td><td>i64</td></tr></thead><tbody><tr><td>2639280</td><td>[&quot;Single-player&quot;, &quot;Family Sharing&quot;]</td><td>&quot;𣸩&quot;</td><td>&quot;game&quot;</td><td>0</td><td>false</td><td>&quot;Minimum:Storage: 1 GB availabl…</td><td>null</td><td>null</td><td>&quot;&lt;img class=&quot;bb_img&quot; src=&quot;https…</td><td>&quot;&lt;img class=&quot;bb_img&quot; src=&quot;https…</td><td>&quot;《袖珍小说游戏》系列的首部作品，讲述失去了想象能力的作家，和…</td><td>[&quot;Simplified Chinese&quot;, &quot;Traditional Chinese&quot;]</td><td>&quot;https://shared.akamai.steamsta…</td><td>[&quot;箱崎奈绪(Hakozaki Nao)&quot;]</td><td>[&quot; 箱崎奈绪(Hakozaki Nao)&quot;]</td><td>5.03</td><td>[&quot;Adventure&quot;, &quot;Casual&quot;, &quot;Indie&quot;]</td><td>true</td><td>false</td><td>false</td><td>&quot;29 Dec, 2023&quot;</td><td>false</td><td>null</td><td>[]</td><td>0</td><td>&quot;No reviews&quot;</td><td>0</td><td>0</td><td>0</td></tr><tr><td>576960</td><td>[&quot;Single-player&quot;, &quot;Steam Achievements&quot;, … &quot;Family Sharing&quot;]</td><td>&quot;🧠 OUT OF THE BOX&quot;</td><td>&quot;game&quot;</td><td>17</td><td>false</td><td>&quot;Minimum:Requires a 64-bit proc…</td><td>&quot;Recommended:Requires a 64-bit …</td><td>null</td><td>&quot;&lt;img class=&quot;bb_img&quot; src=&quot;https…</td><td>&quot;&lt;img class=&quot;bb_img&quot; src=&quot;https…</td><td>&quot;Dive into a wild story of gang…</td><td>[&quot;English&quot;, &quot;Spanish - Spain&quot;, … &quot;German&quot;]</td><td>&quot;https://shared.akamai.steamsta…</td><td>[&quot;Nuclear Tales&quot;]</td><td>[&quot;🚀 Raiser Games&quot;]</td><td>39.5</td><td>[&quot;Adventure&quot;, &quot;Casual&quot;, … &quot;Strategy&quot;]</td><td>true</td><td>true</td><td>true</td><td>&quot;19 Jul, 2018&quot;</td><td>false</td><td>202</td><td>[]</td><td>6</td><td>&quot;Mostly Positive&quot;</td><td>41</td><td>11</td><td>52</td></tr><tr><td>965340</td><td>[&quot;Single-player&quot;, &quot;Steam Achievements&quot;, … &quot;Family Sharing&quot;]</td><td>&quot;🚀 Human Rocket Person&quot;</td><td>&quot;game&quot;</td><td>0</td><td>false</td><td>&quot;Minimum:OS *: Windows 7, Windo…</td><td>null</td><td>&quot;full&quot;</td><td>&quot;&lt;img class=&quot;bb_img&quot; src=&quot;https…</td><td>&quot;&lt;img class=&quot;bb_img&quot; src=&quot;https…</td><td>&quot;Human Rocket Person is an absu…</td><td>[&quot;English&quot;, &quot;German&quot;, … &quot;Simplified Chinese&quot;]</td><td>&quot;https://shared.akamai.steamsta…</td><td>[&quot;2nd Studio&quot;]</td><td>[&quot;2nd Studio&quot;]</td><td>5.0</td><td>[&quot;Action&quot;, &quot;Indie&quot;, &quot;Simulation&quot;]</td><td>true</td><td>false</td><td>false</td><td>&quot;14 Nov, 2018&quot;</td><td>false</td><td>null</td><td>[]</td><td>7</td><td>&quot;Positive&quot;</td><td>12</td><td>1</td><td>13</td></tr><tr><td>460250</td><td>[&quot;Single-player&quot;, &quot;Steam Achievements&quot;, &quot;Steam Cloud&quot;]</td><td>&quot;🔴 Circles&quot;</td><td>&quot;game&quot;</td><td>0</td><td>true</td><td>&quot;Minimum:OS *: Windows XP, Vist…</td><td>null</td><td>null</td><td>&quot;Circles is a unique, intuitive…</td><td>&quot;Circles is a unique, intuitive…</td><td>&quot;Circles is an abstract puzzle …</td><td>[&quot;English&quot;, &quot;French&quot;, … &quot;Swedish&quot;]</td><td>&quot;https://shared.akamai.steamsta…</td><td>[&quot;Jeroen Wimmers&quot;]</td><td>[&quot;Jeroen Wimmers&quot;]</td><td>null</td><td>[&quot;Casual&quot;, &quot;Indie&quot;]</td><td>true</td><td>true</td><td>false</td><td>&quot;17 Feb, 2017&quot;</td><td>false</td><td>null</td><td>[]</td><td>7</td><td>&quot;Positive&quot;</td><td>24</td><td>2</td><td>26</td></tr><tr><td>2919560</td><td>[&quot;Single-player&quot;, &quot;Steam Achievements&quot;, … &quot;Family Sharing&quot;]</td><td>&quot;👑Idle Calibur：Zero💕（选王之剑：零）&quot;</td><td>&quot;game&quot;</td><td>0</td><td>false</td><td>&quot;Minimum:Requires a 64-bit proc…</td><td>&quot;Recommended:Requires a 64-bit …</td><td>null</td><td>&quot;&lt;h1&gt;If you encounter performan…</td><td>&quot;&lt;p class=&quot;bb_paragraph&quot;&gt;&lt;img c…</td><td>&quot;A game that seamlessly integra…</td><td>[&quot;Simplified Chinese&quot;, &quot;English&quot;, &quot;Japanese&quot;]</td><td>&quot;https://shared.akamai.steamsta…</td><td>[&quot;绝汪&quot;]</td><td>[&quot;绝汪&quot;, &quot;NPC Entertainment&quot;]</td><td>24.0</td><td>[&quot;Indie&quot;, &quot;RPG&quot;, … &quot;Strategy&quot;]</td><td>true</td><td>false</td><td>false</td><td>&quot;31 Oct, 2024&quot;</td><td>false</td><td>405</td><td>[3114710]</td><td>0</td><td>&quot;9 user reviews&quot;</td><td>5</td><td>4</td><td>9</td></tr><tr><td>&hellip;</td><td>&hellip;</td><td>&hellip;</td><td>&hellip;</td><td>&hellip;</td><td>&hellip;</td><td>&hellip;</td><td>&hellip;</td><td>&hellip;</td><td>&hellip;</td><td>&hellip;</td><td>&hellip;</td><td>&hellip;</td><td>&hellip;</td><td>&hellip;</td><td>&hellip;</td><td>&hellip;</td><td>&hellip;</td><td>&hellip;</td><td>&hellip;</td><td>&hellip;</td><td>&hellip;</td><td>&hellip;</td><td>&hellip;</td><td>&hellip;</td><td>&hellip;</td><td>&hellip;</td><td>&hellip;</td><td>&hellip;</td><td>&hellip;</td></tr><tr><td>3491960</td><td>[&quot;Single-player&quot;, &quot;Steam Achievements&quot;, … &quot;Family Sharing&quot;]</td><td>&quot; Lost Liminal&quot;</td><td>&quot;game&quot;</td><td>0</td><td>false</td><td>&quot;Minimum:Requires a 64-bit proc…</td><td>&quot;Recommended:Requires a 64-bit …</td><td>null</td><td>&quot;&lt;p class=&quot;bb_paragraph&quot;&gt;Explor…</td><td>&quot;&lt;p class=&quot;bb_paragraph&quot;&gt;Explor…</td><td>&quot;Lost Liminal is a quirky first…</td><td>[&quot;English&quot;, &quot;Japanese&quot;, &quot;Simplified Chinese&quot;]</td><td>&quot;https://shared.akamai.steamsta…</td><td>[&quot;Tuji Game&quot;]</td><td>[&quot;Tuji Game&quot;]</td><td>null</td><td>[&quot;Action&quot;, &quot;Adventure&quot;, … &quot;RPG&quot;]</td><td>true</td><td>false</td><td>false</td><td>&quot;Coming soon&quot;</td><td>true</td><td>null</td><td>[]</td><td>0</td><td>&quot;No reviews&quot;</td><td>0</td><td>0</td><td>0</td></tr><tr><td>3440120</td><td>[&quot;Single-player&quot;, &quot;Steam Achievements&quot;, … &quot;Family Sharing&quot;]</td><td>&quot; Knights of the Crusades&quot;</td><td>&quot;game&quot;</td><td>0</td><td>false</td><td>&quot;Minimum:Requires a 64-bit proc…</td><td>&quot;Recommended:Requires a 64-bit …</td><td>null</td><td>&quot;&lt;p class=&quot;bb_paragraph&quot;&gt;&lt;img c…</td><td>&quot;&lt;p class=&quot;bb_paragraph&quot;&gt;&lt;img c…</td><td>&quot;Travel to the Holy Land with t…</td><td>[&quot;English&quot;, &quot;French&quot;, … &quot;Portuguese - Portugal&quot;]</td><td>&quot;https://shared.akamai.steamsta…</td><td>[&quot;Reverie World Studios&quot;]</td><td>[&quot;indie.io&quot;]</td><td>44.99</td><td>[&quot;Indie&quot;, &quot;Simulation&quot;, … &quot;Early Access&quot;]</td><td>true</td><td>false</td><td>false</td><td>&quot;5 May, 2025&quot;</td><td>false</td><td>null</td><td>[]</td><td>7</td><td>&quot;Positive&quot;</td><td>26</td><td>3</td><td>29</td></tr><tr><td>215710</td><td>[&quot;Single-player&quot;, &quot;Family Sharing&quot;]</td><td>&quot; Fieldrunners 2&quot;</td><td>&quot;game&quot;</td><td>0</td><td>false</td><td>&quot;Minimum:\n",
       "\n",
       "\tOS:Windows XP Servi…</td><td>&quot;Recommended:\n",
       "\n",
       "OS:Windows Vista…</td><td>null</td><td>&quot;&lt;p&gt;Get ready to DEFEND THE WOR…</td><td>&quot;&lt;p&gt;Get ready to DEFEND THE WOR…</td><td>&quot;Get ready to DEFEND THE WORLD!…</td><td>[&quot;English&quot;]</td><td>&quot;https://shared.akamai.steamsta…</td><td>[&quot;Subatomic Studios LLC&quot;]</td><td>[&quot;Subatomic Studios LLC&quot;]</td><td>27.95</td><td>[&quot;Action&quot;, &quot;Strategy&quot;, &quot;Casual&quot;]</td><td>true</td><td>false</td><td>false</td><td>&quot;10 Jan, 2013&quot;</td><td>false</td><td>361</td><td>[]</td><td>8</td><td>&quot;Very Positive&quot;</td><td>162</td><td>23</td><td>185</td></tr><tr><td>3740070</td><td>[&quot;Single-player&quot;, &quot;Family Sharing&quot;]</td><td>&quot; Fear Night Tales - Brothers K…</td><td>&quot;game&quot;</td><td>0</td><td>false</td><td>&quot;Minimum:OS *: Windows 8 64bits…</td><td>&quot;Recommended:OS *: Windows 8 64…</td><td>null</td><td>&quot;&lt;p class=&quot;bb_paragraph&quot;&gt;&lt;stron…</td><td>&quot;&lt;p class=&quot;bb_paragraph&quot;&gt;&lt;stron…</td><td>&quot;You are the person who looks a…</td><td>[&quot;English&quot;, &quot;Turkish&quot;]</td><td>&quot;https://shared.akamai.steamsta…</td><td>[&quot;TeaPose Games&quot;]</td><td>[&quot;TeaPose Games&quot;]</td><td>null</td><td>[&quot;Action&quot;, &quot;Adventure&quot;, … &quot;Simulation&quot;]</td><td>true</td><td>false</td><td>false</td><td>&quot;Coming soon&quot;</td><td>true</td><td>null</td><td>[]</td><td>0</td><td>&quot;2 user reviews&quot;</td><td>2</td><td>0</td><td>2</td></tr><tr><td>2942140</td><td>[&quot;Single-player&quot;, &quot;Family Sharing&quot;]</td><td>&quot;&quot;</td><td>&quot;game&quot;</td><td>0</td><td>false</td><td>&quot;Minimum:OS: Windows 10Processo…</td><td>null</td><td>null</td><td>&quot;Venture forth, battle monsters…</td><td>&quot;Venture forth, battle monsters…</td><td>&quot;Venture forth, battle monsters…</td><td>[&quot;English&quot;]</td><td>&quot;https://shared.akamai.steamsta…</td><td>[&quot;Haks&quot;]</td><td>[&quot;Haks&quot;]</td><td>null</td><td>[&quot;RPG&quot;, &quot;Strategy&quot;]</td><td>true</td><td>false</td><td>false</td><td>&quot;To be announced&quot;</td><td>true</td><td>null</td><td>[]</td><td>0</td><td>&quot;No reviews&quot;</td><td>0</td><td>0</td><td>0</td></tr></tbody></table></div>"
      ]
     },
     "execution_count": 59,
     "metadata": {},
     "output_type": "execute_result"
    }
   ],
   "execution_count": 59
  },
  {
   "metadata": {
    "ExecuteTime": {
     "end_time": "2025-06-15T03:08:59.459688Z",
     "start_time": "2025-06-15T03:08:59.457820Z"
    }
   },
   "cell_type": "code",
   "source": "del games_table",
   "id": "52ab4fdfc1b4a2e0",
   "outputs": [],
   "execution_count": 61
  },
  {
   "metadata": {
    "ExecuteTime": {
     "end_time": "2025-06-15T04:31:34.425603Z",
     "start_time": "2025-06-15T04:31:30.730889Z"
    }
   },
   "cell_type": "code",
   "source": [
    "steam_reviews = pl.read_parquet(\"../data/raw/reviews/steam_reviews_*.parquet\")\n",
    "steam_reviews"
   ],
   "id": "7a4042650af26f42",
   "outputs": [
    {
     "data": {
      "text/plain": [
       "shape: (36_353_032, 22)\n",
       "┌───────────┬────────────┬─────────┬───────────┬───┬───────────┬───────────┬───────────┬───────────┐\n",
       "│ rec_id    ┆ author_id  ┆ appid   ┆ playtime_ ┆ … ┆ steam_pur ┆ received_ ┆ written_d ┆ primarily │\n",
       "│ ---       ┆ ---        ┆ ---     ┆ forever   ┆   ┆ chase     ┆ for_free  ┆ uring_ear ┆ _steam_de │\n",
       "│ i64       ┆ i64        ┆ i64     ┆ ---       ┆   ┆ ---       ┆ ---       ┆ ly_access ┆ ck        │\n",
       "│           ┆            ┆         ┆ i64       ┆   ┆ bool      ┆ bool      ┆ ---       ┆ ---       │\n",
       "│           ┆            ┆         ┆           ┆   ┆           ┆           ┆ bool      ┆ bool      │\n",
       "╞═══════════╪════════════╪═════════╪═══════════╪═══╪═══════════╪═══════════╪═══════════╪═══════════╡\n",
       "│ 190502887 ┆ 7656119879 ┆ 2852260 ┆ 5         ┆ … ┆ true      ┆ false     ┆ false     ┆ false     │\n",
       "│           ┆ 8149868    ┆         ┆           ┆   ┆           ┆           ┆           ┆           │\n",
       "│ 168888656 ┆ 7656119814 ┆ 2852260 ┆ 121       ┆ … ┆ true      ┆ false     ┆ false     ┆ false     │\n",
       "│           ┆ 0769382    ┆         ┆           ┆   ┆           ┆           ┆           ┆           │\n",
       "│ 196678928 ┆ 7656119908 ┆ 291550  ┆ 2202      ┆ … ┆ true      ┆ false     ┆ false     ┆ false     │\n",
       "│           ┆ 6310241    ┆         ┆           ┆   ┆           ┆           ┆           ┆           │\n",
       "│ 192763979 ┆ 7656119836 ┆ 291550  ┆ 75846     ┆ … ┆ true      ┆ false     ┆ false     ┆ false     │\n",
       "│           ┆ 6424828    ┆         ┆           ┆   ┆           ┆           ┆           ┆           │\n",
       "│ 189643572 ┆ 7656119973 ┆ 291550  ┆ 699       ┆ … ┆ true      ┆ false     ┆ false     ┆ false     │\n",
       "│           ┆ 1966768    ┆         ┆           ┆   ┆           ┆           ┆           ┆           │\n",
       "│ …         ┆ …          ┆ …       ┆ …         ┆ … ┆ …         ┆ …         ┆ …         ┆ …         │\n",
       "│ 6418339   ┆ 7656119806 ┆ 222880  ┆ 1554      ┆ … ┆ true      ┆ false     ┆ false     ┆ false     │\n",
       "│           ┆ 5871127    ┆         ┆           ┆   ┆           ┆           ┆           ┆           │\n",
       "│ 6544900   ┆ 7656119806 ┆ 222880  ┆ 569       ┆ … ┆ true      ┆ false     ┆ false     ┆ false     │\n",
       "│           ┆ 8660723    ┆         ┆           ┆   ┆           ┆           ┆           ┆           │\n",
       "│ 2732737   ┆ 7656119801 ┆ 222880  ┆ 5574      ┆ … ┆ true      ┆ false     ┆ false     ┆ false     │\n",
       "│           ┆ 1795478    ┆         ┆           ┆   ┆           ┆           ┆           ┆           │\n",
       "│ 3791442   ┆ 7656119802 ┆ 222880  ┆ 4428      ┆ … ┆ true      ┆ false     ┆ false     ┆ false     │\n",
       "│           ┆ 7412704    ┆         ┆           ┆   ┆           ┆           ┆           ┆           │\n",
       "│ 1390668   ┆ 7656119799 ┆ 222880  ┆ 385       ┆ … ┆ true      ┆ false     ┆ false     ┆ false     │\n",
       "│           ┆ 2637139    ┆         ┆           ┆   ┆           ┆           ┆           ┆           │\n",
       "└───────────┴────────────┴─────────┴───────────┴───┴───────────┴───────────┴───────────┴───────────┘"
      ],
      "text/html": [
       "<div><style>\n",
       ".dataframe > thead > tr,\n",
       ".dataframe > tbody > tr {\n",
       "  text-align: right;\n",
       "  white-space: pre-wrap;\n",
       "}\n",
       "</style>\n",
       "<small>shape: (36_353_032, 22)</small><table border=\"1\" class=\"dataframe\"><thead><tr><th>rec_id</th><th>author_id</th><th>appid</th><th>playtime_forever</th><th>playtime_last_two_weeks</th><th>playtime_at_review</th><th>num_games_owned</th><th>num_reviews</th><th>last_played</th><th>language</th><th>review</th><th>timestamp_created</th><th>timestamp_updated</th><th>voted_up</th><th>votes_up</th><th>votes_funny</th><th>weighted_vote_score</th><th>comment_count</th><th>steam_purchase</th><th>received_for_free</th><th>written_during_early_access</th><th>primarily_steam_deck</th></tr><tr><td>i64</td><td>i64</td><td>i64</td><td>i64</td><td>i64</td><td>i64</td><td>i64</td><td>i64</td><td>i64</td><td>str</td><td>str</td><td>i64</td><td>i64</td><td>bool</td><td>i64</td><td>i64</td><td>f64</td><td>i64</td><td>bool</td><td>bool</td><td>bool</td><td>bool</td></tr></thead><tbody><tr><td>190502887</td><td>76561198798149868</td><td>2852260</td><td>5</td><td>null</td><td>5</td><td>78</td><td>1</td><td>1742257396</td><td>&quot;english&quot;</td><td>&quot;I like the part with the panda&quot;</td><td>1742257432</td><td>1742257432</td><td>true</td><td>0</td><td>0</td><td>0.5</td><td>0</td><td>true</td><td>false</td><td>false</td><td>false</td></tr><tr><td>168888656</td><td>76561198140769382</td><td>2852260</td><td>121</td><td>null</td><td>121</td><td>null</td><td>1</td><td>1719510337</td><td>&quot;english&quot;</td><td>&quot;Solo play works, but friendly …</td><td>1720019968</td><td>1720019968</td><td>true</td><td>3</td><td>0</td><td>0.565217</td><td>0</td><td>true</td><td>false</td><td>false</td><td>false</td></tr><tr><td>196678928</td><td>76561199086310241</td><td>291550</td><td>2202</td><td>null</td><td>2202</td><td>1</td><td>2</td><td>1607922050</td><td>&quot;english&quot;</td><td>&quot;Worst teammate matchmaking I&#x27;v…</td><td>1749353719</td><td>1749353719</td><td>true</td><td>0</td><td>0</td><td>0.5</td><td>0</td><td>true</td><td>false</td><td>false</td><td>false</td></tr><tr><td>192763979</td><td>76561198366424828</td><td>291550</td><td>75846</td><td>4123</td><td>62093</td><td>null</td><td>1</td><td>1749375912</td><td>&quot;english&quot;</td><td>&quot;good way to spend time if you …</td><td>1744671161</td><td>1744671161</td><td>true</td><td>0</td><td>0</td><td>0.5</td><td>0</td><td>true</td><td>false</td><td>false</td><td>false</td></tr><tr><td>189643572</td><td>76561199731966768</td><td>291550</td><td>699</td><td>null</td><td>232</td><td>null</td><td>1</td><td>1745115147</td><td>&quot;english&quot;</td><td>&quot;This is an overall good game. …</td><td>1741398352</td><td>1741398352</td><td>true</td><td>0</td><td>0</td><td>0.5</td><td>0</td><td>true</td><td>false</td><td>false</td><td>false</td></tr><tr><td>&hellip;</td><td>&hellip;</td><td>&hellip;</td><td>&hellip;</td><td>&hellip;</td><td>&hellip;</td><td>&hellip;</td><td>&hellip;</td><td>&hellip;</td><td>&hellip;</td><td>&hellip;</td><td>&hellip;</td><td>&hellip;</td><td>&hellip;</td><td>&hellip;</td><td>&hellip;</td><td>&hellip;</td><td>&hellip;</td><td>&hellip;</td><td>&hellip;</td><td>&hellip;</td><td>&hellip;</td></tr><tr><td>6418339</td><td>76561198065871127</td><td>222880</td><td>1554</td><td>null</td><td>418</td><td>227</td><td>8</td><td>1535835751</td><td>&quot;english&quot;</td><td>&quot;good&quot;</td><td>1367079935</td><td>1367079935</td><td>true</td><td>0</td><td>0</td><td>0.5</td><td>0</td><td>true</td><td>false</td><td>false</td><td>false</td></tr><tr><td>6544900</td><td>76561198068660723</td><td>222880</td><td>569</td><td>null</td><td>58</td><td>null</td><td>7</td><td>1555809438</td><td>&quot;english&quot;</td><td>&quot;If you like counter strike you…</td><td>1367040549</td><td>1367040549</td><td>true</td><td>0</td><td>0</td><td>0.5</td><td>0</td><td>true</td><td>false</td><td>false</td><td>false</td></tr><tr><td>2732737</td><td>76561198011795478</td><td>222880</td><td>5574</td><td>null</td><td>778</td><td>null</td><td>45</td><td>1652131712</td><td>&quot;english&quot;</td><td>&quot;It is a good game. i dont know…</td><td>1367024720</td><td>1367024720</td><td>true</td><td>1</td><td>0</td><td>0.5029</td><td>0</td><td>true</td><td>false</td><td>false</td><td>false</td></tr><tr><td>3791442</td><td>76561198027412704</td><td>222880</td><td>4428</td><td>null</td><td>765</td><td>null</td><td>9</td><td>1507844405</td><td>&quot;english&quot;</td><td>&quot;great game and its still in al…</td><td>1366978517</td><td>1366978517</td><td>true</td><td>0</td><td>0</td><td>0.5</td><td>2</td><td>true</td><td>false</td><td>false</td><td>false</td></tr><tr><td>1390668</td><td>76561197992637139</td><td>222880</td><td>385</td><td>null</td><td>247</td><td>null</td><td>104</td><td>1545514747</td><td>&quot;english&quot;</td><td>&quot;It&#x27;s counterstrike without tig…</td><td>1366938453</td><td>1390448630</td><td>false</td><td>26</td><td>0</td><td>0.429108</td><td>0</td><td>true</td><td>false</td><td>false</td><td>false</td></tr></tbody></table></div>"
      ]
     },
     "execution_count": 3,
     "metadata": {},
     "output_type": "execute_result"
    }
   ],
   "execution_count": 3
  },
  {
   "metadata": {
    "ExecuteTime": {
     "end_time": "2025-06-15T04:31:45.269661Z",
     "start_time": "2025-06-15T04:31:37.270983Z"
    }
   },
   "cell_type": "code",
   "source": "deduplicated = steam_reviews.unique(subset=[\"author_id\", \"appid\"], maintain_order=False)",
   "id": "aac8c2dbb85e1bb2",
   "outputs": [],
   "execution_count": 4
  },
  {
   "metadata": {
    "ExecuteTime": {
     "end_time": "2025-06-15T04:32:04.114323Z",
     "start_time": "2025-06-15T04:32:04.100332Z"
    }
   },
   "cell_type": "code",
   "source": "deduplicated",
   "id": "17f5d277b1d93cc5",
   "outputs": [
    {
     "data": {
      "text/plain": [
       "shape: (36_351_231, 22)\n",
       "┌───────────┬────────────┬─────────┬───────────┬───┬───────────┬───────────┬───────────┬───────────┐\n",
       "│ rec_id    ┆ author_id  ┆ appid   ┆ playtime_ ┆ … ┆ steam_pur ┆ received_ ┆ written_d ┆ primarily │\n",
       "│ ---       ┆ ---        ┆ ---     ┆ forever   ┆   ┆ chase     ┆ for_free  ┆ uring_ear ┆ _steam_de │\n",
       "│ i64       ┆ i64        ┆ i64     ┆ ---       ┆   ┆ ---       ┆ ---       ┆ ly_access ┆ ck        │\n",
       "│           ┆            ┆         ┆ i64       ┆   ┆ bool      ┆ bool      ┆ ---       ┆ ---       │\n",
       "│           ┆            ┆         ┆           ┆   ┆           ┆           ┆ bool      ┆ bool      │\n",
       "╞═══════════╪════════════╪═════════╪═══════════╪═══╪═══════════╪═══════════╪═══════════╪═══════════╡\n",
       "│ 163524147 ┆ 7656119840 ┆ 1966720 ┆ 6726      ┆ … ┆ true      ┆ false     ┆ true      ┆ false     │\n",
       "│           ┆ 7757564    ┆         ┆           ┆   ┆           ┆           ┆           ┆           │\n",
       "│ 177397292 ┆ 7656119802 ┆ 812140  ┆ 626       ┆ … ┆ true      ┆ false     ┆ false     ┆ false     │\n",
       "│           ┆ 7049751    ┆         ┆           ┆   ┆           ┆           ┆           ┆           │\n",
       "│ 146378199 ┆ 7656119913 ┆ 1959390 ┆ 139       ┆ … ┆ true      ┆ false     ┆ false     ┆ false     │\n",
       "│           ┆ 0298382    ┆         ┆           ┆   ┆           ┆           ┆           ┆           │\n",
       "│ 55077859  ┆ 7656119807 ┆ 914620  ┆ 7295      ┆ … ┆ true      ┆ false     ┆ true      ┆ false     │\n",
       "│           ┆ 4841893    ┆         ┆           ┆   ┆           ┆           ┆           ┆           │\n",
       "│ 137580431 ┆ 7656119904 ┆ 585420  ┆ 4922      ┆ … ┆ true      ┆ false     ┆ false     ┆ false     │\n",
       "│           ┆ 8332868    ┆         ┆           ┆   ┆           ┆           ┆           ┆           │\n",
       "│ …         ┆ …          ┆ …       ┆ …         ┆ … ┆ …         ┆ …         ┆ …         ┆ …         │\n",
       "│ 124406689 ┆ 7656119808 ┆ 1930600 ┆ 701       ┆ … ┆ true      ┆ false     ┆ true      ┆ false     │\n",
       "│           ┆ 8231107    ┆         ┆           ┆   ┆           ┆           ┆           ┆           │\n",
       "│ 101916016 ┆ 7656119796 ┆ 1466860 ┆ 17970     ┆ … ┆ true      ┆ false     ┆ false     ┆ false     │\n",
       "│           ┆ 4936336    ┆         ┆           ┆   ┆           ┆           ┆           ┆           │\n",
       "│ 120471323 ┆ 7656119838 ┆ 22380   ┆ 6176      ┆ … ┆ true      ┆ false     ┆ false     ┆ false     │\n",
       "│           ┆ 1440680    ┆         ┆           ┆   ┆           ┆           ┆           ┆           │\n",
       "│ 41087955  ┆ 7656119879 ┆ 323220  ┆ 14139     ┆ … ┆ true      ┆ false     ┆ false     ┆ false     │\n",
       "│           ┆ 9150670    ┆         ┆           ┆   ┆           ┆           ┆           ┆           │\n",
       "│ 196523915 ┆ 7656119968 ┆ 2407830 ┆ 1169      ┆ … ┆ true      ┆ false     ┆ false     ┆ false     │\n",
       "│           ┆ 5643783    ┆         ┆           ┆   ┆           ┆           ┆           ┆           │\n",
       "└───────────┴────────────┴─────────┴───────────┴───┴───────────┴───────────┴───────────┴───────────┘"
      ],
      "text/html": [
       "<div><style>\n",
       ".dataframe > thead > tr,\n",
       ".dataframe > tbody > tr {\n",
       "  text-align: right;\n",
       "  white-space: pre-wrap;\n",
       "}\n",
       "</style>\n",
       "<small>shape: (36_351_231, 22)</small><table border=\"1\" class=\"dataframe\"><thead><tr><th>rec_id</th><th>author_id</th><th>appid</th><th>playtime_forever</th><th>playtime_last_two_weeks</th><th>playtime_at_review</th><th>num_games_owned</th><th>num_reviews</th><th>last_played</th><th>language</th><th>review</th><th>timestamp_created</th><th>timestamp_updated</th><th>voted_up</th><th>votes_up</th><th>votes_funny</th><th>weighted_vote_score</th><th>comment_count</th><th>steam_purchase</th><th>received_for_free</th><th>written_during_early_access</th><th>primarily_steam_deck</th></tr><tr><td>i64</td><td>i64</td><td>i64</td><td>i64</td><td>i64</td><td>i64</td><td>i64</td><td>i64</td><td>i64</td><td>str</td><td>str</td><td>i64</td><td>i64</td><td>bool</td><td>i64</td><td>i64</td><td>f64</td><td>i64</td><td>bool</td><td>bool</td><td>bool</td><td>bool</td></tr></thead><tbody><tr><td>163524147</td><td>76561198407757564</td><td>1966720</td><td>6726</td><td>null</td><td>2245</td><td>null</td><td>4</td><td>1734228838</td><td>&quot;english&quot;</td><td>&quot;Cant wait to see what they wil…</td><td>1713993377</td><td>1713993377</td><td>true</td><td>0</td><td>0</td><td>0.5</td><td>0</td><td>true</td><td>false</td><td>true</td><td>false</td></tr><tr><td>177397292</td><td>76561198027049751</td><td>812140</td><td>626</td><td>null</td><td>626</td><td>null</td><td>133</td><td>1729422957</td><td>&quot;english&quot;</td><td>&quot;So, sadly I can not recommend …</td><td>1729423540</td><td>1729423540</td><td>false</td><td>1</td><td>0</td><td>0.5</td><td>0</td><td>true</td><td>false</td><td>false</td><td>false</td></tr><tr><td>146378199</td><td>76561199130298382</td><td>1959390</td><td>139</td><td>null</td><td>139</td><td>null</td><td>39</td><td>1694841073</td><td>&quot;english&quot;</td><td>&quot;i liked it quite a bit! I&#x27;ve h…</td><td>1694841481</td><td>1694841481</td><td>true</td><td>0</td><td>0</td><td>0.5</td><td>1</td><td>true</td><td>false</td><td>false</td><td>false</td></tr><tr><td>55077859</td><td>76561198074841893</td><td>914620</td><td>7295</td><td>null</td><td>1224</td><td>null</td><td>7</td><td>1644677449</td><td>&quot;english&quot;</td><td>&quot;Its&nbsp;&nbsp;a good Game but you alway…</td><td>1568303571</td><td>1568303571</td><td>false</td><td>1</td><td>1</td><td>0.392157</td><td>0</td><td>true</td><td>false</td><td>true</td><td>false</td></tr><tr><td>137580431</td><td>76561199048332868</td><td>585420</td><td>4922</td><td>38</td><td>201</td><td>75</td><td>17</td><td>1749279661</td><td>&quot;english&quot;</td><td>&quot;yes&quot;</td><td>1682891619</td><td>1682891619</td><td>true</td><td>0</td><td>0</td><td>0.5</td><td>0</td><td>true</td><td>false</td><td>false</td><td>false</td></tr><tr><td>&hellip;</td><td>&hellip;</td><td>&hellip;</td><td>&hellip;</td><td>&hellip;</td><td>&hellip;</td><td>&hellip;</td><td>&hellip;</td><td>&hellip;</td><td>&hellip;</td><td>&hellip;</td><td>&hellip;</td><td>&hellip;</td><td>&hellip;</td><td>&hellip;</td><td>&hellip;</td><td>&hellip;</td><td>&hellip;</td><td>&hellip;</td><td>&hellip;</td><td>&hellip;</td><td>&hellip;</td></tr><tr><td>124406689</td><td>76561198088231107</td><td>1930600</td><td>701</td><td>null</td><td>525</td><td>null</td><td>89</td><td>1682473019</td><td>&quot;english&quot;</td><td>&quot;Waifus &gt; Vampires&quot;</td><td>1666771524</td><td>1666771524</td><td>true</td><td>0</td><td>0</td><td>0.5</td><td>0</td><td>true</td><td>false</td><td>true</td><td>false</td></tr><tr><td>101916016</td><td>76561197964936336</td><td>1466860</td><td>17970</td><td>null</td><td>1495</td><td>null</td><td>6</td><td>1692517653</td><td>&quot;english&quot;</td><td>&quot;Awesome game! Made some big no…</td><td>1635629157</td><td>1635629157</td><td>true</td><td>0</td><td>0</td><td>0.5</td><td>0</td><td>true</td><td>false</td><td>false</td><td>false</td></tr><tr><td>120471323</td><td>76561198381440680</td><td>22380</td><td>6176</td><td>null</td><td>1507</td><td>null</td><td>36</td><td>1716500989</td><td>&quot;english&quot;</td><td>&quot;I&#x27;m studying better because of…</td><td>1660265519</td><td>1660265519</td><td>true</td><td>1</td><td>0</td><td>0.52381</td><td>0</td><td>true</td><td>false</td><td>false</td><td>false</td></tr><tr><td>41087955</td><td>76561198799150670</td><td>323220</td><td>14139</td><td>null</td><td>3670</td><td>158</td><td>34</td><td>1682980661</td><td>&quot;english&quot;</td><td>&quot;This is a good game it has ama…</td><td>1522165831</td><td>1522165831</td><td>true</td><td>0</td><td>0</td><td>0.5</td><td>3</td><td>true</td><td>false</td><td>false</td><td>false</td></tr><tr><td>196523915</td><td>76561199685643783</td><td>2407830</td><td>1169</td><td>18</td><td>1169</td><td>null</td><td>1</td><td>1749201230</td><td>&quot;english&quot;</td><td>&quot;i absolutely LOVED this game. …</td><td>1749202549</td><td>1749222468</td><td>false</td><td>0</td><td>0</td><td>0.478261</td><td>0</td><td>true</td><td>false</td><td>false</td><td>false</td></tr></tbody></table></div>"
      ]
     },
     "execution_count": 5,
     "metadata": {},
     "output_type": "execute_result"
    }
   ],
   "execution_count": 5
  },
  {
   "metadata": {
    "ExecuteTime": {
     "end_time": "2025-06-15T04:32:06.696188Z",
     "start_time": "2025-06-15T04:32:05.562285Z"
    }
   },
   "cell_type": "code",
   "source": [
    "user_counts = deduplicated.group_by(\"author_id\").agg(pl.len().alias(\"num_reviews\")).filter(col(\"num_reviews\") >= 10).select(\"author_id\")\n",
    "game_counts = deduplicated.group_by(\"appid\").agg(pl.len().alias(\"num_reviews\")).filter(col(\"num_reviews\") >= 10).select(\"appid\")"
   ],
   "id": "4926b8612073a672",
   "outputs": [],
   "execution_count": 6
  },
  {
   "metadata": {
    "ExecuteTime": {
     "end_time": "2025-06-15T04:32:08.397128Z",
     "start_time": "2025-06-15T04:32:07.689662Z"
    }
   },
   "cell_type": "code",
   "source": "reviews_table = deduplicated.join(user_counts, on=\"author_id\", how=\"inner\").join(game_counts, on=\"appid\", how=\"inner\")",
   "id": "e14ee518abaecc1a",
   "outputs": [],
   "execution_count": 7
  },
  {
   "metadata": {
    "ExecuteTime": {
     "end_time": "2025-06-15T04:32:56.990787Z",
     "start_time": "2025-06-15T04:32:21.505480Z"
    }
   },
   "cell_type": "code",
   "source": "reviews_table.drop([\"num_games_owned\", \"num_reviews\"]).write_parquet(\"../data/preprocessed/reviews.parquet\")",
   "id": "a94f874047748df9",
   "outputs": [],
   "execution_count": 8
  },
  {
   "metadata": {
    "ExecuteTime": {
     "end_time": "2025-06-15T02:46:10.960176Z",
     "start_time": "2025-06-15T02:46:10.469635Z"
    }
   },
   "cell_type": "code",
   "source": [
    "# users table. About half of num_games_owned is null, num_reviews has no nulls\n",
    "users_table = reviews_table.select([\"author_id\", \"num_games_owned\", \"num_reviews\"]).sort([\"author_id\", \"num_games_owned\", \"num_reviews\"], descending=True).unique(subset=[\"author_id\"], keep=\"first\")"
   ],
   "id": "3d757d9e69db1197",
   "outputs": [],
   "execution_count": 22
  },
  {
   "metadata": {
    "ExecuteTime": {
     "end_time": "2025-06-15T02:46:18.473764Z",
     "start_time": "2025-06-15T02:46:18.445541Z"
    }
   },
   "cell_type": "code",
   "source": "users_table.write_parquet(\"../data/preprocessed/users.parquet\")",
   "id": "fb8545c3fc4dad81",
   "outputs": [],
   "execution_count": 23
  },
  {
   "metadata": {
    "ExecuteTime": {
     "end_time": "2025-06-15T02:55:41.248131Z",
     "start_time": "2025-06-15T02:55:41.240953Z"
    }
   },
   "cell_type": "code",
   "source": [
    "del reviews_table\n",
    "del deduplicated\n",
    "del users_table"
   ],
   "id": "a5250461931ae1d4",
   "outputs": [
    {
     "ename": "NameError",
     "evalue": "name 'reviews_table' is not defined",
     "output_type": "error",
     "traceback": [
      "\u001B[0;31m---------------------------------------------------------------------------\u001B[0m",
      "\u001B[0;31mNameError\u001B[0m                                 Traceback (most recent call last)",
      "Cell \u001B[0;32mIn[30], line 1\u001B[0m\n\u001B[0;32m----> 1\u001B[0m \u001B[38;5;28;01mdel\u001B[39;00m \u001B[43mreviews_table\u001B[49m\n\u001B[1;32m      2\u001B[0m \u001B[38;5;28;01mdel\u001B[39;00m deduplicated\n\u001B[1;32m      3\u001B[0m \u001B[38;5;28;01mdel\u001B[39;00m users_table\n",
      "\u001B[0;31mNameError\u001B[0m: name 'reviews_table' is not defined"
     ]
    }
   ],
   "execution_count": 30
  }
 ],
 "metadata": {
  "kernelspec": {
   "display_name": "Python 3",
   "language": "python",
   "name": "python3"
  },
  "language_info": {
   "codemirror_mode": {
    "name": "ipython",
    "version": 2
   },
   "file_extension": ".py",
   "mimetype": "text/x-python",
   "name": "python",
   "nbconvert_exporter": "python",
   "pygments_lexer": "ipython2",
   "version": "2.7.6"
  }
 },
 "nbformat": 4,
 "nbformat_minor": 5
}
