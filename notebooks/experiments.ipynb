{
 "cells": [
  {
   "metadata": {},
   "cell_type": "markdown",
   "source": "# Experimenting rec approaches",
   "id": "bd82e23af48d488a"
  },
  {
   "cell_type": "code",
   "id": "initial_id",
   "metadata": {
    "collapsed": true,
    "ExecuteTime": {
     "end_time": "2025-07-13T15:30:58.189614Z",
     "start_time": "2025-07-13T15:30:58.187376Z"
    }
   },
   "source": [
    "import polars as pl\n",
    "import duckdb"
   ],
   "outputs": [],
   "execution_count": 15
  },
  {
   "metadata": {
    "ExecuteTime": {
     "end_time": "2025-07-13T15:30:58.460146Z",
     "start_time": "2025-07-13T15:30:58.458439Z"
    }
   },
   "cell_type": "code",
   "source": "CUT_TIMESTAMP = '2017-01-01'",
   "id": "2d59a3e437a09288",
   "outputs": [],
   "execution_count": 16
  },
  {
   "metadata": {
    "ExecuteTime": {
     "end_time": "2025-07-13T18:07:49.982970Z",
     "start_time": "2025-07-13T18:07:49.965282Z"
    }
   },
   "cell_type": "code",
   "source": "duckdb_conn = duckdb.connect('../data/steam.duckdb', read_only=True)",
   "id": "23f962531e19e5c2",
   "outputs": [],
   "execution_count": 22
  },
  {
   "metadata": {
    "ExecuteTime": {
     "end_time": "2025-07-13T18:10:52.532879Z",
     "start_time": "2025-07-13T18:10:52.471567Z"
    }
   },
   "cell_type": "code",
   "source": "duckdb_conn.sql(f\"SELECT * FROM dim_games_imputed WHERE game_review_score = 0\").pl()",
   "id": "aff39899bda8841c",
   "outputs": [
    {
     "data": {
      "text/plain": [
       "shape: (45_779, 16)\n",
       "┌────────────┬─────────┬───────────┬───────────┬───┬───────────┬───────────┬───────────┬───────────┐\n",
       "│ game_index ┆ game_id ┆ game_name ┆ game_deve ┆ … ┆ game_revi ┆ game_tota ┆ game_tota ┆ game_tota │\n",
       "│ ---        ┆ ---     ┆ ---       ┆ lopers    ┆   ┆ ew_score_ ┆ l_reviews ┆ l_positiv ┆ l_negativ │\n",
       "│ i64        ┆ i64     ┆ str       ┆ ---       ┆   ┆ descripti ┆ ---       ┆ e_reviews ┆ e_reviews │\n",
       "│            ┆         ┆           ┆ list[str] ┆   ┆ on        ┆ i64       ┆ ---       ┆ ---       │\n",
       "│            ┆         ┆           ┆           ┆   ┆ ---       ┆           ┆ i64       ┆ i64       │\n",
       "│            ┆         ┆           ┆           ┆   ┆ str       ┆           ┆           ┆           │\n",
       "╞════════════╪═════════╪═══════════╪═══════════╪═══╪═══════════╪═══════════╪═══════════╪═══════════╡\n",
       "│ 120        ┆ 4290    ┆ RACE:     ┆ [\"SimBin\" ┆ … ┆ 2 user    ┆ 2         ┆ 1         ┆ 1         │\n",
       "│            ┆         ┆ Caterham  ┆ ]         ┆   ┆ reviews   ┆           ┆           ┆           │\n",
       "│            ┆         ┆ Expansion ┆           ┆   ┆           ┆           ┆           ┆           │\n",
       "│ 150        ┆ 3483    ┆ Peggle    ┆ [\"PopCap  ┆ … ┆ No        ┆ 0         ┆ 0         ┆ 0         │\n",
       "│            ┆         ┆ Extreme   ┆ Games,    ┆   ┆ reviews   ┆           ┆           ┆           │\n",
       "│            ┆         ┆           ┆ Inc.\"]    ┆   ┆           ┆           ┆           ┆           │\n",
       "│ 227        ┆ 15800   ┆ Planet    ┆ [\"Slam\"]  ┆ … ┆ 3 user    ┆ 3         ┆ 1         ┆ 2         │\n",
       "│            ┆         ┆ Busters   ┆           ┆   ┆ reviews   ┆           ┆           ┆           │\n",
       "│ 237        ┆ 16000   ┆ Discovery ┆ [\"MumboJu ┆ … ┆ 6 user    ┆ 6         ┆ 3         ┆ 3         │\n",
       "│            ┆         ┆ ! A Seek  ┆ mbo\"]     ┆   ┆ reviews   ┆           ┆           ┆           │\n",
       "│            ┆         ┆ and Find  ┆           ┆   ┆           ┆           ┆           ┆           │\n",
       "│            ┆         ┆ Adv…      ┆           ┆   ┆           ┆           ┆           ┆           │\n",
       "│ 244        ┆ 10520   ┆ Beijing   ┆ [\"Eurocom ┆ … ┆ 3 user    ┆ 3         ┆ 2         ┆ 1         │\n",
       "│            ┆         ┆ 2008™ -   ┆ \"]        ┆   ┆ reviews   ┆           ┆           ┆           │\n",
       "│            ┆         ┆ The       ┆           ┆   ┆           ┆           ┆           ┆           │\n",
       "│            ┆         ┆ Official  ┆           ┆   ┆           ┆           ┆           ┆           │\n",
       "│            ┆         ┆ V…        ┆           ┆   ┆           ┆           ┆           ┆           │\n",
       "│ …          ┆ …       ┆ …         ┆ …         ┆ … ┆ …         ┆ …         ┆ …         ┆ …         │\n",
       "│ 74955      ┆ 1732120 ┆ Paper     ┆ [\"Gently  ┆ … ┆ No        ┆ 0         ┆ 0         ┆ 0         │\n",
       "│            ┆         ┆ Mages     ┆ Giant     ┆   ┆ reviews   ┆           ┆           ┆           │\n",
       "│            ┆         ┆           ┆ LLC\"]     ┆   ┆           ┆           ┆           ┆           │\n",
       "│ 74956      ┆ 2022640 ┆ XTAL      ┆ [\"True    ┆ … ┆ No        ┆ 0         ┆ 0         ┆ 0         │\n",
       "│            ┆         ┆           ┆ Colors\"]  ┆   ┆ reviews   ┆           ┆           ┆           │\n",
       "│ 74957      ┆ 1565140 ┆ Godsbane  ┆ [\"MadJone ┆ … ┆ No        ┆ 0         ┆ 0         ┆ 0         │\n",
       "│            ┆         ┆ Idle      ┆ s\"]       ┆   ┆ reviews   ┆           ┆           ┆           │\n",
       "│ 74958      ┆ 684460  ┆ Project   ┆ [\"Bohemia ┆ … ┆ No        ┆ 0         ┆ 0         ┆ 0         │\n",
       "│            ┆         ┆ Lucie     ┆ Interacti ┆   ┆ reviews   ┆           ┆           ┆           │\n",
       "│            ┆         ┆           ┆ ve\"]      ┆   ┆           ┆           ┆           ┆           │\n",
       "│ 74959      ┆ 1402480 ┆ NARAKA:   ┆ [\"24 Ente ┆ … ┆ No        ┆ 0         ┆ 0         ┆ 0         │\n",
       "│            ┆         ┆ BLADEPOIN ┆ rtainment ┆   ┆ reviews   ┆           ┆           ┆           │\n",
       "│            ┆         ┆ T /       ┆ \"]        ┆   ┆           ┆           ┆           ┆           │\n",
       "│            ┆         ┆ 永劫無間  ┆           ┆   ┆           ┆           ┆           ┆           │\n",
       "│            ┆         ┆ - Te…     ┆           ┆   ┆           ┆           ┆           ┆           │\n",
       "└────────────┴─────────┴───────────┴───────────┴───┴───────────┴───────────┴───────────┴───────────┘"
      ],
      "text/html": [
       "<div><style>\n",
       ".dataframe > thead > tr,\n",
       ".dataframe > tbody > tr {\n",
       "  text-align: right;\n",
       "  white-space: pre-wrap;\n",
       "}\n",
       "</style>\n",
       "<small>shape: (45_779, 16)</small><table border=\"1\" class=\"dataframe\"><thead><tr><th>game_index</th><th>game_id</th><th>game_name</th><th>game_developers</th><th>game_publishers</th><th>game_categories</th><th>game_genres</th><th>game_steam_release_date</th><th>game_release_date</th><th>game_prerelease_date</th><th>game_short_description</th><th>game_review_score</th><th>game_review_score_description</th><th>game_total_reviews</th><th>game_total_positive_reviews</th><th>game_total_negative_reviews</th></tr><tr><td>i64</td><td>i64</td><td>str</td><td>list[str]</td><td>list[str]</td><td>list[str]</td><td>list[str]</td><td>datetime[μs]</td><td>datetime[μs, America/Lima]</td><td>datetime[μs, America/Lima]</td><td>str</td><td>i64</td><td>str</td><td>i64</td><td>i64</td><td>i64</td></tr></thead><tbody><tr><td>120</td><td>4290</td><td>&quot;RACE: Caterham Expansion&quot;</td><td>[&quot;SimBin&quot;]</td><td>[&quot;SimBin&quot;]</td><td>[&quot;Single-player&quot;, &quot;Multi-player&quot;, &quot;Family Sharing&quot;]</td><td>[&quot;Racing&quot;]</td><td>2007-06-22 00:00:00</td><td>2007-06-22 00:00:00 -05</td><td>2007-06-22 00:00:00 -05</td><td>&quot;Celebrating the 50-year annive…</td><td>0</td><td>&quot;2 user reviews&quot;</td><td>2</td><td>1</td><td>1</td></tr><tr><td>150</td><td>3483</td><td>&quot;Peggle Extreme&quot;</td><td>[&quot;PopCap Games, Inc.&quot;]</td><td>[&quot;Electronic Arts&quot;]</td><td>[&quot;Single-player&quot;, &quot;Remote Play on Phone&quot;, &quot;Remote Play on Tablet&quot;]</td><td>[&quot;Casual&quot;, &quot;Free To Play&quot;]</td><td>2007-09-11 00:00:00</td><td>2007-09-11 00:00:00 -05</td><td>2007-09-11 00:00:00 -05</td><td>&quot;Peggle Extreme delivers fast-p…</td><td>0</td><td>&quot;No reviews&quot;</td><td>0</td><td>0</td><td>0</td></tr><tr><td>227</td><td>15800</td><td>&quot;Planet Busters&quot;</td><td>[&quot;Slam&quot;]</td><td>[]</td><td>[&quot;Single-player&quot;, &quot;Steam Achievements&quot;, … &quot;Family Sharing&quot;]</td><td>[&quot;Indie&quot;, &quot;Casual&quot;]</td><td>2008-06-30 00:00:00</td><td>2008-06-30 00:00:00 -05</td><td>2008-06-30 00:00:00 -05</td><td>&quot;Planet Busters is a new single…</td><td>0</td><td>&quot;3 user reviews&quot;</td><td>3</td><td>1</td><td>2</td></tr><tr><td>237</td><td>16000</td><td>&quot;Discovery! A Seek and Find Adv…</td><td>[&quot;MumboJumbo&quot;]</td><td>[&quot;Accelerate Games&quot;]</td><td>[&quot;Single-player&quot;, &quot;Family Sharing&quot;]</td><td>[&quot;Casual&quot;]</td><td>2008-07-29 00:00:00</td><td>2008-07-29 00:00:00 -05</td><td>2008-07-29 00:00:00 -05</td><td>&quot;Break out your magnifying glas…</td><td>0</td><td>&quot;6 user reviews&quot;</td><td>6</td><td>3</td><td>3</td></tr><tr><td>244</td><td>10520</td><td>&quot;Beijing 2008™ - The Official V…</td><td>[&quot;Eurocom&quot;]</td><td>[]</td><td>[&quot;Single-player&quot;, &quot;Multi-player&quot;, … &quot;Family Sharing&quot;]</td><td>[&quot;Sports&quot;]</td><td>2008-08-14 00:00:00</td><td>2008-08-14 00:00:00 -05</td><td>2008-08-14 00:00:00 -05</td><td>&quot;Embrace the competitive spirit…</td><td>0</td><td>&quot;3 user reviews&quot;</td><td>3</td><td>2</td><td>1</td></tr><tr><td>&hellip;</td><td>&hellip;</td><td>&hellip;</td><td>&hellip;</td><td>&hellip;</td><td>&hellip;</td><td>&hellip;</td><td>&hellip;</td><td>&hellip;</td><td>&hellip;</td><td>&hellip;</td><td>&hellip;</td><td>&hellip;</td><td>&hellip;</td><td>&hellip;</td><td>&hellip;</td></tr><tr><td>74955</td><td>1732120</td><td>&quot;Paper Mages&quot;</td><td>[&quot;Gently Giant LLC&quot;]</td><td>[&quot;Gently Giant LLC&quot;]</td><td>[&quot;Multi-player&quot;, &quot;PvP&quot;, … &quot;Family Sharing&quot;]</td><td>[&quot;Action&quot;, &quot;Indie&quot;, &quot;Strategy&quot;]</td><td>2025-05-28 00:00:00</td><td>2025-05-28 00:00:00 -05</td><td>2025-05-28 00:00:00 -05</td><td>&quot;A Third Person Systemic Card G…</td><td>0</td><td>&quot;No reviews&quot;</td><td>0</td><td>0</td><td>0</td></tr><tr><td>74956</td><td>2022640</td><td>&quot;XTAL&quot;</td><td>[&quot;True Colors&quot;]</td><td>[&quot;True Colors&quot;]</td><td>[&quot;Single-player&quot;, &quot;Steam Achievements&quot;, … &quot;Family Sharing&quot;]</td><td>[&quot;Action&quot;, &quot;Adventure&quot;]</td><td>null</td><td>null</td><td>null</td><td>&quot;XTAL is a hybrid TPS/Hack &#x27;n&#x27; …</td><td>0</td><td>&quot;No reviews&quot;</td><td>0</td><td>0</td><td>0</td></tr><tr><td>74957</td><td>1565140</td><td>&quot;Godsbane Idle&quot;</td><td>[&quot;MadJones&quot;]</td><td>[&quot;MadJones&quot;]</td><td>[&quot;Single-player&quot;, &quot;Steam Achievements&quot;, … &quot;Steam Cloud&quot;]</td><td>[&quot;Free To Play&quot;, &quot;Indie&quot;, … &quot;Early Access&quot;]</td><td>null</td><td>null</td><td>null</td><td>&quot;Godsbane Idle is a fresh idle …</td><td>0</td><td>&quot;No reviews&quot;</td><td>0</td><td>0</td><td>0</td></tr><tr><td>74958</td><td>684460</td><td>&quot;Project Lucie&quot;</td><td>[&quot;Bohemia Interactive&quot;]</td><td>[&quot;Bohemia Interactive&quot;]</td><td>[&quot;Single-player&quot;, &quot;Family Sharing&quot;]</td><td>[&quot;Adventure&quot;, &quot;Indie&quot;]</td><td>null</td><td>null</td><td>null</td><td>&quot;Players take on the role of Lu…</td><td>0</td><td>&quot;No reviews&quot;</td><td>0</td><td>0</td><td>0</td></tr><tr><td>74959</td><td>1402480</td><td>&quot;NARAKA: BLADEPOINT / 永劫無間 - Te…</td><td>[&quot;24 Entertainment&quot;]</td><td>[&quot; 24 Entertainment&quot;]</td><td>[&quot;Multi-player&quot;, &quot;PvP&quot;, &quot;Online PvP&quot;]</td><td>[&quot;Action&quot;, &quot;Adventure&quot;]</td><td>null</td><td>null</td><td>null</td><td>&quot;NARAKA: BLADEPOINT is Battle R…</td><td>0</td><td>&quot;No reviews&quot;</td><td>0</td><td>0</td><td>0</td></tr></tbody></table></div>"
      ]
     },
     "execution_count": 28,
     "metadata": {},
     "output_type": "execute_result"
    }
   ],
   "execution_count": 28
  },
  {
   "metadata": {
    "ExecuteTime": {
     "end_time": "2025-07-13T15:24:38.263352Z",
     "start_time": "2025-07-13T15:24:37.256804Z"
    }
   },
   "cell_type": "code",
   "source": "games_df = duckdb_conn.sql(f\"SELECT * FROM game_rolling_features WHERE DATE(game_review_day) <= '{CUT_TIMESTAMP}'\").pl()",
   "id": "eda219fc8ac7c8e8",
   "outputs": [],
   "execution_count": 4
  },
  {
   "metadata": {
    "ExecuteTime": {
     "end_time": "2025-07-13T15:24:39.268604Z",
     "start_time": "2025-07-13T15:24:39.206315Z"
    }
   },
   "cell_type": "code",
   "source": "dim_games_df =duckdb_conn.sql(f\"SELECT * FROM dim_games_imputed WHERE DATE(game_prerelease_date) <= '{CUT_TIMESTAMP}'\").pl()",
   "id": "8f0c85b0978b54c",
   "outputs": [],
   "execution_count": 5
  },
  {
   "metadata": {
    "ExecuteTime": {
     "end_time": "2025-07-13T15:24:49.533342Z",
     "start_time": "2025-07-13T15:24:40.493863Z"
    }
   },
   "cell_type": "code",
   "source": "reviews_df = duckdb_conn.sql(f\"SELECT * FROM fact_reviews WHERE DATE(timestamp_created) <= '{CUT_TIMESTAMP}'\").pl()",
   "id": "f55f1b1cd7a4a74d",
   "outputs": [
    {
     "data": {
      "text/plain": [
       "FloatProgress(value=0.0, layout=Layout(width='auto'), style=ProgressStyle(bar_color='black'))"
      ],
      "application/vnd.jupyter.widget-view+json": {
       "version_major": 2,
       "version_minor": 0,
       "model_id": "9d32847f684c4f0c8a1ecdec91e72ae0"
      }
     },
     "metadata": {},
     "output_type": "display_data"
    }
   ],
   "execution_count": 6
  },
  {
   "metadata": {
    "ExecuteTime": {
     "end_time": "2025-07-13T15:31:32.757892Z",
     "start_time": "2025-07-13T15:31:29.134583Z"
    }
   },
   "cell_type": "code",
   "source": "users_df = duckdb_conn.sql(f\"SELECT * FROM dim_users WHERE DATE(first_review_timestamp) <= '{CUT_TIMESTAMP}'\").pl()",
   "id": "2222724047001173",
   "outputs": [
    {
     "data": {
      "text/plain": [
       "FloatProgress(value=0.0, layout=Layout(width='auto'), style=ProgressStyle(bar_color='black'))"
      ],
      "application/vnd.jupyter.widget-view+json": {
       "version_major": 2,
       "version_minor": 0,
       "model_id": "116700592409483cafee206e21647d5b"
      }
     },
     "metadata": {},
     "output_type": "display_data"
    }
   ],
   "execution_count": 18
  },
  {
   "metadata": {
    "ExecuteTime": {
     "end_time": "2025-07-13T15:25:00.077637Z",
     "start_time": "2025-07-13T15:24:59.713483Z"
    }
   },
   "cell_type": "code",
   "source": "games_df.sort(\"game_index\", descending=True)",
   "id": "4598d951c31f6508",
   "outputs": [
    {
     "data": {
      "text/plain": [
       "shape: (885_082, 21)\n",
       "┌────────────┬─────────┬───────────┬───────────┬───┬───────────┬───────────┬───────────┬───────────┐\n",
       "│ game_index ┆ game_id ┆ game_name ┆ game_deve ┆ … ┆ game_num_ ┆ game_num_ ┆ game_num_ ┆ game_weig │\n",
       "│ ---        ┆ ---     ┆ ---       ┆ lopers    ┆   ┆ reviews   ┆ positive_ ┆ negative_ ┆ hted_scor │\n",
       "│ i64        ┆ i64     ┆ str       ┆ ---       ┆   ┆ ---       ┆ reviews   ┆ reviews   ┆ e         │\n",
       "│            ┆         ┆           ┆ list[str] ┆   ┆ i64       ┆ ---       ┆ ---       ┆ ---       │\n",
       "│            ┆         ┆           ┆           ┆   ┆           ┆ decimal[3 ┆ decimal[3 ┆ f64       │\n",
       "│            ┆         ┆           ┆           ┆   ┆           ┆ 8,0]      ┆ 8,0]      ┆           │\n",
       "╞════════════╪═════════╪═══════════╪═══════════╪═══╪═══════════╪═══════════╪═══════════╪═══════════╡\n",
       "│ 9074       ┆ 552870  ┆ aMAZEing  ┆ [\"Ascenda ┆ … ┆ 1         ┆ 1         ┆ 0         ┆ 1.0       │\n",
       "│            ┆         ┆ adventure ┆ nt        ┆   ┆           ┆           ┆           ┆           │\n",
       "│            ┆         ┆ s         ┆ Studio\"]  ┆   ┆           ┆           ┆           ┆           │\n",
       "│ 9071       ┆ 562430  ┆ Alien     ┆ [\"Four    ┆ … ┆ 1         ┆ 1         ┆ 0         ┆ 1.0       │\n",
       "│            ┆         ┆ Hostage   ┆ Winged    ┆   ┆           ┆           ┆           ┆           │\n",
       "│            ┆         ┆           ┆ Studio\"]  ┆   ┆           ┆           ┆           ┆           │\n",
       "│ 9067       ┆ 575010  ┆ Celestial ┆ [\"Touwaku ┆ … ┆ 2         ┆ 2         ┆ 0         ┆ 1.0       │\n",
       "│            ┆         ┆ Crossing  ┆ Studio\"]  ┆   ┆           ┆           ┆           ┆           │\n",
       "│ 9067       ┆ 575010  ┆ Celestial ┆ [\"Touwaku ┆ … ┆ 3         ┆ 3         ┆ 0         ┆ 1.0       │\n",
       "│            ┆         ┆ Crossing  ┆ Studio\"]  ┆   ┆           ┆           ┆           ┆           │\n",
       "│ 9067       ┆ 575010  ┆ Celestial ┆ [\"Touwaku ┆ … ┆ 1         ┆ 1         ┆ 0         ┆ 1.0       │\n",
       "│            ┆         ┆ Crossing  ┆ Studio\"]  ┆   ┆           ┆           ┆           ┆           │\n",
       "│ …          ┆ …       ┆ …         ┆ …         ┆ … ┆ …         ┆ …         ┆ …         ┆ …         │\n",
       "│ 0          ┆ 232770  ┆ POSTAL    ┆ [\"Running ┆ … ┆ 101       ┆ 78        ┆ 23        ┆ 0.800128  │\n",
       "│            ┆         ┆           ┆ With Scis ┆   ┆           ┆           ┆           ┆           │\n",
       "│            ┆         ┆           ┆ sors\"]    ┆   ┆           ┆           ┆           ┆           │\n",
       "│ 0          ┆ 232770  ┆ POSTAL    ┆ [\"Running ┆ … ┆ 151       ┆ 122       ┆ 29        ┆ 0.82939   │\n",
       "│            ┆         ┆           ┆ With Scis ┆   ┆           ┆           ┆           ┆           │\n",
       "│            ┆         ┆           ┆ sors\"]    ┆   ┆           ┆           ┆           ┆           │\n",
       "│ 0          ┆ 232770  ┆ POSTAL    ┆ [\"Running ┆ … ┆ 191       ┆ 149       ┆ 42        ┆ 0.80089   │\n",
       "│            ┆         ┆           ┆ With Scis ┆   ┆           ┆           ┆           ┆           │\n",
       "│            ┆         ┆           ┆ sors\"]    ┆   ┆           ┆           ┆           ┆           │\n",
       "│ 0          ┆ 232770  ┆ POSTAL    ┆ [\"Running ┆ … ┆ 213       ┆ 166       ┆ 47        ┆ 0.799562  │\n",
       "│            ┆         ┆           ┆ With Scis ┆   ┆           ┆           ┆           ┆           │\n",
       "│            ┆         ┆           ┆ sors\"]    ┆   ┆           ┆           ┆           ┆           │\n",
       "│ 0          ┆ 232770  ┆ POSTAL    ┆ [\"Running ┆ … ┆ 283       ┆ 223       ┆ 60        ┆ 0.80716   │\n",
       "│            ┆         ┆           ┆ With Scis ┆   ┆           ┆           ┆           ┆           │\n",
       "│            ┆         ┆           ┆ sors\"]    ┆   ┆           ┆           ┆           ┆           │\n",
       "└────────────┴─────────┴───────────┴───────────┴───┴───────────┴───────────┴───────────┴───────────┘"
      ],
      "text/html": [
       "<div><style>\n",
       ".dataframe > thead > tr,\n",
       ".dataframe > tbody > tr {\n",
       "  text-align: right;\n",
       "  white-space: pre-wrap;\n",
       "}\n",
       "</style>\n",
       "<small>shape: (885_082, 21)</small><table border=\"1\" class=\"dataframe\"><thead><tr><th>game_index</th><th>game_id</th><th>game_name</th><th>game_developers</th><th>game_publishers</th><th>game_categories</th><th>game_genres</th><th>game_steam_release_date</th><th>game_release_date</th><th>game_prerelease_date</th><th>game_short_description</th><th>game_review_score</th><th>game_review_score_description</th><th>game_total_reviews</th><th>game_total_positive_reviews</th><th>game_total_negative_reviews</th><th>game_review_day</th><th>game_num_reviews</th><th>game_num_positive_reviews</th><th>game_num_negative_reviews</th><th>game_weighted_score</th></tr><tr><td>i64</td><td>i64</td><td>str</td><td>list[str]</td><td>list[str]</td><td>list[str]</td><td>list[str]</td><td>datetime[μs]</td><td>datetime[μs, America/Lima]</td><td>datetime[μs, America/Lima]</td><td>str</td><td>i64</td><td>str</td><td>i64</td><td>i64</td><td>i64</td><td>date</td><td>i64</td><td>decimal[38,0]</td><td>decimal[38,0]</td><td>f64</td></tr></thead><tbody><tr><td>9074</td><td>552870</td><td>&quot;aMAZEing adventures&quot;</td><td>[&quot;Ascendant Studio&quot;]</td><td>[&quot;Ascendant Studio&quot;]</td><td>[&quot;Single-player&quot;, &quot;Tracked Motion Controller&quot;, … &quot;Family Sharing&quot;]</td><td>[&quot;Adventure&quot;, &quot;Casual&quot;, &quot;Indie&quot;]</td><td>2017-12-21 00:00:00</td><td>2017-12-21 00:00:00 -05</td><td>2017-01-01 17:30:31 -05</td><td>&quot;aMAZEing adventures is addicti…</td><td>0</td><td>&quot;5 user reviews&quot;</td><td>5</td><td>4</td><td>1</td><td>2017-01-01</td><td>1</td><td>1</td><td>0</td><td>1.0</td></tr><tr><td>9071</td><td>562430</td><td>&quot;Alien Hostage&quot;</td><td>[&quot;Four Winged Studio&quot;]</td><td>[&quot;Conglomerate 5&quot;]</td><td>[&quot;Single-player&quot;, &quot;Steam Achievements&quot;, … &quot;Family Sharing&quot;]</td><td>[&quot;Casual&quot;, &quot;Indie&quot;, … &quot;Strategy&quot;]</td><td>2018-10-01 00:00:00</td><td>2018-10-01 00:00:00 -05</td><td>2016-12-30 19:56:11 -05</td><td>&quot;Ready to give up? Ready to rag…</td><td>5</td><td>&quot;Mixed&quot;</td><td>38</td><td>21</td><td>17</td><td>2016-12-30</td><td>1</td><td>1</td><td>0</td><td>1.0</td></tr><tr><td>9067</td><td>575010</td><td>&quot;Celestial Crossing&quot;</td><td>[&quot;Touwaku Studio&quot;]</td><td>[&quot;Touwaku Studio&quot;]</td><td>[&quot;Single-player&quot;, &quot;Steam Trading Cards&quot;, &quot;Family Sharing&quot;]</td><td>[&quot;Adventure&quot;, &quot;Indie&quot;]</td><td>2016-12-30 00:00:00</td><td>2016-12-30 00:00:00 -05</td><td>2016-12-30 00:00:00 -05</td><td>&quot;Would you get along with your …</td><td>6</td><td>&quot;Mostly Positive&quot;</td><td>85</td><td>65</td><td>20</td><td>2016-12-31</td><td>2</td><td>2</td><td>0</td><td>1.0</td></tr><tr><td>9067</td><td>575010</td><td>&quot;Celestial Crossing&quot;</td><td>[&quot;Touwaku Studio&quot;]</td><td>[&quot;Touwaku Studio&quot;]</td><td>[&quot;Single-player&quot;, &quot;Steam Trading Cards&quot;, &quot;Family Sharing&quot;]</td><td>[&quot;Adventure&quot;, &quot;Indie&quot;]</td><td>2016-12-30 00:00:00</td><td>2016-12-30 00:00:00 -05</td><td>2016-12-30 00:00:00 -05</td><td>&quot;Would you get along with your …</td><td>6</td><td>&quot;Mostly Positive&quot;</td><td>85</td><td>65</td><td>20</td><td>2017-01-01</td><td>3</td><td>3</td><td>0</td><td>1.0</td></tr><tr><td>9067</td><td>575010</td><td>&quot;Celestial Crossing&quot;</td><td>[&quot;Touwaku Studio&quot;]</td><td>[&quot;Touwaku Studio&quot;]</td><td>[&quot;Single-player&quot;, &quot;Steam Trading Cards&quot;, &quot;Family Sharing&quot;]</td><td>[&quot;Adventure&quot;, &quot;Indie&quot;]</td><td>2016-12-30 00:00:00</td><td>2016-12-30 00:00:00 -05</td><td>2016-12-30 00:00:00 -05</td><td>&quot;Would you get along with your …</td><td>6</td><td>&quot;Mostly Positive&quot;</td><td>85</td><td>65</td><td>20</td><td>2016-12-30</td><td>1</td><td>1</td><td>0</td><td>1.0</td></tr><tr><td>&hellip;</td><td>&hellip;</td><td>&hellip;</td><td>&hellip;</td><td>&hellip;</td><td>&hellip;</td><td>&hellip;</td><td>&hellip;</td><td>&hellip;</td><td>&hellip;</td><td>&hellip;</td><td>&hellip;</td><td>&hellip;</td><td>&hellip;</td><td>&hellip;</td><td>&hellip;</td><td>&hellip;</td><td>&hellip;</td><td>&hellip;</td><td>&hellip;</td><td>&hellip;</td></tr><tr><td>0</td><td>232770</td><td>&quot;POSTAL&quot;</td><td>[&quot;Running With Scissors&quot;]</td><td>[&quot;Running With Scissors&quot;]</td><td>[&quot;Single-player&quot;, &quot;Steam Achievements&quot;, … &quot;Family Sharing&quot;]</td><td>[&quot;Action&quot;, &quot;Indie&quot;]</td><td>1997-11-14 00:00:00</td><td>1997-11-14 00:00:00 -05</td><td>1997-11-14 00:00:00 -05</td><td>&quot;Take control of The POSTAL Dud…</td><td>8</td><td>&quot;Very Positive&quot;</td><td>1323</td><td>1144</td><td>179</td><td>2014-11-20</td><td>101</td><td>78</td><td>23</td><td>0.800128</td></tr><tr><td>0</td><td>232770</td><td>&quot;POSTAL&quot;</td><td>[&quot;Running With Scissors&quot;]</td><td>[&quot;Running With Scissors&quot;]</td><td>[&quot;Single-player&quot;, &quot;Steam Achievements&quot;, … &quot;Family Sharing&quot;]</td><td>[&quot;Action&quot;, &quot;Indie&quot;]</td><td>1997-11-14 00:00:00</td><td>1997-11-14 00:00:00 -05</td><td>1997-11-14 00:00:00 -05</td><td>&quot;Take control of The POSTAL Dud…</td><td>8</td><td>&quot;Very Positive&quot;</td><td>1323</td><td>1144</td><td>179</td><td>2015-01-16</td><td>151</td><td>122</td><td>29</td><td>0.82939</td></tr><tr><td>0</td><td>232770</td><td>&quot;POSTAL&quot;</td><td>[&quot;Running With Scissors&quot;]</td><td>[&quot;Running With Scissors&quot;]</td><td>[&quot;Single-player&quot;, &quot;Steam Achievements&quot;, … &quot;Family Sharing&quot;]</td><td>[&quot;Action&quot;, &quot;Indie&quot;]</td><td>1997-11-14 00:00:00</td><td>1997-11-14 00:00:00 -05</td><td>1997-11-14 00:00:00 -05</td><td>&quot;Take control of The POSTAL Dud…</td><td>8</td><td>&quot;Very Positive&quot;</td><td>1323</td><td>1144</td><td>179</td><td>2015-03-21</td><td>191</td><td>149</td><td>42</td><td>0.80089</td></tr><tr><td>0</td><td>232770</td><td>&quot;POSTAL&quot;</td><td>[&quot;Running With Scissors&quot;]</td><td>[&quot;Running With Scissors&quot;]</td><td>[&quot;Single-player&quot;, &quot;Steam Achievements&quot;, … &quot;Family Sharing&quot;]</td><td>[&quot;Action&quot;, &quot;Indie&quot;]</td><td>1997-11-14 00:00:00</td><td>1997-11-14 00:00:00 -05</td><td>1997-11-14 00:00:00 -05</td><td>&quot;Take control of The POSTAL Dud…</td><td>8</td><td>&quot;Very Positive&quot;</td><td>1323</td><td>1144</td><td>179</td><td>2015-04-01</td><td>213</td><td>166</td><td>47</td><td>0.799562</td></tr><tr><td>0</td><td>232770</td><td>&quot;POSTAL&quot;</td><td>[&quot;Running With Scissors&quot;]</td><td>[&quot;Running With Scissors&quot;]</td><td>[&quot;Single-player&quot;, &quot;Steam Achievements&quot;, … &quot;Family Sharing&quot;]</td><td>[&quot;Action&quot;, &quot;Indie&quot;]</td><td>1997-11-14 00:00:00</td><td>1997-11-14 00:00:00 -05</td><td>1997-11-14 00:00:00 -05</td><td>&quot;Take control of The POSTAL Dud…</td><td>8</td><td>&quot;Very Positive&quot;</td><td>1323</td><td>1144</td><td>179</td><td>2015-06-29</td><td>283</td><td>223</td><td>60</td><td>0.80716</td></tr></tbody></table></div>"
      ]
     },
     "execution_count": 7,
     "metadata": {},
     "output_type": "execute_result"
    }
   ],
   "execution_count": 7
  },
  {
   "metadata": {
    "ExecuteTime": {
     "end_time": "2025-07-13T15:25:14.433273Z",
     "start_time": "2025-07-13T15:25:14.426598Z"
    }
   },
   "cell_type": "code",
   "source": "dim_games_df.sort(\"game_index\", descending=True)",
   "id": "931fe30f22f8fe5c",
   "outputs": [
    {
     "data": {
      "text/plain": [
       "shape: (9_075, 16)\n",
       "┌────────────┬─────────┬───────────┬───────────┬───┬───────────┬───────────┬───────────┬───────────┐\n",
       "│ game_index ┆ game_id ┆ game_name ┆ game_deve ┆ … ┆ game_revi ┆ game_tota ┆ game_tota ┆ game_tota │\n",
       "│ ---        ┆ ---     ┆ ---       ┆ lopers    ┆   ┆ ew_score_ ┆ l_reviews ┆ l_positiv ┆ l_negativ │\n",
       "│ i64        ┆ i64     ┆ str       ┆ ---       ┆   ┆ descripti ┆ ---       ┆ e_reviews ┆ e_reviews │\n",
       "│            ┆         ┆           ┆ list[str] ┆   ┆ on        ┆ i64       ┆ ---       ┆ ---       │\n",
       "│            ┆         ┆           ┆           ┆   ┆ ---       ┆           ┆ i64       ┆ i64       │\n",
       "│            ┆         ┆           ┆           ┆   ┆ str       ┆           ┆           ┆           │\n",
       "╞════════════╪═════════╪═══════════╪═══════════╪═══╪═══════════╪═══════════╪═══════════╪═══════════╡\n",
       "│ 9074       ┆ 552870  ┆ aMAZEing  ┆ [\"Ascenda ┆ … ┆ 5 user    ┆ 5         ┆ 4         ┆ 1         │\n",
       "│            ┆         ┆ adventure ┆ nt        ┆   ┆ reviews   ┆           ┆           ┆           │\n",
       "│            ┆         ┆ s         ┆ Studio\"]  ┆   ┆           ┆           ┆           ┆           │\n",
       "│ 9073       ┆ 573330  ┆ Equilibri ┆ [\"Funny   ┆ … ┆ 5 user    ┆ 5         ┆ 2         ┆ 3         │\n",
       "│            ┆         ┆ um VR     ┆ Twins\"]   ┆   ┆ reviews   ┆           ┆           ┆           │\n",
       "│ 9072       ┆ 557670  ┆ Spooky    ┆ [\"ClubHou ┆ … ┆ No        ┆ 0         ┆ 0         ┆ 0         │\n",
       "│            ┆         ┆ Night     ┆ seVR\"]    ┆   ┆ reviews   ┆           ┆           ┆           │\n",
       "│ 9071       ┆ 562430  ┆ Alien     ┆ [\"Four    ┆ … ┆ Mixed     ┆ 38        ┆ 21        ┆ 17        │\n",
       "│            ┆         ┆ Hostage   ┆ Winged    ┆   ┆           ┆           ┆           ┆           │\n",
       "│            ┆         ┆           ┆ Studio\"]  ┆   ┆           ┆           ┆           ┆           │\n",
       "│ 9070       ┆ 490910  ┆ Control   ┆ [\"Cristia ┆ … ┆ No        ┆ 0         ┆ 0         ┆ 0         │\n",
       "│            ┆         ┆ Craft 3   ┆ n Manolac ┆   ┆ reviews   ┆           ┆           ┆           │\n",
       "│            ┆         ┆           ┆ hi\",      ┆   ┆           ┆           ┆           ┆           │\n",
       "│            ┆         ┆           ┆ \"Atomic…  ┆   ┆           ┆           ┆           ┆           │\n",
       "│ …          ┆ …       ┆ …         ┆ …         ┆ … ┆ …         ┆ …         ┆ …         ┆ …         │\n",
       "│ 4          ┆ 60      ┆ Ricochet  ┆ [\"Valve\"] ┆ … ┆ Very      ┆ 2856      ┆ 2453      ┆ 403       │\n",
       "│            ┆         ┆           ┆           ┆   ┆ Positive  ┆           ┆           ┆           │\n",
       "│ 3          ┆ 50      ┆ Half-Life ┆ [\"Gearbox ┆ … ┆ Overwhelm ┆ 11992     ┆ 11438     ┆ 554       │\n",
       "│            ┆         ┆ :         ┆ Software\" ┆   ┆ ingly     ┆           ┆           ┆           │\n",
       "│            ┆         ┆ Opposing  ┆ ]         ┆   ┆ Positive  ┆           ┆           ┆           │\n",
       "│            ┆         ┆ Force     ┆           ┆   ┆           ┆           ┆           ┆           │\n",
       "│ 2          ┆ 20      ┆ Team      ┆ [\"Valve\"] ┆ … ┆ Very      ┆ 4018      ┆ 3469      ┆ 549       │\n",
       "│            ┆         ┆ Fortress  ┆           ┆   ┆ Positive  ┆           ┆           ┆           │\n",
       "│            ┆         ┆ Classic   ┆           ┆   ┆           ┆           ┆           ┆           │\n",
       "│ 1          ┆ 70      ┆ Half-Life ┆ [\"Valve\"] ┆ … ┆ Overwhelm ┆ 52708     ┆ 50840     ┆ 1868      │\n",
       "│            ┆         ┆           ┆           ┆   ┆ ingly     ┆           ┆           ┆           │\n",
       "│            ┆         ┆           ┆           ┆   ┆ Positive  ┆           ┆           ┆           │\n",
       "│ 0          ┆ 232770  ┆ POSTAL    ┆ [\"Running ┆ … ┆ Very      ┆ 1323      ┆ 1144      ┆ 179       │\n",
       "│            ┆         ┆           ┆ With Scis ┆   ┆ Positive  ┆           ┆           ┆           │\n",
       "│            ┆         ┆           ┆ sors\"]    ┆   ┆           ┆           ┆           ┆           │\n",
       "└────────────┴─────────┴───────────┴───────────┴───┴───────────┴───────────┴───────────┴───────────┘"
      ],
      "text/html": [
       "<div><style>\n",
       ".dataframe > thead > tr,\n",
       ".dataframe > tbody > tr {\n",
       "  text-align: right;\n",
       "  white-space: pre-wrap;\n",
       "}\n",
       "</style>\n",
       "<small>shape: (9_075, 16)</small><table border=\"1\" class=\"dataframe\"><thead><tr><th>game_index</th><th>game_id</th><th>game_name</th><th>game_developers</th><th>game_publishers</th><th>game_categories</th><th>game_genres</th><th>game_steam_release_date</th><th>game_release_date</th><th>game_prerelease_date</th><th>game_short_description</th><th>game_review_score</th><th>game_review_score_description</th><th>game_total_reviews</th><th>game_total_positive_reviews</th><th>game_total_negative_reviews</th></tr><tr><td>i64</td><td>i64</td><td>str</td><td>list[str]</td><td>list[str]</td><td>list[str]</td><td>list[str]</td><td>datetime[μs]</td><td>datetime[μs, America/Lima]</td><td>datetime[μs, America/Lima]</td><td>str</td><td>i64</td><td>str</td><td>i64</td><td>i64</td><td>i64</td></tr></thead><tbody><tr><td>9074</td><td>552870</td><td>&quot;aMAZEing adventures&quot;</td><td>[&quot;Ascendant Studio&quot;]</td><td>[&quot;Ascendant Studio&quot;]</td><td>[&quot;Single-player&quot;, &quot;Tracked Motion Controller&quot;, … &quot;Family Sharing&quot;]</td><td>[&quot;Adventure&quot;, &quot;Casual&quot;, &quot;Indie&quot;]</td><td>2017-12-21 00:00:00</td><td>2017-12-21 00:00:00 -05</td><td>2017-01-01 17:30:31 -05</td><td>&quot;aMAZEing adventures is addicti…</td><td>0</td><td>&quot;5 user reviews&quot;</td><td>5</td><td>4</td><td>1</td></tr><tr><td>9073</td><td>573330</td><td>&quot;Equilibrium VR&quot;</td><td>[&quot;Funny Twins&quot;]</td><td>[&quot;Funny Twins&quot;]</td><td>[&quot;Single-player&quot;, &quot;Tracked Motion Controller&quot;, … &quot;Family Sharing&quot;]</td><td>[&quot;Action&quot;, &quot;Adventure&quot;, … &quot;Indie&quot;]</td><td>2017-01-01 00:00:00</td><td>2017-01-01 00:00:00 -05</td><td>2017-01-01 00:00:00 -05</td><td>&quot;In this magic game you will le…</td><td>0</td><td>&quot;5 user reviews&quot;</td><td>5</td><td>2</td><td>3</td></tr><tr><td>9072</td><td>557670</td><td>&quot;Spooky Night&quot;</td><td>[&quot;ClubHouseVR&quot;]</td><td>[&quot;ClubHouseVR&quot;]</td><td>[&quot;Single-player&quot;, &quot;Tracked Motion Controller&quot;, &quot;VR Only&quot;]</td><td>[&quot;Action&quot;, &quot;Casual&quot;, … &quot;Free To Play&quot;]</td><td>2016-12-31 00:00:00</td><td>2016-12-31 00:00:00 -05</td><td>2016-12-31 00:00:00 -05</td><td>&quot;Dive into &amp;quot;Spooky Night 🎃…</td><td>0</td><td>&quot;No reviews&quot;</td><td>0</td><td>0</td><td>0</td></tr><tr><td>9071</td><td>562430</td><td>&quot;Alien Hostage&quot;</td><td>[&quot;Four Winged Studio&quot;]</td><td>[&quot;Conglomerate 5&quot;]</td><td>[&quot;Single-player&quot;, &quot;Steam Achievements&quot;, … &quot;Family Sharing&quot;]</td><td>[&quot;Casual&quot;, &quot;Indie&quot;, … &quot;Strategy&quot;]</td><td>2018-10-01 00:00:00</td><td>2018-10-01 00:00:00 -05</td><td>2016-12-30 19:56:11 -05</td><td>&quot;Ready to give up? Ready to rag…</td><td>5</td><td>&quot;Mixed&quot;</td><td>38</td><td>21</td><td>17</td></tr><tr><td>9070</td><td>490910</td><td>&quot;Control Craft 3&quot;</td><td>[&quot;Cristian Manolachi&quot;, &quot;Atomic Fabrik&quot;]</td><td>[&quot;Conglomerate 5&quot;]</td><td>[&quot;Single-player&quot;, &quot;Steam Achievements&quot;, … &quot;Family Sharing&quot;]</td><td>[&quot;Action&quot;, &quot;Adventure&quot;, … &quot;Strategy&quot;]</td><td>2016-12-30 00:00:00</td><td>2016-12-30 00:00:00 -05</td><td>2016-12-30 00:00:00 -05</td><td>&quot;Control Craft 3 is a fast pace…</td><td>0</td><td>&quot;No reviews&quot;</td><td>0</td><td>0</td><td>0</td></tr><tr><td>&hellip;</td><td>&hellip;</td><td>&hellip;</td><td>&hellip;</td><td>&hellip;</td><td>&hellip;</td><td>&hellip;</td><td>&hellip;</td><td>&hellip;</td><td>&hellip;</td><td>&hellip;</td><td>&hellip;</td><td>&hellip;</td><td>&hellip;</td><td>&hellip;</td><td>&hellip;</td></tr><tr><td>4</td><td>60</td><td>&quot;Ricochet&quot;</td><td>[&quot;Valve&quot;]</td><td>[&quot;Valve&quot;]</td><td>[&quot;Multi-player&quot;, &quot;PvP&quot;, … &quot;Family Sharing&quot;]</td><td>[&quot;Action&quot;]</td><td>2000-11-01 00:00:00</td><td>2000-11-01 00:00:00 -05</td><td>2000-11-01 00:00:00 -05</td><td>&quot;A futuristic action game that …</td><td>8</td><td>&quot;Very Positive&quot;</td><td>2856</td><td>2453</td><td>403</td></tr><tr><td>3</td><td>50</td><td>&quot;Half-Life: Opposing Force&quot;</td><td>[&quot;Gearbox Software&quot;]</td><td>[&quot;Valve&quot;]</td><td>[&quot;Single-player&quot;, &quot;Multi-player&quot;, … &quot;Family Sharing&quot;]</td><td>[&quot;Action&quot;]</td><td>1999-11-01 00:00:00</td><td>1999-11-01 00:00:00 -05</td><td>1999-11-01 00:00:00 -05</td><td>&quot;Return to the Black Mesa Resea…</td><td>9</td><td>&quot;Overwhelmingly Positive&quot;</td><td>11992</td><td>11438</td><td>554</td></tr><tr><td>2</td><td>20</td><td>&quot;Team Fortress Classic&quot;</td><td>[&quot;Valve&quot;]</td><td>[&quot;Valve&quot;]</td><td>[&quot;Multi-player&quot;, &quot;PvP&quot;, … &quot;Family Sharing&quot;]</td><td>[&quot;Action&quot;]</td><td>1999-04-01 00:00:00</td><td>1999-04-01 00:00:00 -05</td><td>1999-04-01 00:00:00 -05</td><td>&quot;One of the most popular online…</td><td>8</td><td>&quot;Very Positive&quot;</td><td>4018</td><td>3469</td><td>549</td></tr><tr><td>1</td><td>70</td><td>&quot;Half-Life&quot;</td><td>[&quot;Valve&quot;]</td><td>[&quot;Valve&quot;]</td><td>[&quot;Single-player&quot;, &quot;Multi-player&quot;, … &quot;Family Sharing&quot;]</td><td>[&quot;Action&quot;]</td><td>1998-11-19 00:00:00</td><td>1998-11-19 00:00:00 -05</td><td>1998-11-19 00:00:00 -05</td><td>&quot;Named Game of the Year by over…</td><td>9</td><td>&quot;Overwhelmingly Positive&quot;</td><td>52708</td><td>50840</td><td>1868</td></tr><tr><td>0</td><td>232770</td><td>&quot;POSTAL&quot;</td><td>[&quot;Running With Scissors&quot;]</td><td>[&quot;Running With Scissors&quot;]</td><td>[&quot;Single-player&quot;, &quot;Steam Achievements&quot;, … &quot;Family Sharing&quot;]</td><td>[&quot;Action&quot;, &quot;Indie&quot;]</td><td>1997-11-14 00:00:00</td><td>1997-11-14 00:00:00 -05</td><td>1997-11-14 00:00:00 -05</td><td>&quot;Take control of The POSTAL Dud…</td><td>8</td><td>&quot;Very Positive&quot;</td><td>1323</td><td>1144</td><td>179</td></tr></tbody></table></div>"
      ]
     },
     "execution_count": 8,
     "metadata": {},
     "output_type": "execute_result"
    }
   ],
   "execution_count": 8
  },
  {
   "metadata": {
    "ExecuteTime": {
     "end_time": "2025-07-13T15:25:35.129494Z",
     "start_time": "2025-07-13T15:25:34.952239Z"
    }
   },
   "cell_type": "code",
   "source": "reviews_df.sort(\"game_index\", descending=True)",
   "id": "824ce5b4ddd05bde",
   "outputs": [
    {
     "data": {
      "text/plain": [
       "shape: (3_530_852, 9)\n",
       "┌───────────┬───────────┬───────────┬───────────┬───┬───────────┬──────────┬───────────┬───────────┐\n",
       "│ user_inde ┆ game_inde ┆ review    ┆ written_d ┆ … ┆ weighted_ ┆ votes_up ┆ comment_c ┆ timestamp │\n",
       "│ x         ┆ x         ┆ ---       ┆ uring_ear ┆   ┆ vote_scor ┆ ---      ┆ ount      ┆ _created  │\n",
       "│ ---       ┆ ---       ┆ str       ┆ ly_access ┆   ┆ e         ┆ i64      ┆ ---       ┆ ---       │\n",
       "│ i64       ┆ i64       ┆           ┆ ---       ┆   ┆ ---       ┆          ┆ i64       ┆ datetime[ │\n",
       "│           ┆           ┆           ┆ bool      ┆   ┆ f64       ┆          ┆           ┆ μs, Ameri │\n",
       "│           ┆           ┆           ┆           ┆   ┆           ┆          ┆           ┆ ca/Lima]  │\n",
       "╞═══════════╪═══════════╪═══════════╪═══════════╪═══╪═══════════╪══════════╪═══════════╪═══════════╡\n",
       "│ 127460    ┆ 9074      ┆ This game ┆ true      ┆ … ┆ 0.54216   ┆ 8        ┆ 0         ┆ 2017-01-0 │\n",
       "│           ┆           ┆ is good   ┆           ┆   ┆           ┆          ┆           ┆ 1         │\n",
       "│           ┆           ┆ reminder  ┆           ┆   ┆           ┆          ┆           ┆ 17:30:31  │\n",
       "│           ┆           ┆ of …      ┆           ┆   ┆           ┆          ┆           ┆ -05       │\n",
       "│ 44740     ┆ 9071      ┆ [h1]Alien ┆ true      ┆ … ┆ 0.456377  ┆ 7        ┆ 6         ┆ 2016-12-3 │\n",
       "│           ┆           ┆ Hostage[/ ┆           ┆   ┆           ┆          ┆           ┆ 0         │\n",
       "│           ┆           ┆ h1]       ┆           ┆   ┆           ┆          ┆           ┆ 19:56:11  │\n",
       "│           ┆           ┆           ┆           ┆   ┆           ┆          ┆           ┆ -05       │\n",
       "│           ┆           ┆ This g…   ┆           ┆   ┆           ┆          ┆           ┆           │\n",
       "│ 206043    ┆ 9067      ┆ Fun for   ┆ false     ┆ … ┆ 0.416069  ┆ 12       ┆ 0         ┆ 2016-12-3 │\n",
       "│           ┆           ┆ about     ┆           ┆   ┆           ┆          ┆           ┆ 0         │\n",
       "│           ┆           ┆ around    ┆           ┆   ┆           ┆          ┆           ┆ 17:01:01  │\n",
       "│           ┆           ┆ two       ┆           ┆   ┆           ┆          ┆           ┆ -05       │\n",
       "│           ┆           ┆ hours…    ┆           ┆   ┆           ┆          ┆           ┆           │\n",
       "│ 574700    ┆ 9067      ┆ Okay      ┆ false     ┆ … ┆ 0.84678   ┆ 97       ┆ 2         ┆ 2017-01-0 │\n",
       "│           ┆           ┆ well, I   ┆           ┆   ┆           ┆          ┆           ┆ 1         │\n",
       "│           ┆           ┆ had a     ┆           ┆   ┆           ┆          ┆           ┆ 14:50:17  │\n",
       "│           ┆           ┆ whole     ┆           ┆   ┆           ┆          ┆           ┆ -05       │\n",
       "│           ┆           ┆ spiel…    ┆           ┆   ┆           ┆          ┆           ┆           │\n",
       "│ 36459     ┆ 9067      ┆ Well, the ┆ false     ┆ … ┆ 0.498738  ┆ 6        ┆ 0         ┆ 2016-12-3 │\n",
       "│           ┆           ┆ only      ┆           ┆   ┆           ┆          ┆           ┆ 1         │\n",
       "│           ┆           ┆ visiual   ┆           ┆   ┆           ┆          ┆           ┆ 18:12:13  │\n",
       "│           ┆           ┆ novel I…  ┆           ┆   ┆           ┆          ┆           ┆ -05       │\n",
       "│ …         ┆ …         ┆ …         ┆ …         ┆ … ┆ …         ┆ …        ┆ …         ┆ …         │\n",
       "│ 1773469   ┆ 0         ┆ I know    ┆ false     ┆ … ┆ 0.5       ┆ 0        ┆ 0         ┆ 2016-11-2 │\n",
       "│           ┆           ┆ it's bad  ┆           ┆   ┆           ┆          ┆           ┆ 6         │\n",
       "│           ┆           ┆ for me.   ┆           ┆   ┆           ┆          ┆           ┆ 13:51:14  │\n",
       "│           ┆           ┆ But I …   ┆           ┆   ┆           ┆          ┆           ┆ -05       │\n",
       "│ 274731    ┆ 0         ┆ i         ┆ false     ┆ … ┆ 0.46875   ┆ 0        ┆ 0         ┆ 2015-01-1 │\n",
       "│           ┆           ┆ remember  ┆           ┆   ┆           ┆          ┆           ┆ 9         │\n",
       "│           ┆           ┆ this game ┆           ┆   ┆           ┆          ┆           ┆ 04:45:14  │\n",
       "│           ┆           ┆ getting   ┆           ┆   ┆           ┆          ┆           ┆ -05       │\n",
       "│           ┆           ┆ t…        ┆           ┆   ┆           ┆          ┆           ┆           │\n",
       "│ 871187    ┆ 0         ┆ The       ┆ false     ┆ … ┆ 0.513987  ┆ 1        ┆ 0         ┆ 2015-05-2 │\n",
       "│           ┆           ┆ classical ┆           ┆   ┆           ┆          ┆           ┆ 6         │\n",
       "│           ┆           ┆ isometric ┆           ┆   ┆           ┆          ┆           ┆ 06:02:56  │\n",
       "│           ┆           ┆ al RPG …  ┆           ┆   ┆           ┆          ┆           ┆ -05       │\n",
       "│ 864308    ┆ 0         ┆ There are ┆ false     ┆ … ┆ 0.5       ┆ 0        ┆ 0         ┆ 2015-03-2 │\n",
       "│           ┆           ┆ volume    ┆           ┆   ┆           ┆          ┆           ┆ 5         │\n",
       "│           ┆           ┆ sliders   ┆           ┆   ┆           ┆          ┆           ┆ 05:36:14  │\n",
       "│           ┆           ┆ for b…    ┆           ┆   ┆           ┆          ┆           ┆ -05       │\n",
       "│ 964777    ┆ 0         ┆ Story:    ┆ false     ┆ … ┆ 0.5       ┆ 0        ┆ 0         ┆ 2016-02-2 │\n",
       "│           ┆           ┆ You kill  ┆           ┆   ┆           ┆          ┆           ┆ 5         │\n",
       "│           ┆           ┆ people    ┆           ┆   ┆           ┆          ┆           ┆ 02:28:34  │\n",
       "│           ┆           ┆ Charact…  ┆           ┆   ┆           ┆          ┆           ┆ -05       │\n",
       "└───────────┴───────────┴───────────┴───────────┴───┴───────────┴──────────┴───────────┴───────────┘"
      ],
      "text/html": [
       "<div><style>\n",
       ".dataframe > thead > tr,\n",
       ".dataframe > tbody > tr {\n",
       "  text-align: right;\n",
       "  white-space: pre-wrap;\n",
       "}\n",
       "</style>\n",
       "<small>shape: (3_530_852, 9)</small><table border=\"1\" class=\"dataframe\"><thead><tr><th>user_index</th><th>game_index</th><th>review</th><th>written_during_early_access</th><th>voted_up</th><th>weighted_vote_score</th><th>votes_up</th><th>comment_count</th><th>timestamp_created</th></tr><tr><td>i64</td><td>i64</td><td>str</td><td>bool</td><td>bool</td><td>f64</td><td>i64</td><td>i64</td><td>datetime[μs, America/Lima]</td></tr></thead><tbody><tr><td>127460</td><td>9074</td><td>&quot;This game is good reminder of …</td><td>true</td><td>true</td><td>0.54216</td><td>8</td><td>0</td><td>2017-01-01 17:30:31 -05</td></tr><tr><td>44740</td><td>9071</td><td>&quot;[h1]Alien Hostage[/h1]\n",
       "\n",
       "This g…</td><td>true</td><td>true</td><td>0.456377</td><td>7</td><td>6</td><td>2016-12-30 19:56:11 -05</td></tr><tr><td>206043</td><td>9067</td><td>&quot;Fun for about around two hours…</td><td>false</td><td>true</td><td>0.416069</td><td>12</td><td>0</td><td>2016-12-30 17:01:01 -05</td></tr><tr><td>574700</td><td>9067</td><td>&quot;Okay well, I had a whole spiel…</td><td>false</td><td>true</td><td>0.84678</td><td>97</td><td>2</td><td>2017-01-01 14:50:17 -05</td></tr><tr><td>36459</td><td>9067</td><td>&quot;Well, the only visiual novel I…</td><td>false</td><td>true</td><td>0.498738</td><td>6</td><td>0</td><td>2016-12-31 18:12:13 -05</td></tr><tr><td>&hellip;</td><td>&hellip;</td><td>&hellip;</td><td>&hellip;</td><td>&hellip;</td><td>&hellip;</td><td>&hellip;</td><td>&hellip;</td><td>&hellip;</td></tr><tr><td>1773469</td><td>0</td><td>&quot;I know it&#x27;s bad for me. But I …</td><td>false</td><td>true</td><td>0.5</td><td>0</td><td>0</td><td>2016-11-26 13:51:14 -05</td></tr><tr><td>274731</td><td>0</td><td>&quot;i remember this game getting t…</td><td>false</td><td>true</td><td>0.46875</td><td>0</td><td>0</td><td>2015-01-19 04:45:14 -05</td></tr><tr><td>871187</td><td>0</td><td>&quot;The classical isometrical RPG …</td><td>false</td><td>true</td><td>0.513987</td><td>1</td><td>0</td><td>2015-05-26 06:02:56 -05</td></tr><tr><td>864308</td><td>0</td><td>&quot;There are volume sliders for b…</td><td>false</td><td>true</td><td>0.5</td><td>0</td><td>0</td><td>2015-03-25 05:36:14 -05</td></tr><tr><td>964777</td><td>0</td><td>&quot;Story:\n",
       "You kill people\n",
       "Charact…</td><td>false</td><td>true</td><td>0.5</td><td>0</td><td>0</td><td>2016-02-25 02:28:34 -05</td></tr></tbody></table></div>"
      ]
     },
     "execution_count": 9,
     "metadata": {},
     "output_type": "execute_result"
    }
   ],
   "execution_count": 9
  },
  {
   "metadata": {
    "ExecuteTime": {
     "end_time": "2025-07-13T15:32:30.510151Z",
     "start_time": "2025-07-13T15:32:30.327498Z"
    }
   },
   "cell_type": "code",
   "source": "reviews_df.sort(\"user_index\", descending=True)",
   "id": "a83f2e10df4b5f82",
   "outputs": [
    {
     "data": {
      "text/plain": [
       "shape: (3_530_852, 9)\n",
       "┌───────────┬───────────┬───────────┬───────────┬───┬───────────┬──────────┬───────────┬───────────┐\n",
       "│ user_inde ┆ game_inde ┆ review    ┆ written_d ┆ … ┆ weighted_ ┆ votes_up ┆ comment_c ┆ timestamp │\n",
       "│ x         ┆ x         ┆ ---       ┆ uring_ear ┆   ┆ vote_scor ┆ ---      ┆ ount      ┆ _created  │\n",
       "│ ---       ┆ ---       ┆ str       ┆ ly_access ┆   ┆ e         ┆ i64      ┆ ---       ┆ ---       │\n",
       "│ i64       ┆ i64       ┆           ┆ ---       ┆   ┆ ---       ┆          ┆ i64       ┆ datetime[ │\n",
       "│           ┆           ┆           ┆ bool      ┆   ┆ f64       ┆          ┆           ┆ μs, Ameri │\n",
       "│           ┆           ┆           ┆           ┆   ┆           ┆          ┆           ┆ ca/Lima]  │\n",
       "╞═══════════╪═══════════╪═══════════╪═══════════╪═══╪═══════════╪══════════╪═══════════╪═══════════╡\n",
       "│ 1859476   ┆ 1902      ┆ Note: if  ┆ false     ┆ … ┆ 0.497076  ┆ 0        ┆ 1         ┆ 2017-01-0 │\n",
       "│           ┆           ┆ you go to ┆           ┆   ┆           ┆          ┆           ┆ 1         │\n",
       "│           ┆           ┆ a server  ┆           ┆   ┆           ┆          ┆           ┆ 23:59:46  │\n",
       "│           ┆           ┆ le…       ┆           ┆   ┆           ┆          ┆           ┆ -05       │\n",
       "│ 1859475   ┆ 5744      ┆ This game ┆ true      ┆ … ┆ 0.406216  ┆ 0        ┆ 0         ┆ 2017-01-0 │\n",
       "│           ┆           ┆ sucks so  ┆           ┆   ┆           ┆          ┆           ┆ 1         │\n",
       "│           ┆           ┆ bad .     ┆           ┆   ┆           ┆          ┆           ┆ 23:59:16  │\n",
       "│           ┆           ┆ This …    ┆           ┆   ┆           ┆          ┆           ┆ -05       │\n",
       "│ 1859474   ┆ 79        ┆ never has ┆ false     ┆ … ┆ 0.5       ┆ 0        ┆ 0         ┆ 2017-01-0 │\n",
       "│           ┆           ┆ a single  ┆           ┆   ┆           ┆          ┆           ┆ 1         │\n",
       "│           ┆           ┆ game      ┆           ┆   ┆           ┆          ┆           ┆ 23:58:39  │\n",
       "│           ┆           ┆ provid…   ┆           ┆   ┆           ┆          ┆           ┆ -05       │\n",
       "│ 1859473   ┆ 2833      ┆ pretty    ┆ true      ┆ … ┆ 0.5       ┆ 0        ┆ 0         ┆ 2017-01-0 │\n",
       "│           ┆           ┆ good      ┆           ┆   ┆           ┆          ┆           ┆ 1         │\n",
       "│           ┆           ┆           ┆           ┆   ┆           ┆          ┆           ┆ 23:57:26  │\n",
       "│           ┆           ┆           ┆           ┆   ┆           ┆          ┆           ┆ -05       │\n",
       "│ 1859472   ┆ 6654      ┆ i cant    ┆ true      ┆ … ┆ 0.454545  ┆ 0        ┆ 1         ┆ 2017-01-0 │\n",
       "│           ┆           ┆ even play ┆           ┆   ┆           ┆          ┆           ┆ 1         │\n",
       "│           ┆           ┆ it is     ┆           ┆   ┆           ┆          ┆           ┆ 23:55:59  │\n",
       "│           ┆           ┆ telling…  ┆           ┆   ┆           ┆          ┆           ┆ -05       │\n",
       "│ …         ┆ …         ┆ …         ┆ …         ┆ … ┆ …         ┆ …        ┆ …         ┆ …         │\n",
       "│ 0         ┆ 1592      ┆ What can  ┆ false     ┆ … ┆ 0.5       ┆ 0        ┆ 0         ┆ 2016-06-2 │\n",
       "│           ┆           ┆ I say?    ┆           ┆   ┆           ┆          ┆           ┆ 6         │\n",
       "│           ┆           ┆ This is a ┆           ┆   ┆           ┆          ┆           ┆ 14:19:17  │\n",
       "│           ┆           ┆ grea…     ┆           ┆   ┆           ┆          ┆           ┆ -05       │\n",
       "│ 0         ┆ 1025      ┆ One of    ┆ false     ┆ … ┆ 0.5       ┆ 0        ┆ 0         ┆ 2012-07-1 │\n",
       "│           ┆           ┆ the few   ┆           ┆   ┆           ┆          ┆           ┆ 5         │\n",
       "│           ┆           ┆ games     ┆           ┆   ┆           ┆          ┆           ┆ 18:41:03  │\n",
       "│           ┆           ┆ that      ┆           ┆   ┆           ┆          ┆           ┆ -05       │\n",
       "│           ┆           ┆ brin…     ┆           ┆   ┆           ┆          ┆           ┆           │\n",
       "│ 0         ┆ 384       ┆ Just buy  ┆ false     ┆ … ┆ 0.5       ┆ 0        ┆ 0         ┆ 2010-10-1 │\n",
       "│           ┆           ┆ this      ┆           ┆   ┆           ┆          ┆           ┆ 5         │\n",
       "│           ┆           ┆ game.     ┆           ┆   ┆           ┆          ┆           ┆ 18:20:21  │\n",
       "│           ┆           ┆ It's      ┆           ┆   ┆           ┆          ┆           ┆ -05       │\n",
       "│           ┆           ┆ amazi…    ┆           ┆   ┆           ┆          ┆           ┆           │\n",
       "│ 0         ┆ 256       ┆ A standal ┆ false     ┆ … ┆ 0.5       ┆ 0        ┆ 1         ┆ 2010-11-1 │\n",
       "│           ┆           ┆ one       ┆           ┆   ┆           ┆          ┆           ┆ 9         │\n",
       "│           ┆           ┆ expansion ┆           ┆   ┆           ┆          ┆           ┆ 14:21:16  │\n",
       "│           ┆           ┆ to Crys…  ┆           ┆   ┆           ┆          ┆           ┆ -05       │\n",
       "│ 0         ┆ 1529      ┆ A highly  ┆ false     ┆ … ┆ 0.5       ┆ 0        ┆ 0         ┆ 2016-02-2 │\n",
       "│           ┆           ┆ immersing ┆           ┆   ┆           ┆          ┆           ┆ 5         │\n",
       "│           ┆           ┆ FPS that  ┆           ┆   ┆           ┆          ┆           ┆ 01:46:11  │\n",
       "│           ┆           ┆ br…       ┆           ┆   ┆           ┆          ┆           ┆ -05       │\n",
       "└───────────┴───────────┴───────────┴───────────┴───┴───────────┴──────────┴───────────┴───────────┘"
      ],
      "text/html": [
       "<div><style>\n",
       ".dataframe > thead > tr,\n",
       ".dataframe > tbody > tr {\n",
       "  text-align: right;\n",
       "  white-space: pre-wrap;\n",
       "}\n",
       "</style>\n",
       "<small>shape: (3_530_852, 9)</small><table border=\"1\" class=\"dataframe\"><thead><tr><th>user_index</th><th>game_index</th><th>review</th><th>written_during_early_access</th><th>voted_up</th><th>weighted_vote_score</th><th>votes_up</th><th>comment_count</th><th>timestamp_created</th></tr><tr><td>i64</td><td>i64</td><td>str</td><td>bool</td><td>bool</td><td>f64</td><td>i64</td><td>i64</td><td>datetime[μs, America/Lima]</td></tr></thead><tbody><tr><td>1859476</td><td>1902</td><td>&quot;Note: if you go to a server le…</td><td>false</td><td>false</td><td>0.497076</td><td>0</td><td>1</td><td>2017-01-01 23:59:46 -05</td></tr><tr><td>1859475</td><td>5744</td><td>&quot;This game sucks so bad . This …</td><td>true</td><td>false</td><td>0.406216</td><td>0</td><td>0</td><td>2017-01-01 23:59:16 -05</td></tr><tr><td>1859474</td><td>79</td><td>&quot;never has a single game provid…</td><td>false</td><td>true</td><td>0.5</td><td>0</td><td>0</td><td>2017-01-01 23:58:39 -05</td></tr><tr><td>1859473</td><td>2833</td><td>&quot;pretty good&quot;</td><td>true</td><td>true</td><td>0.5</td><td>0</td><td>0</td><td>2017-01-01 23:57:26 -05</td></tr><tr><td>1859472</td><td>6654</td><td>&quot;i cant even play it is telling…</td><td>true</td><td>true</td><td>0.454545</td><td>0</td><td>1</td><td>2017-01-01 23:55:59 -05</td></tr><tr><td>&hellip;</td><td>&hellip;</td><td>&hellip;</td><td>&hellip;</td><td>&hellip;</td><td>&hellip;</td><td>&hellip;</td><td>&hellip;</td><td>&hellip;</td></tr><tr><td>0</td><td>1592</td><td>&quot;What can I say? This is a grea…</td><td>false</td><td>true</td><td>0.5</td><td>0</td><td>0</td><td>2016-06-26 14:19:17 -05</td></tr><tr><td>0</td><td>1025</td><td>&quot;One of the few games that brin…</td><td>false</td><td>true</td><td>0.5</td><td>0</td><td>0</td><td>2012-07-15 18:41:03 -05</td></tr><tr><td>0</td><td>384</td><td>&quot;Just buy this game. It&#x27;s amazi…</td><td>false</td><td>true</td><td>0.5</td><td>0</td><td>0</td><td>2010-10-15 18:20:21 -05</td></tr><tr><td>0</td><td>256</td><td>&quot;A standalone expansion to Crys…</td><td>false</td><td>true</td><td>0.5</td><td>0</td><td>1</td><td>2010-11-19 14:21:16 -05</td></tr><tr><td>0</td><td>1529</td><td>&quot;A highly immersing FPS that br…</td><td>false</td><td>true</td><td>0.5</td><td>0</td><td>0</td><td>2016-02-25 01:46:11 -05</td></tr></tbody></table></div>"
      ]
     },
     "execution_count": 20,
     "metadata": {},
     "output_type": "execute_result"
    }
   ],
   "execution_count": 20
  },
  {
   "metadata": {
    "ExecuteTime": {
     "end_time": "2025-07-13T15:31:46.960299Z",
     "start_time": "2025-07-13T15:31:46.939576Z"
    }
   },
   "cell_type": "code",
   "source": "users_df.sort(\"user_index\", descending=True)",
   "id": "eb7272f4e4a60c7a",
   "outputs": [
    {
     "data": {
      "text/plain": [
       "shape: (1_859_477, 3)\n",
       "┌───────────────────┬────────────┬────────────────────────────┐\n",
       "│ user_id           ┆ user_index ┆ first_review_timestamp     │\n",
       "│ ---               ┆ ---        ┆ ---                        │\n",
       "│ i64               ┆ i64        ┆ datetime[μs, America/Lima] │\n",
       "╞═══════════════════╪════════════╪════════════════════════════╡\n",
       "│ 76561198267685926 ┆ 1859476    ┆ 2017-01-01 23:59:46 -05    │\n",
       "│ 76561198149122546 ┆ 1859475    ┆ 2017-01-01 23:59:16 -05    │\n",
       "│ 76561198070883331 ┆ 1859474    ┆ 2017-01-01 23:58:39 -05    │\n",
       "│ 76561198311437527 ┆ 1859473    ┆ 2017-01-01 23:57:26 -05    │\n",
       "│ 76561198343093755 ┆ 1859472    ┆ 2017-01-01 23:55:59 -05    │\n",
       "│ …                 ┆ …          ┆ …                          │\n",
       "│ 76561197980238112 ┆ 4          ┆ 2010-10-15 18:27:11 -05    │\n",
       "│ 76561197971101492 ┆ 3          ┆ 2010-10-15 18:26:10 -05    │\n",
       "│ 76561197967727967 ┆ 2          ┆ 2010-10-15 18:25:29 -05    │\n",
       "│ 76561197993471534 ┆ 1          ┆ 2010-10-15 18:25:11 -05    │\n",
       "│ 76561198018453908 ┆ 0          ┆ 2010-10-15 18:20:21 -05    │\n",
       "└───────────────────┴────────────┴────────────────────────────┘"
      ],
      "text/html": [
       "<div><style>\n",
       ".dataframe > thead > tr,\n",
       ".dataframe > tbody > tr {\n",
       "  text-align: right;\n",
       "  white-space: pre-wrap;\n",
       "}\n",
       "</style>\n",
       "<small>shape: (1_859_477, 3)</small><table border=\"1\" class=\"dataframe\"><thead><tr><th>user_id</th><th>user_index</th><th>first_review_timestamp</th></tr><tr><td>i64</td><td>i64</td><td>datetime[μs, America/Lima]</td></tr></thead><tbody><tr><td>76561198267685926</td><td>1859476</td><td>2017-01-01 23:59:46 -05</td></tr><tr><td>76561198149122546</td><td>1859475</td><td>2017-01-01 23:59:16 -05</td></tr><tr><td>76561198070883331</td><td>1859474</td><td>2017-01-01 23:58:39 -05</td></tr><tr><td>76561198311437527</td><td>1859473</td><td>2017-01-01 23:57:26 -05</td></tr><tr><td>76561198343093755</td><td>1859472</td><td>2017-01-01 23:55:59 -05</td></tr><tr><td>&hellip;</td><td>&hellip;</td><td>&hellip;</td></tr><tr><td>76561197980238112</td><td>4</td><td>2010-10-15 18:27:11 -05</td></tr><tr><td>76561197971101492</td><td>3</td><td>2010-10-15 18:26:10 -05</td></tr><tr><td>76561197967727967</td><td>2</td><td>2010-10-15 18:25:29 -05</td></tr><tr><td>76561197993471534</td><td>1</td><td>2010-10-15 18:25:11 -05</td></tr><tr><td>76561198018453908</td><td>0</td><td>2010-10-15 18:20:21 -05</td></tr></tbody></table></div>"
      ]
     },
     "execution_count": 19,
     "metadata": {},
     "output_type": "execute_result"
    }
   ],
   "execution_count": 19
  },
  {
   "metadata": {
    "ExecuteTime": {
     "end_time": "2025-07-13T18:13:10.740294Z",
     "start_time": "2025-07-13T18:13:10.729700Z"
    }
   },
   "cell_type": "code",
   "source": "duckdb_conn.close()",
   "id": "d31555a8c621aa05",
   "outputs": [],
   "execution_count": 29
  }
 ],
 "metadata": {
  "kernelspec": {
   "display_name": "Python 3",
   "language": "python",
   "name": "python3"
  },
  "language_info": {
   "codemirror_mode": {
    "name": "ipython",
    "version": 2
   },
   "file_extension": ".py",
   "mimetype": "text/x-python",
   "name": "python",
   "nbconvert_exporter": "python",
   "pygments_lexer": "ipython2",
   "version": "2.7.6"
  }
 },
 "nbformat": 4,
 "nbformat_minor": 5
}
