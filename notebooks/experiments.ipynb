{
 "cells": [
  {
   "metadata": {},
   "cell_type": "markdown",
   "source": "# Experimenting rec approaches",
   "id": "bd82e23af48d488a"
  },
  {
   "cell_type": "code",
   "id": "initial_id",
   "metadata": {
    "collapsed": true,
    "ExecuteTime": {
     "end_time": "2025-07-12T01:35:33.883858Z",
     "start_time": "2025-07-12T01:35:33.830102Z"
    }
   },
   "source": [
    "import polars as pl\n",
    "import duckdb"
   ],
   "outputs": [],
   "execution_count": 1
  },
  {
   "metadata": {
    "ExecuteTime": {
     "end_time": "2025-07-12T01:35:46.270785Z",
     "start_time": "2025-07-12T01:35:46.268895Z"
    }
   },
   "cell_type": "code",
   "source": "CUT_TIMESTAMP = '2018-01-01'",
   "id": "2d59a3e437a09288",
   "outputs": [],
   "execution_count": 5
  },
  {
   "metadata": {
    "ExecuteTime": {
     "end_time": "2025-07-12T01:53:11.899728Z",
     "start_time": "2025-07-12T01:53:11.875951Z"
    }
   },
   "cell_type": "code",
   "source": "duckdb_conn = duckdb.connect('../data/steam.duckdb')",
   "id": "23f962531e19e5c2",
   "outputs": [],
   "execution_count": 15
  },
  {
   "metadata": {
    "ExecuteTime": {
     "end_time": "2025-07-12T01:35:50.122026Z",
     "start_time": "2025-07-12T01:35:47.449990Z"
    }
   },
   "cell_type": "code",
   "source": [
    "games_df =duckdb_conn.sql(f\"SELECT * FROM game_rolling_features WHERE DATE(game_release_date) < '{CUT_TIMESTAMP}'\").pl()\n",
    "games_df.sort(\"game_index\", descending=True)"
   ],
   "id": "eda219fc8ac7c8e8",
   "outputs": [
    {
     "data": {
      "text/plain": [
       "shape: (3_360_378, 19)\n",
       "┌────────────┬─────────┬───────────┬───────────┬───┬───────────┬───────────┬───────────┬───────────┐\n",
       "│ game_index ┆ game_id ┆ game_name ┆ game_deve ┆ … ┆ game_num_ ┆ game_num_ ┆ game_num_ ┆ game_weig │\n",
       "│ ---        ┆ ---     ┆ ---       ┆ lopers    ┆   ┆ reviews   ┆ positive_ ┆ negative_ ┆ hted_scor │\n",
       "│ i64        ┆ i64     ┆ str       ┆ ---       ┆   ┆ ---       ┆ reviews   ┆ reviews   ┆ e         │\n",
       "│            ┆         ┆           ┆ list[str] ┆   ┆ i64       ┆ ---       ┆ ---       ┆ ---       │\n",
       "│            ┆         ┆           ┆           ┆   ┆           ┆ decimal[3 ┆ decimal[3 ┆ f64       │\n",
       "│            ┆         ┆           ┆           ┆   ┆           ┆ 8,0]      ┆ 8,0]      ┆           │\n",
       "╞════════════╪═════════╪═══════════╪═══════════╪═══╪═══════════╪═══════════╪═══════════╪═══════════╡\n",
       "│ 14244      ┆ 595630  ┆ Neon8     ┆ [\"GameDev ┆ … ┆ 1         ┆ 0         ┆ 1         ┆ 0.0       │\n",
       "│            ┆         ┆           ┆ Coop\"]    ┆   ┆           ┆           ┆           ┆           │\n",
       "│ 14243      ┆ 748650  ┆ Carnage   ┆ [\"MM//Pro ┆ … ┆ 3         ┆ 2         ┆ 1         ┆ 0.754363  │\n",
       "│            ┆         ┆ in Space: ┆ ductions\" ┆   ┆           ┆           ┆           ┆           │\n",
       "│            ┆         ┆ Ignition  ┆ ]         ┆   ┆           ┆           ┆           ┆           │\n",
       "│ 14243      ┆ 748650  ┆ Carnage   ┆ [\"MM//Pro ┆ … ┆ 2         ┆ 2         ┆ 0         ┆ 1.0       │\n",
       "│            ┆         ┆ in Space: ┆ ductions\" ┆   ┆           ┆           ┆           ┆           │\n",
       "│            ┆         ┆ Ignition  ┆ ]         ┆   ┆           ┆           ┆           ┆           │\n",
       "│ 14243      ┆ 748650  ┆ Carnage   ┆ [\"MM//Pro ┆ … ┆ 1         ┆ 1         ┆ 0         ┆ 1.0       │\n",
       "│            ┆         ┆ in Space: ┆ ductions\" ┆   ┆           ┆           ┆           ┆           │\n",
       "│            ┆         ┆ Ignition  ┆ ]         ┆   ┆           ┆           ┆           ┆           │\n",
       "│ 14242      ┆ 764180  ┆ Cross of  ┆ [\"Hardyti ┆ … ┆ 5         ┆ 4         ┆ 1         ┆ 0.827533  │\n",
       "│            ┆         ┆ Auria     ┆ er\"]      ┆   ┆           ┆           ┆           ┆           │\n",
       "│ …          ┆ …       ┆ …         ┆ …         ┆ … ┆ …         ┆ …         ┆ …         ┆ …         │\n",
       "│ 0          ┆ 232770  ┆ POSTAL    ┆ [\"Running ┆ … ┆ 769       ┆ 653       ┆ 116       ┆ 0.86319   │\n",
       "│            ┆         ┆           ┆ With Scis ┆   ┆           ┆           ┆           ┆           │\n",
       "│            ┆         ┆           ┆ sors\"]    ┆   ┆           ┆           ┆           ┆           │\n",
       "│ 0          ┆ 232770  ┆ POSTAL    ┆ [\"Running ┆ … ┆ 784       ┆ 667       ┆ 117       ┆ 0.864824  │\n",
       "│            ┆         ┆           ┆ With Scis ┆   ┆           ┆           ┆           ┆           │\n",
       "│            ┆         ┆           ┆ sors\"]    ┆   ┆           ┆           ┆           ┆           │\n",
       "│ 0          ┆ 232770  ┆ POSTAL    ┆ [\"Running ┆ … ┆ 1003      ┆ 861       ┆ 142       ┆ 0.872272  │\n",
       "│            ┆         ┆           ┆ With Scis ┆   ┆           ┆           ┆           ┆           │\n",
       "│            ┆         ┆           ┆ sors\"]    ┆   ┆           ┆           ┆           ┆           │\n",
       "│ 0          ┆ 232770  ┆ POSTAL    ┆ [\"Running ┆ … ┆ 1235      ┆ 1068      ┆ 167       ┆ 0.877422  │\n",
       "│            ┆         ┆           ┆ With Scis ┆   ┆           ┆           ┆           ┆           │\n",
       "│            ┆         ┆           ┆ sors\"]    ┆   ┆           ┆           ┆           ┆           │\n",
       "│ 0          ┆ 232770  ┆ POSTAL    ┆ [\"Running ┆ … ┆ 1305      ┆ 1128      ┆ 177       ┆ 0.876777  │\n",
       "│            ┆         ┆           ┆ With Scis ┆   ┆           ┆           ┆           ┆           │\n",
       "│            ┆         ┆           ┆ sors\"]    ┆   ┆           ┆           ┆           ┆           │\n",
       "└────────────┴─────────┴───────────┴───────────┴───┴───────────┴───────────┴───────────┴───────────┘"
      ],
      "text/html": [
       "<div><style>\n",
       ".dataframe > thead > tr,\n",
       ".dataframe > tbody > tr {\n",
       "  text-align: right;\n",
       "  white-space: pre-wrap;\n",
       "}\n",
       "</style>\n",
       "<small>shape: (3_360_378, 19)</small><table border=\"1\" class=\"dataframe\"><thead><tr><th>game_index</th><th>game_id</th><th>game_name</th><th>game_developers</th><th>game_publishers</th><th>game_categories</th><th>game_genres</th><th>game_release_date</th><th>game_short_description</th><th>game_review_score</th><th>game_review_score_description</th><th>game_total_reviews</th><th>game_total_positive_reviews</th><th>game_total_negative_reviews</th><th>game_review_day</th><th>game_num_reviews</th><th>game_num_positive_reviews</th><th>game_num_negative_reviews</th><th>game_weighted_score</th></tr><tr><td>i64</td><td>i64</td><td>str</td><td>list[str]</td><td>list[str]</td><td>list[str]</td><td>list[str]</td><td>datetime[μs, America/Lima]</td><td>str</td><td>i64</td><td>str</td><td>i64</td><td>i64</td><td>i64</td><td>date</td><td>i64</td><td>decimal[38,0]</td><td>decimal[38,0]</td><td>f64</td></tr></thead><tbody><tr><td>14244</td><td>595630</td><td>&quot;Neon8&quot;</td><td>[&quot;GameDevCoop&quot;]</td><td>[&quot;GameDevCoop&quot;]</td><td>[&quot;Single-player&quot;, &quot;Full Controller Support&quot;, … &quot;Family Sharing&quot;]</td><td>[&quot;Action&quot;]</td><td>2017-12-31 00:00:00 -05</td><td>&quot;Neon8 is a fast-paced First Pe…</td><td>0</td><td>&quot;1 user reviews&quot;</td><td>1</td><td>0</td><td>1</td><td>2018-01-15</td><td>1</td><td>0</td><td>1</td><td>0.0</td></tr><tr><td>14243</td><td>748650</td><td>&quot;Carnage in Space: Ignition&quot;</td><td>[&quot;MM//Productions&quot;]</td><td>[&quot;Throwback Entertainment&quot;]</td><td>[&quot;Single-player&quot;, &quot;Steam Achievements&quot;, … &quot;Family Sharing&quot;]</td><td>[&quot;Action&quot;, &quot;Indie&quot;]</td><td>2017-12-31 00:00:00 -05</td><td>&quot;Use your fighting skill and su…</td><td>0</td><td>&quot;3 user reviews&quot;</td><td>3</td><td>2</td><td>1</td><td>2020-01-24</td><td>3</td><td>2</td><td>1</td><td>0.754363</td></tr><tr><td>14243</td><td>748650</td><td>&quot;Carnage in Space: Ignition&quot;</td><td>[&quot;MM//Productions&quot;]</td><td>[&quot;Throwback Entertainment&quot;]</td><td>[&quot;Single-player&quot;, &quot;Steam Achievements&quot;, … &quot;Family Sharing&quot;]</td><td>[&quot;Action&quot;, &quot;Indie&quot;]</td><td>2017-12-31 00:00:00 -05</td><td>&quot;Use your fighting skill and su…</td><td>0</td><td>&quot;3 user reviews&quot;</td><td>3</td><td>2</td><td>1</td><td>2018-03-17</td><td>2</td><td>2</td><td>0</td><td>1.0</td></tr><tr><td>14243</td><td>748650</td><td>&quot;Carnage in Space: Ignition&quot;</td><td>[&quot;MM//Productions&quot;]</td><td>[&quot;Throwback Entertainment&quot;]</td><td>[&quot;Single-player&quot;, &quot;Steam Achievements&quot;, … &quot;Family Sharing&quot;]</td><td>[&quot;Action&quot;, &quot;Indie&quot;]</td><td>2017-12-31 00:00:00 -05</td><td>&quot;Use your fighting skill and su…</td><td>0</td><td>&quot;3 user reviews&quot;</td><td>3</td><td>2</td><td>1</td><td>2018-02-28</td><td>1</td><td>1</td><td>0</td><td>1.0</td></tr><tr><td>14242</td><td>764180</td><td>&quot;Cross of Auria&quot;</td><td>[&quot;Hardytier&quot;]</td><td>[&quot;Hardytier&quot;]</td><td>[&quot;Single-player&quot;, &quot;Steam Achievements&quot;, … &quot;Steam Cloud&quot;]</td><td>[&quot;Indie&quot;, &quot;RPG&quot;]</td><td>2017-12-31 00:00:00 -05</td><td>&quot;Cross of Auria is primarily a …</td><td>0</td><td>&quot;7 user reviews&quot;</td><td>7</td><td>6</td><td>1</td><td>2020-01-19</td><td>5</td><td>4</td><td>1</td><td>0.827533</td></tr><tr><td>&hellip;</td><td>&hellip;</td><td>&hellip;</td><td>&hellip;</td><td>&hellip;</td><td>&hellip;</td><td>&hellip;</td><td>&hellip;</td><td>&hellip;</td><td>&hellip;</td><td>&hellip;</td><td>&hellip;</td><td>&hellip;</td><td>&hellip;</td><td>&hellip;</td><td>&hellip;</td><td>&hellip;</td><td>&hellip;</td><td>&hellip;</td></tr><tr><td>0</td><td>232770</td><td>&quot;POSTAL&quot;</td><td>[&quot;Running With Scissors&quot;]</td><td>[&quot;Running With Scissors&quot;]</td><td>[&quot;Single-player&quot;, &quot;Steam Achievements&quot;, … &quot;Family Sharing&quot;]</td><td>[&quot;Action&quot;, &quot;Indie&quot;]</td><td>1997-11-14 00:00:00 -05</td><td>&quot;Take control of The POSTAL Dud…</td><td>8</td><td>&quot;Very Positive&quot;</td><td>1323</td><td>1144</td><td>179</td><td>2018-02-08</td><td>769</td><td>653</td><td>116</td><td>0.86319</td></tr><tr><td>0</td><td>232770</td><td>&quot;POSTAL&quot;</td><td>[&quot;Running With Scissors&quot;]</td><td>[&quot;Running With Scissors&quot;]</td><td>[&quot;Single-player&quot;, &quot;Steam Achievements&quot;, … &quot;Family Sharing&quot;]</td><td>[&quot;Action&quot;, &quot;Indie&quot;]</td><td>1997-11-14 00:00:00 -05</td><td>&quot;Take control of The POSTAL Dud…</td><td>8</td><td>&quot;Very Positive&quot;</td><td>1323</td><td>1144</td><td>179</td><td>2018-03-18</td><td>784</td><td>667</td><td>117</td><td>0.864824</td></tr><tr><td>0</td><td>232770</td><td>&quot;POSTAL&quot;</td><td>[&quot;Running With Scissors&quot;]</td><td>[&quot;Running With Scissors&quot;]</td><td>[&quot;Single-player&quot;, &quot;Steam Achievements&quot;, … &quot;Family Sharing&quot;]</td><td>[&quot;Action&quot;, &quot;Indie&quot;]</td><td>1997-11-14 00:00:00 -05</td><td>&quot;Take control of The POSTAL Dud…</td><td>8</td><td>&quot;Very Positive&quot;</td><td>1323</td><td>1144</td><td>179</td><td>2020-05-17</td><td>1003</td><td>861</td><td>142</td><td>0.872272</td></tr><tr><td>0</td><td>232770</td><td>&quot;POSTAL&quot;</td><td>[&quot;Running With Scissors&quot;]</td><td>[&quot;Running With Scissors&quot;]</td><td>[&quot;Single-player&quot;, &quot;Steam Achievements&quot;, … &quot;Family Sharing&quot;]</td><td>[&quot;Action&quot;, &quot;Indie&quot;]</td><td>1997-11-14 00:00:00 -05</td><td>&quot;Take control of The POSTAL Dud…</td><td>8</td><td>&quot;Very Positive&quot;</td><td>1323</td><td>1144</td><td>179</td><td>2023-10-17</td><td>1235</td><td>1068</td><td>167</td><td>0.877422</td></tr><tr><td>0</td><td>232770</td><td>&quot;POSTAL&quot;</td><td>[&quot;Running With Scissors&quot;]</td><td>[&quot;Running With Scissors&quot;]</td><td>[&quot;Single-player&quot;, &quot;Steam Achievements&quot;, … &quot;Family Sharing&quot;]</td><td>[&quot;Action&quot;, &quot;Indie&quot;]</td><td>1997-11-14 00:00:00 -05</td><td>&quot;Take control of The POSTAL Dud…</td><td>8</td><td>&quot;Very Positive&quot;</td><td>1323</td><td>1144</td><td>179</td><td>2025-01-03</td><td>1305</td><td>1128</td><td>177</td><td>0.876777</td></tr></tbody></table></div>"
      ]
     },
     "execution_count": 7,
     "metadata": {},
     "output_type": "execute_result"
    }
   ],
   "execution_count": 7
  },
  {
   "metadata": {
    "ExecuteTime": {
     "end_time": "2025-07-12T01:35:50.659707Z",
     "start_time": "2025-07-12T01:35:50.599192Z"
    }
   },
   "cell_type": "code",
   "source": [
    "dim_games_df =duckdb_conn.sql(f\"SELECT * FROM dim_games_imputed WHERE DATE(game_release_date) < '{CUT_TIMESTAMP}'\").pl()\n",
    "dim_games_df.sort(\"game_index\", descending=True)"
   ],
   "id": "8f0c85b0978b54c",
   "outputs": [
    {
     "data": {
      "text/plain": [
       "shape: (14_248, 14)\n",
       "┌────────────┬─────────┬───────────┬───────────┬───┬───────────┬───────────┬───────────┬───────────┐\n",
       "│ game_index ┆ game_id ┆ game_name ┆ game_deve ┆ … ┆ game_revi ┆ game_tota ┆ game_tota ┆ game_tota │\n",
       "│ ---        ┆ ---     ┆ ---       ┆ lopers    ┆   ┆ ew_score_ ┆ l_reviews ┆ l_positiv ┆ l_negativ │\n",
       "│ i64        ┆ i64     ┆ str       ┆ ---       ┆   ┆ descripti ┆ ---       ┆ e_reviews ┆ e_reviews │\n",
       "│            ┆         ┆           ┆ list[str] ┆   ┆ on        ┆ i64       ┆ ---       ┆ ---       │\n",
       "│            ┆         ┆           ┆           ┆   ┆ ---       ┆           ┆ i64       ┆ i64       │\n",
       "│            ┆         ┆           ┆           ┆   ┆ str       ┆           ┆           ┆           │\n",
       "╞════════════╪═════════╪═══════════╪═══════════╪═══╪═══════════╪═══════════╪═══════════╪═══════════╡\n",
       "│ 14247      ┆ 667590  ┆ Fjord     ┆ [\"Gaute   ┆ … ┆ No        ┆ 0         ┆ 0         ┆ 0         │\n",
       "│            ┆         ┆ battle    ┆ Heggen\"]  ┆   ┆ reviews   ┆           ┆           ┆           │\n",
       "│            ┆         ┆ racing    ┆           ┆   ┆           ┆           ┆           ┆           │\n",
       "│ 14246      ┆ 717990  ┆ Bloodwork ┆ [\"Engin   ┆ … ┆ No        ┆ 0         ┆ 0         ┆ 0         │\n",
       "│            ┆         ┆ s         ┆ Mercan\"]  ┆   ┆ reviews   ┆           ┆           ┆           │\n",
       "│ 14245      ┆ 735250  ┆ BLACKSTON ┆ [\"Fire    ┆ … ┆ No        ┆ 0         ┆ 0         ┆ 0         │\n",
       "│            ┆         ┆ E         ┆ Engrave\"] ┆   ┆ reviews   ┆           ┆           ┆           │\n",
       "│ 14244      ┆ 595630  ┆ Neon8     ┆ [\"GameDev ┆ … ┆ 1 user    ┆ 1         ┆ 0         ┆ 1         │\n",
       "│            ┆         ┆           ┆ Coop\"]    ┆   ┆ reviews   ┆           ┆           ┆           │\n",
       "│ 14243      ┆ 748650  ┆ Carnage   ┆ [\"MM//Pro ┆ … ┆ 3 user    ┆ 3         ┆ 2         ┆ 1         │\n",
       "│            ┆         ┆ in Space: ┆ ductions\" ┆   ┆ reviews   ┆           ┆           ┆           │\n",
       "│            ┆         ┆ Ignition  ┆ ]         ┆   ┆           ┆           ┆           ┆           │\n",
       "│ …          ┆ …       ┆ …         ┆ …         ┆ … ┆ …         ┆ …         ┆ …         ┆ …         │\n",
       "│ 4          ┆ 10      ┆ Counter-S ┆ [\"Valve\"] ┆ … ┆ Overwhelm ┆ 32951     ┆ 31837     ┆ 1114      │\n",
       "│            ┆         ┆ trike     ┆           ┆   ┆ ingly     ┆           ┆           ┆           │\n",
       "│            ┆         ┆           ┆           ┆   ┆ Positive  ┆           ┆           ┆           │\n",
       "│ 3          ┆ 50      ┆ Half-Life ┆ [\"Gearbox ┆ … ┆ Overwhelm ┆ 11992     ┆ 11438     ┆ 554       │\n",
       "│            ┆         ┆ :         ┆ Software\" ┆   ┆ ingly     ┆           ┆           ┆           │\n",
       "│            ┆         ┆ Opposing  ┆ ]         ┆   ┆ Positive  ┆           ┆           ┆           │\n",
       "│            ┆         ┆ Force     ┆           ┆   ┆           ┆           ┆           ┆           │\n",
       "│ 2          ┆ 20      ┆ Team      ┆ [\"Valve\"] ┆ … ┆ Very      ┆ 4018      ┆ 3469      ┆ 549       │\n",
       "│            ┆         ┆ Fortress  ┆           ┆   ┆ Positive  ┆           ┆           ┆           │\n",
       "│            ┆         ┆ Classic   ┆           ┆   ┆           ┆           ┆           ┆           │\n",
       "│ 1          ┆ 70      ┆ Half-Life ┆ [\"Valve\"] ┆ … ┆ Overwhelm ┆ 52708     ┆ 50840     ┆ 1868      │\n",
       "│            ┆         ┆           ┆           ┆   ┆ ingly     ┆           ┆           ┆           │\n",
       "│            ┆         ┆           ┆           ┆   ┆ Positive  ┆           ┆           ┆           │\n",
       "│ 0          ┆ 232770  ┆ POSTAL    ┆ [\"Running ┆ … ┆ Very      ┆ 1323      ┆ 1144      ┆ 179       │\n",
       "│            ┆         ┆           ┆ With Scis ┆   ┆ Positive  ┆           ┆           ┆           │\n",
       "│            ┆         ┆           ┆ sors\"]    ┆   ┆           ┆           ┆           ┆           │\n",
       "└────────────┴─────────┴───────────┴───────────┴───┴───────────┴───────────┴───────────┴───────────┘"
      ],
      "text/html": [
       "<div><style>\n",
       ".dataframe > thead > tr,\n",
       ".dataframe > tbody > tr {\n",
       "  text-align: right;\n",
       "  white-space: pre-wrap;\n",
       "}\n",
       "</style>\n",
       "<small>shape: (14_248, 14)</small><table border=\"1\" class=\"dataframe\"><thead><tr><th>game_index</th><th>game_id</th><th>game_name</th><th>game_developers</th><th>game_publishers</th><th>game_categories</th><th>game_genres</th><th>game_release_date</th><th>game_short_description</th><th>game_review_score</th><th>game_review_score_description</th><th>game_total_reviews</th><th>game_total_positive_reviews</th><th>game_total_negative_reviews</th></tr><tr><td>i64</td><td>i64</td><td>str</td><td>list[str]</td><td>list[str]</td><td>list[str]</td><td>list[str]</td><td>datetime[μs, America/Lima]</td><td>str</td><td>i64</td><td>str</td><td>i64</td><td>i64</td><td>i64</td></tr></thead><tbody><tr><td>14247</td><td>667590</td><td>&quot;Fjord battle racing&quot;</td><td>[&quot;Gaute Heggen&quot;]</td><td>[&quot;Cannon head interactive&quot;]</td><td>[&quot;Multi-player&quot;, &quot;PvP&quot;, … &quot;Family Sharing&quot;]</td><td>[&quot;Racing&quot;, &quot;Early Access&quot;]</td><td>2017-12-31 00:00:00 -05</td><td>&quot;Local multiplayer battle racin…</td><td>0</td><td>&quot;No reviews&quot;</td><td>0</td><td>0</td><td>0</td></tr><tr><td>14246</td><td>717990</td><td>&quot;Bloodworks&quot;</td><td>[&quot;Engin Mercan&quot;]</td><td>[&quot;Engin Mercan&quot;]</td><td>[&quot;Single-player&quot;, &quot;Steam Achievements&quot;, … &quot;Controller enabled&quot;]</td><td>[&quot;Action&quot;, &quot;Casual&quot;, … &quot;Indie&quot;]</td><td>2017-12-31 00:00:00 -05</td><td>&quot;Bloodworks is a free top-down …</td><td>0</td><td>&quot;No reviews&quot;</td><td>0</td><td>0</td><td>0</td></tr><tr><td>14245</td><td>735250</td><td>&quot;BLACKSTONE&quot;</td><td>[&quot;Fire Engrave&quot;]</td><td>[&quot;Fire Engrave&quot;]</td><td>[&quot;Single-player&quot;, &quot;Controller enabled&quot;, &quot;Family Sharing&quot;]</td><td>[&quot;RPG&quot;]</td><td>2017-12-31 00:00:00 -05</td><td>&quot;BLACKSTONE is a role-playing g…</td><td>0</td><td>&quot;No reviews&quot;</td><td>0</td><td>0</td><td>0</td></tr><tr><td>14244</td><td>595630</td><td>&quot;Neon8&quot;</td><td>[&quot;GameDevCoop&quot;]</td><td>[&quot;GameDevCoop&quot;]</td><td>[&quot;Single-player&quot;, &quot;Full Controller Support&quot;, … &quot;Family Sharing&quot;]</td><td>[&quot;Action&quot;]</td><td>2017-12-31 00:00:00 -05</td><td>&quot;Neon8 is a fast-paced First Pe…</td><td>0</td><td>&quot;1 user reviews&quot;</td><td>1</td><td>0</td><td>1</td></tr><tr><td>14243</td><td>748650</td><td>&quot;Carnage in Space: Ignition&quot;</td><td>[&quot;MM//Productions&quot;]</td><td>[&quot;Throwback Entertainment&quot;]</td><td>[&quot;Single-player&quot;, &quot;Steam Achievements&quot;, … &quot;Family Sharing&quot;]</td><td>[&quot;Action&quot;, &quot;Indie&quot;]</td><td>2017-12-31 00:00:00 -05</td><td>&quot;Use your fighting skill and su…</td><td>0</td><td>&quot;3 user reviews&quot;</td><td>3</td><td>2</td><td>1</td></tr><tr><td>&hellip;</td><td>&hellip;</td><td>&hellip;</td><td>&hellip;</td><td>&hellip;</td><td>&hellip;</td><td>&hellip;</td><td>&hellip;</td><td>&hellip;</td><td>&hellip;</td><td>&hellip;</td><td>&hellip;</td><td>&hellip;</td><td>&hellip;</td></tr><tr><td>4</td><td>10</td><td>&quot;Counter-Strike&quot;</td><td>[&quot;Valve&quot;]</td><td>[&quot;Valve&quot;]</td><td>[&quot;Multi-player&quot;, &quot;PvP&quot;, … &quot;Family Sharing&quot;]</td><td>[&quot;Action&quot;]</td><td>2000-11-01 00:00:00 -05</td><td>&quot;Play the world&#x27;s number 1 onli…</td><td>9</td><td>&quot;Overwhelmingly Positive&quot;</td><td>32951</td><td>31837</td><td>1114</td></tr><tr><td>3</td><td>50</td><td>&quot;Half-Life: Opposing Force&quot;</td><td>[&quot;Gearbox Software&quot;]</td><td>[&quot;Valve&quot;]</td><td>[&quot;Single-player&quot;, &quot;Multi-player&quot;, … &quot;Family Sharing&quot;]</td><td>[&quot;Action&quot;]</td><td>1999-11-01 00:00:00 -05</td><td>&quot;Return to the Black Mesa Resea…</td><td>9</td><td>&quot;Overwhelmingly Positive&quot;</td><td>11992</td><td>11438</td><td>554</td></tr><tr><td>2</td><td>20</td><td>&quot;Team Fortress Classic&quot;</td><td>[&quot;Valve&quot;]</td><td>[&quot;Valve&quot;]</td><td>[&quot;Multi-player&quot;, &quot;PvP&quot;, … &quot;Family Sharing&quot;]</td><td>[&quot;Action&quot;]</td><td>1999-04-01 00:00:00 -05</td><td>&quot;One of the most popular online…</td><td>8</td><td>&quot;Very Positive&quot;</td><td>4018</td><td>3469</td><td>549</td></tr><tr><td>1</td><td>70</td><td>&quot;Half-Life&quot;</td><td>[&quot;Valve&quot;]</td><td>[&quot;Valve&quot;]</td><td>[&quot;Single-player&quot;, &quot;Multi-player&quot;, … &quot;Family Sharing&quot;]</td><td>[&quot;Action&quot;]</td><td>1998-11-19 00:00:00 -05</td><td>&quot;Named Game of the Year by over…</td><td>9</td><td>&quot;Overwhelmingly Positive&quot;</td><td>52708</td><td>50840</td><td>1868</td></tr><tr><td>0</td><td>232770</td><td>&quot;POSTAL&quot;</td><td>[&quot;Running With Scissors&quot;]</td><td>[&quot;Running With Scissors&quot;]</td><td>[&quot;Single-player&quot;, &quot;Steam Achievements&quot;, … &quot;Family Sharing&quot;]</td><td>[&quot;Action&quot;, &quot;Indie&quot;]</td><td>1997-11-14 00:00:00 -05</td><td>&quot;Take control of The POSTAL Dud…</td><td>8</td><td>&quot;Very Positive&quot;</td><td>1323</td><td>1144</td><td>179</td></tr></tbody></table></div>"
      ]
     },
     "execution_count": 8,
     "metadata": {},
     "output_type": "execute_result"
    }
   ],
   "execution_count": 8
  },
  {
   "metadata": {
    "ExecuteTime": {
     "end_time": "2025-07-12T01:42:47.855833Z",
     "start_time": "2025-07-12T01:42:47.849875Z"
    }
   },
   "cell_type": "code",
   "source": "duckdb_conn.sql(f\"SELECT * FROM dim_games_imputed WHERE game_index = 73131\").pl()",
   "id": "830011c21c45f757",
   "outputs": [
    {
     "data": {
      "text/plain": [
       "shape: (1, 14)\n",
       "┌────────────┬─────────┬───────────┬───────────┬───┬───────────┬───────────┬───────────┬───────────┐\n",
       "│ game_index ┆ game_id ┆ game_name ┆ game_deve ┆ … ┆ game_revi ┆ game_tota ┆ game_tota ┆ game_tota │\n",
       "│ ---        ┆ ---     ┆ ---       ┆ lopers    ┆   ┆ ew_score_ ┆ l_reviews ┆ l_positiv ┆ l_negativ │\n",
       "│ i64        ┆ i64     ┆ str       ┆ ---       ┆   ┆ descripti ┆ ---       ┆ e_reviews ┆ e_reviews │\n",
       "│            ┆         ┆           ┆ list[str] ┆   ┆ on        ┆ i64       ┆ ---       ┆ ---       │\n",
       "│            ┆         ┆           ┆           ┆   ┆ ---       ┆           ┆ i64       ┆ i64       │\n",
       "│            ┆         ┆           ┆           ┆   ┆ str       ┆           ┆           ┆           │\n",
       "╞════════════╪═════════╪═══════════╪═══════════╪═══╪═══════════╪═══════════╪═══════════╪═══════════╡\n",
       "│ 73131      ┆ 394690  ┆ Tower     ┆ [\"PixelTa ┆ … ┆ Very      ┆ 9985      ┆ 9014      ┆ 971       │\n",
       "│            ┆         ┆ Unite     ┆ il        ┆   ┆ Positive  ┆           ┆           ┆           │\n",
       "│            ┆         ┆           ┆ Games\"]   ┆   ┆           ┆           ┆           ┆           │\n",
       "└────────────┴─────────┴───────────┴───────────┴───┴───────────┴───────────┴───────────┴───────────┘"
      ],
      "text/html": [
       "<div><style>\n",
       ".dataframe > thead > tr,\n",
       ".dataframe > tbody > tr {\n",
       "  text-align: right;\n",
       "  white-space: pre-wrap;\n",
       "}\n",
       "</style>\n",
       "<small>shape: (1, 14)</small><table border=\"1\" class=\"dataframe\"><thead><tr><th>game_index</th><th>game_id</th><th>game_name</th><th>game_developers</th><th>game_publishers</th><th>game_categories</th><th>game_genres</th><th>game_release_date</th><th>game_short_description</th><th>game_review_score</th><th>game_review_score_description</th><th>game_total_reviews</th><th>game_total_positive_reviews</th><th>game_total_negative_reviews</th></tr><tr><td>i64</td><td>i64</td><td>str</td><td>list[str]</td><td>list[str]</td><td>list[str]</td><td>list[str]</td><td>datetime[μs, America/Lima]</td><td>str</td><td>i64</td><td>str</td><td>i64</td><td>i64</td><td>i64</td></tr></thead><tbody><tr><td>73131</td><td>394690</td><td>&quot;Tower Unite&quot;</td><td>[&quot;PixelTail Games&quot;]</td><td>[&quot;PixelTail Games&quot;]</td><td>[&quot;Single-player&quot;, &quot;Multi-player&quot;, … &quot;Family Sharing&quot;]</td><td>[&quot;Action&quot;, &quot;Adventure&quot;, … &quot;Racing&quot;]</td><td>2025-04-19 00:00:00 -05</td><td>&quot;PLAY, CREATE, PARTY! Tower Uni…</td><td>8</td><td>&quot;Very Positive&quot;</td><td>9985</td><td>9014</td><td>971</td></tr></tbody></table></div>"
      ]
     },
     "execution_count": 12,
     "metadata": {},
     "output_type": "execute_result"
    }
   ],
   "execution_count": 12
  },
  {
   "metadata": {
    "ExecuteTime": {
     "end_time": "2025-07-12T01:40:28.964986Z",
     "start_time": "2025-07-12T01:40:09.999559Z"
    }
   },
   "cell_type": "code",
   "source": [
    "reviews_df = duckdb_conn.sql(f\"SELECT * FROM fact_reviews WHERE DATE(timestamp_created) < '{CUT_TIMESTAMP}'\").pl()\n",
    "reviews_df.sort(\"game_index\", descending=True)"
   ],
   "id": "f55f1b1cd7a4a74d",
   "outputs": [
    {
     "data": {
      "text/plain": [
       "FloatProgress(value=0.0, layout=Layout(width='auto'), style=ProgressStyle(bar_color='black'))"
      ],
      "application/vnd.jupyter.widget-view+json": {
       "version_major": 2,
       "version_minor": 0,
       "model_id": "ca5a997bd909418d8b5acda1b145432d"
      }
     },
     "metadata": {},
     "output_type": "display_data"
    },
    {
     "data": {
      "text/plain": [
       "shape: (4_922_854, 8)\n",
       "┌────────────┬────────────┬────────────┬──────────┬────────────┬──────────┬────────────┬───────────┐\n",
       "│ user_index ┆ game_index ┆ review     ┆ voted_up ┆ weighted_v ┆ votes_up ┆ comment_co ┆ timestamp │\n",
       "│ ---        ┆ ---        ┆ ---        ┆ ---      ┆ ote_score  ┆ ---      ┆ unt        ┆ _created  │\n",
       "│ i64        ┆ i64        ┆ str        ┆ bool     ┆ ---        ┆ i64      ┆ ---        ┆ ---       │\n",
       "│            ┆            ┆            ┆          ┆ f64        ┆          ┆ i64        ┆ datetime[ │\n",
       "│            ┆            ┆            ┆          ┆            ┆          ┆            ┆ μs, Ameri │\n",
       "│            ┆            ┆            ┆          ┆            ┆          ┆            ┆ ca/Lima]  │\n",
       "╞════════════╪════════════╪════════════╪══════════╪════════════╪══════════╪════════════╪═══════════╡\n",
       "│ 925490     ┆ 74914      ┆ Spectacula ┆ true     ┆ 0.52381    ┆ 7        ┆ 1          ┆ 2017-11-0 │\n",
       "│            ┆            ┆ r graphics ┆          ┆            ┆          ┆            ┆ 2         │\n",
       "│            ┆            ┆ but like … ┆          ┆            ┆          ┆            ┆ 02:41:13  │\n",
       "│            ┆            ┆            ┆          ┆            ┆          ┆            ┆ -05       │\n",
       "│ 1488980    ┆ 74914      ┆ This table ┆ true     ┆ 0.703571   ┆ 22       ┆ 0          ┆ 2017-10-1 │\n",
       "│            ┆            ┆ is         ┆          ┆            ┆          ┆            ┆ 4         │\n",
       "│            ┆            ┆ fantastic! ┆          ┆            ┆          ┆            ┆ 12:57:21  │\n",
       "│            ┆            ┆            ┆          ┆            ┆          ┆            ┆ -05       │\n",
       "│            ┆            ┆ Good…      ┆          ┆            ┆          ┆            ┆           │\n",
       "│ 2313147    ┆ 74914      ┆ This game  ┆ true     ┆ 0.47619    ┆ 4        ┆ 1          ┆ 2017-12-1 │\n",
       "│            ┆            ┆ is pretty  ┆          ┆            ┆          ┆            ┆ 8         │\n",
       "│            ┆            ┆ fun. It    ┆          ┆            ┆          ┆            ┆ 20:54:03  │\n",
       "│            ┆            ┆ ha…        ┆          ┆            ┆          ┆            ┆ -05       │\n",
       "│ 1936139    ┆ 74914      ┆ This game  ┆ false    ┆ 0.363442   ┆ 13       ┆ 10         ┆ 2017-10-1 │\n",
       "│            ┆            ┆ in it's    ┆          ┆            ┆          ┆            ┆ 4         │\n",
       "│            ┆            ┆ current    ┆          ┆            ┆          ┆            ┆ 01:14:00  │\n",
       "│            ┆            ┆ stat…      ┆          ┆            ┆          ┆            ┆ -05       │\n",
       "│ 1954681    ┆ 74914      ┆ Decided to ┆ true     ┆ 0.540918   ┆ 6        ┆ 2          ┆ 2017-11-2 │\n",
       "│            ┆            ┆ give it a  ┆          ┆            ┆          ┆            ┆ 3         │\n",
       "│            ┆            ┆ try Nov 2… ┆          ┆            ┆          ┆            ┆ 06:22:56  │\n",
       "│            ┆            ┆            ┆          ┆            ┆          ┆            ┆ -05       │\n",
       "│ …          ┆ …          ┆ …          ┆ …        ┆ …          ┆ …        ┆ …          ┆ …         │\n",
       "│ 2308931    ┆ 0          ┆ 2D 3D who  ┆ true     ┆ 0.579802   ┆ 9        ┆ 0          ┆ 2017-11-2 │\n",
       "│            ┆            ┆ care's     ┆          ┆            ┆          ┆            ┆ 4         │\n",
       "│            ┆            ┆ postal     ┆          ┆            ┆          ┆            ┆ 14:00:13  │\n",
       "│            ┆            ┆ game w…    ┆          ┆            ┆          ┆            ┆ -05       │\n",
       "│ 2301001    ┆ 0          ┆ The        ┆ true     ┆ 0.625752   ┆ 8        ┆ 0          ┆ 2017-12-0 │\n",
       "│            ┆            ┆ developers ┆          ┆            ┆          ┆            ┆ 9         │\n",
       "│            ┆            ┆ are still  ┆          ┆            ┆          ┆            ┆ 18:38:11  │\n",
       "│            ┆            ┆ activ…     ┆          ┆            ┆          ┆            ┆ -05       │\n",
       "│ 931300     ┆ 0          ┆ One of the ┆ true     ┆ 0.573754   ┆ 9        ┆ 1          ┆ 2017-11-1 │\n",
       "│            ┆            ┆ most       ┆          ┆            ┆          ┆            ┆ 3         │\n",
       "│            ┆            ┆ disturbing ┆          ┆            ┆          ┆            ┆ 22:16:35  │\n",
       "│            ┆            ┆ and…       ┆          ┆            ┆          ┆            ┆ -05       │\n",
       "│ 224891     ┆ 0          ┆ great      ┆ true     ┆ 0.541985   ┆ 2        ┆ 0          ┆ 2017-11-2 │\n",
       "│            ┆            ┆ classic,   ┆          ┆            ┆          ┆            ┆ 3         │\n",
       "│            ┆            ┆ but get    ┆          ┆            ┆          ┆            ┆ 04:35:31  │\n",
       "│            ┆            ┆ the red…   ┆          ┆            ┆          ┆            ┆ -05       │\n",
       "│ 964777     ┆ 0          ┆ Story:     ┆ true     ┆ 0.5        ┆ 0        ┆ 0          ┆ 2016-02-2 │\n",
       "│            ┆            ┆ You kill   ┆          ┆            ┆          ┆            ┆ 5         │\n",
       "│            ┆            ┆ people     ┆          ┆            ┆          ┆            ┆ 02:28:34  │\n",
       "│            ┆            ┆ Charact…   ┆          ┆            ┆          ┆            ┆ -05       │\n",
       "└────────────┴────────────┴────────────┴──────────┴────────────┴──────────┴────────────┴───────────┘"
      ],
      "text/html": [
       "<div><style>\n",
       ".dataframe > thead > tr,\n",
       ".dataframe > tbody > tr {\n",
       "  text-align: right;\n",
       "  white-space: pre-wrap;\n",
       "}\n",
       "</style>\n",
       "<small>shape: (4_922_854, 8)</small><table border=\"1\" class=\"dataframe\"><thead><tr><th>user_index</th><th>game_index</th><th>review</th><th>voted_up</th><th>weighted_vote_score</th><th>votes_up</th><th>comment_count</th><th>timestamp_created</th></tr><tr><td>i64</td><td>i64</td><td>str</td><td>bool</td><td>f64</td><td>i64</td><td>i64</td><td>datetime[μs, America/Lima]</td></tr></thead><tbody><tr><td>925490</td><td>74914</td><td>&quot;Spectacular graphics but like …</td><td>true</td><td>0.52381</td><td>7</td><td>1</td><td>2017-11-02 02:41:13 -05</td></tr><tr><td>1488980</td><td>74914</td><td>&quot;This table is fantastic!\n",
       "\n",
       "Good…</td><td>true</td><td>0.703571</td><td>22</td><td>0</td><td>2017-10-14 12:57:21 -05</td></tr><tr><td>2313147</td><td>74914</td><td>&quot;This game is pretty fun. It ha…</td><td>true</td><td>0.47619</td><td>4</td><td>1</td><td>2017-12-18 20:54:03 -05</td></tr><tr><td>1936139</td><td>74914</td><td>&quot;This game in it&#x27;s current stat…</td><td>false</td><td>0.363442</td><td>13</td><td>10</td><td>2017-10-14 01:14:00 -05</td></tr><tr><td>1954681</td><td>74914</td><td>&quot;Decided to give it a try Nov 2…</td><td>true</td><td>0.540918</td><td>6</td><td>2</td><td>2017-11-23 06:22:56 -05</td></tr><tr><td>&hellip;</td><td>&hellip;</td><td>&hellip;</td><td>&hellip;</td><td>&hellip;</td><td>&hellip;</td><td>&hellip;</td><td>&hellip;</td></tr><tr><td>2308931</td><td>0</td><td>&quot;2D 3D who care&#x27;s postal game w…</td><td>true</td><td>0.579802</td><td>9</td><td>0</td><td>2017-11-24 14:00:13 -05</td></tr><tr><td>2301001</td><td>0</td><td>&quot;The developers are still activ…</td><td>true</td><td>0.625752</td><td>8</td><td>0</td><td>2017-12-09 18:38:11 -05</td></tr><tr><td>931300</td><td>0</td><td>&quot;One of the most disturbing and…</td><td>true</td><td>0.573754</td><td>9</td><td>1</td><td>2017-11-13 22:16:35 -05</td></tr><tr><td>224891</td><td>0</td><td>&quot;great classic, but get the red…</td><td>true</td><td>0.541985</td><td>2</td><td>0</td><td>2017-11-23 04:35:31 -05</td></tr><tr><td>964777</td><td>0</td><td>&quot;Story:\n",
       "You kill people\n",
       "Charact…</td><td>true</td><td>0.5</td><td>0</td><td>0</td><td>2016-02-25 02:28:34 -05</td></tr></tbody></table></div>"
      ]
     },
     "execution_count": 9,
     "metadata": {},
     "output_type": "execute_result"
    }
   ],
   "execution_count": 9
  },
  {
   "metadata": {
    "jupyter": {
     "is_executing": true
    }
   },
   "cell_type": "code",
   "source": [
    "inconsistent_release_dates = duckdb_conn.sql(\n",
    "    f\"SELECT g.game_id, g.game_index, g.game_name, g.game_release_date, f.timestamp_created FROM dim_games_imputed g JOIN fact_reviews f ON f.game_index = f.game_index WHERE DATE(f.timestamp_created) < DATE(g.game_release_date)\"\n",
    ").pl()\n",
    "inconsistent_release_dates"
   ],
   "id": "7c1aca56b2e121b2",
   "outputs": [],
   "execution_count": null
  },
  {
   "metadata": {
    "ExecuteTime": {
     "end_time": "2025-07-12T01:54:17.734048016Z",
     "start_time": "2025-07-12T01:44:18.849061Z"
    }
   },
   "cell_type": "code",
   "source": "duckdb_conn.close()",
   "id": "d31555a8c621aa05",
   "outputs": [],
   "execution_count": 13
  }
 ],
 "metadata": {
  "kernelspec": {
   "display_name": "Python 3",
   "language": "python",
   "name": "python3"
  },
  "language_info": {
   "codemirror_mode": {
    "name": "ipython",
    "version": 2
   },
   "file_extension": ".py",
   "mimetype": "text/x-python",
   "name": "python",
   "nbconvert_exporter": "python",
   "pygments_lexer": "ipython2",
   "version": "2.7.6"
  }
 },
 "nbformat": 4,
 "nbformat_minor": 5
}
