{
 "cells": [
  {
   "metadata": {},
   "cell_type": "markdown",
   "source": "# Experimenting rec approaches",
   "id": "bd82e23af48d488a"
  },
  {
   "cell_type": "code",
   "id": "initial_id",
   "metadata": {
    "collapsed": true,
    "ExecuteTime": {
     "end_time": "2025-07-11T03:43:19.944738Z",
     "start_time": "2025-07-11T03:43:19.868239Z"
    }
   },
   "source": [
    "import polars as pl\n",
    "import duckdb"
   ],
   "outputs": [],
   "execution_count": 1
  },
  {
   "metadata": {
    "ExecuteTime": {
     "end_time": "2025-07-11T03:43:20.358639Z",
     "start_time": "2025-07-11T03:43:20.356343Z"
    }
   },
   "cell_type": "code",
   "source": "CUT_TIMESTAMP = '2017-01-01'",
   "id": "2d59a3e437a09288",
   "outputs": [],
   "execution_count": 2
  },
  {
   "metadata": {
    "ExecuteTime": {
     "end_time": "2025-07-11T03:43:28.544913Z",
     "start_time": "2025-07-11T03:43:28.531208Z"
    }
   },
   "cell_type": "code",
   "source": "duckdb_conn = duckdb.connect('../data/steam.duckdb')",
   "id": "23f962531e19e5c2",
   "outputs": [],
   "execution_count": 6
  },
  {
   "metadata": {
    "ExecuteTime": {
     "end_time": "2025-07-11T03:47:08.613281Z",
     "start_time": "2025-07-11T03:47:08.458787Z"
    }
   },
   "cell_type": "code",
   "source": [
    "games_df =duckdb_conn.sql(f\"SELECT * FROM mart_game_features_with_ids WHERE DATE(game_release_date) < '{CUT_TIMESTAMP}'\").pl()\n",
    "games_df.sort(\"game_index\", descending=False)"
   ],
   "id": "eda219fc8ac7c8e8",
   "outputs": [
    {
     "data": {
      "text/plain": [
       "shape: (21_780, 19)\n",
       "┌────────────┬─────────┬───────────┬───────────┬───┬───────────┬───────────┬───────────┬───────────┐\n",
       "│ game_index ┆ game_id ┆ game_name ┆ game_deve ┆ … ┆ num_revie ┆ num_posit ┆ num_negat ┆ weighted_ │\n",
       "│ ---        ┆ ---     ┆ ---       ┆ lopers    ┆   ┆ ws        ┆ ive_revie ┆ ive_revie ┆ score     │\n",
       "│ i64        ┆ i64     ┆ str       ┆ ---       ┆   ┆ ---       ┆ ws        ┆ ws        ┆ ---       │\n",
       "│            ┆         ┆           ┆ list[str] ┆   ┆ i64       ┆ ---       ┆ ---       ┆ f64       │\n",
       "│            ┆         ┆           ┆           ┆   ┆           ┆ decimal[3 ┆ decimal[3 ┆           │\n",
       "│            ┆         ┆           ┆           ┆   ┆           ┆ 8,0]      ┆ 8,0]      ┆           │\n",
       "╞════════════╪═════════╪═══════════╪═══════════╪═══╪═══════════╪═══════════╪═══════════╪═══════════╡\n",
       "│ 12         ┆ 33900   ┆ Arma 2    ┆ [\"Bohemia ┆ … ┆ 5         ┆ 5         ┆ 0         ┆ 1.0       │\n",
       "│            ┆         ┆           ┆ Interacti ┆   ┆           ┆           ┆           ┆           │\n",
       "│            ┆         ┆           ┆ ve\"]      ┆   ┆           ┆           ┆           ┆           │\n",
       "│ 12         ┆ 33900   ┆ Arma 2    ┆ [\"Bohemia ┆ … ┆ 20        ┆ 18        ┆ 2         ┆ 0.899812  │\n",
       "│            ┆         ┆           ┆ Interacti ┆   ┆           ┆           ┆           ┆           │\n",
       "│            ┆         ┆           ┆ ve\"]      ┆   ┆           ┆           ┆           ┆           │\n",
       "│ 12         ┆ 33900   ┆ Arma 2    ┆ [\"Bohemia ┆ … ┆ 129       ┆ 113       ┆ 16        ┆ 0.884854  │\n",
       "│            ┆         ┆           ┆ Interacti ┆   ┆           ┆           ┆           ┆           │\n",
       "│            ┆         ┆           ┆ ve\"]      ┆   ┆           ┆           ┆           ┆           │\n",
       "│ 12         ┆ 33900   ┆ Arma 2    ┆ [\"Bohemia ┆ … ┆ 339       ┆ 296       ┆ 43        ┆ 0.883403  │\n",
       "│            ┆         ┆           ┆ Interacti ┆   ┆           ┆           ┆           ┆           │\n",
       "│            ┆         ┆           ┆ ve\"]      ┆   ┆           ┆           ┆           ┆           │\n",
       "│ 12         ┆ 33900   ┆ Arma 2    ┆ [\"Bohemia ┆ … ┆ 445       ┆ 386       ┆ 59        ┆ 0.878788  │\n",
       "│            ┆         ┆           ┆ Interacti ┆   ┆           ┆           ┆           ┆           │\n",
       "│            ┆         ┆           ┆ ve\"]      ┆   ┆           ┆           ┆           ┆           │\n",
       "│ …          ┆ …       ┆ …         ┆ …         ┆ … ┆ …         ┆ …         ┆ …         ┆ …         │\n",
       "│ 26861      ┆ 1269260 ┆ Artifact  ┆ [\"Valve\"] ┆ … ┆ 6         ┆ 6         ┆ 0         ┆ 1.0       │\n",
       "│            ┆         ┆ Foundry   ┆           ┆   ┆           ┆           ┆           ┆           │\n",
       "│ 26861      ┆ 1269260 ┆ Artifact  ┆ [\"Valve\"] ┆ … ┆ 14        ┆ 10        ┆ 4         ┆ 0.703337  │\n",
       "│            ┆         ┆ Foundry   ┆           ┆   ┆           ┆           ┆           ┆           │\n",
       "│ 26861      ┆ 1269260 ┆ Artifact  ┆ [\"Valve\"] ┆ … ┆ 1         ┆ 1         ┆ 0         ┆ 1.0       │\n",
       "│            ┆         ┆ Foundry   ┆           ┆   ┆           ┆           ┆           ┆           │\n",
       "│ 26861      ┆ 1269260 ┆ Artifact  ┆ [\"Valve\"] ┆ … ┆ 9         ┆ 8         ┆ 1         ┆ 0.883105  │\n",
       "│            ┆         ┆ Foundry   ┆           ┆   ┆           ┆           ┆           ┆           │\n",
       "│ 26861      ┆ 1269260 ┆ Artifact  ┆ [\"Valve\"] ┆ … ┆ 2         ┆ 2         ┆ 0         ┆ 1.0       │\n",
       "│            ┆         ┆ Foundry   ┆           ┆   ┆           ┆           ┆           ┆           │\n",
       "└────────────┴─────────┴───────────┴───────────┴───┴───────────┴───────────┴───────────┴───────────┘"
      ],
      "text/html": [
       "<div><style>\n",
       ".dataframe > thead > tr,\n",
       ".dataframe > tbody > tr {\n",
       "  text-align: right;\n",
       "  white-space: pre-wrap;\n",
       "}\n",
       "</style>\n",
       "<small>shape: (21_780, 19)</small><table border=\"1\" class=\"dataframe\"><thead><tr><th>game_index</th><th>game_id</th><th>game_name</th><th>game_developers</th><th>game_publishers</th><th>game_categories</th><th>game_genres</th><th>game_release_date</th><th>game_short_description</th><th>game_review_score</th><th>game_review_score_description</th><th>game_total_reviews</th><th>game_total_positive_reviews</th><th>game_total_negative_reviews</th><th>review_day</th><th>num_reviews</th><th>num_positive_reviews</th><th>num_negative_reviews</th><th>weighted_score</th></tr><tr><td>i64</td><td>i64</td><td>str</td><td>list[str]</td><td>list[str]</td><td>list[str]</td><td>list[str]</td><td>datetime[μs]</td><td>str</td><td>i64</td><td>str</td><td>i64</td><td>i64</td><td>i64</td><td>date</td><td>i64</td><td>decimal[38,0]</td><td>decimal[38,0]</td><td>f64</td></tr></thead><tbody><tr><td>12</td><td>33900</td><td>&quot;Arma 2&quot;</td><td>[&quot;Bohemia Interactive&quot;]</td><td>[&quot;Bohemia Interactive&quot;]</td><td>[&quot;Single-player&quot;, &quot;Multi-player&quot;, … &quot;Family Sharing&quot;]</td><td>[&quot;Action&quot;, &quot;Simulation&quot;, &quot;Strategy&quot;]</td><td>null</td><td>&quot;Building on 10 years of consta…</td><td>8</td><td>&quot;Very Positive&quot;</td><td>1619</td><td>1359</td><td>260</td><td>2010-12-19</td><td>5</td><td>5</td><td>0</td><td>1.0</td></tr><tr><td>12</td><td>33900</td><td>&quot;Arma 2&quot;</td><td>[&quot;Bohemia Interactive&quot;]</td><td>[&quot;Bohemia Interactive&quot;]</td><td>[&quot;Single-player&quot;, &quot;Multi-player&quot;, … &quot;Family Sharing&quot;]</td><td>[&quot;Action&quot;, &quot;Simulation&quot;, &quot;Strategy&quot;]</td><td>null</td><td>&quot;Building on 10 years of consta…</td><td>8</td><td>&quot;Very Positive&quot;</td><td>1619</td><td>1359</td><td>260</td><td>2011-04-29</td><td>20</td><td>18</td><td>2</td><td>0.899812</td></tr><tr><td>12</td><td>33900</td><td>&quot;Arma 2&quot;</td><td>[&quot;Bohemia Interactive&quot;]</td><td>[&quot;Bohemia Interactive&quot;]</td><td>[&quot;Single-player&quot;, &quot;Multi-player&quot;, … &quot;Family Sharing&quot;]</td><td>[&quot;Action&quot;, &quot;Simulation&quot;, &quot;Strategy&quot;]</td><td>null</td><td>&quot;Building on 10 years of consta…</td><td>8</td><td>&quot;Very Positive&quot;</td><td>1619</td><td>1359</td><td>260</td><td>2012-11-17</td><td>129</td><td>113</td><td>16</td><td>0.884854</td></tr><tr><td>12</td><td>33900</td><td>&quot;Arma 2&quot;</td><td>[&quot;Bohemia Interactive&quot;]</td><td>[&quot;Bohemia Interactive&quot;]</td><td>[&quot;Single-player&quot;, &quot;Multi-player&quot;, … &quot;Family Sharing&quot;]</td><td>[&quot;Action&quot;, &quot;Simulation&quot;, &quot;Strategy&quot;]</td><td>null</td><td>&quot;Building on 10 years of consta…</td><td>8</td><td>&quot;Very Positive&quot;</td><td>1619</td><td>1359</td><td>260</td><td>2014-01-20</td><td>339</td><td>296</td><td>43</td><td>0.883403</td></tr><tr><td>12</td><td>33900</td><td>&quot;Arma 2&quot;</td><td>[&quot;Bohemia Interactive&quot;]</td><td>[&quot;Bohemia Interactive&quot;]</td><td>[&quot;Single-player&quot;, &quot;Multi-player&quot;, … &quot;Family Sharing&quot;]</td><td>[&quot;Action&quot;, &quot;Simulation&quot;, &quot;Strategy&quot;]</td><td>null</td><td>&quot;Building on 10 years of consta…</td><td>8</td><td>&quot;Very Positive&quot;</td><td>1619</td><td>1359</td><td>260</td><td>2014-05-05</td><td>445</td><td>386</td><td>59</td><td>0.878788</td></tr><tr><td>&hellip;</td><td>&hellip;</td><td>&hellip;</td><td>&hellip;</td><td>&hellip;</td><td>&hellip;</td><td>&hellip;</td><td>&hellip;</td><td>&hellip;</td><td>&hellip;</td><td>&hellip;</td><td>&hellip;</td><td>&hellip;</td><td>&hellip;</td><td>&hellip;</td><td>&hellip;</td><td>&hellip;</td><td>&hellip;</td><td>&hellip;</td></tr><tr><td>26861</td><td>1269260</td><td>&quot;Artifact Foundry&quot;</td><td>[&quot;Valve&quot;]</td><td>[&quot;Valve&quot;]</td><td>[&quot;Single-player&quot;, &quot;Multi-player&quot;, … &quot;Family Sharing&quot;]</td><td>[&quot;Strategy&quot;]</td><td>null</td><td>&quot;Artifact Foundry, a special ed…</td><td>5</td><td>&quot;Mixed&quot;</td><td>32</td><td>22</td><td>10</td><td>2021-03-17</td><td>6</td><td>6</td><td>0</td><td>1.0</td></tr><tr><td>26861</td><td>1269260</td><td>&quot;Artifact Foundry&quot;</td><td>[&quot;Valve&quot;]</td><td>[&quot;Valve&quot;]</td><td>[&quot;Single-player&quot;, &quot;Multi-player&quot;, … &quot;Family Sharing&quot;]</td><td>[&quot;Strategy&quot;]</td><td>null</td><td>&quot;Artifact Foundry, a special ed…</td><td>5</td><td>&quot;Mixed&quot;</td><td>32</td><td>22</td><td>10</td><td>2025-05-01</td><td>14</td><td>10</td><td>4</td><td>0.703337</td></tr><tr><td>26861</td><td>1269260</td><td>&quot;Artifact Foundry&quot;</td><td>[&quot;Valve&quot;]</td><td>[&quot;Valve&quot;]</td><td>[&quot;Single-player&quot;, &quot;Multi-player&quot;, … &quot;Family Sharing&quot;]</td><td>[&quot;Strategy&quot;]</td><td>null</td><td>&quot;Artifact Foundry, a special ed…</td><td>5</td><td>&quot;Mixed&quot;</td><td>32</td><td>22</td><td>10</td><td>2021-03-07</td><td>1</td><td>1</td><td>0</td><td>1.0</td></tr><tr><td>26861</td><td>1269260</td><td>&quot;Artifact Foundry&quot;</td><td>[&quot;Valve&quot;]</td><td>[&quot;Valve&quot;]</td><td>[&quot;Single-player&quot;, &quot;Multi-player&quot;, … &quot;Family Sharing&quot;]</td><td>[&quot;Strategy&quot;]</td><td>null</td><td>&quot;Artifact Foundry, a special ed…</td><td>5</td><td>&quot;Mixed&quot;</td><td>32</td><td>22</td><td>10</td><td>2021-03-30</td><td>9</td><td>8</td><td>1</td><td>0.883105</td></tr><tr><td>26861</td><td>1269260</td><td>&quot;Artifact Foundry&quot;</td><td>[&quot;Valve&quot;]</td><td>[&quot;Valve&quot;]</td><td>[&quot;Single-player&quot;, &quot;Multi-player&quot;, … &quot;Family Sharing&quot;]</td><td>[&quot;Strategy&quot;]</td><td>null</td><td>&quot;Artifact Foundry, a special ed…</td><td>5</td><td>&quot;Mixed&quot;</td><td>32</td><td>22</td><td>10</td><td>2021-03-12</td><td>2</td><td>2</td><td>0</td><td>1.0</td></tr></tbody></table></div>"
      ]
     },
     "execution_count": 9,
     "metadata": {},
     "output_type": "execute_result"
    }
   ],
   "execution_count": 9
  },
  {
   "metadata": {
    "ExecuteTime": {
     "end_time": "2025-07-11T02:59:02.174560Z",
     "start_time": "2025-07-11T02:59:01.327535Z"
    }
   },
   "cell_type": "code",
   "source": [
    "reviews_df = duckdb_conn.sql(f\"SELECT * FROM mart_review_features WHERE DATE(timestamp_created) < '{CUT_TIMESTAMP}'\").pl()\n",
    "reviews_df.sort(\"timestamp_created\", descending=True)"
   ],
   "id": "f55f1b1cd7a4a74d",
   "outputs": [
    {
     "data": {
      "text/plain": [
       "shape: (1_951_874, 7)\n",
       "┌────────────┬────────────┬─────────────────┬──────────┬──────────┬───────────────┬────────────────┐\n",
       "│ user_index ┆ game_index ┆ review          ┆ voted_up ┆ votes_up ┆ comment_count ┆ timestamp_crea │\n",
       "│ ---        ┆ ---        ┆ ---             ┆ ---      ┆ ---      ┆ ---           ┆ ted            │\n",
       "│ i64        ┆ i64        ┆ str             ┆ bool     ┆ i64      ┆ i64           ┆ ---            │\n",
       "│            ┆            ┆                 ┆          ┆          ┆               ┆ datetime[μs,   │\n",
       "│            ┆            ┆                 ┆          ┆          ┆               ┆ America/Lima]  │\n",
       "╞════════════╪════════════╪═════════════════╪══════════╪══════════╪═══════════════╪════════════════╡\n",
       "│ 662404     ┆ 6090       ┆ If anything,    ┆ true     ┆ 19       ┆ 0             ┆ 2016-12-31     │\n",
       "│            ┆            ┆ this game is    ┆          ┆          ┆               ┆ 23:59:58 -05   │\n",
       "│            ┆            ┆ cute…           ┆          ┆          ┆               ┆                │\n",
       "│ 465034     ┆ 5899       ┆ Pros:           ┆ true     ┆ 0        ┆ 1             ┆ 2016-12-31     │\n",
       "│            ┆            ┆ Really huge     ┆          ┆          ┆               ┆ 23:59:57 -05   │\n",
       "│            ┆            ┆ map.            ┆          ┆          ┆               ┆                │\n",
       "│            ┆            ┆ Storyli…        ┆          ┆          ┆               ┆                │\n",
       "│ 458845     ┆ 375        ┆ I didn't enjoy  ┆ false    ┆ 3        ┆ 0             ┆ 2016-12-31     │\n",
       "│            ┆            ┆ this at all.    ┆          ┆          ┆               ┆ 23:59:41 -05   │\n",
       "│            ┆            ┆ Th…             ┆          ┆          ┆               ┆                │\n",
       "│ 589758     ┆ 645        ┆ Not gonna lie,  ┆ true     ┆ 0        ┆ 0             ┆ 2016-12-31     │\n",
       "│            ┆            ┆ I bought this   ┆          ┆          ┆               ┆ 23:58:27 -05   │\n",
       "│            ┆            ┆ g…              ┆          ┆          ┆               ┆                │\n",
       "│ 589758     ┆ 61         ┆ Hey, it's an    ┆ true     ┆ 0        ┆ 0             ┆ 2016-12-31     │\n",
       "│            ┆            ┆ alright top     ┆          ┆          ┆               ┆ 23:57:57 -05   │\n",
       "│            ┆            ┆ down …          ┆          ┆          ┆               ┆                │\n",
       "│ …          ┆ …          ┆ …               ┆ …        ┆ …        ┆ …             ┆ …              │\n",
       "│ 48133      ┆ 875        ┆ Supreme         ┆ true     ┆ 0        ┆ 0             ┆ 2010-10-15     │\n",
       "│            ┆            ┆ Commander is    ┆          ┆          ┆               ┆ 18:26:10 -05   │\n",
       "│            ┆            ┆ completly…      ┆          ┆          ┆               ┆                │\n",
       "│ 26932      ┆ 117        ┆ Best game ever! ┆ true     ┆ 0        ┆ 0             ┆ 2010-10-15     │\n",
       "│            ┆            ┆ If you haven'…  ┆          ┆          ┆               ┆ 18:25:29 -05   │\n",
       "│ 134015     ┆ 791        ┆ goty 2009       ┆ true     ┆ 0        ┆ 0             ┆ 2010-10-15     │\n",
       "│            ┆            ┆                 ┆          ┆          ┆               ┆ 18:25:11 -05   │\n",
       "│ 269203     ┆ 730        ┆ The most damn   ┆ true     ┆ 0        ┆ 0             ┆ 2010-10-15     │\n",
       "│            ┆            ┆ realistic       ┆          ┆          ┆               ┆ 18:24:07 -05   │\n",
       "│            ┆            ┆ milita…         ┆          ┆          ┆               ┆                │\n",
       "│ 269203     ┆ 30         ┆ Just buy this   ┆ true     ┆ 0        ┆ 0             ┆ 2010-10-15     │\n",
       "│            ┆            ┆ game. It's      ┆          ┆          ┆               ┆ 18:20:21 -05   │\n",
       "│            ┆            ┆ amazi…          ┆          ┆          ┆               ┆                │\n",
       "└────────────┴────────────┴─────────────────┴──────────┴──────────┴───────────────┴────────────────┘"
      ],
      "text/html": [
       "<div><style>\n",
       ".dataframe > thead > tr,\n",
       ".dataframe > tbody > tr {\n",
       "  text-align: right;\n",
       "  white-space: pre-wrap;\n",
       "}\n",
       "</style>\n",
       "<small>shape: (1_951_874, 7)</small><table border=\"1\" class=\"dataframe\"><thead><tr><th>user_index</th><th>game_index</th><th>review</th><th>voted_up</th><th>votes_up</th><th>comment_count</th><th>timestamp_created</th></tr><tr><td>i64</td><td>i64</td><td>str</td><td>bool</td><td>i64</td><td>i64</td><td>datetime[μs, America/Lima]</td></tr></thead><tbody><tr><td>662404</td><td>6090</td><td>&quot;If anything, this game is cute…</td><td>true</td><td>19</td><td>0</td><td>2016-12-31 23:59:58 -05</td></tr><tr><td>465034</td><td>5899</td><td>&quot;Pros:\n",
       "Really huge map.\n",
       "Storyli…</td><td>true</td><td>0</td><td>1</td><td>2016-12-31 23:59:57 -05</td></tr><tr><td>458845</td><td>375</td><td>&quot;I didn&#x27;t enjoy this at all. Th…</td><td>false</td><td>3</td><td>0</td><td>2016-12-31 23:59:41 -05</td></tr><tr><td>589758</td><td>645</td><td>&quot;Not gonna lie, I bought this g…</td><td>true</td><td>0</td><td>0</td><td>2016-12-31 23:58:27 -05</td></tr><tr><td>589758</td><td>61</td><td>&quot;Hey, it&#x27;s an alright top down …</td><td>true</td><td>0</td><td>0</td><td>2016-12-31 23:57:57 -05</td></tr><tr><td>&hellip;</td><td>&hellip;</td><td>&hellip;</td><td>&hellip;</td><td>&hellip;</td><td>&hellip;</td><td>&hellip;</td></tr><tr><td>48133</td><td>875</td><td>&quot;Supreme Commander is completly…</td><td>true</td><td>0</td><td>0</td><td>2010-10-15 18:26:10 -05</td></tr><tr><td>26932</td><td>117</td><td>&quot;Best game ever!&nbsp;&nbsp;If you haven&#x27;…</td><td>true</td><td>0</td><td>0</td><td>2010-10-15 18:25:29 -05</td></tr><tr><td>134015</td><td>791</td><td>&quot;goty 2009&quot;</td><td>true</td><td>0</td><td>0</td><td>2010-10-15 18:25:11 -05</td></tr><tr><td>269203</td><td>730</td><td>&quot;The most damn realistic milita…</td><td>true</td><td>0</td><td>0</td><td>2010-10-15 18:24:07 -05</td></tr><tr><td>269203</td><td>30</td><td>&quot;Just buy this game. It&#x27;s amazi…</td><td>true</td><td>0</td><td>0</td><td>2010-10-15 18:20:21 -05</td></tr></tbody></table></div>"
      ]
     },
     "execution_count": 22,
     "metadata": {},
     "output_type": "execute_result"
    }
   ],
   "execution_count": 22
  },
  {
   "metadata": {
    "ExecuteTime": {
     "end_time": "2025-07-11T03:49:01.012083Z",
     "start_time": "2025-07-11T03:49:00.981952Z"
    }
   },
   "cell_type": "code",
   "source": "duckdb_conn.close()",
   "id": "d31555a8c621aa05",
   "outputs": [],
   "execution_count": 10
  }
 ],
 "metadata": {
  "kernelspec": {
   "display_name": "Python 3",
   "language": "python",
   "name": "python3"
  },
  "language_info": {
   "codemirror_mode": {
    "name": "ipython",
    "version": 2
   },
   "file_extension": ".py",
   "mimetype": "text/x-python",
   "name": "python",
   "nbconvert_exporter": "python",
   "pygments_lexer": "ipython2",
   "version": "2.7.6"
  }
 },
 "nbformat": 4,
 "nbformat_minor": 5
}
