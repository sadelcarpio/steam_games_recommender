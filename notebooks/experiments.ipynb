{
 "cells": [
  {
   "metadata": {},
   "cell_type": "markdown",
   "source": "# Experimenting rec approaches",
   "id": "bd82e23af48d488a"
  },
  {
   "cell_type": "code",
   "id": "initial_id",
   "metadata": {
    "collapsed": true,
    "ExecuteTime": {
     "end_time": "2025-07-12T23:18:44.727422Z",
     "start_time": "2025-07-12T23:18:44.725647Z"
    }
   },
   "source": [
    "import polars as pl\n",
    "import duckdb"
   ],
   "outputs": [],
   "execution_count": 13
  },
  {
   "metadata": {
    "ExecuteTime": {
     "end_time": "2025-07-12T23:09:11.942880Z",
     "start_time": "2025-07-12T23:09:11.941028Z"
    }
   },
   "cell_type": "code",
   "source": "CUT_TIMESTAMP = '2018-01-01'",
   "id": "2d59a3e437a09288",
   "outputs": [],
   "execution_count": 2
  },
  {
   "metadata": {
    "ExecuteTime": {
     "end_time": "2025-07-12T23:09:12.664740Z",
     "start_time": "2025-07-12T23:09:12.590127Z"
    }
   },
   "cell_type": "code",
   "source": "duckdb_conn = duckdb.connect('../data/steam.duckdb')",
   "id": "23f962531e19e5c2",
   "outputs": [],
   "execution_count": 3
  },
  {
   "metadata": {
    "ExecuteTime": {
     "end_time": "2025-07-12T23:09:59.232049Z",
     "start_time": "2025-07-12T23:09:57.934454Z"
    }
   },
   "cell_type": "code",
   "source": [
    "games_df = duckdb_conn.sql(f\"SELECT * FROM game_rolling_features WHERE DATE(game_review_day) <= '{CUT_TIMESTAMP}'\").pl()\n",
    "games_df.sort(\"game_index\", descending=True)"
   ],
   "id": "eda219fc8ac7c8e8",
   "outputs": [
    {
     "data": {
      "text/plain": [
       "shape: (1_259_931, 21)\n",
       "┌────────────┬─────────┬───────────┬───────────┬───┬───────────┬───────────┬───────────┬───────────┐\n",
       "│ game_index ┆ game_id ┆ game_name ┆ game_deve ┆ … ┆ game_num_ ┆ game_num_ ┆ game_num_ ┆ game_weig │\n",
       "│ ---        ┆ ---     ┆ ---       ┆ lopers    ┆   ┆ reviews   ┆ positive_ ┆ negative_ ┆ hted_scor │\n",
       "│ i64        ┆ i64     ┆ str       ┆ ---       ┆   ┆ ---       ┆ reviews   ┆ reviews   ┆ e         │\n",
       "│            ┆         ┆           ┆ list[str] ┆   ┆ i64       ┆ ---       ┆ ---       ┆ ---       │\n",
       "│            ┆         ┆           ┆           ┆   ┆           ┆ decimal[3 ┆ decimal[3 ┆ f64       │\n",
       "│            ┆         ┆           ┆           ┆   ┆           ┆ 8,0]      ┆ 8,0]      ┆           │\n",
       "╞════════════╪═════════╪═══════════╪═══════════╪═══╪═══════════╪═══════════╪═══════════╪═══════════╡\n",
       "│ 14875      ┆ 470310  ┆ TROUBLESH ┆ [\"Dandyli ┆ … ┆ 2         ┆ 2         ┆ 0         ┆ 1.0       │\n",
       "│            ┆         ┆ OOTER:    ┆ on\"]      ┆   ┆           ┆           ┆           ┆           │\n",
       "│            ┆         ┆ Abandoned ┆           ┆   ┆           ┆           ┆           ┆           │\n",
       "│            ┆         ┆ Chil…     ┆           ┆   ┆           ┆           ┆           ┆           │\n",
       "│ 14873      ┆ 765180  ┆ SCP-087:  ┆ [\"Korovki ┆ … ┆ 1         ┆ 0         ┆ 1         ┆ 0.0       │\n",
       "│            ┆         ┆ Recovered ┆ n         ┆   ┆           ┆           ┆           ┆           │\n",
       "│            ┆         ┆ document  ┆ Nikita\",  ┆   ┆           ┆           ┆           ┆           │\n",
       "│            ┆         ┆           ┆ \"Filatov  ┆   ┆           ┆           ┆           ┆           │\n",
       "│            ┆         ┆           ┆ I…        ┆   ┆           ┆           ┆           ┆           │\n",
       "│ 14871      ┆ 766700  ┆ PearsAndG ┆ [\"YAOYICH ┆ … ┆ 3         ┆ 2         ┆ 1         ┆ 0.458526  │\n",
       "│            ┆         ┆ rayWitch  ┆ EN\"]      ┆   ┆           ┆           ┆           ┆           │\n",
       "│ 14868      ┆ 524350  ┆ TileDynas ┆ [\"Purpl3G ┆ … ┆ 1         ┆ 1         ┆ 0         ┆ 1.0       │\n",
       "│            ┆         ┆ ty FPS    ┆ rape\"]    ┆   ┆           ┆           ┆           ┆           │\n",
       "│            ┆         ┆ Arena     ┆           ┆   ┆           ┆           ┆           ┆           │\n",
       "│ 14867      ┆ 766850  ┆ Vaporwave ┆ [\"ETGgame ┆ … ┆ 4         ┆ 2         ┆ 2         ┆ 0.373153  │\n",
       "│            ┆         ┆ Simulator ┆ s\"]       ┆   ┆           ┆           ┆           ┆           │\n",
       "│ …          ┆ …       ┆ …         ┆ …         ┆ … ┆ …         ┆ …         ┆ …         ┆ …         │\n",
       "│ 0          ┆ 232770  ┆ POSTAL    ┆ [\"Running ┆ … ┆ 403       ┆ 320       ┆ 83        ┆ 0.810498  │\n",
       "│            ┆         ┆           ┆ With Scis ┆   ┆           ┆           ┆           ┆           │\n",
       "│            ┆         ┆           ┆ sors\"]    ┆   ┆           ┆           ┆           ┆           │\n",
       "│ 0          ┆ 232770  ┆ POSTAL    ┆ [\"Running ┆ … ┆ 530       ┆ 435       ┆ 95        ┆ 0.835714  │\n",
       "│            ┆         ┆           ┆ With Scis ┆   ┆           ┆           ┆           ┆           │\n",
       "│            ┆         ┆           ┆ sors\"]    ┆   ┆           ┆           ┆           ┆           │\n",
       "│ 0          ┆ 232770  ┆ POSTAL    ┆ [\"Running ┆ … ┆ 558       ┆ 459       ┆ 99        ┆ 0.837646  │\n",
       "│            ┆         ┆           ┆ With Scis ┆   ┆           ┆           ┆           ┆           │\n",
       "│            ┆         ┆           ┆ sors\"]    ┆   ┆           ┆           ┆           ┆           │\n",
       "│ 0          ┆ 232770  ┆ POSTAL    ┆ [\"Running ┆ … ┆ 566       ┆ 466       ┆ 100       ┆ 0.838426  │\n",
       "│            ┆         ┆           ┆ With Scis ┆   ┆           ┆           ┆           ┆           │\n",
       "│            ┆         ┆           ┆ sors\"]    ┆   ┆           ┆           ┆           ┆           │\n",
       "│ 0          ┆ 232770  ┆ POSTAL    ┆ [\"Running ┆ … ┆ 721       ┆ 607       ┆ 114       ┆ 0.856899  │\n",
       "│            ┆         ┆           ┆ With Scis ┆   ┆           ┆           ┆           ┆           │\n",
       "│            ┆         ┆           ┆ sors\"]    ┆   ┆           ┆           ┆           ┆           │\n",
       "└────────────┴─────────┴───────────┴───────────┴───┴───────────┴───────────┴───────────┴───────────┘"
      ],
      "text/html": [
       "<div><style>\n",
       ".dataframe > thead > tr,\n",
       ".dataframe > tbody > tr {\n",
       "  text-align: right;\n",
       "  white-space: pre-wrap;\n",
       "}\n",
       "</style>\n",
       "<small>shape: (1_259_931, 21)</small><table border=\"1\" class=\"dataframe\"><thead><tr><th>game_index</th><th>game_id</th><th>game_name</th><th>game_developers</th><th>game_publishers</th><th>game_categories</th><th>game_genres</th><th>original_game_release_date</th><th>game_release_date</th><th>game_prerelease_date</th><th>game_short_description</th><th>game_review_score</th><th>game_review_score_description</th><th>game_total_reviews</th><th>game_total_positive_reviews</th><th>game_total_negative_reviews</th><th>game_review_day</th><th>game_num_reviews</th><th>game_num_positive_reviews</th><th>game_num_negative_reviews</th><th>game_weighted_score</th></tr><tr><td>i64</td><td>i64</td><td>str</td><td>list[str]</td><td>list[str]</td><td>list[str]</td><td>list[str]</td><td>datetime[μs]</td><td>datetime[μs, America/Lima]</td><td>datetime[μs, America/Lima]</td><td>str</td><td>i64</td><td>str</td><td>i64</td><td>i64</td><td>i64</td><td>date</td><td>i64</td><td>decimal[38,0]</td><td>decimal[38,0]</td><td>f64</td></tr></thead><tbody><tr><td>14875</td><td>470310</td><td>&quot;TROUBLESHOOTER: Abandoned Chil…</td><td>[&quot;Dandylion&quot;]</td><td>[&quot;Dandylion&quot;]</td><td>[&quot;Single-player&quot;, &quot;Steam Achievements&quot;, … &quot;Family Sharing&quot;]</td><td>[&quot;Casual&quot;, &quot;Indie&quot;, … &quot;Strategy&quot;]</td><td>2020-04-23 00:00:00</td><td>2020-04-23 00:00:00 -05</td><td>2018-01-01 04:46:45 -05</td><td>&quot;TROUBLESHOOTER: Abandoned Chil…</td><td>8</td><td>&quot;Very Positive&quot;</td><td>3118</td><td>2915</td><td>203</td><td>2018-01-01</td><td>2</td><td>2</td><td>0</td><td>1.0</td></tr><tr><td>14873</td><td>765180</td><td>&quot;SCP-087: Recovered document&quot;</td><td>[&quot;Korovkin Nikita&quot;, &quot;Filatov Igor&quot;, … &quot;Kristian Shatov&quot;]</td><td>[&quot;Korovkin Nikita&quot;]</td><td>[&quot;Single-player&quot;, &quot;Family Sharing&quot;]</td><td>[&quot;Action&quot;, &quot;Adventure&quot;, … &quot;Early Access&quot;]</td><td>2018-01-01 00:00:00</td><td>2018-01-01 00:00:00 -05</td><td>2018-01-01 00:00:00 -05</td><td>&quot;SCP-087: Recovered documents -…</td><td>4</td><td>&quot;Mostly Negative&quot;</td><td>22</td><td>6</td><td>16</td><td>2018-01-01</td><td>1</td><td>0</td><td>1</td><td>0.0</td></tr><tr><td>14871</td><td>766700</td><td>&quot;PearsAndGrayWitch&quot;</td><td>[&quot;YAOYICHEN&quot;]</td><td>[&quot;YAOYICHEN&quot;]</td><td>[&quot;Single-player&quot;, &quot;Family Sharing&quot;]</td><td>[&quot;Action&quot;, &quot;Adventure&quot;, … &quot;RPG&quot;]</td><td>2018-01-01 00:00:00</td><td>2018-01-01 00:00:00 -05</td><td>2018-01-01 00:00:00 -05</td><td>&quot;A boy who likes &amp;quot;Apples&amp;q…</td><td>5</td><td>&quot;Mixed&quot;</td><td>10</td><td>4</td><td>6</td><td>2018-01-01</td><td>3</td><td>2</td><td>1</td><td>0.458526</td></tr><tr><td>14868</td><td>524350</td><td>&quot;TileDynasty FPS Arena&quot;</td><td>[&quot;Purpl3Grape&quot;]</td><td>[&quot;Purpl3Grape&quot;]</td><td>[&quot;Single-player&quot;, &quot;Multi-player&quot;, … &quot;Family Sharing&quot;]</td><td>[&quot;Action&quot;, &quot;Indie&quot;, &quot;Early Access&quot;]</td><td>2018-01-01 00:00:00</td><td>2018-01-01 00:00:00 -05</td><td>2018-01-01 00:00:00 -05</td><td>&quot;Looking to bring the old arcad…</td><td>0</td><td>&quot;2 user reviews&quot;</td><td>2</td><td>2</td><td>0</td><td>2018-01-01</td><td>1</td><td>1</td><td>0</td><td>1.0</td></tr><tr><td>14867</td><td>766850</td><td>&quot;Vaporwave Simulator&quot;</td><td>[&quot;ETGgames&quot;]</td><td>[&quot;ETGgames&quot;]</td><td>[&quot;Single-player&quot;, &quot;Family Sharing&quot;]</td><td>[&quot;Casual&quot;, &quot;Indie&quot;, &quot;Simulation&quot;]</td><td>2018-01-01 00:00:00</td><td>2018-01-01 00:00:00 -05</td><td>2018-01-01 00:00:00 -05</td><td>&quot;It&#x27;s all in your head.&quot;</td><td>5</td><td>&quot;Mixed&quot;</td><td>55</td><td>30</td><td>25</td><td>2018-01-01</td><td>4</td><td>2</td><td>2</td><td>0.373153</td></tr><tr><td>&hellip;</td><td>&hellip;</td><td>&hellip;</td><td>&hellip;</td><td>&hellip;</td><td>&hellip;</td><td>&hellip;</td><td>&hellip;</td><td>&hellip;</td><td>&hellip;</td><td>&hellip;</td><td>&hellip;</td><td>&hellip;</td><td>&hellip;</td><td>&hellip;</td><td>&hellip;</td><td>&hellip;</td><td>&hellip;</td><td>&hellip;</td><td>&hellip;</td><td>&hellip;</td></tr><tr><td>0</td><td>232770</td><td>&quot;POSTAL&quot;</td><td>[&quot;Running With Scissors&quot;]</td><td>[&quot;Running With Scissors&quot;]</td><td>[&quot;Single-player&quot;, &quot;Steam Achievements&quot;, … &quot;Family Sharing&quot;]</td><td>[&quot;Action&quot;, &quot;Indie&quot;]</td><td>1997-11-14 00:00:00</td><td>1997-11-14 00:00:00 -05</td><td>1997-11-14 00:00:00 -05</td><td>&quot;Take control of The POSTAL Dud…</td><td>8</td><td>&quot;Very Positive&quot;</td><td>1323</td><td>1144</td><td>179</td><td>2015-12-31</td><td>403</td><td>320</td><td>83</td><td>0.810498</td></tr><tr><td>0</td><td>232770</td><td>&quot;POSTAL&quot;</td><td>[&quot;Running With Scissors&quot;]</td><td>[&quot;Running With Scissors&quot;]</td><td>[&quot;Single-player&quot;, &quot;Steam Achievements&quot;, … &quot;Family Sharing&quot;]</td><td>[&quot;Action&quot;, &quot;Indie&quot;]</td><td>1997-11-14 00:00:00</td><td>1997-11-14 00:00:00 -05</td><td>1997-11-14 00:00:00 -05</td><td>&quot;Take control of The POSTAL Dud…</td><td>8</td><td>&quot;Very Positive&quot;</td><td>1323</td><td>1144</td><td>179</td><td>2016-11-15</td><td>530</td><td>435</td><td>95</td><td>0.835714</td></tr><tr><td>0</td><td>232770</td><td>&quot;POSTAL&quot;</td><td>[&quot;Running With Scissors&quot;]</td><td>[&quot;Running With Scissors&quot;]</td><td>[&quot;Single-player&quot;, &quot;Steam Achievements&quot;, … &quot;Family Sharing&quot;]</td><td>[&quot;Action&quot;, &quot;Indie&quot;]</td><td>1997-11-14 00:00:00</td><td>1997-11-14 00:00:00 -05</td><td>1997-11-14 00:00:00 -05</td><td>&quot;Take control of The POSTAL Dud…</td><td>8</td><td>&quot;Very Positive&quot;</td><td>1323</td><td>1144</td><td>179</td><td>2016-12-27</td><td>558</td><td>459</td><td>99</td><td>0.837646</td></tr><tr><td>0</td><td>232770</td><td>&quot;POSTAL&quot;</td><td>[&quot;Running With Scissors&quot;]</td><td>[&quot;Running With Scissors&quot;]</td><td>[&quot;Single-player&quot;, &quot;Steam Achievements&quot;, … &quot;Family Sharing&quot;]</td><td>[&quot;Action&quot;, &quot;Indie&quot;]</td><td>1997-11-14 00:00:00</td><td>1997-11-14 00:00:00 -05</td><td>1997-11-14 00:00:00 -05</td><td>&quot;Take control of The POSTAL Dud…</td><td>8</td><td>&quot;Very Positive&quot;</td><td>1323</td><td>1144</td><td>179</td><td>2017-01-09</td><td>566</td><td>466</td><td>100</td><td>0.838426</td></tr><tr><td>0</td><td>232770</td><td>&quot;POSTAL&quot;</td><td>[&quot;Running With Scissors&quot;]</td><td>[&quot;Running With Scissors&quot;]</td><td>[&quot;Single-player&quot;, &quot;Steam Achievements&quot;, … &quot;Family Sharing&quot;]</td><td>[&quot;Action&quot;, &quot;Indie&quot;]</td><td>1997-11-14 00:00:00</td><td>1997-11-14 00:00:00 -05</td><td>1997-11-14 00:00:00 -05</td><td>&quot;Take control of The POSTAL Dud…</td><td>8</td><td>&quot;Very Positive&quot;</td><td>1323</td><td>1144</td><td>179</td><td>2017-12-12</td><td>721</td><td>607</td><td>114</td><td>0.856899</td></tr></tbody></table></div>"
      ]
     },
     "execution_count": 7,
     "metadata": {},
     "output_type": "execute_result"
    }
   ],
   "execution_count": 7
  },
  {
   "metadata": {
    "ExecuteTime": {
     "end_time": "2025-07-12T23:10:01.709789Z",
     "start_time": "2025-07-12T23:10:01.642012Z"
    }
   },
   "cell_type": "code",
   "source": [
    "dim_games_df =duckdb_conn.sql(f\"SELECT * FROM dim_games_imputed WHERE DATE(game_prerelease_date) <= '{CUT_TIMESTAMP}'\").pl()\n",
    "dim_games_df.sort(\"game_index\", descending=True)"
   ],
   "id": "8f0c85b0978b54c",
   "outputs": [
    {
     "data": {
      "text/plain": [
       "shape: (14_876, 16)\n",
       "┌────────────┬─────────┬───────────┬───────────┬───┬───────────┬───────────┬───────────┬───────────┐\n",
       "│ game_index ┆ game_id ┆ game_name ┆ game_deve ┆ … ┆ game_revi ┆ game_tota ┆ game_tota ┆ game_tota │\n",
       "│ ---        ┆ ---     ┆ ---       ┆ lopers    ┆   ┆ ew_score_ ┆ l_reviews ┆ l_positiv ┆ l_negativ │\n",
       "│ i64        ┆ i64     ┆ str       ┆ ---       ┆   ┆ descripti ┆ ---       ┆ e_reviews ┆ e_reviews │\n",
       "│            ┆         ┆           ┆ list[str] ┆   ┆ on        ┆ i64       ┆ ---       ┆ ---       │\n",
       "│            ┆         ┆           ┆           ┆   ┆ ---       ┆           ┆ i64       ┆ i64       │\n",
       "│            ┆         ┆           ┆           ┆   ┆ str       ┆           ┆           ┆           │\n",
       "╞════════════╪═════════╪═══════════╪═══════════╪═══╪═══════════╪═══════════╪═══════════╪═══════════╡\n",
       "│ 14875      ┆ 470310  ┆ TROUBLESH ┆ [\"Dandyli ┆ … ┆ Very      ┆ 3118      ┆ 2915      ┆ 203       │\n",
       "│            ┆         ┆ OOTER:    ┆ on\"]      ┆   ┆ Positive  ┆           ┆           ┆           │\n",
       "│            ┆         ┆ Abandoned ┆           ┆   ┆           ┆           ┆           ┆           │\n",
       "│            ┆         ┆ Chil…     ┆           ┆   ┆           ┆           ┆           ┆           │\n",
       "│ 14874      ┆ 770520  ┆ Boomer    ┆ [\"Lunarhe ┆ … ┆ No        ┆ 0         ┆ 0         ┆ 0         │\n",
       "│            ┆         ┆ Rampage   ┆ llgames\"] ┆   ┆ reviews   ┆           ┆           ┆           │\n",
       "│ 14873      ┆ 765180  ┆ SCP-087:  ┆ [\"Korovki ┆ … ┆ Mostly    ┆ 22        ┆ 6         ┆ 16        │\n",
       "│            ┆         ┆ Recovered ┆ n         ┆   ┆ Negative  ┆           ┆           ┆           │\n",
       "│            ┆         ┆ document  ┆ Nikita\",  ┆   ┆           ┆           ┆           ┆           │\n",
       "│            ┆         ┆           ┆ \"Filatov  ┆   ┆           ┆           ┆           ┆           │\n",
       "│            ┆         ┆           ┆ I…        ┆   ┆           ┆           ┆           ┆           │\n",
       "│ 14872      ┆ 723020  ┆ 3571 The  ┆ [\"FRAPPA  ┆ … ┆ 5 user    ┆ 5         ┆ 2         ┆ 3         │\n",
       "│            ┆         ┆ Game      ┆ STUDIO\"]  ┆   ┆ reviews   ┆           ┆           ┆           │\n",
       "│ 14871      ┆ 766700  ┆ PearsAndG ┆ [\"YAOYICH ┆ … ┆ Mixed     ┆ 10        ┆ 4         ┆ 6         │\n",
       "│            ┆         ┆ rayWitch  ┆ EN\"]      ┆   ┆           ┆           ┆           ┆           │\n",
       "│ …          ┆ …       ┆ …         ┆ …         ┆ … ┆ …         ┆ …         ┆ …         ┆ …         │\n",
       "│ 4          ┆ 10      ┆ Counter-S ┆ [\"Valve\"] ┆ … ┆ Overwhelm ┆ 32951     ┆ 31837     ┆ 1114      │\n",
       "│            ┆         ┆ trike     ┆           ┆   ┆ ingly     ┆           ┆           ┆           │\n",
       "│            ┆         ┆           ┆           ┆   ┆ Positive  ┆           ┆           ┆           │\n",
       "│ 3          ┆ 50      ┆ Half-Life ┆ [\"Gearbox ┆ … ┆ Overwhelm ┆ 11992     ┆ 11438     ┆ 554       │\n",
       "│            ┆         ┆ :         ┆ Software\" ┆   ┆ ingly     ┆           ┆           ┆           │\n",
       "│            ┆         ┆ Opposing  ┆ ]         ┆   ┆ Positive  ┆           ┆           ┆           │\n",
       "│            ┆         ┆ Force     ┆           ┆   ┆           ┆           ┆           ┆           │\n",
       "│ 2          ┆ 20      ┆ Team      ┆ [\"Valve\"] ┆ … ┆ Very      ┆ 4018      ┆ 3469      ┆ 549       │\n",
       "│            ┆         ┆ Fortress  ┆           ┆   ┆ Positive  ┆           ┆           ┆           │\n",
       "│            ┆         ┆ Classic   ┆           ┆   ┆           ┆           ┆           ┆           │\n",
       "│ 1          ┆ 70      ┆ Half-Life ┆ [\"Valve\"] ┆ … ┆ Overwhelm ┆ 52708     ┆ 50840     ┆ 1868      │\n",
       "│            ┆         ┆           ┆           ┆   ┆ ingly     ┆           ┆           ┆           │\n",
       "│            ┆         ┆           ┆           ┆   ┆ Positive  ┆           ┆           ┆           │\n",
       "│ 0          ┆ 232770  ┆ POSTAL    ┆ [\"Running ┆ … ┆ Very      ┆ 1323      ┆ 1144      ┆ 179       │\n",
       "│            ┆         ┆           ┆ With Scis ┆   ┆ Positive  ┆           ┆           ┆           │\n",
       "│            ┆         ┆           ┆ sors\"]    ┆   ┆           ┆           ┆           ┆           │\n",
       "└────────────┴─────────┴───────────┴───────────┴───┴───────────┴───────────┴───────────┴───────────┘"
      ],
      "text/html": [
       "<div><style>\n",
       ".dataframe > thead > tr,\n",
       ".dataframe > tbody > tr {\n",
       "  text-align: right;\n",
       "  white-space: pre-wrap;\n",
       "}\n",
       "</style>\n",
       "<small>shape: (14_876, 16)</small><table border=\"1\" class=\"dataframe\"><thead><tr><th>game_index</th><th>game_id</th><th>game_name</th><th>game_developers</th><th>game_publishers</th><th>game_categories</th><th>game_genres</th><th>original_game_release_date</th><th>game_release_date</th><th>game_prerelease_date</th><th>game_short_description</th><th>game_review_score</th><th>game_review_score_description</th><th>game_total_reviews</th><th>game_total_positive_reviews</th><th>game_total_negative_reviews</th></tr><tr><td>i64</td><td>i64</td><td>str</td><td>list[str]</td><td>list[str]</td><td>list[str]</td><td>list[str]</td><td>datetime[μs]</td><td>datetime[μs, America/Lima]</td><td>datetime[μs, America/Lima]</td><td>str</td><td>i64</td><td>str</td><td>i64</td><td>i64</td><td>i64</td></tr></thead><tbody><tr><td>14875</td><td>470310</td><td>&quot;TROUBLESHOOTER: Abandoned Chil…</td><td>[&quot;Dandylion&quot;]</td><td>[&quot;Dandylion&quot;]</td><td>[&quot;Single-player&quot;, &quot;Steam Achievements&quot;, … &quot;Family Sharing&quot;]</td><td>[&quot;Casual&quot;, &quot;Indie&quot;, … &quot;Strategy&quot;]</td><td>2020-04-23 00:00:00</td><td>2020-04-23 00:00:00 -05</td><td>2018-01-01 04:46:45 -05</td><td>&quot;TROUBLESHOOTER: Abandoned Chil…</td><td>8</td><td>&quot;Very Positive&quot;</td><td>3118</td><td>2915</td><td>203</td></tr><tr><td>14874</td><td>770520</td><td>&quot;Boomer Rampage&quot;</td><td>[&quot;Lunarhellgames&quot;]</td><td>[&quot;Lunarhellgames&quot;]</td><td>[&quot;Single-player&quot;, &quot;Steam Achievements&quot;, … &quot;Family Sharing&quot;]</td><td>[&quot;Action&quot;, &quot;Casual&quot;, &quot;Indie&quot;]</td><td>2018-01-01 00:00:00</td><td>2018-01-01 00:00:00 -05</td><td>2018-01-01 00:00:00 -05</td><td>&quot;Boomer Rampage is a puzzle gam…</td><td>0</td><td>&quot;No reviews&quot;</td><td>0</td><td>0</td><td>0</td></tr><tr><td>14873</td><td>765180</td><td>&quot;SCP-087: Recovered document&quot;</td><td>[&quot;Korovkin Nikita&quot;, &quot;Filatov Igor&quot;, … &quot;Kristian Shatov&quot;]</td><td>[&quot;Korovkin Nikita&quot;]</td><td>[&quot;Single-player&quot;, &quot;Family Sharing&quot;]</td><td>[&quot;Action&quot;, &quot;Adventure&quot;, … &quot;Early Access&quot;]</td><td>2018-01-01 00:00:00</td><td>2018-01-01 00:00:00 -05</td><td>2018-01-01 00:00:00 -05</td><td>&quot;SCP-087: Recovered documents -…</td><td>4</td><td>&quot;Mostly Negative&quot;</td><td>22</td><td>6</td><td>16</td></tr><tr><td>14872</td><td>723020</td><td>&quot;3571 The Game&quot;</td><td>[&quot;FRAPPA STUDIO&quot;]</td><td>[&quot;FRAPPA STUDIO&quot;]</td><td>[&quot;Single-player&quot;, &quot;Steam Leaderboards&quot;, &quot;Family Sharing&quot;]</td><td>[&quot;Action&quot;, &quot;Adventure&quot;, … &quot;Early Access&quot;]</td><td>2018-01-01 00:00:00</td><td>2018-01-01 00:00:00 -05</td><td>2018-01-01 00:00:00 -05</td><td>&quot;3571 The Game is a 3D procedur…</td><td>0</td><td>&quot;5 user reviews&quot;</td><td>5</td><td>2</td><td>3</td></tr><tr><td>14871</td><td>766700</td><td>&quot;PearsAndGrayWitch&quot;</td><td>[&quot;YAOYICHEN&quot;]</td><td>[&quot;YAOYICHEN&quot;]</td><td>[&quot;Single-player&quot;, &quot;Family Sharing&quot;]</td><td>[&quot;Action&quot;, &quot;Adventure&quot;, … &quot;RPG&quot;]</td><td>2018-01-01 00:00:00</td><td>2018-01-01 00:00:00 -05</td><td>2018-01-01 00:00:00 -05</td><td>&quot;A boy who likes &amp;quot;Apples&amp;q…</td><td>5</td><td>&quot;Mixed&quot;</td><td>10</td><td>4</td><td>6</td></tr><tr><td>&hellip;</td><td>&hellip;</td><td>&hellip;</td><td>&hellip;</td><td>&hellip;</td><td>&hellip;</td><td>&hellip;</td><td>&hellip;</td><td>&hellip;</td><td>&hellip;</td><td>&hellip;</td><td>&hellip;</td><td>&hellip;</td><td>&hellip;</td><td>&hellip;</td><td>&hellip;</td></tr><tr><td>4</td><td>10</td><td>&quot;Counter-Strike&quot;</td><td>[&quot;Valve&quot;]</td><td>[&quot;Valve&quot;]</td><td>[&quot;Multi-player&quot;, &quot;PvP&quot;, … &quot;Family Sharing&quot;]</td><td>[&quot;Action&quot;]</td><td>2000-11-01 00:00:00</td><td>2000-11-01 00:00:00 -05</td><td>2000-11-01 00:00:00 -05</td><td>&quot;Play the world&#x27;s number 1 onli…</td><td>9</td><td>&quot;Overwhelmingly Positive&quot;</td><td>32951</td><td>31837</td><td>1114</td></tr><tr><td>3</td><td>50</td><td>&quot;Half-Life: Opposing Force&quot;</td><td>[&quot;Gearbox Software&quot;]</td><td>[&quot;Valve&quot;]</td><td>[&quot;Single-player&quot;, &quot;Multi-player&quot;, … &quot;Family Sharing&quot;]</td><td>[&quot;Action&quot;]</td><td>1999-11-01 00:00:00</td><td>1999-11-01 00:00:00 -05</td><td>1999-11-01 00:00:00 -05</td><td>&quot;Return to the Black Mesa Resea…</td><td>9</td><td>&quot;Overwhelmingly Positive&quot;</td><td>11992</td><td>11438</td><td>554</td></tr><tr><td>2</td><td>20</td><td>&quot;Team Fortress Classic&quot;</td><td>[&quot;Valve&quot;]</td><td>[&quot;Valve&quot;]</td><td>[&quot;Multi-player&quot;, &quot;PvP&quot;, … &quot;Family Sharing&quot;]</td><td>[&quot;Action&quot;]</td><td>1999-04-01 00:00:00</td><td>1999-04-01 00:00:00 -05</td><td>1999-04-01 00:00:00 -05</td><td>&quot;One of the most popular online…</td><td>8</td><td>&quot;Very Positive&quot;</td><td>4018</td><td>3469</td><td>549</td></tr><tr><td>1</td><td>70</td><td>&quot;Half-Life&quot;</td><td>[&quot;Valve&quot;]</td><td>[&quot;Valve&quot;]</td><td>[&quot;Single-player&quot;, &quot;Multi-player&quot;, … &quot;Family Sharing&quot;]</td><td>[&quot;Action&quot;]</td><td>1998-11-19 00:00:00</td><td>1998-11-19 00:00:00 -05</td><td>1998-11-19 00:00:00 -05</td><td>&quot;Named Game of the Year by over…</td><td>9</td><td>&quot;Overwhelmingly Positive&quot;</td><td>52708</td><td>50840</td><td>1868</td></tr><tr><td>0</td><td>232770</td><td>&quot;POSTAL&quot;</td><td>[&quot;Running With Scissors&quot;]</td><td>[&quot;Running With Scissors&quot;]</td><td>[&quot;Single-player&quot;, &quot;Steam Achievements&quot;, … &quot;Family Sharing&quot;]</td><td>[&quot;Action&quot;, &quot;Indie&quot;]</td><td>1997-11-14 00:00:00</td><td>1997-11-14 00:00:00 -05</td><td>1997-11-14 00:00:00 -05</td><td>&quot;Take control of The POSTAL Dud…</td><td>8</td><td>&quot;Very Positive&quot;</td><td>1323</td><td>1144</td><td>179</td></tr></tbody></table></div>"
      ]
     },
     "execution_count": 8,
     "metadata": {},
     "output_type": "execute_result"
    }
   ],
   "execution_count": 8
  },
  {
   "metadata": {
    "ExecuteTime": {
     "end_time": "2025-07-12T23:10:20.038299Z",
     "start_time": "2025-07-12T23:10:03.068216Z"
    }
   },
   "cell_type": "code",
   "source": [
    "reviews_df = duckdb_conn.sql(f\"SELECT * FROM fact_reviews WHERE DATE(timestamp_created) <= '{CUT_TIMESTAMP}'\").pl()\n",
    "reviews_df.sort(\"game_index\", descending=True)"
   ],
   "id": "f55f1b1cd7a4a74d",
   "outputs": [
    {
     "data": {
      "text/plain": [
       "FloatProgress(value=0.0, layout=Layout(width='auto'), style=ProgressStyle(bar_color='black'))"
      ],
      "application/vnd.jupyter.widget-view+json": {
       "version_major": 2,
       "version_minor": 0,
       "model_id": "79dcdc33b440458c9bc2d58e6e821ea3"
      }
     },
     "metadata": {},
     "output_type": "display_data"
    },
    {
     "data": {
      "text/plain": [
       "shape: (4_928_284, 9)\n",
       "┌───────────┬───────────┬───────────┬───────────┬───┬───────────┬──────────┬───────────┬───────────┐\n",
       "│ user_inde ┆ game_inde ┆ review    ┆ written_d ┆ … ┆ weighted_ ┆ votes_up ┆ comment_c ┆ timestamp │\n",
       "│ x         ┆ x         ┆ ---       ┆ uring_ear ┆   ┆ vote_scor ┆ ---      ┆ ount      ┆ _created  │\n",
       "│ ---       ┆ ---       ┆ str       ┆ ly_access ┆   ┆ e         ┆ i64      ┆ ---       ┆ ---       │\n",
       "│ i64       ┆ i64       ┆           ┆ ---       ┆   ┆ ---       ┆          ┆ i64       ┆ datetime[ │\n",
       "│           ┆           ┆           ┆ bool      ┆   ┆ f64       ┆          ┆           ┆ μs, Ameri │\n",
       "│           ┆           ┆           ┆           ┆   ┆           ┆          ┆           ┆ ca/Lima]  │\n",
       "╞═══════════╪═══════════╪═══════════╪═══════════╪═══╪═══════════╪══════════╪═══════════╪═══════════╡\n",
       "│ 874297    ┆ 14875     ┆ An        ┆ true      ┆ … ┆ 0.572798  ┆ 8        ┆ 0         ┆ 2018-01-0 │\n",
       "│           ┆           ┆ amazing   ┆           ┆   ┆           ┆          ┆           ┆ 1         │\n",
       "│           ┆           ┆ game with ┆           ┆   ┆           ┆          ┆           ┆ 22:03:53  │\n",
       "│           ┆           ┆ inspirati ┆           ┆   ┆           ┆          ┆           ┆ -05       │\n",
       "│           ┆           ┆ …         ┆           ┆   ┆           ┆          ┆           ┆           │\n",
       "│ 780649    ┆ 14875     ┆ Fast-Post ┆ true      ┆ … ┆ 0.796915  ┆ 48       ┆ 0         ┆ 2018-01-0 │\n",
       "│           ┆           ┆ Review    ┆           ┆   ┆           ┆          ┆           ┆ 1         │\n",
       "│           ┆           ┆ since     ┆           ┆   ┆           ┆          ┆           ┆ 04:46:45  │\n",
       "│           ┆           ┆ there a…  ┆           ┆   ┆           ┆          ┆           ┆ -05       │\n",
       "│ 865515    ┆ 14873     ┆ As of     ┆ true      ┆ … ┆ 0.809348  ┆ 82       ┆ 4         ┆ 2018-01-0 │\n",
       "│           ┆           ┆ right now ┆           ┆   ┆           ┆          ┆           ┆ 1         │\n",
       "│           ┆           ┆ I am conf ┆           ┆   ┆           ┆          ┆           ┆ 14:58:41  │\n",
       "│           ┆           ┆ licte…    ┆           ┆   ┆           ┆          ┆           ┆ -05       │\n",
       "│ 2461351   ┆ 14871     ┆ Wow, this ┆ false     ┆ … ┆ 0.264901  ┆ 5        ┆ 1         ┆ 2018-01-0 │\n",
       "│           ┆           ┆ is such a ┆           ┆   ┆           ┆          ┆           ┆ 1         │\n",
       "│           ┆           ┆ fun game! ┆           ┆   ┆           ┆          ┆           ┆ 23:23:46  │\n",
       "│           ┆           ┆ …         ┆           ┆   ┆           ┆          ┆           ┆ -05       │\n",
       "│ 1215027   ┆ 14871     ┆ Under no  ┆ false     ┆ … ┆ 0.723305  ┆ 28       ┆ 0         ┆ 2018-01-0 │\n",
       "│           ┆           ┆ circumsta ┆           ┆   ┆           ┆          ┆           ┆ 1         │\n",
       "│           ┆           ┆ nce       ┆           ┆   ┆           ┆          ┆           ┆ 16:33:03  │\n",
       "│           ┆           ┆ should a… ┆           ┆   ┆           ┆          ┆           ┆ -05       │\n",
       "│ …         ┆ …         ┆ …         ┆ …         ┆ … ┆ …         ┆ …        ┆ …         ┆ …         │\n",
       "│ 988584    ┆ 0         ┆ in dis    ┆ false     ┆ … ┆ 0.482718  ┆ 0        ┆ 0         ┆ 2015-06-2 │\n",
       "│           ┆           ┆ game u    ┆           ┆   ┆           ┆          ┆           ┆ 2         │\n",
       "│           ┆           ┆ can kil   ┆           ┆   ┆           ┆          ┆           ┆ 10:16:06  │\n",
       "│           ┆           ┆ gooby an… ┆           ┆   ┆           ┆          ┆           ┆ -05       │\n",
       "│ 2086292   ┆ 0         ┆ Good Game ┆ false     ┆ … ┆ 0.5       ┆ 0        ┆ 0         ┆ 2017-11-2 │\n",
       "│           ┆           ┆ Bois      ┆           ┆   ┆           ┆          ┆           ┆ 2         │\n",
       "│           ┆           ┆           ┆           ┆   ┆           ┆          ┆           ┆ 23:03:11  │\n",
       "│           ┆           ┆           ┆           ┆   ┆           ┆          ┆           ┆ -05       │\n",
       "│ 931300    ┆ 0         ┆ One of    ┆ false     ┆ … ┆ 0.573754  ┆ 9        ┆ 1         ┆ 2017-11-1 │\n",
       "│           ┆           ┆ the most  ┆           ┆   ┆           ┆          ┆           ┆ 3         │\n",
       "│           ┆           ┆ disturbin ┆           ┆   ┆           ┆          ┆           ┆ 22:16:35  │\n",
       "│           ┆           ┆ g and…    ┆           ┆   ┆           ┆          ┆           ┆ -05       │\n",
       "│ 224891    ┆ 0         ┆ great     ┆ false     ┆ … ┆ 0.541985  ┆ 2        ┆ 0         ┆ 2017-11-2 │\n",
       "│           ┆           ┆ classic,  ┆           ┆   ┆           ┆          ┆           ┆ 3         │\n",
       "│           ┆           ┆ but get   ┆           ┆   ┆           ┆          ┆           ┆ 04:35:31  │\n",
       "│           ┆           ┆ the red…  ┆           ┆   ┆           ┆          ┆           ┆ -05       │\n",
       "│ 964777    ┆ 0         ┆ Story:    ┆ false     ┆ … ┆ 0.5       ┆ 0        ┆ 0         ┆ 2016-02-2 │\n",
       "│           ┆           ┆ You kill  ┆           ┆   ┆           ┆          ┆           ┆ 5         │\n",
       "│           ┆           ┆ people    ┆           ┆   ┆           ┆          ┆           ┆ 02:28:34  │\n",
       "│           ┆           ┆ Charact…  ┆           ┆   ┆           ┆          ┆           ┆ -05       │\n",
       "└───────────┴───────────┴───────────┴───────────┴───┴───────────┴──────────┴───────────┴───────────┘"
      ],
      "text/html": [
       "<div><style>\n",
       ".dataframe > thead > tr,\n",
       ".dataframe > tbody > tr {\n",
       "  text-align: right;\n",
       "  white-space: pre-wrap;\n",
       "}\n",
       "</style>\n",
       "<small>shape: (4_928_284, 9)</small><table border=\"1\" class=\"dataframe\"><thead><tr><th>user_index</th><th>game_index</th><th>review</th><th>written_during_early_access</th><th>voted_up</th><th>weighted_vote_score</th><th>votes_up</th><th>comment_count</th><th>timestamp_created</th></tr><tr><td>i64</td><td>i64</td><td>str</td><td>bool</td><td>bool</td><td>f64</td><td>i64</td><td>i64</td><td>datetime[μs, America/Lima]</td></tr></thead><tbody><tr><td>874297</td><td>14875</td><td>&quot;An amazing game with inspirati…</td><td>true</td><td>true</td><td>0.572798</td><td>8</td><td>0</td><td>2018-01-01 22:03:53 -05</td></tr><tr><td>780649</td><td>14875</td><td>&quot;Fast-Post Review since there a…</td><td>true</td><td>true</td><td>0.796915</td><td>48</td><td>0</td><td>2018-01-01 04:46:45 -05</td></tr><tr><td>865515</td><td>14873</td><td>&quot;As of right now I am conflicte…</td><td>true</td><td>false</td><td>0.809348</td><td>82</td><td>4</td><td>2018-01-01 14:58:41 -05</td></tr><tr><td>2461351</td><td>14871</td><td>&quot;Wow, this is such a fun game! …</td><td>false</td><td>true</td><td>0.264901</td><td>5</td><td>1</td><td>2018-01-01 23:23:46 -05</td></tr><tr><td>1215027</td><td>14871</td><td>&quot;Under no circumstance should a…</td><td>false</td><td>false</td><td>0.723305</td><td>28</td><td>0</td><td>2018-01-01 16:33:03 -05</td></tr><tr><td>&hellip;</td><td>&hellip;</td><td>&hellip;</td><td>&hellip;</td><td>&hellip;</td><td>&hellip;</td><td>&hellip;</td><td>&hellip;</td><td>&hellip;</td></tr><tr><td>988584</td><td>0</td><td>&quot;in dis game u can kil gooby an…</td><td>false</td><td>true</td><td>0.482718</td><td>0</td><td>0</td><td>2015-06-22 10:16:06 -05</td></tr><tr><td>2086292</td><td>0</td><td>&quot;Good Game Bois&quot;</td><td>false</td><td>true</td><td>0.5</td><td>0</td><td>0</td><td>2017-11-22 23:03:11 -05</td></tr><tr><td>931300</td><td>0</td><td>&quot;One of the most disturbing and…</td><td>false</td><td>true</td><td>0.573754</td><td>9</td><td>1</td><td>2017-11-13 22:16:35 -05</td></tr><tr><td>224891</td><td>0</td><td>&quot;great classic, but get the red…</td><td>false</td><td>true</td><td>0.541985</td><td>2</td><td>0</td><td>2017-11-23 04:35:31 -05</td></tr><tr><td>964777</td><td>0</td><td>&quot;Story:\n",
       "You kill people\n",
       "Charact…</td><td>false</td><td>true</td><td>0.5</td><td>0</td><td>0</td><td>2016-02-25 02:28:34 -05</td></tr></tbody></table></div>"
      ]
     },
     "execution_count": 9,
     "metadata": {},
     "output_type": "execute_result"
    }
   ],
   "execution_count": 9
  },
  {
   "metadata": {
    "ExecuteTime": {
     "end_time": "2025-07-12T23:11:27.235180Z",
     "start_time": "2025-07-12T23:11:26.955143Z"
    }
   },
   "cell_type": "code",
   "source": "reviews_df.sort(\"user_index\", descending=True)",
   "id": "d8225bd382ff9d03",
   "outputs": [
    {
     "data": {
      "text/plain": [
       "shape: (4_928_284, 9)\n",
       "┌───────────┬───────────┬───────────┬───────────┬───┬───────────┬──────────┬───────────┬───────────┐\n",
       "│ user_inde ┆ game_inde ┆ review    ┆ written_d ┆ … ┆ weighted_ ┆ votes_up ┆ comment_c ┆ timestamp │\n",
       "│ x         ┆ x         ┆ ---       ┆ uring_ear ┆   ┆ vote_scor ┆ ---      ┆ ount      ┆ _created  │\n",
       "│ ---       ┆ ---       ┆ str       ┆ ly_access ┆   ┆ e         ┆ i64      ┆ ---       ┆ ---       │\n",
       "│ i64       ┆ i64       ┆           ┆ ---       ┆   ┆ ---       ┆          ┆ i64       ┆ datetime[ │\n",
       "│           ┆           ┆           ┆ bool      ┆   ┆ f64       ┆          ┆           ┆ μs, Ameri │\n",
       "│           ┆           ┆           ┆           ┆   ┆           ┆          ┆           ┆ ca/Lima]  │\n",
       "╞═══════════╪═══════════╪═══════════╪═══════════╪═══╪═══════════╪══════════╪═══════════╪═══════════╡\n",
       "│ 2461412   ┆ 3638      ┆ I thought ┆ false     ┆ … ┆ 0.52381   ┆ 1        ┆ 0         ┆ 2018-01-0 │\n",
       "│           ┆           ┆ i should  ┆           ┆   ┆           ┆          ┆           ┆ 1         │\n",
       "│           ┆           ┆ post it   ┆           ┆   ┆           ┆          ┆           ┆ 23:59:39  │\n",
       "│           ┆           ┆ at …      ┆           ┆   ┆           ┆          ┆           ┆ -05       │\n",
       "│ 2461411   ┆ 1304      ┆ I've      ┆ false     ┆ … ┆ 0.497925  ┆ 1        ┆ 0         ┆ 2018-01-0 │\n",
       "│           ┆           ┆ cried     ┆           ┆   ┆           ┆          ┆           ┆ 1         │\n",
       "│           ┆           ┆ every     ┆           ┆   ┆           ┆          ┆           ┆ 23:59:03  │\n",
       "│           ┆           ┆ single    ┆           ┆   ┆           ┆          ┆           ┆ -05       │\n",
       "│           ┆           ┆ time I…   ┆           ┆   ┆           ┆          ┆           ┆           │\n",
       "│ 2461410   ┆ 2106      ┆ I really  ┆ false     ┆ … ┆ 0.52381   ┆ 1        ┆ 0         ┆ 2018-01-0 │\n",
       "│           ┆           ┆ keep      ┆           ┆   ┆           ┆          ┆           ┆ 1         │\n",
       "│           ┆           ┆ enjoying  ┆           ┆   ┆           ┆          ┆           ┆ 23:58:56  │\n",
       "│           ┆           ┆ this ga…  ┆           ┆   ┆           ┆          ┆           ┆ -05       │\n",
       "│ 2461409   ┆ 3638      ┆ good game ┆ false     ┆ … ┆ 0.5       ┆ 0        ┆ 0         ┆ 2018-01-0 │\n",
       "│           ┆           ┆ ever      ┆           ┆   ┆           ┆          ┆           ┆ 1         │\n",
       "│           ┆           ┆           ┆           ┆   ┆           ┆          ┆           ┆ 23:58:44  │\n",
       "│           ┆           ┆           ┆           ┆   ┆           ┆          ┆           ┆ -05       │\n",
       "│ 2461408   ┆ 14500     ┆ Throwing  ┆ false     ┆ … ┆ 0.492707  ┆ 11       ┆ 0         ┆ 2018-01-0 │\n",
       "│           ┆           ┆ piss and  ┆           ┆   ┆           ┆          ┆           ┆ 1         │\n",
       "│           ┆           ┆ taking    ┆           ┆   ┆           ┆          ┆           ┆ 23:57:47  │\n",
       "│           ┆           ┆ dump …    ┆           ┆   ┆           ┆          ┆           ┆ -05       │\n",
       "│ …         ┆ …         ┆ …         ┆ …         ┆ … ┆ …         ┆ …        ┆ …         ┆ …         │\n",
       "│ 0         ┆ 384       ┆ Just buy  ┆ false     ┆ … ┆ 0.5       ┆ 0        ┆ 0         ┆ 2010-10-1 │\n",
       "│           ┆           ┆ this      ┆           ┆   ┆           ┆          ┆           ┆ 5         │\n",
       "│           ┆           ┆ game.     ┆           ┆   ┆           ┆          ┆           ┆ 18:20:21  │\n",
       "│           ┆           ┆ It's      ┆           ┆   ┆           ┆          ┆           ┆ -05       │\n",
       "│           ┆           ┆ amazi…    ┆           ┆   ┆           ┆          ┆           ┆           │\n",
       "│ 0         ┆ 1         ┆ One of    ┆ false     ┆ … ┆ 0.5       ┆ 0        ┆ 0         ┆ 2016-11-2 │\n",
       "│           ┆           ┆ the best  ┆           ┆   ┆           ┆          ┆           ┆ 4         │\n",
       "│           ┆           ┆ games out ┆           ┆   ┆           ┆          ┆           ┆ 04:48:40  │\n",
       "│           ┆           ┆ ther…     ┆           ┆   ┆           ┆          ┆           ┆ -05       │\n",
       "│ 0         ┆ 795       ┆ A worthy  ┆ false     ┆ … ┆ 0.5       ┆ 0        ┆ 0         ┆ 2010-10-1 │\n",
       "│           ┆           ┆ addition  ┆           ┆   ┆           ┆          ┆           ┆ 5         │\n",
       "│           ┆           ┆ to any    ┆           ┆   ┆           ┆          ┆           ┆ 20:41:30  │\n",
       "│           ┆           ┆ reali…    ┆           ┆   ┆           ┆          ┆           ┆ -05       │\n",
       "│ 0         ┆ 1528      ┆ A highly  ┆ false     ┆ … ┆ 0.5       ┆ 0        ┆ 0         ┆ 2016-02-2 │\n",
       "│           ┆           ┆ immersing ┆           ┆   ┆           ┆          ┆           ┆ 5         │\n",
       "│           ┆           ┆ FPS that  ┆           ┆   ┆           ┆          ┆           ┆ 01:46:11  │\n",
       "│           ┆           ┆ br…       ┆           ┆   ┆           ┆          ┆           ┆ -05       │\n",
       "│ 0         ┆ 713       ┆ The most  ┆ false     ┆ … ┆ 0.5       ┆ 0        ┆ 0         ┆ 2010-10-1 │\n",
       "│           ┆           ┆ damn      ┆           ┆   ┆           ┆          ┆           ┆ 5         │\n",
       "│           ┆           ┆ realistic ┆           ┆   ┆           ┆          ┆           ┆ 18:24:07  │\n",
       "│           ┆           ┆ milita…   ┆           ┆   ┆           ┆          ┆           ┆ -05       │\n",
       "└───────────┴───────────┴───────────┴───────────┴───┴───────────┴──────────┴───────────┴───────────┘"
      ],
      "text/html": [
       "<div><style>\n",
       ".dataframe > thead > tr,\n",
       ".dataframe > tbody > tr {\n",
       "  text-align: right;\n",
       "  white-space: pre-wrap;\n",
       "}\n",
       "</style>\n",
       "<small>shape: (4_928_284, 9)</small><table border=\"1\" class=\"dataframe\"><thead><tr><th>user_index</th><th>game_index</th><th>review</th><th>written_during_early_access</th><th>voted_up</th><th>weighted_vote_score</th><th>votes_up</th><th>comment_count</th><th>timestamp_created</th></tr><tr><td>i64</td><td>i64</td><td>str</td><td>bool</td><td>bool</td><td>f64</td><td>i64</td><td>i64</td><td>datetime[μs, America/Lima]</td></tr></thead><tbody><tr><td>2461412</td><td>3638</td><td>&quot;I thought i should post it at …</td><td>false</td><td>true</td><td>0.52381</td><td>1</td><td>0</td><td>2018-01-01 23:59:39 -05</td></tr><tr><td>2461411</td><td>1304</td><td>&quot;I&#x27;ve cried every single time I…</td><td>false</td><td>true</td><td>0.497925</td><td>1</td><td>0</td><td>2018-01-01 23:59:03 -05</td></tr><tr><td>2461410</td><td>2106</td><td>&quot;I really keep enjoying this ga…</td><td>false</td><td>true</td><td>0.52381</td><td>1</td><td>0</td><td>2018-01-01 23:58:56 -05</td></tr><tr><td>2461409</td><td>3638</td><td>&quot;good game ever&quot;</td><td>false</td><td>true</td><td>0.5</td><td>0</td><td>0</td><td>2018-01-01 23:58:44 -05</td></tr><tr><td>2461408</td><td>14500</td><td>&quot;Throwing piss and taking dump …</td><td>false</td><td>true</td><td>0.492707</td><td>11</td><td>0</td><td>2018-01-01 23:57:47 -05</td></tr><tr><td>&hellip;</td><td>&hellip;</td><td>&hellip;</td><td>&hellip;</td><td>&hellip;</td><td>&hellip;</td><td>&hellip;</td><td>&hellip;</td><td>&hellip;</td></tr><tr><td>0</td><td>384</td><td>&quot;Just buy this game. It&#x27;s amazi…</td><td>false</td><td>true</td><td>0.5</td><td>0</td><td>0</td><td>2010-10-15 18:20:21 -05</td></tr><tr><td>0</td><td>1</td><td>&quot;One of the best games out ther…</td><td>false</td><td>true</td><td>0.5</td><td>0</td><td>0</td><td>2016-11-24 04:48:40 -05</td></tr><tr><td>0</td><td>795</td><td>&quot;A worthy addition to any reali…</td><td>false</td><td>true</td><td>0.5</td><td>0</td><td>0</td><td>2010-10-15 20:41:30 -05</td></tr><tr><td>0</td><td>1528</td><td>&quot;A highly immersing FPS that br…</td><td>false</td><td>true</td><td>0.5</td><td>0</td><td>0</td><td>2016-02-25 01:46:11 -05</td></tr><tr><td>0</td><td>713</td><td>&quot;The most damn realistic milita…</td><td>false</td><td>true</td><td>0.5</td><td>0</td><td>0</td><td>2010-10-15 18:24:07 -05</td></tr></tbody></table></div>"
      ]
     },
     "execution_count": 10,
     "metadata": {},
     "output_type": "execute_result"
    }
   ],
   "execution_count": 10
  },
  {
   "metadata": {
    "ExecuteTime": {
     "end_time": "2025-07-12T23:17:30.295107Z",
     "start_time": "2025-07-12T23:17:29.571588Z"
    }
   },
   "cell_type": "code",
   "source": "duckdb_conn.close()",
   "id": "d31555a8c621aa05",
   "outputs": [],
   "execution_count": 11
  },
  {
   "metadata": {
    "ExecuteTime": {
     "end_time": "2025-07-12T23:19:01.250193Z",
     "start_time": "2025-07-12T23:19:01.091031Z"
    }
   },
   "cell_type": "code",
   "source": [
    "users_df = reviews_df.group_by(\"user_index\").agg(pl.len().alias(\"num_reviews\"))\n",
    "users_df.sort(\"num_reviews\", descending=True)"
   ],
   "id": "43e4f52033bf4090",
   "outputs": [
    {
     "data": {
      "text/plain": [
       "shape: (2_425_505, 2)\n",
       "┌────────────┬─────────────┐\n",
       "│ user_index ┆ num_reviews │\n",
       "│ ---        ┆ ---         │\n",
       "│ i64        ┆ u32         │\n",
       "╞════════════╪═════════════╡\n",
       "│ 501556     ┆ 518         │\n",
       "│ 640443     ┆ 423         │\n",
       "│ 942864     ┆ 422         │\n",
       "│ 299172     ┆ 414         │\n",
       "│ 14659      ┆ 400         │\n",
       "│ …          ┆ …           │\n",
       "│ 901287     ┆ 1           │\n",
       "│ 2284439    ┆ 1           │\n",
       "│ 1374765    ┆ 1           │\n",
       "│ 741505     ┆ 1           │\n",
       "│ 1508969    ┆ 1           │\n",
       "└────────────┴─────────────┘"
      ],
      "text/html": [
       "<div><style>\n",
       ".dataframe > thead > tr,\n",
       ".dataframe > tbody > tr {\n",
       "  text-align: right;\n",
       "  white-space: pre-wrap;\n",
       "}\n",
       "</style>\n",
       "<small>shape: (2_425_505, 2)</small><table border=\"1\" class=\"dataframe\"><thead><tr><th>user_index</th><th>num_reviews</th></tr><tr><td>i64</td><td>u32</td></tr></thead><tbody><tr><td>501556</td><td>518</td></tr><tr><td>640443</td><td>423</td></tr><tr><td>942864</td><td>422</td></tr><tr><td>299172</td><td>414</td></tr><tr><td>14659</td><td>400</td></tr><tr><td>&hellip;</td><td>&hellip;</td></tr><tr><td>901287</td><td>1</td></tr><tr><td>2284439</td><td>1</td></tr><tr><td>1374765</td><td>1</td></tr><tr><td>741505</td><td>1</td></tr><tr><td>1508969</td><td>1</td></tr></tbody></table></div>"
      ]
     },
     "execution_count": 15,
     "metadata": {},
     "output_type": "execute_result"
    }
   ],
   "execution_count": 15
  },
  {
   "metadata": {},
   "cell_type": "code",
   "outputs": [],
   "execution_count": null,
   "source": "",
   "id": "ed52c7e67346ae72"
  }
 ],
 "metadata": {
  "kernelspec": {
   "display_name": "Python 3",
   "language": "python",
   "name": "python3"
  },
  "language_info": {
   "codemirror_mode": {
    "name": "ipython",
    "version": 2
   },
   "file_extension": ".py",
   "mimetype": "text/x-python",
   "name": "python",
   "nbconvert_exporter": "python",
   "pygments_lexer": "ipython2",
   "version": "2.7.6"
  }
 },
 "nbformat": 4,
 "nbformat_minor": 5
}
