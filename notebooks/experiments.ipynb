{
 "cells": [
  {
   "metadata": {},
   "cell_type": "markdown",
   "source": "# Experimenting rec approaches",
   "id": "bd82e23af48d488a"
  },
  {
   "cell_type": "code",
   "id": "initial_id",
   "metadata": {
    "collapsed": true,
    "ExecuteTime": {
     "end_time": "2025-07-17T05:31:34.025559Z",
     "start_time": "2025-07-17T05:31:31.381883Z"
    }
   },
   "source": [
    "import duckdb\n",
    "import torch\n",
    "import torchrec"
   ],
   "outputs": [],
   "execution_count": 1
  },
  {
   "metadata": {
    "ExecuteTime": {
     "end_time": "2025-07-17T05:31:34.545349Z",
     "start_time": "2025-07-17T05:31:34.543375Z"
    }
   },
   "cell_type": "code",
   "source": "CUT_TIMESTAMP = '2017-01-01'  # Fetch games up to this day",
   "id": "2d59a3e437a09288",
   "outputs": [],
   "execution_count": 2
  },
  {
   "metadata": {
    "ExecuteTime": {
     "end_time": "2025-07-17T05:31:36.042607Z",
     "start_time": "2025-07-17T05:31:35.960474Z"
    }
   },
   "cell_type": "code",
   "source": "duckdb_conn = duckdb.connect('../data/steam.duckdb', read_only=True)",
   "id": "23f962531e19e5c2",
   "outputs": [],
   "execution_count": 3
  },
  {
   "metadata": {
    "ExecuteTime": {
     "end_time": "2025-07-17T05:31:39.886419Z",
     "start_time": "2025-07-17T05:31:38.710149Z"
    }
   },
   "cell_type": "code",
   "source": "games_df = duckdb_conn.sql(f\"SELECT * FROM game_rolling_features WHERE DATE(game_review_day) <= '{CUT_TIMESTAMP}'\").pl()",
   "id": "eda219fc8ac7c8e8",
   "outputs": [],
   "execution_count": 4
  },
  {
   "metadata": {
    "ExecuteTime": {
     "end_time": "2025-07-17T05:31:40.275099Z",
     "start_time": "2025-07-17T05:31:40.210167Z"
    }
   },
   "cell_type": "code",
   "source": "dim_games_df =duckdb_conn.sql(f\"SELECT * FROM dim_games WHERE DATE(game_prerelease_date) <= '{CUT_TIMESTAMP}'\").pl()",
   "id": "8f0c85b0978b54c",
   "outputs": [],
   "execution_count": 5
  },
  {
   "metadata": {
    "ExecuteTime": {
     "end_time": "2025-07-17T05:31:59.398415Z",
     "start_time": "2025-07-17T05:31:40.511625Z"
    }
   },
   "cell_type": "code",
   "source": "reviews_df = duckdb_conn.sql(f\"SELECT * FROM fact_reviews WHERE DATE(timestamp_created) <= '{CUT_TIMESTAMP}'\").pl()",
   "id": "f55f1b1cd7a4a74d",
   "outputs": [
    {
     "data": {
      "text/plain": [
       "FloatProgress(value=0.0, layout=Layout(width='auto'), style=ProgressStyle(bar_color='black'))"
      ],
      "application/vnd.jupyter.widget-view+json": {
       "version_major": 2,
       "version_minor": 0,
       "model_id": "70b711c67f6c4016b52d27301a9c1177"
      }
     },
     "metadata": {},
     "output_type": "display_data"
    }
   ],
   "execution_count": 6
  },
  {
   "metadata": {
    "ExecuteTime": {
     "end_time": "2025-07-17T05:32:04.204345Z",
     "start_time": "2025-07-17T05:31:59.570913Z"
    }
   },
   "cell_type": "code",
   "source": "users_df = duckdb_conn.sql(f\"SELECT * FROM dim_users WHERE DATE(first_review_timestamp) <= '{CUT_TIMESTAMP}'\").pl()",
   "id": "2222724047001173",
   "outputs": [
    {
     "data": {
      "text/plain": [
       "FloatProgress(value=0.0, layout=Layout(width='auto'), style=ProgressStyle(bar_color='black'))"
      ],
      "application/vnd.jupyter.widget-view+json": {
       "version_major": 2,
       "version_minor": 0,
       "model_id": "9c84cbee7d534de297e5df77686570da"
      }
     },
     "metadata": {},
     "output_type": "display_data"
    }
   ],
   "execution_count": 7
  },
  {
   "metadata": {
    "ExecuteTime": {
     "end_time": "2025-07-17T05:32:04.221837Z",
     "start_time": "2025-07-17T05:32:04.214472Z"
    }
   },
   "cell_type": "code",
   "source": "entity_count = duckdb_conn.sql(f\"SELECT * FROM mart_entities_cumulative WHERE review_day = '{CUT_TIMESTAMP}'\").pl()",
   "id": "3a287562555e86f4",
   "outputs": [],
   "execution_count": 8
  },
  {
   "metadata": {
    "ExecuteTime": {
     "end_time": "2025-07-17T05:32:05.385488Z",
     "start_time": "2025-07-17T05:32:04.262883Z"
    }
   },
   "cell_type": "code",
   "source": "duckdb_conn.close()",
   "id": "d31555a8c621aa05",
   "outputs": [],
   "execution_count": 9
  },
  {
   "metadata": {
    "ExecuteTime": {
     "end_time": "2025-07-17T05:32:07.696127Z",
     "start_time": "2025-07-17T05:32:07.690783Z"
    }
   },
   "cell_type": "code",
   "source": [
    "num_reviews = int(entity_count[\"cumulative_review_count\"].first())\n",
    "num_users = int(entity_count[\"cumulative_user_count\"].first())\n",
    "num_games = int(entity_count[\"cumulative_game_count\"].first())"
   ],
   "id": "4af7632d43cbae1f",
   "outputs": [],
   "execution_count": 10
  },
  {
   "metadata": {
    "ExecuteTime": {
     "end_time": "2025-07-17T05:32:31.662927Z",
     "start_time": "2025-07-17T05:32:30.047793Z"
    }
   },
   "cell_type": "code",
   "source": [
    "ec = torchrec.EmbeddingCollection(\n",
    "    device=\"cpu\",\n",
    "    tables=[\n",
    "        torchrec.EmbeddingConfig(name=\"user_index\", embedding_dim=128, num_embeddings=num_users + 1),\n",
    "        torchrec.EmbeddingConfig(name=\"game_index\", embedding_dim=128, num_embeddings=num_games + 1),\n",
    "    ]\n",
    ")"
   ],
   "id": "abf479fdf615dad0",
   "outputs": [],
   "execution_count": 13
  },
  {
   "metadata": {
    "ExecuteTime": {
     "end_time": "2025-07-17T05:32:32.765702Z",
     "start_time": "2025-07-17T05:32:32.762914Z"
    }
   },
   "cell_type": "code",
   "source": "ec",
   "id": "1a7b804cf25f1e9f",
   "outputs": [
    {
     "data": {
      "text/plain": [
       "EmbeddingCollection(\n",
       "  (embeddings): ModuleDict(\n",
       "    (user_index): Embedding(1840558, 128)\n",
       "    (game_index): Embedding(9099, 128)\n",
       "  )\n",
       ")"
      ]
     },
     "execution_count": 14,
     "metadata": {},
     "output_type": "execute_result"
    }
   ],
   "execution_count": 14
  },
  {
   "metadata": {
    "ExecuteTime": {
     "end_time": "2025-07-17T05:32:34.815006Z",
     "start_time": "2025-07-17T05:32:34.797500Z"
    }
   },
   "cell_type": "code",
   "source": [
    "features = torchrec.KeyedJaggedTensor.from_jt_dict(\n",
    "    {\n",
    "        \"user_index\": torchrec.JaggedTensor(values=torch.tensor([1, 2, 3]), lengths=torch.tensor([1, 1, 1])),\n",
    "        \"game_index\": torchrec.JaggedTensor(values=torch.tensor([1, 2, 3]), lengths=torch.tensor([1, 1, 1])),\n",
    "    }\n",
    ")"
   ],
   "id": "282b7a1604ea6558",
   "outputs": [],
   "execution_count": 15
  },
  {
   "metadata": {
    "ExecuteTime": {
     "end_time": "2025-07-17T05:32:35.611205Z",
     "start_time": "2025-07-17T05:32:35.598453Z"
    }
   },
   "cell_type": "code",
   "source": "print(features.values())",
   "id": "24695aae596caa44",
   "outputs": [
    {
     "name": "stdout",
     "output_type": "stream",
     "text": [
      "tensor([1, 2, 3, 1, 2, 3])\n"
     ]
    }
   ],
   "execution_count": 16
  },
  {
   "metadata": {
    "ExecuteTime": {
     "end_time": "2025-07-17T05:32:36.197289Z",
     "start_time": "2025-07-17T05:32:36.186035Z"
    }
   },
   "cell_type": "code",
   "source": "embeddings = ec(features)",
   "id": "581c0cf6199c6ae",
   "outputs": [],
   "execution_count": 17
  },
  {
   "metadata": {
    "ExecuteTime": {
     "end_time": "2025-07-17T05:34:03.911928Z",
     "start_time": "2025-07-17T05:34:03.909556Z"
    }
   },
   "cell_type": "code",
   "source": "",
   "id": "ff47730491c0ed1",
   "outputs": [
    {
     "data": {
      "text/plain": [
       "torch.Tensor"
      ]
     },
     "execution_count": 25,
     "metadata": {},
     "output_type": "execute_result"
    }
   ],
   "execution_count": 25
  },
  {
   "metadata": {
    "ExecuteTime": {
     "end_time": "2025-07-16T14:26:28.604178Z",
     "start_time": "2025-07-16T14:26:28.601098Z"
    }
   },
   "cell_type": "code",
   "source": "",
   "id": "562e9cc591d2cc2d",
   "outputs": [
    {
     "data": {
      "text/plain": [
       "(torch.Size([3, 128]), torch.Size([3, 128]))"
      ]
     },
     "execution_count": 85,
     "metadata": {},
     "output_type": "execute_result"
    }
   ],
   "execution_count": 85
  }
 ],
 "metadata": {
  "kernelspec": {
   "display_name": "Python 3",
   "language": "python",
   "name": "python3"
  },
  "language_info": {
   "codemirror_mode": {
    "name": "ipython",
    "version": 2
   },
   "file_extension": ".py",
   "mimetype": "text/x-python",
   "name": "python",
   "nbconvert_exporter": "python",
   "pygments_lexer": "ipython2",
   "version": "2.7.6"
  }
 },
 "nbformat": 4,
 "nbformat_minor": 5
}
