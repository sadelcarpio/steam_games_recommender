{
 "cells": [
  {
   "metadata": {},
   "cell_type": "markdown",
   "source": "# Experimenting rec approaches",
   "id": "bd82e23af48d488a"
  },
  {
   "cell_type": "code",
   "id": "initial_id",
   "metadata": {
    "collapsed": true,
    "ExecuteTime": {
     "end_time": "2025-07-15T02:12:14.181232Z",
     "start_time": "2025-07-15T02:12:14.065114Z"
    }
   },
   "source": [
    "import polars as pl\n",
    "import duckdb"
   ],
   "outputs": [],
   "execution_count": 1
  },
  {
   "metadata": {
    "ExecuteTime": {
     "end_time": "2025-07-15T02:12:16.464502Z",
     "start_time": "2025-07-15T02:12:16.462348Z"
    }
   },
   "cell_type": "code",
   "source": "CUT_TIMESTAMP = '2017-01-01'",
   "id": "2d59a3e437a09288",
   "outputs": [],
   "execution_count": 2
  },
  {
   "metadata": {
    "ExecuteTime": {
     "end_time": "2025-07-15T02:12:17.905627Z",
     "start_time": "2025-07-15T02:12:17.823720Z"
    }
   },
   "cell_type": "code",
   "source": "duckdb_conn = duckdb.connect('../data/steam.duckdb', read_only=True)",
   "id": "23f962531e19e5c2",
   "outputs": [],
   "execution_count": 3
  },
  {
   "metadata": {
    "ExecuteTime": {
     "end_time": "2025-07-15T02:12:42.503689Z",
     "start_time": "2025-07-15T02:12:41.396867Z"
    }
   },
   "cell_type": "code",
   "source": "games_df = duckdb_conn.sql(f\"SELECT * FROM game_rolling_features WHERE DATE(game_review_day) <= '{CUT_TIMESTAMP}'\").pl()",
   "id": "eda219fc8ac7c8e8",
   "outputs": [],
   "execution_count": 5
  },
  {
   "metadata": {
    "ExecuteTime": {
     "end_time": "2025-07-15T02:12:43.272876Z",
     "start_time": "2025-07-15T02:12:43.210883Z"
    }
   },
   "cell_type": "code",
   "source": "dim_games_df =duckdb_conn.sql(f\"SELECT * FROM dim_games WHERE DATE(game_prerelease_date) <= '{CUT_TIMESTAMP}'\").pl()",
   "id": "8f0c85b0978b54c",
   "outputs": [],
   "execution_count": 6
  },
  {
   "metadata": {
    "ExecuteTime": {
     "end_time": "2025-07-15T02:12:56.070932Z",
     "start_time": "2025-07-15T02:12:45.336528Z"
    }
   },
   "cell_type": "code",
   "source": "reviews_df = duckdb_conn.sql(f\"SELECT * FROM fact_reviews WHERE DATE(timestamp_created) <= '{CUT_TIMESTAMP}'\").pl()",
   "id": "f55f1b1cd7a4a74d",
   "outputs": [
    {
     "data": {
      "text/plain": [
       "FloatProgress(value=0.0, layout=Layout(width='auto'), style=ProgressStyle(bar_color='black'))"
      ],
      "application/vnd.jupyter.widget-view+json": {
       "version_major": 2,
       "version_minor": 0,
       "model_id": "b201bbe589dc4b3e9b9bad1b9925ba72"
      }
     },
     "metadata": {},
     "output_type": "display_data"
    }
   ],
   "execution_count": 7
  },
  {
   "metadata": {
    "ExecuteTime": {
     "end_time": "2025-07-15T02:17:14.188385Z",
     "start_time": "2025-07-15T02:17:09.510336Z"
    }
   },
   "cell_type": "code",
   "source": "users_df = duckdb_conn.sql(f\"SELECT * FROM dim_users WHERE DATE(first_review_timestamp) <= '{CUT_TIMESTAMP}'\").pl()",
   "id": "2222724047001173",
   "outputs": [
    {
     "data": {
      "text/plain": [
       "FloatProgress(value=0.0, layout=Layout(width='auto'), style=ProgressStyle(bar_color='black'))"
      ],
      "application/vnd.jupyter.widget-view+json": {
       "version_major": 2,
       "version_minor": 0,
       "model_id": "cd5671f169ae4b5db31b9630f88be8d9"
      }
     },
     "metadata": {},
     "output_type": "display_data"
    }
   ],
   "execution_count": 8
  },
  {
   "metadata": {},
   "cell_type": "code",
   "outputs": [],
   "execution_count": null,
   "source": "",
   "id": "70328575f401075"
  },
  {
   "metadata": {
    "ExecuteTime": {
     "end_time": "2025-07-13T18:13:10.740294Z",
     "start_time": "2025-07-13T18:13:10.729700Z"
    }
   },
   "cell_type": "code",
   "source": "duckdb_conn.close()",
   "id": "d31555a8c621aa05",
   "outputs": [],
   "execution_count": 29
  }
 ],
 "metadata": {
  "kernelspec": {
   "display_name": "Python 3",
   "language": "python",
   "name": "python3"
  },
  "language_info": {
   "codemirror_mode": {
    "name": "ipython",
    "version": 2
   },
   "file_extension": ".py",
   "mimetype": "text/x-python",
   "name": "python",
   "nbconvert_exporter": "python",
   "pygments_lexer": "ipython2",
   "version": "2.7.6"
  }
 },
 "nbformat": 4,
 "nbformat_minor": 5
}
