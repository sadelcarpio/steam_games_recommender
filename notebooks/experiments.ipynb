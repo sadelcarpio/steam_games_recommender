{
 "cells": [
  {
   "metadata": {},
   "cell_type": "markdown",
   "source": "# Experimenting rec approaches",
   "id": "bd82e23af48d488a"
  },
  {
   "cell_type": "code",
   "id": "initial_id",
   "metadata": {
    "collapsed": true,
    "ExecuteTime": {
     "end_time": "2025-07-12T00:52:48.953648Z",
     "start_time": "2025-07-12T00:52:48.834686Z"
    }
   },
   "source": [
    "import polars as pl\n",
    "import duckdb"
   ],
   "outputs": [],
   "execution_count": 1
  },
  {
   "metadata": {
    "ExecuteTime": {
     "end_time": "2025-07-12T00:52:49.614278Z",
     "start_time": "2025-07-12T00:52:49.611667Z"
    }
   },
   "cell_type": "code",
   "source": "CUT_TIMESTAMP = '2017-01-01'",
   "id": "2d59a3e437a09288",
   "outputs": [],
   "execution_count": 2
  },
  {
   "metadata": {
    "ExecuteTime": {
     "end_time": "2025-07-12T00:52:51.092504Z",
     "start_time": "2025-07-12T00:52:51.010659Z"
    }
   },
   "cell_type": "code",
   "source": "duckdb_conn = duckdb.connect('../data/steam.duckdb')",
   "id": "23f962531e19e5c2",
   "outputs": [],
   "execution_count": 3
  },
  {
   "metadata": {
    "ExecuteTime": {
     "end_time": "2025-07-12T00:54:31.573376Z",
     "start_time": "2025-07-12T00:54:29.027147Z"
    }
   },
   "cell_type": "code",
   "source": [
    "games_df =duckdb_conn.sql(f\"SELECT * FROM game_rolling_features WHERE DATE(release_date) < '{CUT_TIMESTAMP}'\").pl()\n",
    "games_df.sort(\"game_index\", descending=False)"
   ],
   "id": "eda219fc8ac7c8e8",
   "outputs": [
    {
     "data": {
      "text/plain": [
       "shape: (2_784_409, 19)\n",
       "┌─────────┬────────────┬───────────┬───────────┬───┬───────────┬───────────┬───────────┬───────────┐\n",
       "│ game_id ┆ game_name  ┆ game_deve ┆ game_publ ┆ … ┆ num_revie ┆ num_posit ┆ num_negat ┆ weighted_ │\n",
       "│ ---     ┆ ---        ┆ lopers    ┆ ishers    ┆   ┆ ws        ┆ ive_revie ┆ ive_revie ┆ score     │\n",
       "│ i64     ┆ str        ┆ ---       ┆ ---       ┆   ┆ ---       ┆ ws        ┆ ws        ┆ ---       │\n",
       "│         ┆            ┆ list[str] ┆ list[str] ┆   ┆ i64       ┆ ---       ┆ ---       ┆ f64       │\n",
       "│         ┆            ┆           ┆           ┆   ┆           ┆ decimal[3 ┆ decimal[3 ┆           │\n",
       "│         ┆            ┆           ┆           ┆   ┆           ┆ 8,0]      ┆ 8,0]      ┆           │\n",
       "╞═════════╪════════════╪═══════════╪═══════════╪═══╪═══════════╪═══════════╪═══════════╪═══════════╡\n",
       "│ 232770  ┆ POSTAL     ┆ [\"Running ┆ [\"Running ┆ … ┆ 31        ┆ 27        ┆ 4         ┆ 0.884291  │\n",
       "│         ┆            ┆ With Scis ┆ With Scis ┆   ┆           ┆           ┆           ┆           │\n",
       "│         ┆            ┆ sors\"]    ┆ sors\"]    ┆   ┆           ┆           ┆           ┆           │\n",
       "│ 232770  ┆ POSTAL     ┆ [\"Running ┆ [\"Running ┆ … ┆ 41        ┆ 36        ┆ 5         ┆ 0.892157  │\n",
       "│         ┆            ┆ With Scis ┆ With Scis ┆   ┆           ┆           ┆           ┆           │\n",
       "│         ┆            ┆ sors\"]    ┆ sors\"]    ┆   ┆           ┆           ┆           ┆           │\n",
       "│ 232770  ┆ POSTAL     ┆ [\"Running ┆ [\"Running ┆ … ┆ 53        ┆ 44        ┆ 9         ┆ 0.850414  │\n",
       "│         ┆            ┆ With Scis ┆ With Scis ┆   ┆           ┆           ┆           ┆           │\n",
       "│         ┆            ┆ sors\"]    ┆ sors\"]    ┆   ┆           ┆           ┆           ┆           │\n",
       "│ 232770  ┆ POSTAL     ┆ [\"Running ┆ [\"Running ┆ … ┆ 72        ┆ 59        ┆ 13        ┆ 0.839398  │\n",
       "│         ┆            ┆ With Scis ┆ With Scis ┆   ┆           ┆           ┆           ┆           │\n",
       "│         ┆            ┆ sors\"]    ┆ sors\"]    ┆   ┆           ┆           ┆           ┆           │\n",
       "│ 232770  ┆ POSTAL     ┆ [\"Running ┆ [\"Running ┆ … ┆ 132       ┆ 105       ┆ 27        ┆ 0.818398  │\n",
       "│         ┆            ┆ With Scis ┆ With Scis ┆   ┆           ┆           ┆           ┆           │\n",
       "│         ┆            ┆ sors\"]    ┆ sors\"]    ┆   ┆           ┆           ┆           ┆           │\n",
       "│ …       ┆ …          ┆ …         ┆ …         ┆ … ┆ …         ┆ …         ┆ …         ┆ …         │\n",
       "│ 575010  ┆ Celestial  ┆ [\"Touwaku ┆ [\"Touwaku ┆ … ┆ 67        ┆ 50        ┆ 17        ┆ 0.738087  │\n",
       "│         ┆ Crossing   ┆ Studio\"]  ┆ Studio\"]  ┆   ┆           ┆           ┆           ┆           │\n",
       "│ 575010  ┆ Celestial  ┆ [\"Touwaku ┆ [\"Touwaku ┆ … ┆ 82        ┆ 62        ┆ 20        ┆ 0.753326  │\n",
       "│         ┆ Crossing   ┆ Studio\"]  ┆ Studio\"]  ┆   ┆           ┆           ┆           ┆           │\n",
       "│ 575010  ┆ Celestial  ┆ [\"Touwaku ┆ [\"Touwaku ┆ … ┆ 57        ┆ 43        ┆ 14        ┆ 0.746479  │\n",
       "│         ┆ Crossing   ┆ Studio\"]  ┆ Studio\"]  ┆   ┆           ┆           ┆           ┆           │\n",
       "│ 575010  ┆ Celestial  ┆ [\"Touwaku ┆ [\"Touwaku ┆ … ┆ 68        ┆ 50        ┆ 18        ┆ 0.729762  │\n",
       "│         ┆ Crossing   ┆ Studio\"]  ┆ Studio\"]  ┆   ┆           ┆           ┆           ┆           │\n",
       "│ 575010  ┆ Celestial  ┆ [\"Touwaku ┆ [\"Touwaku ┆ … ┆ 49        ┆ 37        ┆ 12        ┆ 0.742641  │\n",
       "│         ┆ Crossing   ┆ Studio\"]  ┆ Studio\"]  ┆   ┆           ┆           ┆           ┆           │\n",
       "└─────────┴────────────┴───────────┴───────────┴───┴───────────┴───────────┴───────────┴───────────┘"
      ],
      "text/html": [
       "<div><style>\n",
       ".dataframe > thead > tr,\n",
       ".dataframe > tbody > tr {\n",
       "  text-align: right;\n",
       "  white-space: pre-wrap;\n",
       "}\n",
       "</style>\n",
       "<small>shape: (2_784_409, 19)</small><table border=\"1\" class=\"dataframe\"><thead><tr><th>game_id</th><th>game_name</th><th>game_developers</th><th>game_publishers</th><th>game_categories</th><th>game_genres</th><th>release_date</th><th>game_short_description</th><th>game_review_score</th><th>game_review_score_description</th><th>game_total_reviews</th><th>game_total_positive_reviews</th><th>game_total_negative_reviews</th><th>game_index</th><th>review_day</th><th>num_reviews</th><th>num_positive_reviews</th><th>num_negative_reviews</th><th>weighted_score</th></tr><tr><td>i64</td><td>str</td><td>list[str]</td><td>list[str]</td><td>list[str]</td><td>list[str]</td><td>datetime[μs, America/Lima]</td><td>str</td><td>i64</td><td>str</td><td>i64</td><td>i64</td><td>i64</td><td>i64</td><td>date</td><td>i64</td><td>decimal[38,0]</td><td>decimal[38,0]</td><td>f64</td></tr></thead><tbody><tr><td>232770</td><td>&quot;POSTAL&quot;</td><td>[&quot;Running With Scissors&quot;]</td><td>[&quot;Running With Scissors&quot;]</td><td>[&quot;Single-player&quot;, &quot;Steam Achievements&quot;, … &quot;Family Sharing&quot;]</td><td>[&quot;Action&quot;, &quot;Indie&quot;]</td><td>1997-11-14 00:00:00 -05</td><td>&quot;Take control of The POSTAL Dud…</td><td>8</td><td>&quot;Very Positive&quot;</td><td>1323</td><td>1144</td><td>179</td><td>0</td><td>2014-01-01</td><td>31</td><td>27</td><td>4</td><td>0.884291</td></tr><tr><td>232770</td><td>&quot;POSTAL&quot;</td><td>[&quot;Running With Scissors&quot;]</td><td>[&quot;Running With Scissors&quot;]</td><td>[&quot;Single-player&quot;, &quot;Steam Achievements&quot;, … &quot;Family Sharing&quot;]</td><td>[&quot;Action&quot;, &quot;Indie&quot;]</td><td>1997-11-14 00:00:00 -05</td><td>&quot;Take control of The POSTAL Dud…</td><td>8</td><td>&quot;Very Positive&quot;</td><td>1323</td><td>1144</td><td>179</td><td>0</td><td>2014-05-06</td><td>41</td><td>36</td><td>5</td><td>0.892157</td></tr><tr><td>232770</td><td>&quot;POSTAL&quot;</td><td>[&quot;Running With Scissors&quot;]</td><td>[&quot;Running With Scissors&quot;]</td><td>[&quot;Single-player&quot;, &quot;Steam Achievements&quot;, … &quot;Family Sharing&quot;]</td><td>[&quot;Action&quot;, &quot;Indie&quot;]</td><td>1997-11-14 00:00:00 -05</td><td>&quot;Take control of The POSTAL Dud…</td><td>8</td><td>&quot;Very Positive&quot;</td><td>1323</td><td>1144</td><td>179</td><td>0</td><td>2014-07-04</td><td>53</td><td>44</td><td>9</td><td>0.850414</td></tr><tr><td>232770</td><td>&quot;POSTAL&quot;</td><td>[&quot;Running With Scissors&quot;]</td><td>[&quot;Running With Scissors&quot;]</td><td>[&quot;Single-player&quot;, &quot;Steam Achievements&quot;, … &quot;Family Sharing&quot;]</td><td>[&quot;Action&quot;, &quot;Indie&quot;]</td><td>1997-11-14 00:00:00 -05</td><td>&quot;Take control of The POSTAL Dud…</td><td>8</td><td>&quot;Very Positive&quot;</td><td>1323</td><td>1144</td><td>179</td><td>0</td><td>2014-09-12</td><td>72</td><td>59</td><td>13</td><td>0.839398</td></tr><tr><td>232770</td><td>&quot;POSTAL&quot;</td><td>[&quot;Running With Scissors&quot;]</td><td>[&quot;Running With Scissors&quot;]</td><td>[&quot;Single-player&quot;, &quot;Steam Achievements&quot;, … &quot;Family Sharing&quot;]</td><td>[&quot;Action&quot;, &quot;Indie&quot;]</td><td>1997-11-14 00:00:00 -05</td><td>&quot;Take control of The POSTAL Dud…</td><td>8</td><td>&quot;Very Positive&quot;</td><td>1323</td><td>1144</td><td>179</td><td>0</td><td>2014-12-25</td><td>132</td><td>105</td><td>27</td><td>0.818398</td></tr><tr><td>&hellip;</td><td>&hellip;</td><td>&hellip;</td><td>&hellip;</td><td>&hellip;</td><td>&hellip;</td><td>&hellip;</td><td>&hellip;</td><td>&hellip;</td><td>&hellip;</td><td>&hellip;</td><td>&hellip;</td><td>&hellip;</td><td>&hellip;</td><td>&hellip;</td><td>&hellip;</td><td>&hellip;</td><td>&hellip;</td><td>&hellip;</td></tr><tr><td>575010</td><td>&quot;Celestial Crossing&quot;</td><td>[&quot;Touwaku Studio&quot;]</td><td>[&quot;Touwaku Studio&quot;]</td><td>[&quot;Single-player&quot;, &quot;Steam Trading Cards&quot;, &quot;Family Sharing&quot;]</td><td>[&quot;Adventure&quot;, &quot;Indie&quot;]</td><td>2016-12-30 00:00:00 -05</td><td>&quot;Would you get along with your …</td><td>6</td><td>&quot;Mostly Positive&quot;</td><td>85</td><td>65</td><td>20</td><td>8622</td><td>2019-06-28</td><td>67</td><td>50</td><td>17</td><td>0.738087</td></tr><tr><td>575010</td><td>&quot;Celestial Crossing&quot;</td><td>[&quot;Touwaku Studio&quot;]</td><td>[&quot;Touwaku Studio&quot;]</td><td>[&quot;Single-player&quot;, &quot;Steam Trading Cards&quot;, &quot;Family Sharing&quot;]</td><td>[&quot;Adventure&quot;, &quot;Indie&quot;]</td><td>2016-12-30 00:00:00 -05</td><td>&quot;Would you get along with your …</td><td>6</td><td>&quot;Mostly Positive&quot;</td><td>85</td><td>65</td><td>20</td><td>8622</td><td>2022-12-15</td><td>82</td><td>62</td><td>20</td><td>0.753326</td></tr><tr><td>575010</td><td>&quot;Celestial Crossing&quot;</td><td>[&quot;Touwaku Studio&quot;]</td><td>[&quot;Touwaku Studio&quot;]</td><td>[&quot;Single-player&quot;, &quot;Steam Trading Cards&quot;, &quot;Family Sharing&quot;]</td><td>[&quot;Adventure&quot;, &quot;Indie&quot;]</td><td>2016-12-30 00:00:00 -05</td><td>&quot;Would you get along with your …</td><td>6</td><td>&quot;Mostly Positive&quot;</td><td>85</td><td>65</td><td>20</td><td>8622</td><td>2018-03-24</td><td>57</td><td>43</td><td>14</td><td>0.746479</td></tr><tr><td>575010</td><td>&quot;Celestial Crossing&quot;</td><td>[&quot;Touwaku Studio&quot;]</td><td>[&quot;Touwaku Studio&quot;]</td><td>[&quot;Single-player&quot;, &quot;Steam Trading Cards&quot;, &quot;Family Sharing&quot;]</td><td>[&quot;Adventure&quot;, &quot;Indie&quot;]</td><td>2016-12-30 00:00:00 -05</td><td>&quot;Would you get along with your …</td><td>6</td><td>&quot;Mostly Positive&quot;</td><td>85</td><td>65</td><td>20</td><td>8622</td><td>2019-08-27</td><td>68</td><td>50</td><td>18</td><td>0.729762</td></tr><tr><td>575010</td><td>&quot;Celestial Crossing&quot;</td><td>[&quot;Touwaku Studio&quot;]</td><td>[&quot;Touwaku Studio&quot;]</td><td>[&quot;Single-player&quot;, &quot;Steam Trading Cards&quot;, &quot;Family Sharing&quot;]</td><td>[&quot;Adventure&quot;, &quot;Indie&quot;]</td><td>2016-12-30 00:00:00 -05</td><td>&quot;Would you get along with your …</td><td>6</td><td>&quot;Mostly Positive&quot;</td><td>85</td><td>65</td><td>20</td><td>8622</td><td>2017-11-23</td><td>49</td><td>37</td><td>12</td><td>0.742641</td></tr></tbody></table></div>"
      ]
     },
     "execution_count": 8,
     "metadata": {},
     "output_type": "execute_result"
    }
   ],
   "execution_count": 8
  },
  {
   "metadata": {
    "ExecuteTime": {
     "end_time": "2025-07-11T02:59:02.174560Z",
     "start_time": "2025-07-11T02:59:01.327535Z"
    }
   },
   "cell_type": "code",
   "source": [
    "reviews_df = duckdb_conn.sql(f\"SELECT * FROM mart_review_features WHERE DATE(timestamp_created) < '{CUT_TIMESTAMP}'\").pl()\n",
    "reviews_df.sort(\"timestamp_created\", descending=True)"
   ],
   "id": "f55f1b1cd7a4a74d",
   "outputs": [
    {
     "data": {
      "text/plain": [
       "shape: (1_951_874, 7)\n",
       "┌────────────┬────────────┬─────────────────┬──────────┬──────────┬───────────────┬────────────────┐\n",
       "│ user_index ┆ game_index ┆ review          ┆ voted_up ┆ votes_up ┆ comment_count ┆ timestamp_crea │\n",
       "│ ---        ┆ ---        ┆ ---             ┆ ---      ┆ ---      ┆ ---           ┆ ted            │\n",
       "│ i64        ┆ i64        ┆ str             ┆ bool     ┆ i64      ┆ i64           ┆ ---            │\n",
       "│            ┆            ┆                 ┆          ┆          ┆               ┆ datetime[μs,   │\n",
       "│            ┆            ┆                 ┆          ┆          ┆               ┆ America/Lima]  │\n",
       "╞════════════╪════════════╪═════════════════╪══════════╪══════════╪═══════════════╪════════════════╡\n",
       "│ 662404     ┆ 6090       ┆ If anything,    ┆ true     ┆ 19       ┆ 0             ┆ 2016-12-31     │\n",
       "│            ┆            ┆ this game is    ┆          ┆          ┆               ┆ 23:59:58 -05   │\n",
       "│            ┆            ┆ cute…           ┆          ┆          ┆               ┆                │\n",
       "│ 465034     ┆ 5899       ┆ Pros:           ┆ true     ┆ 0        ┆ 1             ┆ 2016-12-31     │\n",
       "│            ┆            ┆ Really huge     ┆          ┆          ┆               ┆ 23:59:57 -05   │\n",
       "│            ┆            ┆ map.            ┆          ┆          ┆               ┆                │\n",
       "│            ┆            ┆ Storyli…        ┆          ┆          ┆               ┆                │\n",
       "│ 458845     ┆ 375        ┆ I didn't enjoy  ┆ false    ┆ 3        ┆ 0             ┆ 2016-12-31     │\n",
       "│            ┆            ┆ this at all.    ┆          ┆          ┆               ┆ 23:59:41 -05   │\n",
       "│            ┆            ┆ Th…             ┆          ┆          ┆               ┆                │\n",
       "│ 589758     ┆ 645        ┆ Not gonna lie,  ┆ true     ┆ 0        ┆ 0             ┆ 2016-12-31     │\n",
       "│            ┆            ┆ I bought this   ┆          ┆          ┆               ┆ 23:58:27 -05   │\n",
       "│            ┆            ┆ g…              ┆          ┆          ┆               ┆                │\n",
       "│ 589758     ┆ 61         ┆ Hey, it's an    ┆ true     ┆ 0        ┆ 0             ┆ 2016-12-31     │\n",
       "│            ┆            ┆ alright top     ┆          ┆          ┆               ┆ 23:57:57 -05   │\n",
       "│            ┆            ┆ down …          ┆          ┆          ┆               ┆                │\n",
       "│ …          ┆ …          ┆ …               ┆ …        ┆ …        ┆ …             ┆ …              │\n",
       "│ 48133      ┆ 875        ┆ Supreme         ┆ true     ┆ 0        ┆ 0             ┆ 2010-10-15     │\n",
       "│            ┆            ┆ Commander is    ┆          ┆          ┆               ┆ 18:26:10 -05   │\n",
       "│            ┆            ┆ completly…      ┆          ┆          ┆               ┆                │\n",
       "│ 26932      ┆ 117        ┆ Best game ever! ┆ true     ┆ 0        ┆ 0             ┆ 2010-10-15     │\n",
       "│            ┆            ┆ If you haven'…  ┆          ┆          ┆               ┆ 18:25:29 -05   │\n",
       "│ 134015     ┆ 791        ┆ goty 2009       ┆ true     ┆ 0        ┆ 0             ┆ 2010-10-15     │\n",
       "│            ┆            ┆                 ┆          ┆          ┆               ┆ 18:25:11 -05   │\n",
       "│ 269203     ┆ 730        ┆ The most damn   ┆ true     ┆ 0        ┆ 0             ┆ 2010-10-15     │\n",
       "│            ┆            ┆ realistic       ┆          ┆          ┆               ┆ 18:24:07 -05   │\n",
       "│            ┆            ┆ milita…         ┆          ┆          ┆               ┆                │\n",
       "│ 269203     ┆ 30         ┆ Just buy this   ┆ true     ┆ 0        ┆ 0             ┆ 2010-10-15     │\n",
       "│            ┆            ┆ game. It's      ┆          ┆          ┆               ┆ 18:20:21 -05   │\n",
       "│            ┆            ┆ amazi…          ┆          ┆          ┆               ┆                │\n",
       "└────────────┴────────────┴─────────────────┴──────────┴──────────┴───────────────┴────────────────┘"
      ],
      "text/html": [
       "<div><style>\n",
       ".dataframe > thead > tr,\n",
       ".dataframe > tbody > tr {\n",
       "  text-align: right;\n",
       "  white-space: pre-wrap;\n",
       "}\n",
       "</style>\n",
       "<small>shape: (1_951_874, 7)</small><table border=\"1\" class=\"dataframe\"><thead><tr><th>user_index</th><th>game_index</th><th>review</th><th>voted_up</th><th>votes_up</th><th>comment_count</th><th>timestamp_created</th></tr><tr><td>i64</td><td>i64</td><td>str</td><td>bool</td><td>i64</td><td>i64</td><td>datetime[μs, America/Lima]</td></tr></thead><tbody><tr><td>662404</td><td>6090</td><td>&quot;If anything, this game is cute…</td><td>true</td><td>19</td><td>0</td><td>2016-12-31 23:59:58 -05</td></tr><tr><td>465034</td><td>5899</td><td>&quot;Pros:\n",
       "Really huge map.\n",
       "Storyli…</td><td>true</td><td>0</td><td>1</td><td>2016-12-31 23:59:57 -05</td></tr><tr><td>458845</td><td>375</td><td>&quot;I didn&#x27;t enjoy this at all. Th…</td><td>false</td><td>3</td><td>0</td><td>2016-12-31 23:59:41 -05</td></tr><tr><td>589758</td><td>645</td><td>&quot;Not gonna lie, I bought this g…</td><td>true</td><td>0</td><td>0</td><td>2016-12-31 23:58:27 -05</td></tr><tr><td>589758</td><td>61</td><td>&quot;Hey, it&#x27;s an alright top down …</td><td>true</td><td>0</td><td>0</td><td>2016-12-31 23:57:57 -05</td></tr><tr><td>&hellip;</td><td>&hellip;</td><td>&hellip;</td><td>&hellip;</td><td>&hellip;</td><td>&hellip;</td><td>&hellip;</td></tr><tr><td>48133</td><td>875</td><td>&quot;Supreme Commander is completly…</td><td>true</td><td>0</td><td>0</td><td>2010-10-15 18:26:10 -05</td></tr><tr><td>26932</td><td>117</td><td>&quot;Best game ever!&nbsp;&nbsp;If you haven&#x27;…</td><td>true</td><td>0</td><td>0</td><td>2010-10-15 18:25:29 -05</td></tr><tr><td>134015</td><td>791</td><td>&quot;goty 2009&quot;</td><td>true</td><td>0</td><td>0</td><td>2010-10-15 18:25:11 -05</td></tr><tr><td>269203</td><td>730</td><td>&quot;The most damn realistic milita…</td><td>true</td><td>0</td><td>0</td><td>2010-10-15 18:24:07 -05</td></tr><tr><td>269203</td><td>30</td><td>&quot;Just buy this game. It&#x27;s amazi…</td><td>true</td><td>0</td><td>0</td><td>2010-10-15 18:20:21 -05</td></tr></tbody></table></div>"
      ]
     },
     "execution_count": 22,
     "metadata": {},
     "output_type": "execute_result"
    }
   ],
   "execution_count": 22
  },
  {
   "metadata": {
    "ExecuteTime": {
     "end_time": "2025-07-11T03:49:01.012083Z",
     "start_time": "2025-07-11T03:49:00.981952Z"
    }
   },
   "cell_type": "code",
   "source": "duckdb_conn.close()",
   "id": "d31555a8c621aa05",
   "outputs": [],
   "execution_count": 10
  }
 ],
 "metadata": {
  "kernelspec": {
   "display_name": "Python 3",
   "language": "python",
   "name": "python3"
  },
  "language_info": {
   "codemirror_mode": {
    "name": "ipython",
    "version": 2
   },
   "file_extension": ".py",
   "mimetype": "text/x-python",
   "name": "python",
   "nbconvert_exporter": "python",
   "pygments_lexer": "ipython2",
   "version": "2.7.6"
  }
 },
 "nbformat": 4,
 "nbformat_minor": 5
}
