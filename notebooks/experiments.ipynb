{
 "cells": [
  {
   "metadata": {},
   "cell_type": "markdown",
   "source": "# Experimenting rec approaches",
   "id": "bd82e23af48d488a"
  },
  {
   "cell_type": "code",
   "id": "initial_id",
   "metadata": {
    "collapsed": true,
    "ExecuteTime": {
     "end_time": "2025-07-16T03:24:08.212167Z",
     "start_time": "2025-07-16T03:24:08.170958Z"
    }
   },
   "source": "import duckdb",
   "outputs": [],
   "execution_count": 1
  },
  {
   "metadata": {
    "ExecuteTime": {
     "end_time": "2025-07-16T03:24:08.228835Z",
     "start_time": "2025-07-16T03:24:08.226989Z"
    }
   },
   "cell_type": "code",
   "source": "CUT_TIMESTAMP = '2017-01-01'  # Fetch games up to this day",
   "id": "2d59a3e437a09288",
   "outputs": [],
   "execution_count": 2
  },
  {
   "metadata": {
    "ExecuteTime": {
     "end_time": "2025-07-16T03:24:08.434655Z",
     "start_time": "2025-07-16T03:24:08.349160Z"
    }
   },
   "cell_type": "code",
   "source": "duckdb_conn = duckdb.connect('../data/steam.duckdb', read_only=True)",
   "id": "23f962531e19e5c2",
   "outputs": [],
   "execution_count": 3
  },
  {
   "metadata": {
    "ExecuteTime": {
     "end_time": "2025-07-16T03:24:09.695348Z",
     "start_time": "2025-07-16T03:24:08.494769Z"
    }
   },
   "cell_type": "code",
   "source": "games_df = duckdb_conn.sql(f\"SELECT * FROM game_rolling_features WHERE DATE(game_review_day) <= '{CUT_TIMESTAMP}'\").pl()",
   "id": "eda219fc8ac7c8e8",
   "outputs": [],
   "execution_count": 4
  },
  {
   "metadata": {
    "ExecuteTime": {
     "end_time": "2025-07-16T03:24:09.765110Z",
     "start_time": "2025-07-16T03:24:09.707974Z"
    }
   },
   "cell_type": "code",
   "source": "dim_games_df =duckdb_conn.sql(f\"SELECT * FROM dim_games WHERE DATE(game_prerelease_date) <= '{CUT_TIMESTAMP}'\").pl()",
   "id": "8f0c85b0978b54c",
   "outputs": [],
   "execution_count": 5
  },
  {
   "metadata": {
    "ExecuteTime": {
     "end_time": "2025-07-16T03:24:15.501896Z",
     "start_time": "2025-07-16T03:24:09.775445Z"
    }
   },
   "cell_type": "code",
   "source": "reviews_df = duckdb_conn.sql(f\"SELECT * FROM fact_reviews WHERE DATE(timestamp_created) <= '{CUT_TIMESTAMP}'\").pl()",
   "id": "f55f1b1cd7a4a74d",
   "outputs": [
    {
     "data": {
      "text/plain": [
       "FloatProgress(value=0.0, layout=Layout(width='auto'), style=ProgressStyle(bar_color='black'))"
      ],
      "application/vnd.jupyter.widget-view+json": {
       "version_major": 2,
       "version_minor": 0,
       "model_id": "14ff0df209b54192ad9627b58de8c1c9"
      }
     },
     "metadata": {},
     "output_type": "display_data"
    }
   ],
   "execution_count": 6
  },
  {
   "metadata": {
    "ExecuteTime": {
     "end_time": "2025-07-16T03:24:20.130577Z",
     "start_time": "2025-07-16T03:24:15.514502Z"
    }
   },
   "cell_type": "code",
   "source": "users_df = duckdb_conn.sql(f\"SELECT * FROM dim_users WHERE DATE(first_review_timestamp) <= '{CUT_TIMESTAMP}'\").pl()",
   "id": "2222724047001173",
   "outputs": [
    {
     "data": {
      "text/plain": [
       "FloatProgress(value=0.0, layout=Layout(width='auto'), style=ProgressStyle(bar_color='black'))"
      ],
      "application/vnd.jupyter.widget-view+json": {
       "version_major": 2,
       "version_minor": 0,
       "model_id": "9ee81e0318df49f5ae5c097132867fee"
      }
     },
     "metadata": {},
     "output_type": "display_data"
    }
   ],
   "execution_count": 7
  },
  {
   "metadata": {
    "ExecuteTime": {
     "end_time": "2025-07-16T03:24:31.600928Z",
     "start_time": "2025-07-16T03:24:31.592675Z"
    }
   },
   "cell_type": "code",
   "source": [
    "entity_count = duckdb_conn.sql(f\"SELECT * FROM mart_entities_cumulative WHERE review_day = '{CUT_TIMESTAMP}'\").pl()\n",
    "entity_count"
   ],
   "id": "3a287562555e86f4",
   "outputs": [
    {
     "data": {
      "text/plain": [
       "shape: (1, 4)\n",
       "┌────────────┬─────────────────────────┬───────────────────────┬───────────────────────┐\n",
       "│ review_day ┆ cumulative_review_count ┆ cumulative_user_count ┆ cumulative_game_count │\n",
       "│ ---        ┆ ---                     ┆ ---                   ┆ ---                   │\n",
       "│ date       ┆ decimal[38,0]           ┆ decimal[38,0]         ┆ decimal[38,0]         │\n",
       "╞════════════╪═════════════════════════╪═══════════════════════╪═══════════════════════╡\n",
       "│ 2017-01-01 ┆ 3548576                 ┆ 1840557               ┆ 9098                  │\n",
       "└────────────┴─────────────────────────┴───────────────────────┴───────────────────────┘"
      ],
      "text/html": [
       "<div><style>\n",
       ".dataframe > thead > tr,\n",
       ".dataframe > tbody > tr {\n",
       "  text-align: right;\n",
       "  white-space: pre-wrap;\n",
       "}\n",
       "</style>\n",
       "<small>shape: (1, 4)</small><table border=\"1\" class=\"dataframe\"><thead><tr><th>review_day</th><th>cumulative_review_count</th><th>cumulative_user_count</th><th>cumulative_game_count</th></tr><tr><td>date</td><td>decimal[38,0]</td><td>decimal[38,0]</td><td>decimal[38,0]</td></tr></thead><tbody><tr><td>2017-01-01</td><td>3548576</td><td>1840557</td><td>9098</td></tr></tbody></table></div>"
      ]
     },
     "execution_count": 9,
     "metadata": {},
     "output_type": "execute_result"
    }
   ],
   "execution_count": 9
  },
  {
   "metadata": {
    "ExecuteTime": {
     "end_time": "2025-07-13T18:13:10.740294Z",
     "start_time": "2025-07-13T18:13:10.729700Z"
    }
   },
   "cell_type": "code",
   "source": "duckdb_conn.close()",
   "id": "d31555a8c621aa05",
   "outputs": [],
   "execution_count": 29
  }
 ],
 "metadata": {
  "kernelspec": {
   "display_name": "Python 3",
   "language": "python",
   "name": "python3"
  },
  "language_info": {
   "codemirror_mode": {
    "name": "ipython",
    "version": 2
   },
   "file_extension": ".py",
   "mimetype": "text/x-python",
   "name": "python",
   "nbconvert_exporter": "python",
   "pygments_lexer": "ipython2",
   "version": "2.7.6"
  }
 },
 "nbformat": 4,
 "nbformat_minor": 5
}
